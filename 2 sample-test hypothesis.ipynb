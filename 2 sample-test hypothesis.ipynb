{
 "cells": [
  {
   "cell_type": "markdown",
   "id": "eda4cd8a",
   "metadata": {},
   "source": [
    "# 2 sample-test hypothesis"
   ]
  },
  {
   "cell_type": "markdown",
   "id": "ddf25369",
   "metadata": {},
   "source": [
    "Now imagine that the department of education asks you to collect data on mean district literacy rates for two of the nation’s largest states: STATE21 and STATE28. STATE28 has almost 40 districts, and STATE21 has more than 70. Due to limited time and resources, you are only able to survey 20 randomly chosen districts in each state. The department asks you to determine if the difference between the two mean district literacy rates is statistically significant, or due to chance. This will help the department decide how to distribute government funding to improve literacy. If there is a statistically significant difference, the state with the lower literacy rate may receive more funding.\n",
    "\n",
    "You can use Python to simulate taking a random sample of 20 districts in each state, and conduct a two-sample t-test based on the sample data."
   ]
  },
  {
   "cell_type": "markdown",
   "id": "e68d652b",
   "metadata": {},
   "source": [
    "### lets import the data"
   ]
  },
  {
   "cell_type": "code",
   "execution_count": 1,
   "id": "0588de26",
   "metadata": {},
   "outputs": [],
   "source": [
    "import pandas as pd\n",
    "import numpy as np\n",
    "from scipy import stats"
   ]
  },
  {
   "cell_type": "code",
   "execution_count": 3,
   "id": "b0abfa53",
   "metadata": {},
   "outputs": [
    {
     "data": {
      "text/html": [
       "<div>\n",
       "<style scoped>\n",
       "    .dataframe tbody tr th:only-of-type {\n",
       "        vertical-align: middle;\n",
       "    }\n",
       "\n",
       "    .dataframe tbody tr th {\n",
       "        vertical-align: top;\n",
       "    }\n",
       "\n",
       "    .dataframe thead th {\n",
       "        text-align: right;\n",
       "    }\n",
       "</style>\n",
       "<table border=\"1\" class=\"dataframe\">\n",
       "  <thead>\n",
       "    <tr style=\"text-align: right;\">\n",
       "      <th></th>\n",
       "      <th>DISTNAME</th>\n",
       "      <th>STATNAME</th>\n",
       "      <th>BLOCKS</th>\n",
       "      <th>VILLAGES</th>\n",
       "      <th>CLUSTERS</th>\n",
       "      <th>TOTPOPULAT</th>\n",
       "      <th>OVERALL_LI</th>\n",
       "    </tr>\n",
       "  </thead>\n",
       "  <tbody>\n",
       "    <tr>\n",
       "      <th>0</th>\n",
       "      <td>DISTRICT32</td>\n",
       "      <td>STATE1</td>\n",
       "      <td>13</td>\n",
       "      <td>391</td>\n",
       "      <td>104</td>\n",
       "      <td>875564.0</td>\n",
       "      <td>66.92</td>\n",
       "    </tr>\n",
       "    <tr>\n",
       "      <th>1</th>\n",
       "      <td>DISTRICT649</td>\n",
       "      <td>STATE1</td>\n",
       "      <td>18</td>\n",
       "      <td>678</td>\n",
       "      <td>144</td>\n",
       "      <td>1015503.0</td>\n",
       "      <td>66.93</td>\n",
       "    </tr>\n",
       "    <tr>\n",
       "      <th>2</th>\n",
       "      <td>DISTRICT229</td>\n",
       "      <td>STATE1</td>\n",
       "      <td>8</td>\n",
       "      <td>94</td>\n",
       "      <td>65</td>\n",
       "      <td>1269751.0</td>\n",
       "      <td>71.21</td>\n",
       "    </tr>\n",
       "    <tr>\n",
       "      <th>3</th>\n",
       "      <td>DISTRICT259</td>\n",
       "      <td>STATE1</td>\n",
       "      <td>13</td>\n",
       "      <td>523</td>\n",
       "      <td>104</td>\n",
       "      <td>735753.0</td>\n",
       "      <td>57.98</td>\n",
       "    </tr>\n",
       "    <tr>\n",
       "      <th>4</th>\n",
       "      <td>DISTRICT486</td>\n",
       "      <td>STATE1</td>\n",
       "      <td>8</td>\n",
       "      <td>359</td>\n",
       "      <td>64</td>\n",
       "      <td>570060.0</td>\n",
       "      <td>65.00</td>\n",
       "    </tr>\n",
       "  </tbody>\n",
       "</table>\n",
       "</div>"
      ],
      "text/plain": [
       "      DISTNAME STATNAME  BLOCKS  VILLAGES  CLUSTERS  TOTPOPULAT  OVERALL_LI\n",
       "0   DISTRICT32   STATE1      13       391       104    875564.0       66.92\n",
       "1  DISTRICT649   STATE1      18       678       144   1015503.0       66.93\n",
       "2  DISTRICT229   STATE1       8        94        65   1269751.0       71.21\n",
       "3  DISTRICT259   STATE1      13       523       104    735753.0       57.98\n",
       "4  DISTRICT486   STATE1       8       359        64    570060.0       65.00"
      ]
     },
     "execution_count": 3,
     "metadata": {},
     "output_type": "execute_result"
    }
   ],
   "source": [
    "df = pd.read_csv('education_districtwise.csv')\n",
    "df.head()"
   ]
  },
  {
   "cell_type": "code",
   "execution_count": 7,
   "id": "f04e46ab",
   "metadata": {},
   "outputs": [
    {
     "name": "stdout",
     "output_type": "stream",
     "text": [
      "<class 'pandas.core.frame.DataFrame'>\n",
      "RangeIndex: 680 entries, 0 to 679\n",
      "Data columns (total 7 columns):\n",
      " #   Column      Non-Null Count  Dtype  \n",
      "---  ------      --------------  -----  \n",
      " 0   DISTNAME    680 non-null    object \n",
      " 1   STATNAME    680 non-null    object \n",
      " 2   BLOCKS      680 non-null    int64  \n",
      " 3   VILLAGES    680 non-null    int64  \n",
      " 4   CLUSTERS    680 non-null    int64  \n",
      " 5   TOTPOPULAT  634 non-null    float64\n",
      " 6   OVERALL_LI  634 non-null    float64\n",
      "dtypes: float64(2), int64(3), object(2)\n",
      "memory usage: 37.3+ KB\n"
     ]
    }
   ],
   "source": [
    "df.shape\n",
    "df.info()"
   ]
  },
  {
   "cell_type": "code",
   "execution_count": 8,
   "id": "2e4617b9",
   "metadata": {},
   "outputs": [
    {
     "data": {
      "text/plain": [
       "0"
      ]
     },
     "execution_count": 8,
     "metadata": {},
     "output_type": "execute_result"
    }
   ],
   "source": [
    "df.duplicated().sum()"
   ]
  },
  {
   "cell_type": "code",
   "execution_count": 9,
   "id": "7cb8a914",
   "metadata": {},
   "outputs": [
    {
     "data": {
      "text/plain": [
       "DISTNAME       0\n",
       "STATNAME       0\n",
       "BLOCKS         0\n",
       "VILLAGES       0\n",
       "CLUSTERS       0\n",
       "TOTPOPULAT    46\n",
       "OVERALL_LI    46\n",
       "dtype: int64"
      ]
     },
     "execution_count": 9,
     "metadata": {},
     "output_type": "execute_result"
    }
   ],
   "source": [
    "df.isna().sum()"
   ]
  },
  {
   "cell_type": "code",
   "execution_count": 10,
   "id": "93b0c3fc",
   "metadata": {},
   "outputs": [],
   "source": [
    "#let's drop the null values\n",
    "df = df.dropna()"
   ]
  },
  {
   "cell_type": "code",
   "execution_count": 13,
   "id": "88f5236e",
   "metadata": {},
   "outputs": [],
   "source": [
    "state_28 = df[df['STATNAME'] == 'STATE28']\n",
    "state_21 = df[df['STATNAME'] == 'STATE21']"
   ]
  },
  {
   "cell_type": "code",
   "execution_count": 15,
   "id": "5e7ab795",
   "metadata": {},
   "outputs": [
    {
     "data": {
      "text/plain": [
       "STATE28    38\n",
       "Name: STATNAME, dtype: int64"
      ]
     },
     "execution_count": 15,
     "metadata": {},
     "output_type": "execute_result"
    }
   ],
   "source": [
    " 28 = state_28['STATNAME'].value_counts()"
   ]
  },
  {
   "cell_type": "markdown",
   "id": "ec2ee33e",
   "metadata": {},
   "source": [
    "### Simulate random sampling"
   ]
  },
  {
   "cell_type": "code",
   "execution_count": 27,
   "id": "2963f2e6",
   "metadata": {},
   "outputs": [],
   "source": [
    "sample_state21 = state_21.sample(n=20, replace = True, random_state = 12345)\n",
    "sample_state28 = state_28.sample(n=20, replace = True, random_state = 98765)"
   ]
  },
  {
   "cell_type": "markdown",
   "id": "9819301b",
   "metadata": {},
   "source": [
    "### Compute the sample means"
   ]
  },
  {
   "cell_type": "markdown",
   "id": "a19b95b9",
   "metadata": {},
   "source": [
    "You now have two random samples of 20 districts, one sample for each state. Next, use mean() to compute the mean district literacy rate for both STATE21 and STATE28."
   ]
  },
  {
   "cell_type": "code",
   "execution_count": 28,
   "id": "7c792bf3",
   "metadata": {},
   "outputs": [
    {
     "data": {
      "text/plain": [
       "70.511"
      ]
     },
     "execution_count": 28,
     "metadata": {},
     "output_type": "execute_result"
    }
   ],
   "source": [
    "sample_state21['OVERALL_LI'].mean()"
   ]
  },
  {
   "cell_type": "code",
   "execution_count": 29,
   "id": "5fd0efe2",
   "metadata": {},
   "outputs": [
    {
     "data": {
      "text/plain": [
       "64.32199999999999"
      ]
     },
     "execution_count": 29,
     "metadata": {},
     "output_type": "execute_result"
    }
   ],
   "source": [
    "sample_state28['OVERALL_LI'].mean()"
   ]
  },
  {
   "cell_type": "markdown",
   "id": "ceb85f3a",
   "metadata": {},
   "source": [
    "STATE21 has a mean district literacy rate of about 70.5%, while STATE28 has a mean district literacy rate of about 64.3%.\n",
    "\n",
    "Based on your sample data, the observed difference between the mean district literacy rates of STATE21 and STATE28 is 6.2 percentage points (70.5% - 64.3%)"
   ]
  },
  {
   "cell_type": "markdown",
   "id": "883f162b",
   "metadata": {},
   "source": [
    "# Conduct a hypothesis test"
   ]
  },
  {
   "cell_type": "markdown",
   "id": "b348b434",
   "metadata": {},
   "source": [
    "𝐻0\n",
    " : There is no difference in the mean district literacy rates between STATE21 and STATE28\n",
    " \n",
    "𝐻𝐴\n",
    " : There is a difference in the mean district literacy rates between STATE21 and STATE28"
   ]
  },
  {
   "cell_type": "markdown",
   "id": "09fb1899",
   "metadata": {},
   "source": [
    "### For a two-sample  𝑡-test, you can use scipy.stats.ttest_ind() to compute your p-value. This function includes the following arguments"
   ]
  },
  {
   "cell_type": "code",
   "execution_count": 30,
   "id": "de1d1f86",
   "metadata": {},
   "outputs": [
    {
     "data": {
      "text/plain": [
       "Ttest_indResult(statistic=3.231836856172072, pvalue=0.00287993729460301)"
      ]
     },
     "execution_count": 30,
     "metadata": {},
     "output_type": "execute_result"
    }
   ],
   "source": [
    "stats.ttest_ind(a=sample_state21['OVERALL_LI'], b=sample_state28['OVERALL_LI'], equal_var=False)"
   ]
  },
  {
   "cell_type": "markdown",
   "id": "567fb5f0",
   "metadata": {},
   "source": [
    "Your p-value is about 0.0029, or 0.29%.\n",
    "\n",
    "This means there is only a 0.29% probability that the absolute difference between the two mean district literacy rates would be 6.2 percentage points or greater if the null hypothesis is true. In other words, it’s highly unlikely that the difference in the two means is due to chance"
   ]
  },
  {
   "cell_type": "markdown",
   "id": "0a2fac6d",
   "metadata": {},
   "source": [
    "# conclusion "
   ]
  },
  {
   "cell_type": "markdown",
   "id": "7a070be7",
   "metadata": {},
   "source": [
    "Your p-value of 0.0029, or 0.29%, is less than the significance level of 0.05, or 5%. So, you reject the null hypothesis, and conclude that there is a statistically significant difference between the mean district literacy rates of the two states STATE21 and STATE28.\n",
    "\n",
    "Your analysis will help the education department decide how to distribute government resources. Since there is a statistically significant difference in mean district literacy rates, the state with the lower literacy rate, STATE28, will likely receive more resources to improve literacy."
   ]
  },
  {
   "cell_type": "code",
   "execution_count": null,
   "id": "dff990bf",
   "metadata": {},
   "outputs": [],
   "source": []
  }
 ],
 "metadata": {
  "kernelspec": {
   "display_name": "Python 3 (ipykernel)",
   "language": "python",
   "name": "python3"
  },
  "language_info": {
   "codemirror_mode": {
    "name": "ipython",
    "version": 3
   },
   "file_extension": ".py",
   "mimetype": "text/x-python",
   "name": "python",
   "nbconvert_exporter": "python",
   "pygments_lexer": "ipython3",
   "version": "3.9.12"
  }
 },
 "nbformat": 4,
 "nbformat_minor": 5
}
