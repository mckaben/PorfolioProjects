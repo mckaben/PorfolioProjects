{
 "cells": [
  {
   "cell_type": "markdown",
   "id": "58ae3ef8",
   "metadata": {},
   "source": [
    "# Deep Neural Network"
   ]
  },
  {
   "cell_type": "markdown",
   "id": "9b00acc1",
   "metadata": {},
   "source": [
    "# Loan Prediction"
   ]
  },
  {
   "cell_type": "code",
   "execution_count": 1,
   "id": "48a2f439",
   "metadata": {},
   "outputs": [],
   "source": [
    "import pandas as pd\n",
    "import numpy as np\n",
    "import matplotlib.pyplot as plt\n",
    "import seaborn as sn"
   ]
  },
  {
   "cell_type": "markdown",
   "id": "17e0f512",
   "metadata": {},
   "source": [
    "### Load and preprocessing data"
   ]
  },
  {
   "cell_type": "code",
   "execution_count": 2,
   "id": "3016240c",
   "metadata": {},
   "outputs": [
    {
     "data": {
      "text/html": [
       "<div>\n",
       "<style scoped>\n",
       "    .dataframe tbody tr th:only-of-type {\n",
       "        vertical-align: middle;\n",
       "    }\n",
       "\n",
       "    .dataframe tbody tr th {\n",
       "        vertical-align: top;\n",
       "    }\n",
       "\n",
       "    .dataframe thead th {\n",
       "        text-align: right;\n",
       "    }\n",
       "</style>\n",
       "<table border=\"1\" class=\"dataframe\">\n",
       "  <thead>\n",
       "    <tr style=\"text-align: right;\">\n",
       "      <th></th>\n",
       "      <th>Loan_ID</th>\n",
       "      <th>Gender</th>\n",
       "      <th>Married</th>\n",
       "      <th>Dependents</th>\n",
       "      <th>Education</th>\n",
       "      <th>Self_Employed</th>\n",
       "      <th>ApplicantIncome</th>\n",
       "      <th>CoapplicantIncome</th>\n",
       "      <th>LoanAmount</th>\n",
       "      <th>Loan_Amount_Term</th>\n",
       "      <th>Credit_History</th>\n",
       "      <th>Property_Area</th>\n",
       "      <th>Loan_Status</th>\n",
       "    </tr>\n",
       "  </thead>\n",
       "  <tbody>\n",
       "    <tr>\n",
       "      <th>0</th>\n",
       "      <td>LP001002</td>\n",
       "      <td>Male</td>\n",
       "      <td>No</td>\n",
       "      <td>0</td>\n",
       "      <td>Graduate</td>\n",
       "      <td>No</td>\n",
       "      <td>5849</td>\n",
       "      <td>0.0</td>\n",
       "      <td>NaN</td>\n",
       "      <td>360.0</td>\n",
       "      <td>1.0</td>\n",
       "      <td>Urban</td>\n",
       "      <td>Y</td>\n",
       "    </tr>\n",
       "    <tr>\n",
       "      <th>1</th>\n",
       "      <td>LP001003</td>\n",
       "      <td>Male</td>\n",
       "      <td>Yes</td>\n",
       "      <td>1</td>\n",
       "      <td>Graduate</td>\n",
       "      <td>No</td>\n",
       "      <td>4583</td>\n",
       "      <td>1508.0</td>\n",
       "      <td>128.0</td>\n",
       "      <td>360.0</td>\n",
       "      <td>1.0</td>\n",
       "      <td>Rural</td>\n",
       "      <td>N</td>\n",
       "    </tr>\n",
       "    <tr>\n",
       "      <th>2</th>\n",
       "      <td>LP001005</td>\n",
       "      <td>Male</td>\n",
       "      <td>Yes</td>\n",
       "      <td>0</td>\n",
       "      <td>Graduate</td>\n",
       "      <td>Yes</td>\n",
       "      <td>3000</td>\n",
       "      <td>0.0</td>\n",
       "      <td>66.0</td>\n",
       "      <td>360.0</td>\n",
       "      <td>1.0</td>\n",
       "      <td>Urban</td>\n",
       "      <td>Y</td>\n",
       "    </tr>\n",
       "    <tr>\n",
       "      <th>3</th>\n",
       "      <td>LP001006</td>\n",
       "      <td>Male</td>\n",
       "      <td>Yes</td>\n",
       "      <td>0</td>\n",
       "      <td>Not Graduate</td>\n",
       "      <td>No</td>\n",
       "      <td>2583</td>\n",
       "      <td>2358.0</td>\n",
       "      <td>120.0</td>\n",
       "      <td>360.0</td>\n",
       "      <td>1.0</td>\n",
       "      <td>Urban</td>\n",
       "      <td>Y</td>\n",
       "    </tr>\n",
       "    <tr>\n",
       "      <th>4</th>\n",
       "      <td>LP001008</td>\n",
       "      <td>Male</td>\n",
       "      <td>No</td>\n",
       "      <td>0</td>\n",
       "      <td>Graduate</td>\n",
       "      <td>No</td>\n",
       "      <td>6000</td>\n",
       "      <td>0.0</td>\n",
       "      <td>141.0</td>\n",
       "      <td>360.0</td>\n",
       "      <td>1.0</td>\n",
       "      <td>Urban</td>\n",
       "      <td>Y</td>\n",
       "    </tr>\n",
       "  </tbody>\n",
       "</table>\n",
       "</div>"
      ],
      "text/plain": [
       "    Loan_ID Gender Married Dependents     Education Self_Employed  \\\n",
       "0  LP001002   Male      No          0      Graduate            No   \n",
       "1  LP001003   Male     Yes          1      Graduate            No   \n",
       "2  LP001005   Male     Yes          0      Graduate           Yes   \n",
       "3  LP001006   Male     Yes          0  Not Graduate            No   \n",
       "4  LP001008   Male      No          0      Graduate            No   \n",
       "\n",
       "   ApplicantIncome  CoapplicantIncome  LoanAmount  Loan_Amount_Term  \\\n",
       "0             5849                0.0         NaN             360.0   \n",
       "1             4583             1508.0       128.0             360.0   \n",
       "2             3000                0.0        66.0             360.0   \n",
       "3             2583             2358.0       120.0             360.0   \n",
       "4             6000                0.0       141.0             360.0   \n",
       "\n",
       "   Credit_History Property_Area Loan_Status  \n",
       "0             1.0         Urban           Y  \n",
       "1             1.0         Rural           N  \n",
       "2             1.0         Urban           Y  \n",
       "3             1.0         Urban           Y  \n",
       "4             1.0         Urban           Y  "
      ]
     },
     "execution_count": 2,
     "metadata": {},
     "output_type": "execute_result"
    }
   ],
   "source": [
    "data = pd.read_csv('train_loan_prediction.csv')\n",
    "data.head()"
   ]
  },
  {
   "cell_type": "code",
   "execution_count": 3,
   "id": "92f77079",
   "metadata": {},
   "outputs": [
    {
     "data": {
      "text/plain": [
       "(614, 13)"
      ]
     },
     "execution_count": 3,
     "metadata": {},
     "output_type": "execute_result"
    }
   ],
   "source": [
    "data.shape"
   ]
  },
  {
   "cell_type": "code",
   "execution_count": 4,
   "id": "c2b1f265",
   "metadata": {},
   "outputs": [
    {
     "data": {
      "text/plain": [
       "149"
      ]
     },
     "execution_count": 4,
     "metadata": {},
     "output_type": "execute_result"
    }
   ],
   "source": [
    "data.isnull().sum().sum()"
   ]
  },
  {
   "cell_type": "code",
   "execution_count": 5,
   "id": "271cadfc",
   "metadata": {},
   "outputs": [
    {
     "name": "stdout",
     "output_type": "stream",
     "text": [
      " There is 149 missing values in this dataset\n"
     ]
    }
   ],
   "source": [
    "print(f\" There is {data.isnull().sum().sum()} missing values in this dataset\")"
   ]
  },
  {
   "cell_type": "code",
   "execution_count": 6,
   "id": "6996dcde",
   "metadata": {},
   "outputs": [
    {
     "data": {
      "text/plain": [
       "<bound method DataFrame.info of       Loan_ID  Gender Married Dependents     Education Self_Employed  \\\n",
       "0    LP001002    Male      No          0      Graduate            No   \n",
       "1    LP001003    Male     Yes          1      Graduate            No   \n",
       "2    LP001005    Male     Yes          0      Graduate           Yes   \n",
       "3    LP001006    Male     Yes          0  Not Graduate            No   \n",
       "4    LP001008    Male      No          0      Graduate            No   \n",
       "..        ...     ...     ...        ...           ...           ...   \n",
       "609  LP002978  Female      No          0      Graduate            No   \n",
       "610  LP002979    Male     Yes         3+      Graduate            No   \n",
       "611  LP002983    Male     Yes          1      Graduate            No   \n",
       "612  LP002984    Male     Yes          2      Graduate            No   \n",
       "613  LP002990  Female      No          0      Graduate           Yes   \n",
       "\n",
       "     ApplicantIncome  CoapplicantIncome  LoanAmount  Loan_Amount_Term  \\\n",
       "0               5849                0.0         NaN             360.0   \n",
       "1               4583             1508.0       128.0             360.0   \n",
       "2               3000                0.0        66.0             360.0   \n",
       "3               2583             2358.0       120.0             360.0   \n",
       "4               6000                0.0       141.0             360.0   \n",
       "..               ...                ...         ...               ...   \n",
       "609             2900                0.0        71.0             360.0   \n",
       "610             4106                0.0        40.0             180.0   \n",
       "611             8072              240.0       253.0             360.0   \n",
       "612             7583                0.0       187.0             360.0   \n",
       "613             4583                0.0       133.0             360.0   \n",
       "\n",
       "     Credit_History Property_Area Loan_Status  \n",
       "0               1.0         Urban           Y  \n",
       "1               1.0         Rural           N  \n",
       "2               1.0         Urban           Y  \n",
       "3               1.0         Urban           Y  \n",
       "4               1.0         Urban           Y  \n",
       "..              ...           ...         ...  \n",
       "609             1.0         Rural           Y  \n",
       "610             1.0         Rural           Y  \n",
       "611             1.0         Urban           Y  \n",
       "612             1.0         Urban           Y  \n",
       "613             0.0     Semiurban           N  \n",
       "\n",
       "[614 rows x 13 columns]>"
      ]
     },
     "execution_count": 6,
     "metadata": {},
     "output_type": "execute_result"
    }
   ],
   "source": [
    "#let's see the type of data each variable has.\n",
    "data.info"
   ]
  },
  {
   "cell_type": "code",
   "execution_count": 7,
   "id": "0ed20f99",
   "metadata": {},
   "outputs": [
    {
     "data": {
      "text/plain": [
       "Loan_ID               0\n",
       "Gender               13\n",
       "Married               3\n",
       "Dependents           15\n",
       "Education             0\n",
       "Self_Employed        32\n",
       "ApplicantIncome       0\n",
       "CoapplicantIncome     0\n",
       "LoanAmount           22\n",
       "Loan_Amount_Term     14\n",
       "Credit_History       50\n",
       "Property_Area         0\n",
       "Loan_Status           0\n",
       "dtype: int64"
      ]
     },
     "execution_count": 7,
     "metadata": {},
     "output_type": "execute_result"
    }
   ],
   "source": [
    "data.isnull().sum()"
   ]
  },
  {
   "cell_type": "code",
   "execution_count": 8,
   "id": "92e3cb49",
   "metadata": {},
   "outputs": [
    {
     "data": {
      "text/html": [
       "<div>\n",
       "<style scoped>\n",
       "    .dataframe tbody tr th:only-of-type {\n",
       "        vertical-align: middle;\n",
       "    }\n",
       "\n",
       "    .dataframe tbody tr th {\n",
       "        vertical-align: top;\n",
       "    }\n",
       "\n",
       "    .dataframe thead th {\n",
       "        text-align: right;\n",
       "    }\n",
       "</style>\n",
       "<table border=\"1\" class=\"dataframe\">\n",
       "  <thead>\n",
       "    <tr style=\"text-align: right;\">\n",
       "      <th></th>\n",
       "      <th>Gender</th>\n",
       "      <th>Married</th>\n",
       "      <th>Dependents</th>\n",
       "      <th>Education</th>\n",
       "      <th>Self_Employed</th>\n",
       "      <th>ApplicantIncome</th>\n",
       "      <th>CoapplicantIncome</th>\n",
       "      <th>LoanAmount</th>\n",
       "      <th>Loan_Amount_Term</th>\n",
       "      <th>Credit_History</th>\n",
       "      <th>Property_Area</th>\n",
       "      <th>Loan_Status</th>\n",
       "    </tr>\n",
       "  </thead>\n",
       "  <tbody>\n",
       "    <tr>\n",
       "      <th>0</th>\n",
       "      <td>Male</td>\n",
       "      <td>No</td>\n",
       "      <td>0</td>\n",
       "      <td>Graduate</td>\n",
       "      <td>No</td>\n",
       "      <td>5849</td>\n",
       "      <td>0.0</td>\n",
       "      <td>NaN</td>\n",
       "      <td>360.0</td>\n",
       "      <td>1.0</td>\n",
       "      <td>Urban</td>\n",
       "      <td>Y</td>\n",
       "    </tr>\n",
       "    <tr>\n",
       "      <th>1</th>\n",
       "      <td>Male</td>\n",
       "      <td>Yes</td>\n",
       "      <td>1</td>\n",
       "      <td>Graduate</td>\n",
       "      <td>No</td>\n",
       "      <td>4583</td>\n",
       "      <td>1508.0</td>\n",
       "      <td>128.0</td>\n",
       "      <td>360.0</td>\n",
       "      <td>1.0</td>\n",
       "      <td>Rural</td>\n",
       "      <td>N</td>\n",
       "    </tr>\n",
       "    <tr>\n",
       "      <th>2</th>\n",
       "      <td>Male</td>\n",
       "      <td>Yes</td>\n",
       "      <td>0</td>\n",
       "      <td>Graduate</td>\n",
       "      <td>Yes</td>\n",
       "      <td>3000</td>\n",
       "      <td>0.0</td>\n",
       "      <td>66.0</td>\n",
       "      <td>360.0</td>\n",
       "      <td>1.0</td>\n",
       "      <td>Urban</td>\n",
       "      <td>Y</td>\n",
       "    </tr>\n",
       "    <tr>\n",
       "      <th>3</th>\n",
       "      <td>Male</td>\n",
       "      <td>Yes</td>\n",
       "      <td>0</td>\n",
       "      <td>Not Graduate</td>\n",
       "      <td>No</td>\n",
       "      <td>2583</td>\n",
       "      <td>2358.0</td>\n",
       "      <td>120.0</td>\n",
       "      <td>360.0</td>\n",
       "      <td>1.0</td>\n",
       "      <td>Urban</td>\n",
       "      <td>Y</td>\n",
       "    </tr>\n",
       "    <tr>\n",
       "      <th>4</th>\n",
       "      <td>Male</td>\n",
       "      <td>No</td>\n",
       "      <td>0</td>\n",
       "      <td>Graduate</td>\n",
       "      <td>No</td>\n",
       "      <td>6000</td>\n",
       "      <td>0.0</td>\n",
       "      <td>141.0</td>\n",
       "      <td>360.0</td>\n",
       "      <td>1.0</td>\n",
       "      <td>Urban</td>\n",
       "      <td>Y</td>\n",
       "    </tr>\n",
       "  </tbody>\n",
       "</table>\n",
       "</div>"
      ],
      "text/plain": [
       "  Gender Married Dependents     Education Self_Employed  ApplicantIncome  \\\n",
       "0   Male      No          0      Graduate            No             5849   \n",
       "1   Male     Yes          1      Graduate            No             4583   \n",
       "2   Male     Yes          0      Graduate           Yes             3000   \n",
       "3   Male     Yes          0  Not Graduate            No             2583   \n",
       "4   Male      No          0      Graduate            No             6000   \n",
       "\n",
       "   CoapplicantIncome  LoanAmount  Loan_Amount_Term  Credit_History  \\\n",
       "0                0.0         NaN             360.0             1.0   \n",
       "1             1508.0       128.0             360.0             1.0   \n",
       "2                0.0        66.0             360.0             1.0   \n",
       "3             2358.0       120.0             360.0             1.0   \n",
       "4                0.0       141.0             360.0             1.0   \n",
       "\n",
       "  Property_Area Loan_Status  \n",
       "0         Urban           Y  \n",
       "1         Rural           N  \n",
       "2         Urban           Y  \n",
       "3         Urban           Y  \n",
       "4         Urban           Y  "
      ]
     },
     "execution_count": 8,
     "metadata": {},
     "output_type": "execute_result"
    }
   ],
   "source": [
    "data = data.drop('Loan_ID', axis =1)\n",
    "data.head()"
   ]
  },
  {
   "cell_type": "markdown",
   "id": "bb4c4cac",
   "metadata": {},
   "source": [
    "## Cleaning data"
   ]
  },
  {
   "cell_type": "markdown",
   "id": "64adc88a",
   "metadata": {},
   "source": [
    "we will replace some of the missing values with the sub-variables that have the most count."
   ]
  },
  {
   "cell_type": "markdown",
   "id": "fe5653df",
   "metadata": {},
   "source": [
    "### Gender"
   ]
  },
  {
   "cell_type": "code",
   "execution_count": 9,
   "id": "816de8e1",
   "metadata": {},
   "outputs": [
    {
     "data": {
      "text/plain": [
       "Male      489\n",
       "Female    112\n",
       "Name: Gender, dtype: int64"
      ]
     },
     "execution_count": 9,
     "metadata": {},
     "output_type": "execute_result"
    }
   ],
   "source": [
    "data['Gender'].value_counts()"
   ]
  },
  {
   "cell_type": "code",
   "execution_count": 10,
   "id": "ed91fc1a",
   "metadata": {},
   "outputs": [],
   "source": [
    "data['Gender'] = data['Gender'].replace({'male':'Male'})"
   ]
  },
  {
   "cell_type": "code",
   "execution_count": 11,
   "id": "6028ecbd",
   "metadata": {},
   "outputs": [
    {
     "name": "stdout",
     "output_type": "stream",
     "text": [
      " There are 489 male counts while there are 112 female counts. Therefore, we will replace the missing values with male\n"
     ]
    }
   ],
   "source": [
    "print(f\" There are {data['Gender'].value_counts()['Male']} male counts while there are {data['Gender'].value_counts()['Female']} female counts. Therefore, we will replace the missing values with male\")"
   ]
  },
  {
   "cell_type": "code",
   "execution_count": 12,
   "id": "e7eef911",
   "metadata": {},
   "outputs": [],
   "source": [
    "data['Gender'] = data['Gender'].fillna('Male')"
   ]
  },
  {
   "cell_type": "markdown",
   "id": "08a40712",
   "metadata": {},
   "source": [
    "### Married"
   ]
  },
  {
   "cell_type": "code",
   "execution_count": 13,
   "id": "7d56e069",
   "metadata": {},
   "outputs": [
    {
     "data": {
      "text/plain": [
       "Yes    398\n",
       "No     213\n",
       "Name: Married, dtype: int64"
      ]
     },
     "execution_count": 13,
     "metadata": {},
     "output_type": "execute_result"
    }
   ],
   "source": [
    "data['Married'].value_counts()"
   ]
  },
  {
   "cell_type": "code",
   "execution_count": 14,
   "id": "5f4dfe76",
   "metadata": {},
   "outputs": [],
   "source": [
    "data['Married'] = data['Married'].fillna('Yes')"
   ]
  },
  {
   "cell_type": "markdown",
   "id": "315d7a66",
   "metadata": {},
   "source": [
    "### Dependents"
   ]
  },
  {
   "cell_type": "code",
   "execution_count": 15,
   "id": "810d1aa0",
   "metadata": {},
   "outputs": [
    {
     "data": {
      "text/plain": [
       "0     345\n",
       "1     102\n",
       "2     101\n",
       "3+     51\n",
       "Name: Dependents, dtype: int64"
      ]
     },
     "execution_count": 15,
     "metadata": {},
     "output_type": "execute_result"
    }
   ],
   "source": [
    "data['Dependents'].value_counts()"
   ]
  },
  {
   "cell_type": "code",
   "execution_count": 16,
   "id": "f8abb6d8",
   "metadata": {},
   "outputs": [],
   "source": [
    "data['Dependents'] = data['Dependents'].fillna(0)"
   ]
  },
  {
   "cell_type": "markdown",
   "id": "35abba02",
   "metadata": {},
   "source": [
    "### Self-employed"
   ]
  },
  {
   "cell_type": "code",
   "execution_count": 17,
   "id": "13203af2",
   "metadata": {},
   "outputs": [
    {
     "data": {
      "text/plain": [
       "No     500\n",
       "Yes     82\n",
       "Name: Self_Employed, dtype: int64"
      ]
     },
     "execution_count": 17,
     "metadata": {},
     "output_type": "execute_result"
    }
   ],
   "source": [
    "data['Self_Employed'].value_counts()"
   ]
  },
  {
   "cell_type": "code",
   "execution_count": 18,
   "id": "150909dc",
   "metadata": {},
   "outputs": [],
   "source": [
    "data['Self_Employed'] = data['Self_Employed'].fillna('No')"
   ]
  },
  {
   "cell_type": "markdown",
   "id": "87968b6a",
   "metadata": {},
   "source": [
    "### Loan Amount"
   ]
  },
  {
   "cell_type": "markdown",
   "id": "468f5d4e",
   "metadata": {},
   "source": [
    "we will fill the missing values with the average or mean of the sum of loan amouns."
   ]
  },
  {
   "cell_type": "code",
   "execution_count": 19,
   "id": "cb3946e1",
   "metadata": {},
   "outputs": [
    {
     "data": {
      "text/plain": [
       "120.0    20\n",
       "110.0    17\n",
       "100.0    15\n",
       "160.0    12\n",
       "187.0    12\n",
       "         ..\n",
       "240.0     1\n",
       "214.0     1\n",
       "59.0      1\n",
       "166.0     1\n",
       "253.0     1\n",
       "Name: LoanAmount, Length: 203, dtype: int64"
      ]
     },
     "execution_count": 19,
     "metadata": {},
     "output_type": "execute_result"
    }
   ],
   "source": [
    "data['LoanAmount'].value_counts()"
   ]
  },
  {
   "cell_type": "code",
   "execution_count": 20,
   "id": "44e75936",
   "metadata": {},
   "outputs": [],
   "source": [
    "data['LoanAmount'] = data['LoanAmount'].fillna(data['LoanAmount'].mean())"
   ]
  },
  {
   "cell_type": "markdown",
   "id": "35040961",
   "metadata": {},
   "source": [
    "### Loan Amount term"
   ]
  },
  {
   "cell_type": "code",
   "execution_count": 21,
   "id": "44d3f5a1",
   "metadata": {},
   "outputs": [
    {
     "data": {
      "text/plain": [
       "360.0    512\n",
       "180.0     44\n",
       "480.0     15\n",
       "300.0     13\n",
       "240.0      4\n",
       "84.0       4\n",
       "120.0      3\n",
       "60.0       2\n",
       "36.0       2\n",
       "12.0       1\n",
       "Name: Loan_Amount_Term, dtype: int64"
      ]
     },
     "execution_count": 21,
     "metadata": {},
     "output_type": "execute_result"
    }
   ],
   "source": [
    "data['Loan_Amount_Term'].value_counts()"
   ]
  },
  {
   "cell_type": "code",
   "execution_count": 22,
   "id": "042f9d58",
   "metadata": {},
   "outputs": [],
   "source": [
    "data['Loan_Amount_Term'] = data['Loan_Amount_Term'].fillna(360)"
   ]
  },
  {
   "cell_type": "markdown",
   "id": "aa4538c8",
   "metadata": {},
   "source": [
    "### Credit History"
   ]
  },
  {
   "cell_type": "code",
   "execution_count": 23,
   "id": "6eabd394",
   "metadata": {},
   "outputs": [
    {
     "data": {
      "text/plain": [
       "1.0    475\n",
       "0.0     89\n",
       "Name: Credit_History, dtype: int64"
      ]
     },
     "execution_count": 23,
     "metadata": {},
     "output_type": "execute_result"
    }
   ],
   "source": [
    "data['Credit_History'].value_counts()"
   ]
  },
  {
   "cell_type": "code",
   "execution_count": 24,
   "id": "eb58f0a8",
   "metadata": {},
   "outputs": [],
   "source": [
    " data['Credit_History'].fillna(method ='ffill', inplace = True)"
   ]
  },
  {
   "cell_type": "code",
   "execution_count": 25,
   "id": "cc97c72b",
   "metadata": {},
   "outputs": [
    {
     "name": "stdout",
     "output_type": "stream",
     "text": [
      "There is 0 missing value in the data.\n"
     ]
    }
   ],
   "source": [
    "print(f\"There is {data['Credit_History'].isnull().sum().sum()} missing value in the data.\")"
   ]
  },
  {
   "cell_type": "code",
   "execution_count": 26,
   "id": "93049f08",
   "metadata": {},
   "outputs": [
    {
     "data": {
      "text/html": [
       "<div>\n",
       "<style scoped>\n",
       "    .dataframe tbody tr th:only-of-type {\n",
       "        vertical-align: middle;\n",
       "    }\n",
       "\n",
       "    .dataframe tbody tr th {\n",
       "        vertical-align: top;\n",
       "    }\n",
       "\n",
       "    .dataframe thead th {\n",
       "        text-align: right;\n",
       "    }\n",
       "</style>\n",
       "<table border=\"1\" class=\"dataframe\">\n",
       "  <thead>\n",
       "    <tr style=\"text-align: right;\">\n",
       "      <th></th>\n",
       "      <th>Gender</th>\n",
       "      <th>Married</th>\n",
       "      <th>Dependents</th>\n",
       "      <th>Education</th>\n",
       "      <th>Self_Employed</th>\n",
       "      <th>ApplicantIncome</th>\n",
       "      <th>CoapplicantIncome</th>\n",
       "      <th>LoanAmount</th>\n",
       "      <th>Loan_Amount_Term</th>\n",
       "      <th>Credit_History</th>\n",
       "      <th>Property_Area</th>\n",
       "      <th>Loan_Status</th>\n",
       "    </tr>\n",
       "  </thead>\n",
       "  <tbody>\n",
       "    <tr>\n",
       "      <th>0</th>\n",
       "      <td>Male</td>\n",
       "      <td>No</td>\n",
       "      <td>0</td>\n",
       "      <td>Graduate</td>\n",
       "      <td>No</td>\n",
       "      <td>5849</td>\n",
       "      <td>0.0</td>\n",
       "      <td>146.412162</td>\n",
       "      <td>360.0</td>\n",
       "      <td>1.0</td>\n",
       "      <td>Urban</td>\n",
       "      <td>Y</td>\n",
       "    </tr>\n",
       "    <tr>\n",
       "      <th>1</th>\n",
       "      <td>Male</td>\n",
       "      <td>Yes</td>\n",
       "      <td>1</td>\n",
       "      <td>Graduate</td>\n",
       "      <td>No</td>\n",
       "      <td>4583</td>\n",
       "      <td>1508.0</td>\n",
       "      <td>128.000000</td>\n",
       "      <td>360.0</td>\n",
       "      <td>1.0</td>\n",
       "      <td>Rural</td>\n",
       "      <td>N</td>\n",
       "    </tr>\n",
       "    <tr>\n",
       "      <th>2</th>\n",
       "      <td>Male</td>\n",
       "      <td>Yes</td>\n",
       "      <td>0</td>\n",
       "      <td>Graduate</td>\n",
       "      <td>Yes</td>\n",
       "      <td>3000</td>\n",
       "      <td>0.0</td>\n",
       "      <td>66.000000</td>\n",
       "      <td>360.0</td>\n",
       "      <td>1.0</td>\n",
       "      <td>Urban</td>\n",
       "      <td>Y</td>\n",
       "    </tr>\n",
       "    <tr>\n",
       "      <th>3</th>\n",
       "      <td>Male</td>\n",
       "      <td>Yes</td>\n",
       "      <td>0</td>\n",
       "      <td>Not Graduate</td>\n",
       "      <td>No</td>\n",
       "      <td>2583</td>\n",
       "      <td>2358.0</td>\n",
       "      <td>120.000000</td>\n",
       "      <td>360.0</td>\n",
       "      <td>1.0</td>\n",
       "      <td>Urban</td>\n",
       "      <td>Y</td>\n",
       "    </tr>\n",
       "    <tr>\n",
       "      <th>4</th>\n",
       "      <td>Male</td>\n",
       "      <td>No</td>\n",
       "      <td>0</td>\n",
       "      <td>Graduate</td>\n",
       "      <td>No</td>\n",
       "      <td>6000</td>\n",
       "      <td>0.0</td>\n",
       "      <td>141.000000</td>\n",
       "      <td>360.0</td>\n",
       "      <td>1.0</td>\n",
       "      <td>Urban</td>\n",
       "      <td>Y</td>\n",
       "    </tr>\n",
       "  </tbody>\n",
       "</table>\n",
       "</div>"
      ],
      "text/plain": [
       "  Gender Married Dependents     Education Self_Employed  ApplicantIncome  \\\n",
       "0   Male      No          0      Graduate            No             5849   \n",
       "1   Male     Yes          1      Graduate            No             4583   \n",
       "2   Male     Yes          0      Graduate           Yes             3000   \n",
       "3   Male     Yes          0  Not Graduate            No             2583   \n",
       "4   Male      No          0      Graduate            No             6000   \n",
       "\n",
       "   CoapplicantIncome  LoanAmount  Loan_Amount_Term  Credit_History  \\\n",
       "0                0.0  146.412162             360.0             1.0   \n",
       "1             1508.0  128.000000             360.0             1.0   \n",
       "2                0.0   66.000000             360.0             1.0   \n",
       "3             2358.0  120.000000             360.0             1.0   \n",
       "4                0.0  141.000000             360.0             1.0   \n",
       "\n",
       "  Property_Area Loan_Status  \n",
       "0         Urban           Y  \n",
       "1         Rural           N  \n",
       "2         Urban           Y  \n",
       "3         Urban           Y  \n",
       "4         Urban           Y  "
      ]
     },
     "execution_count": 26,
     "metadata": {},
     "output_type": "execute_result"
    }
   ],
   "source": [
    "data.head()"
   ]
  },
  {
   "cell_type": "markdown",
   "id": "3f3fa037",
   "metadata": {},
   "source": [
    "### Encoding Categorical values"
   ]
  },
  {
   "cell_type": "code",
   "execution_count": 27,
   "id": "e8b7fc89",
   "metadata": {},
   "outputs": [],
   "source": [
    "df = data"
   ]
  },
  {
   "cell_type": "code",
   "execution_count": 28,
   "id": "52d7a647",
   "metadata": {},
   "outputs": [
    {
     "data": {
      "text/plain": [
       "Semiurban    233\n",
       "Urban        202\n",
       "Rural        179\n",
       "Name: Property_Area, dtype: int64"
      ]
     },
     "execution_count": 28,
     "metadata": {},
     "output_type": "execute_result"
    }
   ],
   "source": [
    "data['Property_Area'].value_counts()"
   ]
  },
  {
   "cell_type": "code",
   "execution_count": 29,
   "id": "7c077b7e",
   "metadata": {},
   "outputs": [],
   "source": [
    "df['Gender'] = df['Gender'].map({'Male':0,'Female':1})\n",
    "df['Married'] = df['Married'].map({'No':0,'Yes':1})\n",
    "df['Education'] = df['Education'].map({'Not Graduate':0,'Graduate':1})\n",
    "df['Self_Employed'] = df['Self_Employed'].map({'No':0,'Yes':1}) "
   ]
  },
  {
   "cell_type": "code",
   "execution_count": 30,
   "id": "88a184b8",
   "metadata": {},
   "outputs": [],
   "source": [
    "df['Property_Area'] = df['Property_Area'].map({'Urban':0,'Rural':1, 'Semiurban':2})\n",
    "df['Dependents'] = df['Dependents'].map({'0':0, '1':1, '2':2, '3+':3})"
   ]
  },
  {
   "cell_type": "code",
   "execution_count": 31,
   "id": "b6ce4482",
   "metadata": {},
   "outputs": [],
   "source": [
    "df['Loan_Status'] = df['Loan_Status'].map({'N': 0, 'Y':1})"
   ]
  },
  {
   "cell_type": "code",
   "execution_count": 32,
   "id": "259f57d1",
   "metadata": {},
   "outputs": [
    {
     "name": "stdout",
     "output_type": "stream",
     "text": [
      "<class 'pandas.core.frame.DataFrame'>\n",
      "RangeIndex: 614 entries, 0 to 613\n",
      "Data columns (total 12 columns):\n",
      " #   Column             Non-Null Count  Dtype  \n",
      "---  ------             --------------  -----  \n",
      " 0   Gender             614 non-null    int64  \n",
      " 1   Married            614 non-null    int64  \n",
      " 2   Dependents         599 non-null    float64\n",
      " 3   Education          614 non-null    int64  \n",
      " 4   Self_Employed      614 non-null    int64  \n",
      " 5   ApplicantIncome    614 non-null    int64  \n",
      " 6   CoapplicantIncome  614 non-null    float64\n",
      " 7   LoanAmount         614 non-null    float64\n",
      " 8   Loan_Amount_Term   614 non-null    float64\n",
      " 9   Credit_History     614 non-null    float64\n",
      " 10  Property_Area      614 non-null    int64  \n",
      " 11  Loan_Status        614 non-null    int64  \n",
      "dtypes: float64(5), int64(7)\n",
      "memory usage: 57.7 KB\n"
     ]
    }
   ],
   "source": [
    "df.info()"
   ]
  },
  {
   "cell_type": "code",
   "execution_count": 33,
   "id": "f715b957",
   "metadata": {},
   "outputs": [
    {
     "data": {
      "text/html": [
       "<div>\n",
       "<style scoped>\n",
       "    .dataframe tbody tr th:only-of-type {\n",
       "        vertical-align: middle;\n",
       "    }\n",
       "\n",
       "    .dataframe tbody tr th {\n",
       "        vertical-align: top;\n",
       "    }\n",
       "\n",
       "    .dataframe thead th {\n",
       "        text-align: right;\n",
       "    }\n",
       "</style>\n",
       "<table border=\"1\" class=\"dataframe\">\n",
       "  <thead>\n",
       "    <tr style=\"text-align: right;\">\n",
       "      <th></th>\n",
       "      <th>Gender</th>\n",
       "      <th>Married</th>\n",
       "      <th>Dependents</th>\n",
       "      <th>Education</th>\n",
       "      <th>Self_Employed</th>\n",
       "      <th>ApplicantIncome</th>\n",
       "      <th>CoapplicantIncome</th>\n",
       "      <th>LoanAmount</th>\n",
       "      <th>Loan_Amount_Term</th>\n",
       "      <th>Credit_History</th>\n",
       "      <th>Property_Area</th>\n",
       "      <th>Loan_Status</th>\n",
       "    </tr>\n",
       "  </thead>\n",
       "  <tbody>\n",
       "    <tr>\n",
       "      <th>0</th>\n",
       "      <td>0</td>\n",
       "      <td>0</td>\n",
       "      <td>0.0</td>\n",
       "      <td>1</td>\n",
       "      <td>0</td>\n",
       "      <td>5849</td>\n",
       "      <td>0.0</td>\n",
       "      <td>146.412162</td>\n",
       "      <td>360.0</td>\n",
       "      <td>1.0</td>\n",
       "      <td>0</td>\n",
       "      <td>1</td>\n",
       "    </tr>\n",
       "    <tr>\n",
       "      <th>1</th>\n",
       "      <td>0</td>\n",
       "      <td>1</td>\n",
       "      <td>1.0</td>\n",
       "      <td>1</td>\n",
       "      <td>0</td>\n",
       "      <td>4583</td>\n",
       "      <td>1508.0</td>\n",
       "      <td>128.000000</td>\n",
       "      <td>360.0</td>\n",
       "      <td>1.0</td>\n",
       "      <td>1</td>\n",
       "      <td>0</td>\n",
       "    </tr>\n",
       "    <tr>\n",
       "      <th>2</th>\n",
       "      <td>0</td>\n",
       "      <td>1</td>\n",
       "      <td>0.0</td>\n",
       "      <td>1</td>\n",
       "      <td>1</td>\n",
       "      <td>3000</td>\n",
       "      <td>0.0</td>\n",
       "      <td>66.000000</td>\n",
       "      <td>360.0</td>\n",
       "      <td>1.0</td>\n",
       "      <td>0</td>\n",
       "      <td>1</td>\n",
       "    </tr>\n",
       "    <tr>\n",
       "      <th>3</th>\n",
       "      <td>0</td>\n",
       "      <td>1</td>\n",
       "      <td>0.0</td>\n",
       "      <td>0</td>\n",
       "      <td>0</td>\n",
       "      <td>2583</td>\n",
       "      <td>2358.0</td>\n",
       "      <td>120.000000</td>\n",
       "      <td>360.0</td>\n",
       "      <td>1.0</td>\n",
       "      <td>0</td>\n",
       "      <td>1</td>\n",
       "    </tr>\n",
       "    <tr>\n",
       "      <th>4</th>\n",
       "      <td>0</td>\n",
       "      <td>0</td>\n",
       "      <td>0.0</td>\n",
       "      <td>1</td>\n",
       "      <td>0</td>\n",
       "      <td>6000</td>\n",
       "      <td>0.0</td>\n",
       "      <td>141.000000</td>\n",
       "      <td>360.0</td>\n",
       "      <td>1.0</td>\n",
       "      <td>0</td>\n",
       "      <td>1</td>\n",
       "    </tr>\n",
       "  </tbody>\n",
       "</table>\n",
       "</div>"
      ],
      "text/plain": [
       "   Gender  Married  Dependents  Education  Self_Employed  ApplicantIncome  \\\n",
       "0       0        0         0.0          1              0             5849   \n",
       "1       0        1         1.0          1              0             4583   \n",
       "2       0        1         0.0          1              1             3000   \n",
       "3       0        1         0.0          0              0             2583   \n",
       "4       0        0         0.0          1              0             6000   \n",
       "\n",
       "   CoapplicantIncome  LoanAmount  Loan_Amount_Term  Credit_History  \\\n",
       "0                0.0  146.412162             360.0             1.0   \n",
       "1             1508.0  128.000000             360.0             1.0   \n",
       "2                0.0   66.000000             360.0             1.0   \n",
       "3             2358.0  120.000000             360.0             1.0   \n",
       "4                0.0  141.000000             360.0             1.0   \n",
       "\n",
       "   Property_Area  Loan_Status  \n",
       "0              0            1  \n",
       "1              1            0  \n",
       "2              0            1  \n",
       "3              0            1  \n",
       "4              0            1  "
      ]
     },
     "execution_count": 33,
     "metadata": {},
     "output_type": "execute_result"
    }
   ],
   "source": [
    "df = df.dropna()\n",
    "df.head()"
   ]
  },
  {
   "cell_type": "code",
   "execution_count": 34,
   "id": "7b114d13",
   "metadata": {},
   "outputs": [],
   "source": [
    "X = df.iloc[:,0:11].values\n",
    "y = df.iloc[:,11].values.ravel()\n",
    "y = np.array(y).astype(int)"
   ]
  },
  {
   "cell_type": "code",
   "execution_count": 35,
   "id": "0f5d2a93",
   "metadata": {},
   "outputs": [],
   "source": [
    "# Splitting the dataset into the Training set and Test set\n",
    "from sklearn.model_selection import train_test_split\n",
    "X_train, X_test, y_train, y_test = train_test_split(X, y, test_size = 0.2, random_state = 0)"
   ]
  },
  {
   "cell_type": "code",
   "execution_count": 36,
   "id": "306d91fc",
   "metadata": {},
   "outputs": [
    {
     "data": {
      "text/plain": [
       "array([[  0.,   1.,   2., ..., 180.,   1.,   2.],\n",
       "       [  0.,   1.,   0., ..., 360.,   1.,   1.],\n",
       "       [  0.,   1.,   0., ..., 360.,   1.,   0.],\n",
       "       ...,\n",
       "       [  1.,   0.,   0., ..., 360.,   1.,   2.],\n",
       "       [  0.,   1.,   1., ..., 360.,   1.,   2.],\n",
       "       [  0.,   1.,   2., ..., 480.,   1.,   2.]])"
      ]
     },
     "execution_count": 36,
     "metadata": {},
     "output_type": "execute_result"
    }
   ],
   "source": [
    "X_train"
   ]
  },
  {
   "cell_type": "code",
   "execution_count": 37,
   "id": "e27aa55a",
   "metadata": {},
   "outputs": [],
   "source": [
    "# Feature Scaling\n",
    "from sklearn import preprocessing\n",
    "X_test = preprocessing.scale(X_test)\n",
    "X_train = preprocessing.scale(X_train)\n",
    "X = preprocessing.scale(X)"
   ]
  },
  {
   "cell_type": "code",
   "execution_count": 38,
   "id": "1996a54e",
   "metadata": {},
   "outputs": [
    {
     "data": {
      "text/plain": [
       "array([[-0.46114881,  0.72489841,  1.18117635, ..., -2.64778657,\n",
       "         0.43426444,  1.09245268],\n",
       "       [-0.46114881,  0.72489841, -0.76309675, ...,  0.2767863 ,\n",
       "         0.43426444, -0.08877719],\n",
       "       [-0.46114881,  0.72489841, -0.76309675, ...,  0.2767863 ,\n",
       "         0.43426444, -1.27000706],\n",
       "       ...,\n",
       "       [ 2.1684974 , -1.37950364, -0.76309675, ...,  0.2767863 ,\n",
       "         0.43426444,  1.09245268],\n",
       "       [-0.46114881,  0.72489841,  0.2090398 , ...,  0.2767863 ,\n",
       "         0.43426444,  1.09245268],\n",
       "       [-0.46114881,  0.72489841,  1.18117635, ...,  2.22650154,\n",
       "         0.43426444,  1.09245268]])"
      ]
     },
     "execution_count": 38,
     "metadata": {},
     "output_type": "execute_result"
    }
   ],
   "source": [
    "X_train"
   ]
  },
  {
   "cell_type": "code",
   "execution_count": 39,
   "id": "d69a3fb1",
   "metadata": {},
   "outputs": [
    {
     "data": {
      "text/plain": [
       "array([[-0.51298918, -1.31425748, -0.71044432, ...,  1.92262711,\n",
       "        -2.23606798, -1.21574324],\n",
       "       [ 1.94935887,  0.76088591, -0.71044432, ...,  0.29213062,\n",
       "        -2.23606798, -1.21574324],\n",
       "       [-0.51298918, -1.31425748, -0.71044432, ...,  0.29213062,\n",
       "        -2.23606798,  0.04192218],\n",
       "       ...,\n",
       "       [-0.51298918,  0.76088591,  1.39457589, ..., -2.15361411,\n",
       "        -2.23606798, -1.21574324],\n",
       "       [-0.51298918, -1.31425748, -0.71044432, ...,  0.29213062,\n",
       "         0.4472136 ,  1.29958761],\n",
       "       [-0.51298918, -1.31425748,  0.34206578, ...,  0.29213062,\n",
       "        -2.23606798,  1.29958761]])"
      ]
     },
     "execution_count": 39,
     "metadata": {},
     "output_type": "execute_result"
    }
   ],
   "source": [
    "X_test"
   ]
  },
  {
   "cell_type": "markdown",
   "id": "41ee8801",
   "metadata": {},
   "source": [
    "# Deep Learning Neural Network"
   ]
  },
  {
   "cell_type": "code",
   "execution_count": 40,
   "id": "186fd6a3",
   "metadata": {},
   "outputs": [],
   "source": [
    "import tensorflow as tf\n",
    "import keras\n",
    "from keras.layers import Dense\n",
    "from keras.optimizers import Adam"
   ]
  },
  {
   "cell_type": "code",
   "execution_count": 41,
   "id": "ab5df31b",
   "metadata": {},
   "outputs": [],
   "source": [
    "from keras.models import Sequential"
   ]
  },
  {
   "cell_type": "markdown",
   "id": "9f23eb0f",
   "metadata": {},
   "source": [
    "### Constructing the network"
   ]
  },
  {
   "cell_type": "code",
   "execution_count": 42,
   "id": "d5f8a5df",
   "metadata": {},
   "outputs": [],
   "source": [
    "y = y.reshape(-1, 1)"
   ]
  },
  {
   "cell_type": "code",
   "execution_count": 43,
   "id": "ea95826a",
   "metadata": {},
   "outputs": [],
   "source": [
    "Seq_Net = Sequential()"
   ]
  },
  {
   "cell_type": "code",
   "execution_count": 44,
   "id": "fd53a33a",
   "metadata": {},
   "outputs": [],
   "source": [
    "Seq_Net.add(Dense(10, input_shape = (X.shape[1],), activation = 'relu', name = 'first'))\n",
    "Seq_Net.add(Dense(20, activation ='relu', name = 'secong'))\n",
    "Seq_Net.add(Dense(10, activation = 'tanh', name ='third'))\n",
    "Seq_Net.add(Dense(6, activation ='sigmoid', name ='fourth'))\n",
    "Seq_Net.add(Dense(y.shape[1], activation ='softmax', name ='output'))"
   ]
  },
  {
   "cell_type": "code",
   "execution_count": 45,
   "id": "7b0c4a8d",
   "metadata": {},
   "outputs": [],
   "source": [
    "optimizer = Adam(learning_rate = 0.001)\n",
    "Seq_Net.compile(optimizer, loss ='categorical_crossentropy', metrics =['accuracy'])"
   ]
  },
  {
   "cell_type": "code",
   "execution_count": 46,
   "id": "30a531a0",
   "metadata": {},
   "outputs": [
    {
     "name": "stdout",
     "output_type": "stream",
     "text": [
      "Model: \"sequential\"\n",
      "_________________________________________________________________\n",
      " Layer (type)                Output Shape              Param #   \n",
      "=================================================================\n",
      " first (Dense)               (None, 10)                120       \n",
      "                                                                 \n",
      " secong (Dense)              (None, 20)                220       \n",
      "                                                                 \n",
      " third (Dense)               (None, 10)                210       \n",
      "                                                                 \n",
      " fourth (Dense)              (None, 6)                 66        \n",
      "                                                                 \n",
      " output (Dense)              (None, 1)                 7         \n",
      "                                                                 \n",
      "=================================================================\n",
      "Total params: 623\n",
      "Trainable params: 623\n",
      "Non-trainable params: 0\n",
      "_________________________________________________________________\n",
      "None\n"
     ]
    }
   ],
   "source": [
    "print(Seq_Net.summary())"
   ]
  },
  {
   "cell_type": "markdown",
   "id": "a2574cb8",
   "metadata": {},
   "source": [
    "### Fitting the model"
   ]
  },
  {
   "cell_type": "code",
   "execution_count": 47,
   "id": "3199cd30",
   "metadata": {},
   "outputs": [
    {
     "name": "stdout",
     "output_type": "stream",
     "text": [
      "Epoch 1/200\n",
      "44/44 [==============================] - 9s 5ms/step - loss: 0.0000e+00 - accuracy: 0.6994\n",
      "Epoch 2/200\n",
      "44/44 [==============================] - 0s 5ms/step - loss: 0.0000e+00 - accuracy: 0.6994\n",
      "Epoch 3/200\n",
      "44/44 [==============================] - 0s 5ms/step - loss: 0.0000e+00 - accuracy: 0.6994\n",
      "Epoch 4/200\n",
      "44/44 [==============================] - 0s 5ms/step - loss: 0.0000e+00 - accuracy: 0.6994\n",
      "Epoch 5/200\n",
      "44/44 [==============================] - 0s 5ms/step - loss: 0.0000e+00 - accuracy: 0.6994\n",
      "Epoch 6/200\n",
      "44/44 [==============================] - 0s 5ms/step - loss: 0.0000e+00 - accuracy: 0.6994\n",
      "Epoch 7/200\n",
      "44/44 [==============================] - 0s 5ms/step - loss: 0.0000e+00 - accuracy: 0.6994\n",
      "Epoch 8/200\n",
      "44/44 [==============================] - 0s 5ms/step - loss: 0.0000e+00 - accuracy: 0.6994\n",
      "Epoch 9/200\n",
      "44/44 [==============================] - 0s 5ms/step - loss: 0.0000e+00 - accuracy: 0.6994\n",
      "Epoch 10/200\n",
      "44/44 [==============================] - 0s 5ms/step - loss: 0.0000e+00 - accuracy: 0.6994\n",
      "Epoch 11/200\n",
      "44/44 [==============================] - 0s 4ms/step - loss: 0.0000e+00 - accuracy: 0.6994\n",
      "Epoch 12/200\n",
      "44/44 [==============================] - 0s 5ms/step - loss: 0.0000e+00 - accuracy: 0.6994\n",
      "Epoch 13/200\n",
      "44/44 [==============================] - 0s 4ms/step - loss: 0.0000e+00 - accuracy: 0.6994\n",
      "Epoch 14/200\n",
      "44/44 [==============================] - 0s 4ms/step - loss: 0.0000e+00 - accuracy: 0.6994\n",
      "Epoch 15/200\n",
      "44/44 [==============================] - 0s 5ms/step - loss: 0.0000e+00 - accuracy: 0.6994\n",
      "Epoch 16/200\n",
      "44/44 [==============================] - 0s 5ms/step - loss: 0.0000e+00 - accuracy: 0.6994\n",
      "Epoch 17/200\n",
      "44/44 [==============================] - 0s 6ms/step - loss: 0.0000e+00 - accuracy: 0.6994\n",
      "Epoch 18/200\n",
      "44/44 [==============================] - 0s 4ms/step - loss: 0.0000e+00 - accuracy: 0.6994\n",
      "Epoch 19/200\n",
      "44/44 [==============================] - 0s 4ms/step - loss: 0.0000e+00 - accuracy: 0.6994\n",
      "Epoch 20/200\n",
      "44/44 [==============================] - 0s 5ms/step - loss: 0.0000e+00 - accuracy: 0.6994\n",
      "Epoch 21/200\n",
      "44/44 [==============================] - 0s 5ms/step - loss: 0.0000e+00 - accuracy: 0.6994\n",
      "Epoch 22/200\n",
      "44/44 [==============================] - 0s 5ms/step - loss: 0.0000e+00 - accuracy: 0.6994\n",
      "Epoch 23/200\n",
      "44/44 [==============================] - 0s 5ms/step - loss: 0.0000e+00 - accuracy: 0.6994\n",
      "Epoch 24/200\n",
      "44/44 [==============================] - 0s 5ms/step - loss: 0.0000e+00 - accuracy: 0.6994\n",
      "Epoch 25/200\n",
      "44/44 [==============================] - 0s 5ms/step - loss: 0.0000e+00 - accuracy: 0.6994\n",
      "Epoch 26/200\n",
      "44/44 [==============================] - 0s 5ms/step - loss: 0.0000e+00 - accuracy: 0.6994\n",
      "Epoch 27/200\n",
      "44/44 [==============================] - 0s 5ms/step - loss: 0.0000e+00 - accuracy: 0.6994\n",
      "Epoch 28/200\n",
      "44/44 [==============================] - 0s 5ms/step - loss: 0.0000e+00 - accuracy: 0.6994\n",
      "Epoch 29/200\n",
      "44/44 [==============================] - 0s 5ms/step - loss: 0.0000e+00 - accuracy: 0.6994\n",
      "Epoch 30/200\n",
      "44/44 [==============================] - 0s 5ms/step - loss: 0.0000e+00 - accuracy: 0.6994\n",
      "Epoch 31/200\n",
      "44/44 [==============================] - 0s 4ms/step - loss: 0.0000e+00 - accuracy: 0.6994\n",
      "Epoch 32/200\n",
      "44/44 [==============================] - 0s 5ms/step - loss: 0.0000e+00 - accuracy: 0.6994\n",
      "Epoch 33/200\n",
      "44/44 [==============================] - 0s 6ms/step - loss: 0.0000e+00 - accuracy: 0.6994\n",
      "Epoch 34/200\n",
      "44/44 [==============================] - 0s 5ms/step - loss: 0.0000e+00 - accuracy: 0.6994\n",
      "Epoch 35/200\n",
      "44/44 [==============================] - 0s 5ms/step - loss: 0.0000e+00 - accuracy: 0.6994\n",
      "Epoch 36/200\n",
      "44/44 [==============================] - 0s 4ms/step - loss: 0.0000e+00 - accuracy: 0.6994\n",
      "Epoch 37/200\n",
      "44/44 [==============================] - 0s 5ms/step - loss: 0.0000e+00 - accuracy: 0.6994\n",
      "Epoch 38/200\n",
      "44/44 [==============================] - 0s 5ms/step - loss: 0.0000e+00 - accuracy: 0.6994\n",
      "Epoch 39/200\n",
      "44/44 [==============================] - 0s 5ms/step - loss: 0.0000e+00 - accuracy: 0.6994\n",
      "Epoch 40/200\n",
      "44/44 [==============================] - 0s 5ms/step - loss: 0.0000e+00 - accuracy: 0.6994\n",
      "Epoch 41/200\n",
      "44/44 [==============================] - 0s 5ms/step - loss: 0.0000e+00 - accuracy: 0.6994\n",
      "Epoch 42/200\n",
      "44/44 [==============================] - 0s 5ms/step - loss: 0.0000e+00 - accuracy: 0.6994\n",
      "Epoch 43/200\n",
      "44/44 [==============================] - 0s 5ms/step - loss: 0.0000e+00 - accuracy: 0.6994\n",
      "Epoch 44/200\n",
      "44/44 [==============================] - 0s 4ms/step - loss: 0.0000e+00 - accuracy: 0.6994\n",
      "Epoch 45/200\n",
      "44/44 [==============================] - 0s 5ms/step - loss: 0.0000e+00 - accuracy: 0.6994\n",
      "Epoch 46/200\n",
      "44/44 [==============================] - 0s 5ms/step - loss: 0.0000e+00 - accuracy: 0.6994\n",
      "Epoch 47/200\n",
      "44/44 [==============================] - 0s 5ms/step - loss: 0.0000e+00 - accuracy: 0.6994\n",
      "Epoch 48/200\n",
      "44/44 [==============================] - 0s 5ms/step - loss: 0.0000e+00 - accuracy: 0.6994\n",
      "Epoch 49/200\n",
      "44/44 [==============================] - 0s 5ms/step - loss: 0.0000e+00 - accuracy: 0.6994\n",
      "Epoch 50/200\n",
      "44/44 [==============================] - 0s 5ms/step - loss: 0.0000e+00 - accuracy: 0.6994\n",
      "Epoch 51/200\n",
      "44/44 [==============================] - 0s 5ms/step - loss: 0.0000e+00 - accuracy: 0.6994\n",
      "Epoch 52/200\n",
      "44/44 [==============================] - 0s 5ms/step - loss: 0.0000e+00 - accuracy: 0.6994\n",
      "Epoch 53/200\n",
      "44/44 [==============================] - 0s 4ms/step - loss: 0.0000e+00 - accuracy: 0.6994\n",
      "Epoch 54/200\n",
      "44/44 [==============================] - 0s 4ms/step - loss: 0.0000e+00 - accuracy: 0.6994\n",
      "Epoch 55/200\n",
      "44/44 [==============================] - 0s 4ms/step - loss: 0.0000e+00 - accuracy: 0.6994\n",
      "Epoch 56/200\n",
      "44/44 [==============================] - 0s 5ms/step - loss: 0.0000e+00 - accuracy: 0.6994\n",
      "Epoch 57/200\n",
      "44/44 [==============================] - 0s 5ms/step - loss: 0.0000e+00 - accuracy: 0.6994\n",
      "Epoch 58/200\n",
      "44/44 [==============================] - 0s 4ms/step - loss: 0.0000e+00 - accuracy: 0.6994\n",
      "Epoch 59/200\n",
      "44/44 [==============================] - 0s 5ms/step - loss: 0.0000e+00 - accuracy: 0.6994\n",
      "Epoch 60/200\n",
      "44/44 [==============================] - 0s 4ms/step - loss: 0.0000e+00 - accuracy: 0.6994\n",
      "Epoch 61/200\n",
      "44/44 [==============================] - 0s 5ms/step - loss: 0.0000e+00 - accuracy: 0.6994\n",
      "Epoch 62/200\n",
      "44/44 [==============================] - 0s 5ms/step - loss: 0.0000e+00 - accuracy: 0.6994\n",
      "Epoch 63/200\n",
      "44/44 [==============================] - 0s 5ms/step - loss: 0.0000e+00 - accuracy: 0.6994\n",
      "Epoch 64/200\n",
      "44/44 [==============================] - 0s 5ms/step - loss: 0.0000e+00 - accuracy: 0.6994\n",
      "Epoch 65/200\n",
      "44/44 [==============================] - 0s 4ms/step - loss: 0.0000e+00 - accuracy: 0.6994\n",
      "Epoch 66/200\n",
      "44/44 [==============================] - 0s 5ms/step - loss: 0.0000e+00 - accuracy: 0.6994\n",
      "Epoch 67/200\n",
      "44/44 [==============================] - 0s 5ms/step - loss: 0.0000e+00 - accuracy: 0.6994\n",
      "Epoch 68/200\n",
      "44/44 [==============================] - 0s 5ms/step - loss: 0.0000e+00 - accuracy: 0.6994\n",
      "Epoch 69/200\n",
      "44/44 [==============================] - 0s 4ms/step - loss: 0.0000e+00 - accuracy: 0.6994\n",
      "Epoch 70/200\n",
      "44/44 [==============================] - 0s 5ms/step - loss: 0.0000e+00 - accuracy: 0.6994\n",
      "Epoch 71/200\n",
      "44/44 [==============================] - 0s 6ms/step - loss: 0.0000e+00 - accuracy: 0.6994\n",
      "Epoch 72/200\n",
      "44/44 [==============================] - 0s 5ms/step - loss: 0.0000e+00 - accuracy: 0.6994\n",
      "Epoch 73/200\n",
      "44/44 [==============================] - 0s 4ms/step - loss: 0.0000e+00 - accuracy: 0.6994\n",
      "Epoch 74/200\n",
      "44/44 [==============================] - 0s 4ms/step - loss: 0.0000e+00 - accuracy: 0.6994\n",
      "Epoch 75/200\n",
      "44/44 [==============================] - 0s 5ms/step - loss: 0.0000e+00 - accuracy: 0.6994\n",
      "Epoch 76/200\n",
      "44/44 [==============================] - 0s 5ms/step - loss: 0.0000e+00 - accuracy: 0.6994\n",
      "Epoch 77/200\n",
      "44/44 [==============================] - 0s 5ms/step - loss: 0.0000e+00 - accuracy: 0.6994\n",
      "Epoch 78/200\n",
      "44/44 [==============================] - 0s 6ms/step - loss: 0.0000e+00 - accuracy: 0.6994\n",
      "Epoch 79/200\n",
      "44/44 [==============================] - 0s 5ms/step - loss: 0.0000e+00 - accuracy: 0.6994\n",
      "Epoch 80/200\n",
      "44/44 [==============================] - 0s 5ms/step - loss: 0.0000e+00 - accuracy: 0.6994\n",
      "Epoch 81/200\n",
      "44/44 [==============================] - 0s 5ms/step - loss: 0.0000e+00 - accuracy: 0.6994\n",
      "Epoch 82/200\n",
      "44/44 [==============================] - 0s 6ms/step - loss: 0.0000e+00 - accuracy: 0.6994\n",
      "Epoch 83/200\n",
      "44/44 [==============================] - 0s 5ms/step - loss: 0.0000e+00 - accuracy: 0.6994\n",
      "Epoch 84/200\n",
      "44/44 [==============================] - 0s 6ms/step - loss: 0.0000e+00 - accuracy: 0.6994\n",
      "Epoch 85/200\n",
      "44/44 [==============================] - 0s 5ms/step - loss: 0.0000e+00 - accuracy: 0.6994\n",
      "Epoch 86/200\n",
      "44/44 [==============================] - 0s 6ms/step - loss: 0.0000e+00 - accuracy: 0.6994\n",
      "Epoch 87/200\n",
      "44/44 [==============================] - 0s 5ms/step - loss: 0.0000e+00 - accuracy: 0.6994\n",
      "Epoch 88/200\n",
      "44/44 [==============================] - 0s 6ms/step - loss: 0.0000e+00 - accuracy: 0.6994\n",
      "Epoch 89/200\n",
      "44/44 [==============================] - 0s 6ms/step - loss: 0.0000e+00 - accuracy: 0.6994\n",
      "Epoch 90/200\n",
      "44/44 [==============================] - 0s 6ms/step - loss: 0.0000e+00 - accuracy: 0.6994\n",
      "Epoch 91/200\n",
      "44/44 [==============================] - 0s 6ms/step - loss: 0.0000e+00 - accuracy: 0.6994\n",
      "Epoch 92/200\n",
      "44/44 [==============================] - 0s 6ms/step - loss: 0.0000e+00 - accuracy: 0.6994\n",
      "Epoch 93/200\n",
      "44/44 [==============================] - 0s 5ms/step - loss: 0.0000e+00 - accuracy: 0.6994\n",
      "Epoch 94/200\n",
      "44/44 [==============================] - 0s 5ms/step - loss: 0.0000e+00 - accuracy: 0.6994\n",
      "Epoch 95/200\n",
      "44/44 [==============================] - 0s 5ms/step - loss: 0.0000e+00 - accuracy: 0.6994\n",
      "Epoch 96/200\n",
      "44/44 [==============================] - 0s 6ms/step - loss: 0.0000e+00 - accuracy: 0.6994\n",
      "Epoch 97/200\n",
      "44/44 [==============================] - 0s 6ms/step - loss: 0.0000e+00 - accuracy: 0.6994\n",
      "Epoch 98/200\n",
      "44/44 [==============================] - 0s 5ms/step - loss: 0.0000e+00 - accuracy: 0.6994\n",
      "Epoch 99/200\n",
      "44/44 [==============================] - 0s 5ms/step - loss: 0.0000e+00 - accuracy: 0.6994\n",
      "Epoch 100/200\n",
      "44/44 [==============================] - 0s 4ms/step - loss: 0.0000e+00 - accuracy: 0.6994\n",
      "Epoch 101/200\n",
      "44/44 [==============================] - 0s 5ms/step - loss: 0.0000e+00 - accuracy: 0.6994\n",
      "Epoch 102/200\n",
      "44/44 [==============================] - 0s 5ms/step - loss: 0.0000e+00 - accuracy: 0.6994\n",
      "Epoch 103/200\n",
      "44/44 [==============================] - 0s 4ms/step - loss: 0.0000e+00 - accuracy: 0.6994\n",
      "Epoch 104/200\n",
      "44/44 [==============================] - 0s 4ms/step - loss: 0.0000e+00 - accuracy: 0.6994\n",
      "Epoch 105/200\n",
      "44/44 [==============================] - 0s 5ms/step - loss: 0.0000e+00 - accuracy: 0.6994\n",
      "Epoch 106/200\n",
      "44/44 [==============================] - 0s 6ms/step - loss: 0.0000e+00 - accuracy: 0.6994\n",
      "Epoch 107/200\n",
      "44/44 [==============================] - 0s 6ms/step - loss: 0.0000e+00 - accuracy: 0.6994\n",
      "Epoch 108/200\n",
      "44/44 [==============================] - 0s 4ms/step - loss: 0.0000e+00 - accuracy: 0.6994\n",
      "Epoch 109/200\n",
      "44/44 [==============================] - 0s 5ms/step - loss: 0.0000e+00 - accuracy: 0.6994\n",
      "Epoch 110/200\n",
      "44/44 [==============================] - 0s 7ms/step - loss: 0.0000e+00 - accuracy: 0.6994\n",
      "Epoch 111/200\n",
      "44/44 [==============================] - 0s 6ms/step - loss: 0.0000e+00 - accuracy: 0.6994\n",
      "Epoch 112/200\n",
      "44/44 [==============================] - 0s 6ms/step - loss: 0.0000e+00 - accuracy: 0.6994\n",
      "Epoch 113/200\n",
      "44/44 [==============================] - 0s 5ms/step - loss: 0.0000e+00 - accuracy: 0.6994\n",
      "Epoch 114/200\n",
      "44/44 [==============================] - 0s 5ms/step - loss: 0.0000e+00 - accuracy: 0.6994\n",
      "Epoch 115/200\n",
      "44/44 [==============================] - 0s 5ms/step - loss: 0.0000e+00 - accuracy: 0.6994\n",
      "Epoch 116/200\n",
      "44/44 [==============================] - 0s 4ms/step - loss: 0.0000e+00 - accuracy: 0.6994\n",
      "Epoch 117/200\n",
      "44/44 [==============================] - 0s 5ms/step - loss: 0.0000e+00 - accuracy: 0.6994\n",
      "Epoch 118/200\n",
      "44/44 [==============================] - 0s 6ms/step - loss: 0.0000e+00 - accuracy: 0.6994\n",
      "Epoch 119/200\n",
      "44/44 [==============================] - 0s 6ms/step - loss: 0.0000e+00 - accuracy: 0.6994\n",
      "Epoch 120/200\n",
      "44/44 [==============================] - 0s 5ms/step - loss: 0.0000e+00 - accuracy: 0.6994\n",
      "Epoch 121/200\n",
      "44/44 [==============================] - 0s 5ms/step - loss: 0.0000e+00 - accuracy: 0.6994\n",
      "Epoch 122/200\n",
      "44/44 [==============================] - 0s 5ms/step - loss: 0.0000e+00 - accuracy: 0.6994\n",
      "Epoch 123/200\n",
      "44/44 [==============================] - 0s 5ms/step - loss: 0.0000e+00 - accuracy: 0.6994\n",
      "Epoch 124/200\n",
      "44/44 [==============================] - 0s 4ms/step - loss: 0.0000e+00 - accuracy: 0.6994\n",
      "Epoch 125/200\n",
      "44/44 [==============================] - 0s 5ms/step - loss: 0.0000e+00 - accuracy: 0.6994\n",
      "Epoch 126/200\n",
      "44/44 [==============================] - 0s 5ms/step - loss: 0.0000e+00 - accuracy: 0.6994\n",
      "Epoch 127/200\n",
      "44/44 [==============================] - 0s 7ms/step - loss: 0.0000e+00 - accuracy: 0.6994\n",
      "Epoch 128/200\n",
      "44/44 [==============================] - 0s 6ms/step - loss: 0.0000e+00 - accuracy: 0.6994\n",
      "Epoch 129/200\n",
      "44/44 [==============================] - 0s 5ms/step - loss: 0.0000e+00 - accuracy: 0.6994\n",
      "Epoch 130/200\n",
      "44/44 [==============================] - 0s 5ms/step - loss: 0.0000e+00 - accuracy: 0.6994\n",
      "Epoch 131/200\n",
      "44/44 [==============================] - 0s 5ms/step - loss: 0.0000e+00 - accuracy: 0.6994\n",
      "Epoch 132/200\n",
      "44/44 [==============================] - 0s 7ms/step - loss: 0.0000e+00 - accuracy: 0.6994\n",
      "Epoch 133/200\n",
      "44/44 [==============================] - 0s 5ms/step - loss: 0.0000e+00 - accuracy: 0.6994\n",
      "Epoch 134/200\n",
      "44/44 [==============================] - 0s 5ms/step - loss: 0.0000e+00 - accuracy: 0.6994\n",
      "Epoch 135/200\n",
      "44/44 [==============================] - 0s 4ms/step - loss: 0.0000e+00 - accuracy: 0.6994\n",
      "Epoch 136/200\n",
      "44/44 [==============================] - 0s 4ms/step - loss: 0.0000e+00 - accuracy: 0.6994\n",
      "Epoch 137/200\n",
      "44/44 [==============================] - 0s 4ms/step - loss: 0.0000e+00 - accuracy: 0.6994\n",
      "Epoch 138/200\n",
      "44/44 [==============================] - 0s 5ms/step - loss: 0.0000e+00 - accuracy: 0.6994\n",
      "Epoch 139/200\n",
      "44/44 [==============================] - 0s 4ms/step - loss: 0.0000e+00 - accuracy: 0.6994\n",
      "Epoch 140/200\n",
      "44/44 [==============================] - 0s 4ms/step - loss: 0.0000e+00 - accuracy: 0.6994\n",
      "Epoch 141/200\n",
      "44/44 [==============================] - 0s 4ms/step - loss: 0.0000e+00 - accuracy: 0.6994\n",
      "Epoch 142/200\n",
      "44/44 [==============================] - 0s 5ms/step - loss: 0.0000e+00 - accuracy: 0.6994\n",
      "Epoch 143/200\n",
      "44/44 [==============================] - 0s 5ms/step - loss: 0.0000e+00 - accuracy: 0.6994\n",
      "Epoch 144/200\n",
      "44/44 [==============================] - 0s 5ms/step - loss: 0.0000e+00 - accuracy: 0.6994\n",
      "Epoch 145/200\n",
      "44/44 [==============================] - 0s 4ms/step - loss: 0.0000e+00 - accuracy: 0.6994\n",
      "Epoch 146/200\n",
      "44/44 [==============================] - 0s 5ms/step - loss: 0.0000e+00 - accuracy: 0.6994\n",
      "Epoch 147/200\n",
      "44/44 [==============================] - 0s 4ms/step - loss: 0.0000e+00 - accuracy: 0.6994\n",
      "Epoch 148/200\n",
      "44/44 [==============================] - 0s 4ms/step - loss: 0.0000e+00 - accuracy: 0.6994\n",
      "Epoch 149/200\n",
      "44/44 [==============================] - 0s 5ms/step - loss: 0.0000e+00 - accuracy: 0.6994\n",
      "Epoch 150/200\n",
      "44/44 [==============================] - 0s 6ms/step - loss: 0.0000e+00 - accuracy: 0.6994\n",
      "Epoch 151/200\n",
      "44/44 [==============================] - 0s 5ms/step - loss: 0.0000e+00 - accuracy: 0.6994\n",
      "Epoch 152/200\n",
      "44/44 [==============================] - 0s 4ms/step - loss: 0.0000e+00 - accuracy: 0.6994\n",
      "Epoch 153/200\n",
      "44/44 [==============================] - 0s 5ms/step - loss: 0.0000e+00 - accuracy: 0.6994\n",
      "Epoch 154/200\n",
      "44/44 [==============================] - 0s 5ms/step - loss: 0.0000e+00 - accuracy: 0.6994\n",
      "Epoch 155/200\n",
      "44/44 [==============================] - 0s 6ms/step - loss: 0.0000e+00 - accuracy: 0.6994\n",
      "Epoch 156/200\n",
      "44/44 [==============================] - 0s 6ms/step - loss: 0.0000e+00 - accuracy: 0.6994\n",
      "Epoch 157/200\n",
      "44/44 [==============================] - 0s 6ms/step - loss: 0.0000e+00 - accuracy: 0.6994\n",
      "Epoch 158/200\n",
      "44/44 [==============================] - 0s 5ms/step - loss: 0.0000e+00 - accuracy: 0.6994\n",
      "Epoch 159/200\n",
      "44/44 [==============================] - 0s 4ms/step - loss: 0.0000e+00 - accuracy: 0.6994\n",
      "Epoch 160/200\n",
      "44/44 [==============================] - 0s 6ms/step - loss: 0.0000e+00 - accuracy: 0.6994\n",
      "Epoch 161/200\n",
      "44/44 [==============================] - 0s 5ms/step - loss: 0.0000e+00 - accuracy: 0.6994\n",
      "Epoch 162/200\n",
      "44/44 [==============================] - 0s 4ms/step - loss: 0.0000e+00 - accuracy: 0.6994\n",
      "Epoch 163/200\n",
      "44/44 [==============================] - 0s 4ms/step - loss: 0.0000e+00 - accuracy: 0.6994\n",
      "Epoch 164/200\n",
      "44/44 [==============================] - 0s 4ms/step - loss: 0.0000e+00 - accuracy: 0.6994\n",
      "Epoch 165/200\n",
      "44/44 [==============================] - 0s 4ms/step - loss: 0.0000e+00 - accuracy: 0.6994\n",
      "Epoch 166/200\n",
      "44/44 [==============================] - 0s 5ms/step - loss: 0.0000e+00 - accuracy: 0.6994\n",
      "Epoch 167/200\n",
      "44/44 [==============================] - 0s 5ms/step - loss: 0.0000e+00 - accuracy: 0.6994\n",
      "Epoch 168/200\n",
      "44/44 [==============================] - 0s 4ms/step - loss: 0.0000e+00 - accuracy: 0.6994\n",
      "Epoch 169/200\n",
      "44/44 [==============================] - 0s 5ms/step - loss: 0.0000e+00 - accuracy: 0.6994\n",
      "Epoch 170/200\n",
      "44/44 [==============================] - 0s 4ms/step - loss: 0.0000e+00 - accuracy: 0.6994\n",
      "Epoch 171/200\n",
      "44/44 [==============================] - 0s 5ms/step - loss: 0.0000e+00 - accuracy: 0.6994\n",
      "Epoch 172/200\n",
      "44/44 [==============================] - 0s 5ms/step - loss: 0.0000e+00 - accuracy: 0.6994\n",
      "Epoch 173/200\n",
      "44/44 [==============================] - 0s 5ms/step - loss: 0.0000e+00 - accuracy: 0.6994\n",
      "Epoch 174/200\n",
      "44/44 [==============================] - 0s 5ms/step - loss: 0.0000e+00 - accuracy: 0.6994\n",
      "Epoch 175/200\n",
      "44/44 [==============================] - 0s 5ms/step - loss: 0.0000e+00 - accuracy: 0.6994\n",
      "Epoch 176/200\n",
      "44/44 [==============================] - 0s 5ms/step - loss: 0.0000e+00 - accuracy: 0.6994\n",
      "Epoch 177/200\n",
      "44/44 [==============================] - 0s 5ms/step - loss: 0.0000e+00 - accuracy: 0.6994\n",
      "Epoch 178/200\n",
      "44/44 [==============================] - 0s 5ms/step - loss: 0.0000e+00 - accuracy: 0.6994\n",
      "Epoch 179/200\n",
      "44/44 [==============================] - 0s 7ms/step - loss: 0.0000e+00 - accuracy: 0.6994\n",
      "Epoch 180/200\n",
      "44/44 [==============================] - 0s 5ms/step - loss: 0.0000e+00 - accuracy: 0.6994\n",
      "Epoch 181/200\n",
      "44/44 [==============================] - 0s 5ms/step - loss: 0.0000e+00 - accuracy: 0.6994\n",
      "Epoch 182/200\n",
      "44/44 [==============================] - 0s 5ms/step - loss: 0.0000e+00 - accuracy: 0.6994\n",
      "Epoch 183/200\n",
      "44/44 [==============================] - 0s 5ms/step - loss: 0.0000e+00 - accuracy: 0.6994\n",
      "Epoch 184/200\n",
      "44/44 [==============================] - 0s 5ms/step - loss: 0.0000e+00 - accuracy: 0.6994\n",
      "Epoch 185/200\n",
      "44/44 [==============================] - 0s 4ms/step - loss: 0.0000e+00 - accuracy: 0.6994\n",
      "Epoch 186/200\n",
      "44/44 [==============================] - 0s 6ms/step - loss: 0.0000e+00 - accuracy: 0.6994\n",
      "Epoch 187/200\n",
      "44/44 [==============================] - 0s 6ms/step - loss: 0.0000e+00 - accuracy: 0.6994\n",
      "Epoch 188/200\n",
      "44/44 [==============================] - 0s 5ms/step - loss: 0.0000e+00 - accuracy: 0.6994\n",
      "Epoch 189/200\n",
      "44/44 [==============================] - 0s 5ms/step - loss: 0.0000e+00 - accuracy: 0.6994\n",
      "Epoch 190/200\n",
      "44/44 [==============================] - 0s 5ms/step - loss: 0.0000e+00 - accuracy: 0.6994\n",
      "Epoch 191/200\n",
      "44/44 [==============================] - 0s 5ms/step - loss: 0.0000e+00 - accuracy: 0.6994\n",
      "Epoch 192/200\n",
      "44/44 [==============================] - 0s 5ms/step - loss: 0.0000e+00 - accuracy: 0.6994\n",
      "Epoch 193/200\n",
      "44/44 [==============================] - 0s 4ms/step - loss: 0.0000e+00 - accuracy: 0.6994\n",
      "Epoch 194/200\n",
      "44/44 [==============================] - 0s 5ms/step - loss: 0.0000e+00 - accuracy: 0.6994\n",
      "Epoch 195/200\n",
      "44/44 [==============================] - 0s 4ms/step - loss: 0.0000e+00 - accuracy: 0.6994\n",
      "Epoch 196/200\n",
      "44/44 [==============================] - 0s 4ms/step - loss: 0.0000e+00 - accuracy: 0.6994\n",
      "Epoch 197/200\n",
      "44/44 [==============================] - 0s 5ms/step - loss: 0.0000e+00 - accuracy: 0.6994\n",
      "Epoch 198/200\n",
      "44/44 [==============================] - 0s 6ms/step - loss: 0.0000e+00 - accuracy: 0.6994\n",
      "Epoch 199/200\n",
      "44/44 [==============================] - 0s 4ms/step - loss: 0.0000e+00 - accuracy: 0.6994\n",
      "Epoch 200/200\n",
      "44/44 [==============================] - 0s 4ms/step - loss: 0.0000e+00 - accuracy: 0.6994\n"
     ]
    },
    {
     "data": {
      "text/plain": [
       "<keras.callbacks.History at 0x1f03ec56340>"
      ]
     },
     "execution_count": 47,
     "metadata": {},
     "output_type": "execute_result"
    }
   ],
   "source": [
    "Seq_Net.fit(X_train, y_train, verbose =1, batch_size = X.shape[1], epochs = 200)"
   ]
  },
  {
   "cell_type": "markdown",
   "id": "344d4985",
   "metadata": {},
   "source": [
    "### Testing the model"
   ]
  },
  {
   "cell_type": "code",
   "execution_count": 50,
   "id": "46fd55bb",
   "metadata": {},
   "outputs": [
    {
     "name": "stdout",
     "output_type": "stream",
     "text": [
      "15/15 [==============================] - 0s 4ms/step - loss: 0.0000e+00 - accuracy: 0.6994\n"
     ]
    },
    {
     "data": {
      "text/plain": [
       "[0.0, 0.699373722076416]"
      ]
     },
     "execution_count": 50,
     "metadata": {},
     "output_type": "execute_result"
    }
   ],
   "source": [
    "Seq_Net.evaluate(X_train, y_train)"
   ]
  },
  {
   "cell_type": "code",
   "execution_count": 48,
   "id": "f73e9ebf",
   "metadata": {},
   "outputs": [
    {
     "name": "stdout",
     "output_type": "stream",
     "text": [
      "4/4 [==============================] - 1s 5ms/step - loss: 0.0000e+00 - accuracy: 0.6500\n"
     ]
    },
    {
     "data": {
      "text/plain": [
       "[0.0, 0.6499999761581421]"
      ]
     },
     "execution_count": 48,
     "metadata": {},
     "output_type": "execute_result"
    }
   ],
   "source": [
    "Seq_Net.evaluate(X_test, y_test)"
   ]
  },
  {
   "cell_type": "code",
   "execution_count": 49,
   "id": "28cd000b",
   "metadata": {},
   "outputs": [
    {
     "name": "stdout",
     "output_type": "stream",
     "text": [
      "[array([[-9.9978194e-02,  4.9885529e-01, -1.1583936e-02, -7.3674873e-02,\n",
      "        -9.5420532e-02,  5.0087982e-01, -4.3805301e-01, -2.9795064e-02,\n",
      "        -1.9492668e-01, -3.8751218e-01],\n",
      "       [ 5.9646212e-02, -3.6737227e-01, -2.6181358e-01, -2.4533805e-01,\n",
      "         3.8587156e-01,  4.5794258e-01, -2.3359698e-01, -2.0621797e-01,\n",
      "         2.0198368e-01,  1.6537802e-01],\n",
      "       [-1.6940795e-01, -5.4147422e-01,  4.6287188e-01,  4.1040814e-01,\n",
      "         5.2186501e-01,  4.2320055e-01, -3.3084550e-01, -4.3980348e-01,\n",
      "         2.8975904e-01, -1.2077163e-01],\n",
      "       [-4.0257055e-01, -5.4704279e-01,  2.4456728e-02, -4.2684221e-01,\n",
      "         4.6730742e-01, -4.9486890e-02,  1.4874052e-02,  4.9332306e-01,\n",
      "        -5.1690190e-04,  7.1938598e-01],\n",
      "       [-6.5821427e-01,  4.7024471e-01, -4.8236811e-01, -3.7649494e-01,\n",
      "         7.1277983e-02,  2.6377606e-01,  4.6847805e-02,  1.6165830e-01,\n",
      "         3.5808668e-01, -4.2579690e-01],\n",
      "       [-2.0962566e-01, -3.1325006e-01,  1.8289921e-01, -2.7371344e-01,\n",
      "        -6.3057989e-01,  2.8523931e-01,  4.6001345e-01, -1.1579037e-02,\n",
      "         5.3516155e-01,  4.3893494e-02],\n",
      "       [-3.1712955e-01, -7.3824212e-02,  5.1522231e-01,  2.2244215e-01,\n",
      "        -3.9592475e-01, -2.2587299e-01,  4.8304206e-01, -4.8668772e-02,\n",
      "        -3.1648666e-01,  2.7904016e-01],\n",
      "       [-5.9453058e-01, -4.0966425e-02, -3.5968533e-01, -1.9941188e-01,\n",
      "        -5.2506375e-01,  8.7576024e-02, -2.9907483e-01,  1.3757312e-01,\n",
      "         5.3629345e-01,  4.1057962e-01],\n",
      "       [ 3.2763932e-02,  6.0412878e-01,  2.6175281e-01,  1.2814593e-01,\n",
      "        -3.3529031e-01,  5.5064570e-02, -4.9961981e-01,  4.0896985e-01,\n",
      "         5.5333960e-01,  1.8974480e-01],\n",
      "       [ 5.3910375e-01, -4.1195485e-01, -2.0474985e-02,  2.3598963e-01,\n",
      "        -2.9998931e-01,  5.2512407e-01,  8.1246346e-02,  6.7409682e-01,\n",
      "        -2.7719355e-01, -2.9098976e-01],\n",
      "       [-4.0345088e-02,  3.3844486e-01,  1.9953793e-01,  3.1623539e-02,\n",
      "        -3.3094612e-01,  4.6032354e-01, -3.0993620e-01, -1.6982321e-01,\n",
      "        -5.7641774e-01, -3.2266404e-02]], dtype=float32), array([0.25706083, 0.18131545, 0.1453601 , 0.05570276, 0.23712334,\n",
      "       0.14051947, 0.1614458 , 0.25766176, 0.20411517, 0.22449982],\n",
      "      dtype=float32), array([[-0.13222398, -0.35829416,  0.37357634,  0.5516513 , -0.1587913 ,\n",
      "         0.46513298, -0.2757724 ,  0.18577397,  0.34048006,  0.13651654,\n",
      "        -0.0994198 ,  0.23065427, -0.44900882,  0.49624202, -0.33992305,\n",
      "         0.03799461,  0.16153938, -0.46225312,  0.6106527 ,  0.14900358],\n",
      "       [-0.42329755, -0.31866693,  0.39574254,  0.0785558 ,  0.54697675,\n",
      "         0.6009413 , -0.41628897,  0.5171014 ,  0.05764391,  0.45813766,\n",
      "        -0.13934189, -0.36355758,  0.14936768,  0.2263697 , -0.40130454,\n",
      "         0.04794361,  0.21905214, -0.21002926,  0.06416631,  0.53924406],\n",
      "       [ 0.23448958, -0.09304705,  0.3942336 , -0.20368338,  0.43309864,\n",
      "         0.38529265, -0.4334616 , -0.08788868,  0.49308425, -0.17872088,\n",
      "        -0.3349984 ,  0.1750107 ,  0.21944752,  0.37927082,  0.04728869,\n",
      "         0.5274878 , -0.01279885, -0.30443466, -0.07713573, -0.12843119],\n",
      "       [ 0.09486433, -0.36701474,  0.4844296 ,  0.09909197,  0.05488516,\n",
      "        -0.12850463, -0.3890446 , -0.03724837, -0.0327874 ,  0.3887663 ,\n",
      "        -0.44115078,  0.2688203 ,  0.27770197,  0.20767649,  0.17793332,\n",
      "        -0.33525658,  0.23849776,  0.01754542, -0.2359569 ,  0.09120253],\n",
      "       [-0.3884304 , -0.41772938,  0.4389526 ,  0.3873884 ,  0.3164839 ,\n",
      "        -0.02540839,  0.32063872, -0.13947222,  0.41403136,  0.56581265,\n",
      "        -0.29784372, -0.34489176,  0.29313487,  0.425789  ,  0.2860987 ,\n",
      "         0.57150614,  0.28811258, -0.00863374,  0.61182237,  0.11051793],\n",
      "       [-0.17842901,  0.1842376 ,  0.04181923,  0.18061806,  0.30331463,\n",
      "        -0.19128142, -0.37319294,  0.54180884, -0.01502558,  0.07662573,\n",
      "         0.24414954,  0.03825455, -0.15221013,  0.36592698, -0.05834558,\n",
      "         0.2478755 ,  0.0422998 , -0.17921808,  0.06347879,  0.16751654],\n",
      "       [-0.2345596 , -0.30364946,  0.1275505 ,  0.00414825,  0.1769427 ,\n",
      "        -0.08950876, -0.24661295, -0.10276277,  0.53812927,  0.26386413,\n",
      "         0.13774802,  0.12099227,  0.40146106,  0.29187527, -0.4702462 ,\n",
      "        -0.2996872 ,  0.09868293, -0.12020253, -0.07373346,  0.306657  ],\n",
      "       [-0.3168928 , -0.08442801,  0.25071225,  0.27415982,  0.1799716 ,\n",
      "         0.2862823 ,  0.00712446, -0.00420218,  0.29715285,  0.5066405 ,\n",
      "         0.02508581, -0.39656663,  0.31858602,  0.46214315, -0.30818674,\n",
      "         0.00373342, -0.00427887,  0.39162305,  0.13346523,  0.2958887 ],\n",
      "       [-0.22061971,  0.00615498,  0.48773983,  0.30968466,  0.086913  ,\n",
      "        -0.12153584,  0.11250976,  0.48801938,  0.46771178,  0.41884202,\n",
      "         0.29390886,  0.14861956,  0.01338712,  0.3553557 ,  0.01161279,\n",
      "         0.12524223, -0.10440341, -0.39602914, -0.09171017,  0.13492383],\n",
      "       [-0.40443143, -0.32937902,  0.45603517, -0.13174307,  0.25803387,\n",
      "         0.47194895, -0.43939528,  0.02649646, -0.1902568 ,  0.32297355,\n",
      "        -0.27323195, -0.47987103, -0.35296926,  0.46321246, -0.28761238,\n",
      "        -0.01989371,  0.1674282 , -0.18955056,  0.35591266,  0.44322482]],\n",
      "      dtype=float32), array([-0.00769966,  0.        ,  0.19877584,  0.24797808,  0.17787643,\n",
      "        0.20489234, -0.03443512,  0.18436798,  0.19595836,  0.16410384,\n",
      "       -0.05345042, -0.08143449, -0.02229916,  0.38260344, -0.08718575,\n",
      "        0.20818974, -0.12097055, -0.03809115,  0.2641132 ,  0.20222324],\n",
      "      dtype=float32), array([[ 0.21090937, -0.03449438, -0.22668405, -0.02889419, -0.1930703 ,\n",
      "         0.26837024, -0.39056635,  0.08890425, -0.3641295 , -0.1395058 ],\n",
      "       [-0.162229  ,  0.06176102,  0.30853176,  0.17958963, -0.1751965 ,\n",
      "         0.15025425, -0.41442713, -0.03983644,  0.41177005, -0.32789266],\n",
      "       [-0.4808866 ,  0.32966867,  0.3673414 , -0.56927514,  0.06475407,\n",
      "         0.09904996,  0.26101705, -0.01506141,  0.39650807, -0.0834606 ],\n",
      "       [-0.5282811 ,  0.45448118,  0.05152709,  0.20157142, -0.5810954 ,\n",
      "         0.17868745, -0.1797858 , -0.2777995 ,  0.17240989, -0.18721639],\n",
      "       [-0.12352284,  0.38634858,  0.31326303, -0.0967624 , -0.25148448,\n",
      "        -0.04191999,  0.5190674 , -0.20396942,  0.28144932, -0.3042745 ],\n",
      "       [-0.6055363 ,  0.11114241,  0.31785256, -0.37169585, -0.53484654,\n",
      "         0.34413815, -0.29364744, -0.3028975 , -0.04001877, -0.53042156],\n",
      "       [ 0.15480372, -0.31683844, -0.15591365, -0.1967919 ,  0.10441773,\n",
      "        -0.20859215,  0.12220313,  0.04599533,  0.488614  , -0.46770656],\n",
      "       [ 0.1250035 , -0.17329012,  0.04106567, -0.0748523 , -0.44102547,\n",
      "         0.4011713 ,  0.37148428, -0.37178773,  0.53357655,  0.09368473],\n",
      "       [-0.16601844, -0.16535266,  0.4740037 , -0.58932835, -0.40569147,\n",
      "         0.6739017 ,  0.56251276,  0.09092352,  0.34516525,  0.06630857],\n",
      "       [-0.14693272,  0.55131304, -0.03409736,  0.00486506, -0.34247234,\n",
      "         0.55489635,  0.51981175, -0.5024917 ,  0.04800747, -0.53964037],\n",
      "       [ 0.14754102,  0.4365335 , -0.05258315,  0.1946875 ,  0.20857741,\n",
      "         0.30223674, -0.3670913 ,  0.06080257, -0.0432325 ,  0.2563938 ],\n",
      "       [-0.39067036, -0.14485458, -0.11196128, -0.37350962,  0.27578637,\n",
      "        -0.29042   , -0.32872903,  0.27021372,  0.4598282 ,  0.294751  ],\n",
      "       [-0.2563131 , -0.19939801,  0.38379353,  0.31595972,  0.22257346,\n",
      "         0.5212646 , -0.33090842, -0.18282157,  0.02046537, -0.29090708],\n",
      "       [-0.2450676 ,  1.2931305 ,  0.8350343 , -0.9083862 , -0.60160846,\n",
      "         1.0504717 ,  0.6873797 , -0.9992938 ,  0.9739007 , -0.7090334 ],\n",
      "       [ 0.27502906,  0.17121582, -0.1873684 ,  0.37623915, -0.19472705,\n",
      "         0.4378021 ,  0.33740517,  0.2785726 , -0.16764592,  0.08384203],\n",
      "       [-0.04415375, -0.21373011,  0.38814425, -0.49593258, -0.3505927 ,\n",
      "         0.22741424,  0.15952688, -0.07920272, -0.2149603 , -0.47686425],\n",
      "       [ 0.1785959 , -0.13547158, -0.10787462, -0.51788694,  0.0603625 ,\n",
      "         0.07978046, -0.03367996,  0.13475218, -0.24689406, -0.3853391 ],\n",
      "       [ 0.1258768 , -0.23262438, -0.29131934,  0.24567272,  0.1866073 ,\n",
      "         0.32190555, -0.32091194, -0.2216393 ,  0.24879068, -0.04509696],\n",
      "       [-0.12775175,  0.5461367 ,  0.23719251,  0.0119587 , -0.40527225,\n",
      "        -0.1308758 ,  0.23793186, -0.34099448,  0.45945695, -0.19949047],\n",
      "       [-0.16582939,  0.02616665,  0.49502403, -0.18508957, -0.1383477 ,\n",
      "        -0.08931025,  0.32143566, -0.14074224,  0.57833123, -0.43823949]],\n",
      "      dtype=float32), array([-0.15069889,  0.17100468,  0.07287832, -0.12481251, -0.11680225,\n",
      "        0.21297061,  0.10571602, -0.16740893,  0.1302811 , -0.10086718],\n",
      "      dtype=float32), array([[-0.95851046,  1.284117  , -0.96266323, -0.5812288 ,  1.0879915 ,\n",
      "        -1.1586931 ],\n",
      "       [ 1.4524088 , -0.92918485,  1.7792426 ,  1.3480488 , -1.1103139 ,\n",
      "         1.4678212 ],\n",
      "       [ 0.86335707, -0.43334827,  1.4623613 ,  0.88073874, -1.4173919 ,\n",
      "         1.8210353 ],\n",
      "       [-1.3412726 ,  0.37437776, -0.8335697 , -1.2276322 ,  1.156223  ,\n",
      "        -0.49949014],\n",
      "       [-1.5694854 ,  1.038345  , -1.1638194 , -0.82391226,  0.2071034 ,\n",
      "        -1.48104   ],\n",
      "       [ 0.87037945, -1.1843567 ,  0.97831064,  1.6153276 , -1.0265026 ,\n",
      "         1.632934  ],\n",
      "       [ 0.60146797, -1.1785557 ,  0.6246529 ,  0.82285   , -1.0294443 ,\n",
      "         0.8893906 ],\n",
      "       [-1.8316262 ,  0.7941362 , -1.6044735 , -0.9006083 ,  0.9765918 ,\n",
      "        -1.7574352 ],\n",
      "       [ 1.3503346 , -0.1709869 ,  1.2943368 ,  1.0800872 , -1.2323673 ,\n",
      "         1.3012483 ],\n",
      "       [-1.1472279 ,  0.8508912 , -0.8564747 , -0.639243  ,  0.5323837 ,\n",
      "        -0.99498975]], dtype=float32), array([ 0.64638054, -0.52237815,  1.0574155 ,  1.0452083 , -0.40940562,\n",
      "        0.8140346 ], dtype=float32), array([[-8.889008  ],\n",
      "       [ 0.03769084],\n",
      "       [-8.226571  ],\n",
      "       [-6.73516   ],\n",
      "       [ 0.31001103],\n",
      "       [-8.220604  ]], dtype=float32), array([-8.001848], dtype=float32)]\n"
     ]
    }
   ],
   "source": [
    "print(Seq_Net.get_weights())"
   ]
  },
  {
   "cell_type": "markdown",
   "id": "54c455d3",
   "metadata": {},
   "source": [
    "# Interpretation"
   ]
  },
  {
   "cell_type": "markdown",
   "id": "bd9591dd",
   "metadata": {},
   "source": [
    "The deep neural network model is used to predict loan. as you can see, 5 differents layers were used in this model. the first one represents the input layer, and the last one, the output layer. the second, third, and fourth represent the hidden layers. the evaluation of this model comes down to 65% accuracy in testing which is not too bad. in contrary to the training accuracy which is 69%. We can tell that the model is a perfect fit as both trained and test models generate accuracies level close to each other."
   ]
  },
  {
   "cell_type": "code",
   "execution_count": null,
   "id": "f75daabf",
   "metadata": {},
   "outputs": [],
   "source": []
  }
 ],
 "metadata": {
  "kernelspec": {
   "display_name": "Python 3 (ipykernel)",
   "language": "python",
   "name": "python3"
  },
  "language_info": {
   "codemirror_mode": {
    "name": "ipython",
    "version": 3
   },
   "file_extension": ".py",
   "mimetype": "text/x-python",
   "name": "python",
   "nbconvert_exporter": "python",
   "pygments_lexer": "ipython3",
   "version": "3.9.12"
  }
 },
 "nbformat": 4,
 "nbformat_minor": 5
}
