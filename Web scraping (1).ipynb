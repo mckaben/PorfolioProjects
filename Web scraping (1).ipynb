{
 "cells": [
  {
   "cell_type": "markdown",
   "id": "c023b2f8",
   "metadata": {},
   "source": [
    "# Task"
   ]
  },
  {
   "cell_type": "markdown",
   "id": "76e02366",
   "metadata": {},
   "source": [
    "Scrape data from the web\n",
    "\n",
    "The first thing to do will be to scrape review data from the web. For this, you should use a website called Skytrax.\n",
    "\n",
    "The team leader wants you to focus on reviews specifically about the airline itself. You should collect as much data as you can in order to improve the output of your analysis. To get started with the data collection, you can use the “Jupyter Notebook” in the Resources section below to run some Python code that will help to collect some data. \n",
    "\n",
    "Analyse data\n",
    "\n",
    "Once you have your dataset, you need to prepare it. The data will be very messy and contain purely text. You will need to perform data cleaning in order to prepare the data for analysis. When the data is clean, you should perform your own analysis to uncover some insights. As a starting point, you could look at topic modelling, sentiment analysis or wordclouds to provide some insight into the content of the reviews. It is recommended to complete this task using Python, however, you can use any tool that you wish. You can use some of the documentation websites provided in the Resources section below to analyse the data.\n",
    "\n",
    "Please ensure that you have created a folder called \"data\" and mapped your file path.\n",
    "\n",
    "Present insights\n",
    "\n",
    "Your manager would like you to summarise your findings within a single PowerPoint slide, so that they can present the results at the next board meeting. You should create visualisations and metrics to include within this slide, as well as clear and concise explanations in order to quickly provide the key points from your analysis. Use the “PowerPoint Template” provided to complete the slide"
   ]
  },
  {
   "cell_type": "code",
   "execution_count": 1,
   "id": "56de73ee",
   "metadata": {},
   "outputs": [],
   "source": [
    "import requests\n",
    "import bs4\n",
    "from bs4 import BeautifulSoup\n",
    "import warnings\n",
    "warnings.filterwarnings('ignore') # Hides warning\n",
    "warnings.filterwarnings(\"ignore\", category=DeprecationWarning)\n",
    "warnings.filterwarnings(\"ignore\",category=UserWarning)\n",
    "import matplotlib.pyplot as plt"
   ]
  },
  {
   "cell_type": "code",
   "execution_count": 2,
   "id": "3c171925",
   "metadata": {},
   "outputs": [],
   "source": [
    "url ='https://www.airlinequality.com/airline-reviews/british-airways'"
   ]
  },
  {
   "cell_type": "markdown",
   "id": "8e481d46",
   "metadata": {},
   "source": [
    "### How to get the headers"
   ]
  },
  {
   "cell_type": "markdown",
   "id": "a143f41e",
   "metadata": {},
   "source": [
    "Right click and then hit inspect on the webpage you are trying to get data from.\n",
    "\n",
    "next, click on console, \n",
    "\n",
    "next in console, type navigator.userAgent\n",
    "\n",
    "and then copy the link that shows up."
   ]
  },
  {
   "cell_type": "code",
   "execution_count": 3,
   "id": "8c1b53d7",
   "metadata": {},
   "outputs": [],
   "source": [
    "headers = {\n",
    "    'Mozilla/5.0 (Windows NT 10.0; Win64; x64) AppleWebKit/537.36 (KHTML, like Gecko) Chrome/116.0.0.0 Safari/537.36 Edg/116.0.1938.76'\n",
    "}"
   ]
  },
  {
   "cell_type": "code",
   "execution_count": 4,
   "id": "865ead9b",
   "metadata": {},
   "outputs": [],
   "source": [
    "r = requests.get(url, {'headers': headers})"
   ]
  },
  {
   "cell_type": "code",
   "execution_count": 5,
   "id": "30d4fe54",
   "metadata": {},
   "outputs": [],
   "source": [
    "soup = bs4.BeautifulSoup(r.text, 'html.parser')"
   ]
  },
  {
   "cell_type": "code",
   "execution_count": 6,
   "id": "49ad1eb2",
   "metadata": {},
   "outputs": [
    {
     "data": {
      "text/plain": [
       "[<article class=\"comp comp_media-review-rated list-item media position-content review-872803\" itemprop=\"review\" itemscope=\"\" itemtype=\"http://schema.org/Review\">\n",
       " <meta content=\"2023-09-16\" itemprop=\"datePublished\"/>\n",
       " <div class=\"rating-10\" itemprop=\"reviewRating\" itemscope=\"\" itemtype=\"http://schema.org/Rating\">\n",
       " <span itemprop=\"ratingValue\">1</span>/<span itemprop=\"bestRating\">10</span>\n",
       " </div>\n",
       " <div class=\"body\" id=\"anchor872803\">\n",
       " <h2 class=\"text_header\">\"the worst airline in the UK\"</h2>\n",
       " <h3 class=\"text_sub_header userStatusWrapper\">\n",
       " <span itemprop=\"author\" itemscope=\"\" itemtype=\"http://schema.org/Person\">\n",
       " <span itemprop=\"name\">David Amory</span></span> (United Kingdom) <time datetime=\"2023-09-16\" itemprop=\"datePublished\">16th September 2023</time></h3>\n",
       " <div class=\"tc_mobile\">\n",
       " <div class=\"text_content\" itemprop=\"reviewBody\"><strong><a href=\"https://www.airlinequality.com/verified-reviews/\"><em>Not Verified</em></a></strong> |  British Airways has confirmed itself as the worst airline in the UK. Last minute cancellation, no explanation, refusal to book with another airline “because we don’t have an arrangement with them”. What’s happened to what used to be our national airline?</div>\n",
       " <div class=\"review-stats\">\n",
       " <table class=\"review-ratings\">\n",
       " <tr><td class=\"review-rating-header type_of_traveller\">Type Of Traveller</td><td class=\"review-value\">Couple Leisure</td></tr>\n",
       " <tr><td class=\"review-rating-header cabin_flown\">Seat Type</td><td class=\"review-value\">Economy Class</td></tr>\n",
       " <tr><td class=\"review-rating-header route\">Route</td><td class=\"review-value\">London to Dalaman</td></tr>\n",
       " <tr><td class=\"review-rating-header date_flown\">Date Flown</td><td class=\"review-value\">September 2023</td></tr>\n",
       " <tr>\n",
       " <td class=\"review-rating-header ground_service\">Ground Service</td>\n",
       " <td class=\"review-rating-stars stars\"><span class=\"star fill\">1</span><span class=\"star fill\">2</span><span class=\"star fill\">3</span><span class=\"star\">4</span><span class=\"star\">5</span></td>\n",
       " </tr>\n",
       " <tr>\n",
       " <td class=\"review-rating-header value_for_money\">Value For Money</td>\n",
       " <td class=\"review-rating-stars stars\"><span class=\"star fill\">1</span><span class=\"star\">2</span><span class=\"star\">3</span><span class=\"star\">4</span><span class=\"star\">5</span></td>\n",
       " </tr>\n",
       " <tr><td class=\"review-rating-header recommended\">Recommended</td><td class=\"review-value rating-no\">no</td></tr> </table>\n",
       " </div>\n",
       " </div>\n",
       " </div>\n",
       " <a class=\"toggle-click tc_mobile_only\" href=\"#anchor872803\"></a>\n",
       " </article>,\n",
       " <article class=\"comp comp_media-review-rated list-item media position-content review-872692\" itemprop=\"review\" itemscope=\"\" itemtype=\"http://schema.org/Review\">\n",
       " <meta content=\"2023-09-15\" itemprop=\"datePublished\"/>\n",
       " <div class=\"rating-10\" itemprop=\"reviewRating\" itemscope=\"\" itemtype=\"http://schema.org/Rating\">\n",
       " <span itemprop=\"ratingValue\">2</span>/<span itemprop=\"bestRating\">10</span>\n",
       " </div>\n",
       " <div class=\"body\" id=\"anchor872692\">\n",
       " <h2 class=\"text_header\">\"Worst BA experience\"</h2>\n",
       " <h3 class=\"text_sub_header userStatusWrapper\">\n",
       " <span itemprop=\"author\" itemscope=\"\" itemtype=\"http://schema.org/Person\">\n",
       " <span itemprop=\"name\">S Sharpe</span></span> (South Africa) <time datetime=\"2023-09-15\" itemprop=\"datePublished\">15th September 2023</time></h3>\n",
       " <div class=\"tc_mobile\">\n",
       " <div class=\"text_content\" itemprop=\"reviewBody\">✅ <strong><a href=\"https://www.airlinequality.com/verified-reviews/\"><em>Trip Verified</em></a></strong> | Worst BA experience. I was supposed to fly out to Italy on 7 September 2023. I arrived at OR Tambo International airport ready to check my bags in (I already checked-in online the previous evening so I had my boarding pass ready). At the counter I was told that I had been off-loaded from the flight as my connecting flight has been cancelled. No information was sent regarding this beforehand. The team at the check-in counter tried to get me on another flight that evening, but there were no flights available. They did manage to get me another flight the following evening with Lufthansa to Italy via Frankfurt. However, I did miss the first part of my trip having arrived a day and a half later than I was supposed to. Upon moving the flights I did ask the BA staff whether my flights back are still valid and that everything is in order, which they assured me is correct. I have to fly back to South Africa on 18 September and upon checking my booking information I noticed on my BA account that my first flight (Milan to London) is just missing from my booking. My connecting from London to Johannesburg is still there. After spending the entire morning on the customer helpline two different operators picked up and in both instances, the moment I proceed to give my booking reference number, my call gets dropped. Currently it seems like I will be arriving at the airport again on Monday without a flight.</div>\n",
       " <div class=\"review-stats\">\n",
       " <table class=\"review-ratings\">\n",
       " <tr><td class=\"review-rating-header type_of_traveller\">Type Of Traveller</td><td class=\"review-value\">Solo Leisure</td></tr>\n",
       " <tr><td class=\"review-rating-header cabin_flown\">Seat Type</td><td class=\"review-value\">Economy Class</td></tr>\n",
       " <tr><td class=\"review-rating-header route\">Route</td><td class=\"review-value\">Johannesburg to Milan via London</td></tr>\n",
       " <tr><td class=\"review-rating-header date_flown\">Date Flown</td><td class=\"review-value\">September 2023</td></tr>\n",
       " <tr>\n",
       " <td class=\"review-rating-header value_for_money\">Value For Money</td>\n",
       " <td class=\"review-rating-stars stars\"><span class=\"star fill\">1</span><span class=\"star fill\">2</span><span class=\"star\">3</span><span class=\"star\">4</span><span class=\"star\">5</span></td>\n",
       " </tr>\n",
       " <tr><td class=\"review-rating-header recommended\">Recommended</td><td class=\"review-value rating-no\">no</td></tr> </table>\n",
       " </div>\n",
       " </div>\n",
       " </div>\n",
       " <a class=\"toggle-click tc_mobile_only\" href=\"#anchor872692\"></a>\n",
       " </article>,\n",
       " <article class=\"comp comp_media-review-rated list-item media position-content review-872505\" itemprop=\"review\" itemscope=\"\" itemtype=\"http://schema.org/Review\">\n",
       " <meta content=\"2023-09-13\" itemprop=\"datePublished\"/>\n",
       " <div class=\"rating-10\" itemprop=\"reviewRating\" itemscope=\"\" itemtype=\"http://schema.org/Rating\">\n",
       " <span itemprop=\"ratingValue\">1</span>/<span itemprop=\"bestRating\">10</span>\n",
       " </div>\n",
       " <div class=\"body\" id=\"anchor872505\">\n",
       " <h2 class=\"text_header\">\"the worst airline service\"</h2>\n",
       " <h3 class=\"text_sub_header userStatusWrapper\">\n",
       " <span itemprop=\"author\" itemscope=\"\" itemtype=\"http://schema.org/Person\">\n",
       " <span itemprop=\"name\">S Fane</span></span> (Canada) <time datetime=\"2023-09-13\" itemprop=\"datePublished\">13th September 2023</time></h3>\n",
       " <div class=\"tc_mobile\">\n",
       " <div class=\"text_content\" itemprop=\"reviewBody\">✅ <strong><a href=\"https://www.airlinequality.com/verified-reviews/\"><em>Trip Verified</em></a></strong> |  My daughter and I were denied boarding on our business class flight from Madrid to Heathrow in March 25, 2023, the first leg on our return flight to Victoria, Canada. No reason was given for the denied boarding by the check in staff at the British Airways counter in Madrid, who said they were only agents and told us to call British Airways. We were three hours early for the flight and had valid passports. After many tries we finally reached British Airways by phone, but we were told to call Expedia which had booked the flights. Expedia confirmed that we had been bumped from the flight, with no explanation as to why. Expedia then began a long process of finding alternative flights. Over the next 24 hours we had numerous calls with both Expedia and British Airways. Incredibly, the next available flights were 9 days later on April 3. This was almost unbelievable, but after many many tries it was the best we could do. Even though these were Business Class tickets. Part of the problem was that apparently rules did not allow any changes to routing for any segment of the flight. This nine day delay was a major problem for us. I had to miss work and my daughter was missing school. Further, we received no compensation from British Airways, no penalty fee, and not any reimbursement of our expenses for staying the nine extra days. After our return I began the British Airways online complaint process, and submitted all supporting documents. I received an email reply and a case reference number. And then nothing. I sent numerous follow up emails, and received no replies. It is now months later, and still I have not heard from British Airways. This is shocking, and definitely the worst airline service I have received for my thousands of flights over many decades. I am a very patient person and this is the first time I have commented on this type of forum. I think the public should be made aware of extremely poor customer service at British Airways.</div>\n",
       " <div class=\"review-stats\">\n",
       " <table class=\"review-ratings\">\n",
       " <tr><td class=\"review-rating-header type_of_traveller\">Type Of Traveller</td><td class=\"review-value\">Business</td></tr>\n",
       " <tr><td class=\"review-rating-header cabin_flown\">Seat Type</td><td class=\"review-value\">Business Class</td></tr>\n",
       " <tr><td class=\"review-rating-header route\">Route</td><td class=\"review-value\">Madrid to Vancouver via London</td></tr>\n",
       " <tr><td class=\"review-rating-header date_flown\">Date Flown</td><td class=\"review-value\">April 2023</td></tr>\n",
       " <tr>\n",
       " <td class=\"review-rating-header seat_comfort\">Seat Comfort</td>\n",
       " <td class=\"review-rating-stars stars\"><span class=\"star fill\">1</span><span class=\"star fill\">2</span><span class=\"star fill\">3</span><span class=\"star\">4</span><span class=\"star\">5</span></td>\n",
       " </tr>\n",
       " <tr>\n",
       " <td class=\"review-rating-header cabin_staff_service\">Cabin Staff Service</td>\n",
       " <td class=\"review-rating-stars stars\"><span class=\"star fill\">1</span><span class=\"star fill\">2</span><span class=\"star fill\">3</span><span class=\"star\">4</span><span class=\"star\">5</span></td>\n",
       " </tr>\n",
       " <tr>\n",
       " <td class=\"review-rating-header ground_service\">Ground Service</td>\n",
       " <td class=\"review-rating-stars stars\"><span class=\"star fill\">1</span><span class=\"star\">2</span><span class=\"star\">3</span><span class=\"star\">4</span><span class=\"star\">5</span></td>\n",
       " </tr>\n",
       " <tr>\n",
       " <td class=\"review-rating-header value_for_money\">Value For Money</td>\n",
       " <td class=\"review-rating-stars stars\"><span class=\"star fill\">1</span><span class=\"star\">2</span><span class=\"star\">3</span><span class=\"star\">4</span><span class=\"star\">5</span></td>\n",
       " </tr>\n",
       " <tr><td class=\"review-rating-header recommended\">Recommended</td><td class=\"review-value rating-no\">no</td></tr> </table>\n",
       " </div>\n",
       " </div>\n",
       " </div>\n",
       " <a class=\"toggle-click tc_mobile_only\" href=\"#anchor872505\"></a>\n",
       " </article>,\n",
       " <article class=\"comp comp_media-review-rated list-item media position-content review-872036\" itemprop=\"review\" itemscope=\"\" itemtype=\"http://schema.org/Review\">\n",
       " <meta content=\"2023-09-11\" itemprop=\"datePublished\"/>\n",
       " <div class=\"rating-10\" itemprop=\"reviewRating\" itemscope=\"\" itemtype=\"http://schema.org/Rating\">\n",
       " <span itemprop=\"ratingValue\">8</span>/<span itemprop=\"bestRating\">10</span>\n",
       " </div>\n",
       " <div class=\"body\" id=\"anchor872036\">\n",
       " <h2 class=\"text_header\">\"service on board was impeccable\"</h2>\n",
       " <h3 class=\"text_sub_header userStatusWrapper\">\n",
       " <span itemprop=\"author\" itemscope=\"\" itemtype=\"http://schema.org/Person\">\n",
       " <span itemprop=\"name\">Peter Costello</span></span> (United Kingdom) <time datetime=\"2023-09-11\" itemprop=\"datePublished\">11th September 2023</time></h3>\n",
       " <div class=\"tc_mobile\">\n",
       " <div class=\"text_content\" itemprop=\"reviewBody\">✅ <strong><a href=\"https://www.airlinequality.com/verified-reviews/\"><em>Trip Verified</em></a></strong> | Despite boarding being the usual free for all at LHR with groups 1-3 being called to board all at once. Whilst those passengers who had agreed to check in a bag in at the gate, getting to board before anyone else! However, the service on board was impeccable. Superb crew, friendly, attentive, interacting with passengers and generally appearing to be enjoying their job. Like BA in the old days and at its best. Food choice and quality seems to have improved too (no beef cheeks thankfully) and even the Club kitchen appears to have returned. Old style Club seating, but is at least better, and feels less cramped, on the 787's.</div>\n",
       " <div class=\"review-stats\">\n",
       " <table class=\"review-ratings\">\n",
       " <tr><td class=\"review-rating-header aircraft\">Aircraft</td><td class=\"review-value\">Boeing 787</td></tr>\n",
       " <tr><td class=\"review-rating-header type_of_traveller\">Type Of Traveller</td><td class=\"review-value\">Couple Leisure</td></tr>\n",
       " <tr><td class=\"review-rating-header cabin_flown\">Seat Type</td><td class=\"review-value\">Business Class</td></tr>\n",
       " <tr><td class=\"review-rating-header route\">Route</td><td class=\"review-value\">London to Santiago</td></tr>\n",
       " <tr><td class=\"review-rating-header date_flown\">Date Flown</td><td class=\"review-value\">September 2023</td></tr>\n",
       " <tr>\n",
       " <td class=\"review-rating-header seat_comfort\">Seat Comfort</td>\n",
       " <td class=\"review-rating-stars stars\"><span class=\"star fill\">1</span><span class=\"star fill\">2</span><span class=\"star fill\">3</span><span class=\"star\">4</span><span class=\"star\">5</span></td>\n",
       " </tr>\n",
       " <tr>\n",
       " <td class=\"review-rating-header cabin_staff_service\">Cabin Staff Service</td>\n",
       " <td class=\"review-rating-stars stars\"><span class=\"star fill\">1</span><span class=\"star fill\">2</span><span class=\"star fill\">3</span><span class=\"star fill\">4</span><span class=\"star fill\">5</span></td>\n",
       " </tr>\n",
       " <tr>\n",
       " <td class=\"review-rating-header food_and_beverages\">Food &amp; Beverages</td>\n",
       " <td class=\"review-rating-stars stars\"><span class=\"star fill\">1</span><span class=\"star fill\">2</span><span class=\"star fill\">3</span><span class=\"star fill\">4</span><span class=\"star\">5</span></td>\n",
       " </tr>\n",
       " <tr>\n",
       " <td class=\"review-rating-header ground_service\">Ground Service</td>\n",
       " <td class=\"review-rating-stars stars\"><span class=\"star fill\">1</span><span class=\"star fill\">2</span><span class=\"star\">3</span><span class=\"star\">4</span><span class=\"star\">5</span></td>\n",
       " </tr>\n",
       " <tr>\n",
       " <td class=\"review-rating-header value_for_money\">Value For Money</td>\n",
       " <td class=\"review-rating-stars stars\"><span class=\"star fill\">1</span><span class=\"star fill\">2</span><span class=\"star fill\">3</span><span class=\"star fill\">4</span><span class=\"star fill\">5</span></td>\n",
       " </tr>\n",
       " <tr><td class=\"review-rating-header recommended\">Recommended</td><td class=\"review-value rating-yes\">yes</td></tr> </table>\n",
       " </div>\n",
       " </div>\n",
       " </div>\n",
       " <a class=\"toggle-click tc_mobile_only\" href=\"#anchor872036\"></a>\n",
       " </article>,\n",
       " <article class=\"comp comp_media-review-rated list-item media position-content review-871948\" itemprop=\"review\" itemscope=\"\" itemtype=\"http://schema.org/Review\">\n",
       " <meta content=\"2023-09-10\" itemprop=\"datePublished\"/>\n",
       " <div class=\"rating-10\" itemprop=\"reviewRating\" itemscope=\"\" itemtype=\"http://schema.org/Rating\">\n",
       " <span itemprop=\"ratingValue\">1</span>/<span itemprop=\"bestRating\">10</span>\n",
       " </div>\n",
       " <div class=\"body\" id=\"anchor871948\">\n",
       " <h2 class=\"text_header\">\"a national disgrace\"</h2>\n",
       " <h3 class=\"text_sub_header userStatusWrapper\">\n",
       " <span itemprop=\"author\" itemscope=\"\" itemtype=\"http://schema.org/Person\">\n",
       " <span itemprop=\"name\">Brent Davies</span></span> (United Kingdom) <time datetime=\"2023-09-10\" itemprop=\"datePublished\">10th September 2023</time></h3>\n",
       " <div class=\"tc_mobile\">\n",
       " <div class=\"text_content\" itemprop=\"reviewBody\"><strong><a href=\"https://www.airlinequality.com/verified-reviews/\"><em>Not Verified</em></a></strong> |  Flight cancelled, no crew! 9th September 2023, not peak holiday period so why such bad management by BA? Sent to the gate left standing of over and hour and then flight cancelled. As were other on that day. Why does BA continue to provide such poor service - a national disgrace.</div>\n",
       " <div class=\"review-stats\">\n",
       " <table class=\"review-ratings\">\n",
       " <tr><td class=\"review-rating-header aircraft\">Aircraft</td><td class=\"review-value\">A320</td></tr>\n",
       " <tr><td class=\"review-rating-header type_of_traveller\">Type Of Traveller</td><td class=\"review-value\">Couple Leisure</td></tr>\n",
       " <tr><td class=\"review-rating-header cabin_flown\">Seat Type</td><td class=\"review-value\">Business Class</td></tr>\n",
       " <tr><td class=\"review-rating-header route\">Route</td><td class=\"review-value\">London Heathrow to Faro</td></tr>\n",
       " <tr><td class=\"review-rating-header date_flown\">Date Flown</td><td class=\"review-value\">September 2023</td></tr>\n",
       " <tr>\n",
       " <td class=\"review-rating-header ground_service\">Ground Service</td>\n",
       " <td class=\"review-rating-stars stars\"><span class=\"star fill\">1</span><span class=\"star\">2</span><span class=\"star\">3</span><span class=\"star\">4</span><span class=\"star\">5</span></td>\n",
       " </tr>\n",
       " <tr>\n",
       " <td class=\"review-rating-header value_for_money\">Value For Money</td>\n",
       " <td class=\"review-rating-stars stars\"><span class=\"star fill\">1</span><span class=\"star\">2</span><span class=\"star\">3</span><span class=\"star\">4</span><span class=\"star\">5</span></td>\n",
       " </tr>\n",
       " <tr><td class=\"review-rating-header recommended\">Recommended</td><td class=\"review-value rating-no\">no</td></tr> </table>\n",
       " </div>\n",
       " </div>\n",
       " </div>\n",
       " <a class=\"toggle-click tc_mobile_only\" href=\"#anchor871948\"></a>\n",
       " </article>,\n",
       " <article class=\"comp comp_media-review-rated list-item media position-content review-871772\" itemprop=\"review\" itemscope=\"\" itemtype=\"http://schema.org/Review\">\n",
       " <meta content=\"2023-09-09\" itemprop=\"datePublished\"/>\n",
       " <div class=\"rating-10\" itemprop=\"reviewRating\" itemscope=\"\" itemtype=\"http://schema.org/Rating\">\n",
       " <span itemprop=\"ratingValue\">1</span>/<span itemprop=\"bestRating\">10</span>\n",
       " </div>\n",
       " <div class=\"body\" id=\"anchor871772\">\n",
       " <h2 class=\"text_header\">\"The worst service ever\"</h2>\n",
       " <h3 class=\"text_sub_header userStatusWrapper\">\n",
       " <span itemprop=\"author\" itemscope=\"\" itemtype=\"http://schema.org/Person\">\n",
       " <span itemprop=\"name\">Angie Rodrigues</span></span> (Kuwait) <time datetime=\"2023-09-09\" itemprop=\"datePublished\">9th September 2023</time></h3>\n",
       " <div class=\"tc_mobile\">\n",
       " <div class=\"text_content\" itemprop=\"reviewBody\"><strong><a href=\"https://www.airlinequality.com/verified-reviews/\"><em>Not Verified</em></a></strong> |  The worst service ever, my baggage did not arrive on time. Both my flights were delayed. I will never fly them again.  Even the food was bad and your service.</div>\n",
       " <div class=\"review-stats\">\n",
       " <table class=\"review-ratings\">\n",
       " <tr><td class=\"review-rating-header type_of_traveller\">Type Of Traveller</td><td class=\"review-value\">Solo Leisure</td></tr>\n",
       " <tr><td class=\"review-rating-header cabin_flown\">Seat Type</td><td class=\"review-value\">Economy Class</td></tr>\n",
       " <tr><td class=\"review-rating-header route\">Route</td><td class=\"review-value\">Kuwait to Lisbon via London</td></tr>\n",
       " <tr><td class=\"review-rating-header date_flown\">Date Flown</td><td class=\"review-value\">September 2023</td></tr>\n",
       " <tr>\n",
       " <td class=\"review-rating-header seat_comfort\">Seat Comfort</td>\n",
       " <td class=\"review-rating-stars stars\"><span class=\"star fill\">1</span><span class=\"star fill\">2</span><span class=\"star fill\">3</span><span class=\"star\">4</span><span class=\"star\">5</span></td>\n",
       " </tr>\n",
       " <tr>\n",
       " <td class=\"review-rating-header cabin_staff_service\">Cabin Staff Service</td>\n",
       " <td class=\"review-rating-stars stars\"><span class=\"star fill\">1</span><span class=\"star\">2</span><span class=\"star\">3</span><span class=\"star\">4</span><span class=\"star\">5</span></td>\n",
       " </tr>\n",
       " <tr>\n",
       " <td class=\"review-rating-header food_and_beverages\">Food &amp; Beverages</td>\n",
       " <td class=\"review-rating-stars stars\"><span class=\"star fill\">1</span><span class=\"star\">2</span><span class=\"star\">3</span><span class=\"star\">4</span><span class=\"star\">5</span></td>\n",
       " </tr>\n",
       " <tr>\n",
       " <td class=\"review-rating-header inflight_entertainment\">Inflight Entertainment</td>\n",
       " <td class=\"review-rating-stars stars\"><span class=\"star fill\">1</span><span class=\"star\">2</span><span class=\"star\">3</span><span class=\"star\">4</span><span class=\"star\">5</span></td>\n",
       " </tr>\n",
       " <tr>\n",
       " <td class=\"review-rating-header ground_service\">Ground Service</td>\n",
       " <td class=\"review-rating-stars stars\"><span class=\"star fill\">1</span><span class=\"star fill\">2</span><span class=\"star fill\">3</span><span class=\"star\">4</span><span class=\"star\">5</span></td>\n",
       " </tr>\n",
       " <tr>\n",
       " <td class=\"review-rating-header wifi_and_connectivity\">Wifi &amp; Connectivity</td>\n",
       " <td class=\"review-rating-stars stars\"><span class=\"star fill\">1</span><span class=\"star\">2</span><span class=\"star\">3</span><span class=\"star\">4</span><span class=\"star\">5</span></td>\n",
       " </tr>\n",
       " <tr>\n",
       " <td class=\"review-rating-header value_for_money\">Value For Money</td>\n",
       " <td class=\"review-rating-stars stars\"><span class=\"star fill\">1</span><span class=\"star fill\">2</span><span class=\"star fill\">3</span><span class=\"star\">4</span><span class=\"star\">5</span></td>\n",
       " </tr>\n",
       " <tr><td class=\"review-rating-header recommended\">Recommended</td><td class=\"review-value rating-no\">no</td></tr> </table>\n",
       " </div>\n",
       " </div>\n",
       " </div>\n",
       " <a class=\"toggle-click tc_mobile_only\" href=\"#anchor871772\"></a>\n",
       " </article>,\n",
       " <article class=\"comp comp_media-review-rated list-item media position-content review-871425\" itemprop=\"review\" itemscope=\"\" itemtype=\"http://schema.org/Review\">\n",
       " <meta content=\"2023-09-06\" itemprop=\"datePublished\"/>\n",
       " <div class=\"rating-10\" itemprop=\"reviewRating\" itemscope=\"\" itemtype=\"http://schema.org/Rating\">\n",
       " <span itemprop=\"ratingValue\">1</span>/<span itemprop=\"bestRating\">10</span>\n",
       " </div>\n",
       " <div class=\"body\" id=\"anchor871425\">\n",
       " <h2 class=\"text_header\">\"Cannot recommend\"</h2>\n",
       " <h3 class=\"text_sub_header userStatusWrapper\">\n",
       " <span itemprop=\"author\" itemscope=\"\" itemtype=\"http://schema.org/Person\">\n",
       " <span itemprop=\"name\">E Durken</span></span> (Germany) <time datetime=\"2023-09-06\" itemprop=\"datePublished\">6th September 2023</time></h3>\n",
       " <div class=\"tc_mobile\">\n",
       " <div class=\"text_content\" itemprop=\"reviewBody\">✅ <strong><a href=\"https://www.airlinequality.com/verified-reviews/\"><em>Trip Verified</em></a></strong> |  4/4 flights we booked this holiday were delayed about 1-2 hours. No wifi available on 2 of 4 flights Food and drinks very basic and expensive. Cannot recommend</div>\n",
       " <div class=\"review-stats\">\n",
       " <table class=\"review-ratings\">\n",
       " <tr><td class=\"review-rating-header aircraft\">Aircraft</td><td class=\"review-value\">A320</td></tr>\n",
       " <tr><td class=\"review-rating-header type_of_traveller\">Type Of Traveller</td><td class=\"review-value\">Couple Leisure</td></tr>\n",
       " <tr><td class=\"review-rating-header cabin_flown\">Seat Type</td><td class=\"review-value\">Economy Class</td></tr>\n",
       " <tr><td class=\"review-rating-header route\">Route</td><td class=\"review-value\">London to Munich</td></tr>\n",
       " <tr><td class=\"review-rating-header date_flown\">Date Flown</td><td class=\"review-value\">September 2023</td></tr>\n",
       " <tr>\n",
       " <td class=\"review-rating-header seat_comfort\">Seat Comfort</td>\n",
       " <td class=\"review-rating-stars stars\"><span class=\"star fill\">1</span><span class=\"star\">2</span><span class=\"star\">3</span><span class=\"star\">4</span><span class=\"star\">5</span></td>\n",
       " </tr>\n",
       " <tr>\n",
       " <td class=\"review-rating-header cabin_staff_service\">Cabin Staff Service</td>\n",
       " <td class=\"review-rating-stars stars\"><span class=\"star fill\">1</span><span class=\"star fill\">2</span><span class=\"star fill\">3</span><span class=\"star\">4</span><span class=\"star\">5</span></td>\n",
       " </tr>\n",
       " <tr>\n",
       " <td class=\"review-rating-header food_and_beverages\">Food &amp; Beverages</td>\n",
       " <td class=\"review-rating-stars stars\"><span class=\"star fill\">1</span><span class=\"star\">2</span><span class=\"star\">3</span><span class=\"star\">4</span><span class=\"star\">5</span></td>\n",
       " </tr>\n",
       " <tr>\n",
       " <td class=\"review-rating-header inflight_entertainment\">Inflight Entertainment</td>\n",
       " <td class=\"review-rating-stars stars\"><span class=\"star fill\">1</span><span class=\"star\">2</span><span class=\"star\">3</span><span class=\"star\">4</span><span class=\"star\">5</span></td>\n",
       " </tr>\n",
       " <tr>\n",
       " <td class=\"review-rating-header ground_service\">Ground Service</td>\n",
       " <td class=\"review-rating-stars stars\"><span class=\"star fill\">1</span><span class=\"star\">2</span><span class=\"star\">3</span><span class=\"star\">4</span><span class=\"star\">5</span></td>\n",
       " </tr>\n",
       " <tr>\n",
       " <td class=\"review-rating-header wifi_and_connectivity\">Wifi &amp; Connectivity</td>\n",
       " <td class=\"review-rating-stars stars\"><span class=\"star fill\">1</span><span class=\"star\">2</span><span class=\"star\">3</span><span class=\"star\">4</span><span class=\"star\">5</span></td>\n",
       " </tr>\n",
       " <tr>\n",
       " <td class=\"review-rating-header value_for_money\">Value For Money</td>\n",
       " <td class=\"review-rating-stars stars\"><span class=\"star fill\">1</span><span class=\"star\">2</span><span class=\"star\">3</span><span class=\"star\">4</span><span class=\"star\">5</span></td>\n",
       " </tr>\n",
       " <tr><td class=\"review-rating-header recommended\">Recommended</td><td class=\"review-value rating-no\">no</td></tr> </table>\n",
       " </div>\n",
       " </div>\n",
       " </div>\n",
       " <a class=\"toggle-click tc_mobile_only\" href=\"#anchor871425\"></a>\n",
       " </article>,\n",
       " <article class=\"comp comp_media-review-rated list-item media position-content review-871157\" itemprop=\"review\" itemscope=\"\" itemtype=\"http://schema.org/Review\">\n",
       " <meta content=\"2023-09-04\" itemprop=\"datePublished\"/>\n",
       " <div class=\"rating-10\" itemprop=\"reviewRating\" itemscope=\"\" itemtype=\"http://schema.org/Rating\">\n",
       " <span itemprop=\"ratingValue\">1</span>/<span itemprop=\"bestRating\">10</span>\n",
       " </div>\n",
       " <div class=\"body\" id=\"anchor871157\">\n",
       " <h2 class=\"text_header\">\"BA is worse than a low cost carrier\"</h2>\n",
       " <h3 class=\"text_sub_header userStatusWrapper\">\n",
       " <span itemprop=\"author\" itemscope=\"\" itemtype=\"http://schema.org/Person\">\n",
       " <span itemprop=\"name\">N Gassel</span></span> (United Kingdom) <time datetime=\"2023-09-04\" itemprop=\"datePublished\">4th September 2023</time></h3>\n",
       " <div class=\"tc_mobile\">\n",
       " <div class=\"text_content\" itemprop=\"reviewBody\">✅ <strong><a href=\"https://www.airlinequality.com/verified-reviews/\"><em>Trip Verified</em></a></strong> |  British Airways has a total lack of respect for its customers. I was booked to fly from Frankfurt Main to London City Airport, and just a couple of hours before the scheduled departure the flight was suddenly cancelled by BA without explanation, when I was already at the airport. The worst thing was the utter callousness that staff showed towards customers. The ground staff’s attitude was that they are merely third party agents, not BA employees, and therefore they quickly washed their hands of us all, telling us we had to contact BA directly via phone if we wanted help. They couldn’t even provide us a phone number, telling us to look it up on ba.com ! So BA abandoned its passengers. They did tell us that the BA departure to Heathrow had also been cancelled, meaning there would be no further BA flight from Frankfurt to London that day (although other airlines were still operating the route- but BA refused to rebook us on them). The reason given for both cancellations was “technical reasons”. No assistance or information was provided on our rights due to cancellation, nor any information on help regarding food/ accommodation help etc. Their attitude was literally that the cancellation had nothing to do with them and it was our problem, not theirs. I received an email an hour later notifying me that I had been automatically rebooked on an alternative flight 24 hours later, which wasn’t acceptable as I had to get back to London that night. I rang BA’s call centre and again, they showed a high degree of callousness. 95% of the half-hour call was spent with me waiting on hold, with the phone just cutting off after half an hour, and no meaningful information given to me by that point. There was no attempt by the call operator to call me back when the line cut (and I had a solid phone signal and wifi as I was still standing in Terminal 2 of Frankfurt Main airport), even though my phone number is listed in my booking contact details. They just don’t care. In the end I had to arrange my own return to London by taking a coach to Hanh airport which was 112km away , waiting there for 5 hours and then booking an expensive last minute ticket with Ryanair to Stansted. At least that flight operated on time and got me back to London! BA is worse than a low cost carrier now.</div>\n",
       " <div class=\"review-stats\">\n",
       " <table class=\"review-ratings\">\n",
       " <tr><td class=\"review-rating-header type_of_traveller\">Type Of Traveller</td><td class=\"review-value\">Solo Leisure</td></tr>\n",
       " <tr><td class=\"review-rating-header cabin_flown\">Seat Type</td><td class=\"review-value\">Economy Class</td></tr>\n",
       " <tr><td class=\"review-rating-header route\">Route</td><td class=\"review-value\">Frankfurt to London City</td></tr>\n",
       " <tr><td class=\"review-rating-header date_flown\">Date Flown</td><td class=\"review-value\">September 2023</td></tr>\n",
       " <tr>\n",
       " <td class=\"review-rating-header seat_comfort\">Seat Comfort</td>\n",
       " <td class=\"review-rating-stars stars\"><span class=\"star fill\">1</span><span class=\"star\">2</span><span class=\"star\">3</span><span class=\"star\">4</span><span class=\"star\">5</span></td>\n",
       " </tr>\n",
       " <tr>\n",
       " <td class=\"review-rating-header ground_service\">Ground Service</td>\n",
       " <td class=\"review-rating-stars stars\"><span class=\"star fill\">1</span><span class=\"star\">2</span><span class=\"star\">3</span><span class=\"star\">4</span><span class=\"star\">5</span></td>\n",
       " </tr>\n",
       " <tr>\n",
       " <td class=\"review-rating-header value_for_money\">Value For Money</td>\n",
       " <td class=\"review-rating-stars stars\"><span class=\"star fill\">1</span><span class=\"star\">2</span><span class=\"star\">3</span><span class=\"star\">4</span><span class=\"star\">5</span></td>\n",
       " </tr>\n",
       " <tr><td class=\"review-rating-header recommended\">Recommended</td><td class=\"review-value rating-no\">no</td></tr> </table>\n",
       " </div>\n",
       " </div>\n",
       " </div>\n",
       " <a class=\"toggle-click tc_mobile_only\" href=\"#anchor871157\"></a>\n",
       " </article>,\n",
       " <article class=\"comp comp_media-review-rated list-item media position-content review-871120\" itemprop=\"review\" itemscope=\"\" itemtype=\"http://schema.org/Review\">\n",
       " <meta content=\"2023-09-04\" itemprop=\"datePublished\"/>\n",
       " <div class=\"rating-10\" itemprop=\"reviewRating\" itemscope=\"\" itemtype=\"http://schema.org/Rating\">\n",
       " <span itemprop=\"ratingValue\">8</span>/<span itemprop=\"bestRating\">10</span>\n",
       " </div>\n",
       " <div class=\"body\" id=\"anchor871120\">\n",
       " <h2 class=\"text_header\">\"less than a premium experience\"</h2>\n",
       " <h3 class=\"text_sub_header userStatusWrapper\">\n",
       " <span itemprop=\"author\" itemscope=\"\" itemtype=\"http://schema.org/Person\">\n",
       " <a class=\"userStatus elite\" href=\"/reviewer/reviewer-signup\"><span class=\"userStatusReviewCount\">73 reviews</span><svg class=\"userStatusIcon\" version=\"1.1\" viewbox=\"0 0 307.3 193.5\" xmlns=\"http://www.w3.org/2000/svg\" xmlns:xlink=\"http://www.w3.org/1999/xlink\">\n",
       " <path d=\"M157.9,95c-13.1,5.5-26.3,11.1-38.5,16c-21,8.4-42.4,16-65.1,18.7c-16,1.5-26.5-1-31.6-9.7C15.6,104.3,8.2,88.7,1.1,72.9\n",
       "                 C-2.5,64.8,3.3,61.5,11,62c3.2,0.2,6.6,2.1,9.5,4c8.3,5.6,16.4,11.4,24.4,17.5c5,3.8,9.8,4.1,15.4,1.6c30.8-13.5,61.6-27,92.4-40.3\n",
       "                 c30.4-13.2,60.7-26.4,91.3-39.1c16.9-7,34.3-8.1,51.3-0.1c3.8,1.8,7.2,4.7,10.5,7.4c4.9,4.1-2.8,12.5-21.8,22.7\n",
       "                 c-20.9,10.7-46,22.5-67,33c0,0-31.8,67.3-46.9,99.2c-5.4,11.6-12.7,21.1-25.6,25c-4.4,1.3-5.9,0.5-5.1-4.2\n",
       "                 c1.3-8.1,2.8-16.1,4.4-24.1C147.8,143.9,157.1,98.5,157.9,95z\"></path>\n",
       " <path d=\"M151.7,31.5c-14.3,6.2-30.4,13.2-43.7,18.8c0,0-29.9-17.6-43.4-25.8c-1.6-0.9-2.5-2.8-3.8-4.3c1.4-1,2.6-2.2,4.1-3.1\n",
       "                 c9.9-5.7,20.4-5.7,31-2.8C113.6,19.3,138,27,151.7,31.5z\"></path>\n",
       " </svg></a>\n",
       " <span itemprop=\"name\">Rajan Parrikar</span></span> (Iceland) <time datetime=\"2023-09-04\" itemprop=\"datePublished\">4th September 2023</time></h3>\n",
       " <div class=\"tc_mobile\">\n",
       " <div class=\"text_content\" itemprop=\"reviewBody\">✅ <strong><a href=\"https://www.airlinequality.com/verified-reviews/\"><em>Trip Verified</em></a></strong> | London Heathrow to Keflavik, Iceland in Business Class on an A321. British Airways provides an unusual Business Class experience for intra-Europe flights. The seating is similar to most airlines - middle seat vacant and little extra space - but on British Airways the Business Class cabin extends to almost half the aircraft. This makes it less than a premium experience at every step, from boarding to onboard. The WiFi worked for only half the flight and there are no refunds. But when it worked it was surprisingly fast. Service on this flight was very good and we got to Keflavik on time.</div>\n",
       " <div class=\"review-stats\">\n",
       " <table class=\"review-ratings\">\n",
       " <tr><td class=\"review-rating-header aircraft\">Aircraft</td><td class=\"review-value\">A321</td></tr>\n",
       " <tr><td class=\"review-rating-header type_of_traveller\">Type Of Traveller</td><td class=\"review-value\">Couple Leisure</td></tr>\n",
       " <tr><td class=\"review-rating-header cabin_flown\">Seat Type</td><td class=\"review-value\">Business Class</td></tr>\n",
       " <tr><td class=\"review-rating-header route\">Route</td><td class=\"review-value\">London to Keflavik</td></tr>\n",
       " <tr><td class=\"review-rating-header date_flown\">Date Flown</td><td class=\"review-value\">August 2023</td></tr>\n",
       " <tr>\n",
       " <td class=\"review-rating-header seat_comfort\">Seat Comfort</td>\n",
       " <td class=\"review-rating-stars stars\"><span class=\"star fill\">1</span><span class=\"star fill\">2</span><span class=\"star fill\">3</span><span class=\"star\">4</span><span class=\"star\">5</span></td>\n",
       " </tr>\n",
       " <tr>\n",
       " <td class=\"review-rating-header cabin_staff_service\">Cabin Staff Service</td>\n",
       " <td class=\"review-rating-stars stars\"><span class=\"star fill\">1</span><span class=\"star fill\">2</span><span class=\"star fill\">3</span><span class=\"star fill\">4</span><span class=\"star\">5</span></td>\n",
       " </tr>\n",
       " <tr>\n",
       " <td class=\"review-rating-header food_and_beverages\">Food &amp; Beverages</td>\n",
       " <td class=\"review-rating-stars stars\"><span class=\"star fill\">1</span><span class=\"star fill\">2</span><span class=\"star fill\">3</span><span class=\"star\">4</span><span class=\"star\">5</span></td>\n",
       " </tr>\n",
       " <tr>\n",
       " <td class=\"review-rating-header ground_service\">Ground Service</td>\n",
       " <td class=\"review-rating-stars stars\"><span class=\"star fill\">1</span><span class=\"star fill\">2</span><span class=\"star fill\">3</span><span class=\"star fill\">4</span><span class=\"star\">5</span></td>\n",
       " </tr>\n",
       " <tr>\n",
       " <td class=\"review-rating-header wifi_and_connectivity\">Wifi &amp; Connectivity</td>\n",
       " <td class=\"review-rating-stars stars\"><span class=\"star fill\">1</span><span class=\"star fill\">2</span><span class=\"star fill\">3</span><span class=\"star\">4</span><span class=\"star\">5</span></td>\n",
       " </tr>\n",
       " <tr>\n",
       " <td class=\"review-rating-header value_for_money\">Value For Money</td>\n",
       " <td class=\"review-rating-stars stars\"><span class=\"star fill\">1</span><span class=\"star fill\">2</span><span class=\"star fill\">3</span><span class=\"star fill\">4</span><span class=\"star\">5</span></td>\n",
       " </tr>\n",
       " <tr><td class=\"review-rating-header recommended\">Recommended</td><td class=\"review-value rating-yes\">yes</td></tr> </table>\n",
       " </div>\n",
       " </div>\n",
       " </div>\n",
       " <a class=\"toggle-click tc_mobile_only\" href=\"#anchor871120\"></a>\n",
       " </article>,\n",
       " <article class=\"comp comp_media-review-rated list-item media position-content review-871118\" itemprop=\"review\" itemscope=\"\" itemtype=\"http://schema.org/Review\">\n",
       " <meta content=\"2023-09-04\" itemprop=\"datePublished\"/>\n",
       " <div class=\"rating-10\" itemprop=\"reviewRating\" itemscope=\"\" itemtype=\"http://schema.org/Rating\">\n",
       " <span itemprop=\"ratingValue\">8</span>/<span itemprop=\"bestRating\">10</span>\n",
       " </div>\n",
       " <div class=\"body\" id=\"anchor871118\">\n",
       " <h2 class=\"text_header\">\"good, but not spectacular\"</h2>\n",
       " <h3 class=\"text_sub_header userStatusWrapper\">\n",
       " <span itemprop=\"author\" itemscope=\"\" itemtype=\"http://schema.org/Person\">\n",
       " <a class=\"userStatus elite\" href=\"/reviewer/reviewer-signup\"><span class=\"userStatusReviewCount\">73 reviews</span><svg class=\"userStatusIcon\" version=\"1.1\" viewbox=\"0 0 307.3 193.5\" xmlns=\"http://www.w3.org/2000/svg\" xmlns:xlink=\"http://www.w3.org/1999/xlink\">\n",
       " <path d=\"M157.9,95c-13.1,5.5-26.3,11.1-38.5,16c-21,8.4-42.4,16-65.1,18.7c-16,1.5-26.5-1-31.6-9.7C15.6,104.3,8.2,88.7,1.1,72.9\n",
       "                 C-2.5,64.8,3.3,61.5,11,62c3.2,0.2,6.6,2.1,9.5,4c8.3,5.6,16.4,11.4,24.4,17.5c5,3.8,9.8,4.1,15.4,1.6c30.8-13.5,61.6-27,92.4-40.3\n",
       "                 c30.4-13.2,60.7-26.4,91.3-39.1c16.9-7,34.3-8.1,51.3-0.1c3.8,1.8,7.2,4.7,10.5,7.4c4.9,4.1-2.8,12.5-21.8,22.7\n",
       "                 c-20.9,10.7-46,22.5-67,33c0,0-31.8,67.3-46.9,99.2c-5.4,11.6-12.7,21.1-25.6,25c-4.4,1.3-5.9,0.5-5.1-4.2\n",
       "                 c1.3-8.1,2.8-16.1,4.4-24.1C147.8,143.9,157.1,98.5,157.9,95z\"></path>\n",
       " <path d=\"M151.7,31.5c-14.3,6.2-30.4,13.2-43.7,18.8c0,0-29.9-17.6-43.4-25.8c-1.6-0.9-2.5-2.8-3.8-4.3c1.4-1,2.6-2.2,4.1-3.1\n",
       "                 c9.9-5.7,20.4-5.7,31-2.8C113.6,19.3,138,27,151.7,31.5z\"></path>\n",
       " </svg></a>\n",
       " <span itemprop=\"name\">Rajan Parrikar</span></span> (Iceland) <time datetime=\"2023-09-04\" itemprop=\"datePublished\">4th September 2023</time></h3>\n",
       " <div class=\"tc_mobile\">\n",
       " <div class=\"text_content\" itemprop=\"reviewBody\">✅ <strong><a href=\"https://www.airlinequality.com/verified-reviews/\"><em>Trip Verified</em></a></strong> | Mumbai to London Heathrow in Business Class on an ageing B777-200. This aircraft featured the older Club World flatbed seats. They are comfortable, there is enough storage space around the cubicle, and the monitor screen is among the larger ones I've seen on airplanes. BA's new Club Suites are said to be far superior, competing with the best B-class rivals. The entire Business Class cabin had just 2 washrooms but it wasn't an issue on this flight since the premier section wasn't at full capacity. There was Wi-Fi on board, fast enough to even send videos via messaging apps. Service onboard was competent but the staff lacked warmth. The food was alright and no more. The biggest plus of this flight is that it gets out of Bombay at 1:10 pm in the afternoon instead of the ungodly early morning hours most international flights take off from India. The airport experience is far more pleasant at this time. In summary: British Airways provides a good, but not spectacular, Business Class product.</div>\n",
       " <div class=\"review-stats\">\n",
       " <table class=\"review-ratings\">\n",
       " <tr><td class=\"review-rating-header aircraft\">Aircraft</td><td class=\"review-value\">Boeing 777-200</td></tr>\n",
       " <tr><td class=\"review-rating-header type_of_traveller\">Type Of Traveller</td><td class=\"review-value\">Couple Leisure</td></tr>\n",
       " <tr><td class=\"review-rating-header cabin_flown\">Seat Type</td><td class=\"review-value\">Business Class</td></tr>\n",
       " <tr><td class=\"review-rating-header route\">Route</td><td class=\"review-value\">Mumbai to London</td></tr>\n",
       " <tr><td class=\"review-rating-header date_flown\">Date Flown</td><td class=\"review-value\">August 2023</td></tr>\n",
       " <tr>\n",
       " <td class=\"review-rating-header seat_comfort\">Seat Comfort</td>\n",
       " <td class=\"review-rating-stars stars\"><span class=\"star fill\">1</span><span class=\"star fill\">2</span><span class=\"star fill\">3</span><span class=\"star fill\">4</span><span class=\"star\">5</span></td>\n",
       " </tr>\n",
       " <tr>\n",
       " <td class=\"review-rating-header cabin_staff_service\">Cabin Staff Service</td>\n",
       " <td class=\"review-rating-stars stars\"><span class=\"star fill\">1</span><span class=\"star fill\">2</span><span class=\"star fill\">3</span><span class=\"star\">4</span><span class=\"star\">5</span></td>\n",
       " </tr>\n",
       " <tr>\n",
       " <td class=\"review-rating-header food_and_beverages\">Food &amp; Beverages</td>\n",
       " <td class=\"review-rating-stars stars\"><span class=\"star fill\">1</span><span class=\"star fill\">2</span><span class=\"star fill\">3</span><span class=\"star\">4</span><span class=\"star\">5</span></td>\n",
       " </tr>\n",
       " <tr>\n",
       " <td class=\"review-rating-header inflight_entertainment\">Inflight Entertainment</td>\n",
       " <td class=\"review-rating-stars stars\"><span class=\"star fill\">1</span><span class=\"star fill\">2</span><span class=\"star fill\">3</span><span class=\"star\">4</span><span class=\"star\">5</span></td>\n",
       " </tr>\n",
       " <tr>\n",
       " <td class=\"review-rating-header ground_service\">Ground Service</td>\n",
       " <td class=\"review-rating-stars stars\"><span class=\"star fill\">1</span><span class=\"star fill\">2</span><span class=\"star fill\">3</span><span class=\"star fill\">4</span><span class=\"star\">5</span></td>\n",
       " </tr>\n",
       " <tr>\n",
       " <td class=\"review-rating-header wifi_and_connectivity\">Wifi &amp; Connectivity</td>\n",
       " <td class=\"review-rating-stars stars\"><span class=\"star fill\">1</span><span class=\"star fill\">2</span><span class=\"star fill\">3</span><span class=\"star\">4</span><span class=\"star\">5</span></td>\n",
       " </tr>\n",
       " <tr>\n",
       " <td class=\"review-rating-header value_for_money\">Value For Money</td>\n",
       " <td class=\"review-rating-stars stars\"><span class=\"star fill\">1</span><span class=\"star fill\">2</span><span class=\"star fill\">3</span><span class=\"star fill\">4</span><span class=\"star\">5</span></td>\n",
       " </tr>\n",
       " <tr><td class=\"review-rating-header recommended\">Recommended</td><td class=\"review-value rating-yes\">yes</td></tr> </table>\n",
       " </div>\n",
       " </div>\n",
       " </div>\n",
       " <a class=\"toggle-click tc_mobile_only\" href=\"#anchor871118\"></a>\n",
       " </article>]"
      ]
     },
     "execution_count": 6,
     "metadata": {},
     "output_type": "execute_result"
    }
   ],
   "source": [
    "review =soup.find_all('article', {'itemprop': 'review'})\n",
    "review"
   ]
  },
  {
   "cell_type": "code",
   "execution_count": 7,
   "id": "8afc182c",
   "metadata": {},
   "outputs": [
    {
     "data": {
      "text/plain": [
       "'2'"
      ]
     },
     "execution_count": 7,
     "metadata": {},
     "output_type": "execute_result"
    }
   ],
   "source": [
    "rating = review[1].find('span').text\n",
    "rating"
   ]
  },
  {
   "cell_type": "code",
   "execution_count": 8,
   "id": "f13da8da",
   "metadata": {},
   "outputs": [
    {
     "data": {
      "text/plain": [
       "'\"Worst BA experience\"'"
      ]
     },
     "execution_count": 8,
     "metadata": {},
     "output_type": "execute_result"
    }
   ],
   "source": [
    "title = review[1].find('h2').text\n",
    "title"
   ]
  },
  {
   "cell_type": "code",
   "execution_count": 9,
   "id": "25babe25",
   "metadata": {},
   "outputs": [
    {
     "data": {
      "text/plain": [
       "'Not Verified |  British Airways has confirmed itself as the worst airline in the UK. Last minute cancellation, no explanation, refusal to book with another airline “because we don’t have an arrangement with them”. What’s happened to what used to be our national airline?'"
      ]
     },
     "execution_count": 9,
     "metadata": {},
     "output_type": "execute_result"
    }
   ],
   "source": [
    "text = review[0].find('div',{'class': 'text_content'}).text\n",
    "text"
   ]
  },
  {
   "cell_type": "code",
   "execution_count": 10,
   "id": "21fee0e0",
   "metadata": {},
   "outputs": [],
   "source": [
    "import pandas as pd"
   ]
  },
  {
   "cell_type": "code",
   "execution_count": 11,
   "id": "07a34d34",
   "metadata": {},
   "outputs": [],
   "source": [
    "base_url = 'https://www.airlinequality.com/airline-reviews/british-airways/page/{}/'"
   ]
  },
  {
   "cell_type": "code",
   "execution_count": 12,
   "id": "96b66db2",
   "metadata": {},
   "outputs": [],
   "source": [
    "res = requests.get(base_url.format('1'))"
   ]
  },
  {
   "cell_type": "code",
   "execution_count": 13,
   "id": "3cb6478c",
   "metadata": {},
   "outputs": [],
   "source": [
    "soup2 = bs4.BeautifulSoup(res.text, 'html.parser')"
   ]
  },
  {
   "cell_type": "code",
   "execution_count": 14,
   "id": "cd4b0962",
   "metadata": {},
   "outputs": [],
   "source": [
    "def get_soup(url):\n",
    "    r = requests.get(url, {'headers': headers})\n",
    "    soup = bs4.BeautifulSoup(r.text, 'html.parser')\n",
    "    return soup"
   ]
  },
  {
   "cell_type": "code",
   "execution_count": 15,
   "id": "51678f81",
   "metadata": {},
   "outputs": [],
   "source": [
    "data =[]"
   ]
  },
  {
   "cell_type": "code",
   "execution_count": 16,
   "id": "5392bd66",
   "metadata": {},
   "outputs": [],
   "source": [
    "def get_reviews(soup):\n",
    "    review =soup.find_all('article', {'itemprop': 'review'})\n",
    "    try:\n",
    "        for item in review:\n",
    "            reviews = {\n",
    "                'rating': item.find('span').text.strip(),\n",
    "                'title': item.find('h2').text.strip(),\n",
    "                'text': item.find('div',{'class': 'text_content'}).text.strip()\n",
    "            }\n",
    "            data.append(reviews)\n",
    "    except:\n",
    "        pass\n",
    "    "
   ]
  },
  {
   "cell_type": "code",
   "execution_count": 17,
   "id": "cf4336f0",
   "metadata": {},
   "outputs": [
    {
     "name": "stdout",
     "output_type": "stream",
     "text": [
      "Getting page: 1\n",
      "10\n",
      "Getting page: 2\n",
      "20\n",
      "Getting page: 3\n",
      "30\n",
      "Getting page: 4\n",
      "40\n",
      "Getting page: 5\n",
      "50\n",
      "Getting page: 6\n",
      "60\n",
      "Getting page: 7\n",
      "70\n",
      "Getting page: 8\n",
      "80\n",
      "Getting page: 9\n",
      "90\n",
      "Getting page: 10\n",
      "100\n",
      "Getting page: 11\n",
      "110\n",
      "Getting page: 12\n",
      "120\n",
      "Getting page: 13\n",
      "130\n",
      "Getting page: 14\n",
      "140\n",
      "Getting page: 15\n",
      "150\n",
      "Getting page: 16\n",
      "160\n",
      "Getting page: 17\n",
      "170\n",
      "Getting page: 18\n",
      "180\n",
      "Getting page: 19\n",
      "190\n",
      "Getting page: 20\n",
      "200\n",
      "Getting page: 21\n",
      "210\n",
      "Getting page: 22\n",
      "220\n",
      "Getting page: 23\n",
      "230\n",
      "Getting page: 24\n",
      "240\n",
      "Getting page: 25\n",
      "250\n",
      "Getting page: 26\n",
      "260\n",
      "Getting page: 27\n",
      "270\n",
      "Getting page: 28\n",
      "280\n",
      "Getting page: 29\n",
      "290\n",
      "Getting page: 30\n",
      "300\n",
      "Getting page: 31\n",
      "310\n",
      "Getting page: 32\n",
      "320\n",
      "Getting page: 33\n",
      "330\n",
      "Getting page: 34\n",
      "340\n",
      "Getting page: 35\n",
      "350\n",
      "Getting page: 36\n",
      "360\n",
      "Getting page: 37\n",
      "370\n",
      "Getting page: 38\n",
      "380\n",
      "Getting page: 39\n",
      "390\n",
      "Getting page: 40\n",
      "400\n",
      "Getting page: 41\n",
      "410\n",
      "Getting page: 42\n",
      "420\n",
      "Getting page: 43\n",
      "430\n",
      "Getting page: 44\n",
      "440\n",
      "Getting page: 45\n",
      "450\n",
      "Getting page: 46\n",
      "460\n",
      "Getting page: 47\n",
      "470\n",
      "Getting page: 48\n",
      "480\n",
      "Getting page: 49\n",
      "490\n",
      "Getting page: 50\n",
      "500\n",
      "Getting page: 51\n",
      "510\n",
      "Getting page: 52\n",
      "520\n",
      "Getting page: 53\n",
      "530\n",
      "Getting page: 54\n",
      "540\n",
      "Getting page: 55\n",
      "550\n",
      "Getting page: 56\n",
      "560\n",
      "Getting page: 57\n",
      "570\n",
      "Getting page: 58\n",
      "580\n",
      "Getting page: 59\n",
      "590\n",
      "Getting page: 60\n",
      "600\n",
      "Getting page: 61\n",
      "610\n",
      "Getting page: 62\n",
      "620\n",
      "Getting page: 63\n",
      "630\n",
      "Getting page: 64\n",
      "640\n",
      "Getting page: 65\n",
      "650\n",
      "Getting page: 66\n",
      "660\n",
      "Getting page: 67\n",
      "670\n",
      "Getting page: 68\n",
      "680\n",
      "Getting page: 69\n",
      "690\n",
      "Getting page: 70\n",
      "700\n",
      "Getting page: 71\n",
      "710\n",
      "Getting page: 72\n",
      "720\n",
      "Getting page: 73\n",
      "730\n",
      "Getting page: 74\n",
      "740\n",
      "Getting page: 75\n",
      "750\n",
      "Getting page: 76\n",
      "760\n",
      "Getting page: 77\n",
      "770\n",
      "Getting page: 78\n",
      "780\n",
      "Getting page: 79\n",
      "790\n",
      "Getting page: 80\n",
      "800\n",
      "Getting page: 81\n",
      "810\n",
      "Getting page: 82\n",
      "820\n",
      "Getting page: 83\n",
      "830\n",
      "Getting page: 84\n",
      "840\n",
      "Getting page: 85\n",
      "850\n",
      "Getting page: 86\n",
      "860\n",
      "Getting page: 87\n",
      "870\n",
      "Getting page: 88\n",
      "880\n",
      "Getting page: 89\n",
      "890\n",
      "Getting page: 90\n",
      "900\n",
      "Getting page: 91\n",
      "910\n",
      "Getting page: 92\n",
      "920\n",
      "Getting page: 93\n",
      "930\n",
      "Getting page: 94\n",
      "940\n",
      "Getting page: 95\n",
      "950\n",
      "Getting page: 96\n",
      "960\n",
      "Getting page: 97\n",
      "970\n",
      "Getting page: 98\n",
      "980\n",
      "Getting page: 99\n",
      "990\n",
      "Getting page: 100\n",
      "1000\n",
      "Getting page: 101\n",
      "1010\n",
      "Getting page: 102\n",
      "1020\n",
      "Getting page: 103\n",
      "1030\n",
      "Getting page: 104\n",
      "1040\n",
      "Getting page: 105\n",
      "1050\n",
      "Getting page: 106\n",
      "1060\n",
      "Getting page: 107\n",
      "1070\n",
      "Getting page: 108\n",
      "1080\n",
      "Getting page: 109\n",
      "1090\n",
      "Getting page: 110\n",
      "1100\n",
      "Getting page: 111\n",
      "1110\n",
      "Getting page: 112\n",
      "1120\n",
      "Getting page: 113\n",
      "1130\n",
      "Getting page: 114\n",
      "1140\n",
      "Getting page: 115\n",
      "1150\n",
      "Getting page: 116\n",
      "1160\n",
      "Getting page: 117\n",
      "1170\n",
      "Getting page: 118\n",
      "1180\n",
      "Getting page: 119\n",
      "1190\n",
      "Getting page: 120\n",
      "1200\n",
      "Getting page: 121\n",
      "1210\n",
      "Getting page: 122\n",
      "1220\n",
      "Getting page: 123\n",
      "1230\n",
      "Getting page: 124\n",
      "1240\n",
      "Getting page: 125\n",
      "1250\n",
      "Getting page: 126\n",
      "1260\n",
      "Getting page: 127\n",
      "1270\n",
      "Getting page: 128\n",
      "1280\n",
      "Getting page: 129\n",
      "1290\n",
      "Getting page: 130\n",
      "1300\n",
      "Getting page: 131\n",
      "1310\n",
      "Getting page: 132\n",
      "1320\n",
      "Getting page: 133\n",
      "1330\n",
      "Getting page: 134\n",
      "1340\n",
      "Getting page: 135\n",
      "1350\n",
      "Getting page: 136\n",
      "1360\n",
      "Getting page: 137\n",
      "1370\n",
      "Getting page: 138\n",
      "1380\n",
      "Getting page: 139\n",
      "1390\n",
      "Getting page: 140\n",
      "1400\n",
      "Getting page: 141\n",
      "1410\n",
      "Getting page: 142\n",
      "1420\n",
      "Getting page: 143\n",
      "1430\n",
      "Getting page: 144\n",
      "1440\n",
      "Getting page: 145\n",
      "1450\n",
      "Getting page: 146\n",
      "1460\n",
      "Getting page: 147\n",
      "1470\n",
      "Getting page: 148\n",
      "1480\n",
      "Getting page: 149\n",
      "1490\n",
      "Getting page: 150\n",
      "1500\n",
      "Getting page: 151\n",
      "1510\n",
      "Getting page: 152\n",
      "1520\n",
      "Getting page: 153\n",
      "1530\n",
      "Getting page: 154\n",
      "1540\n",
      "Getting page: 155\n",
      "1550\n",
      "Getting page: 156\n",
      "1560\n",
      "Getting page: 157\n",
      "1570\n",
      "Getting page: 158\n",
      "1580\n",
      "Getting page: 159\n",
      "1590\n",
      "Getting page: 160\n",
      "1600\n",
      "Getting page: 161\n",
      "1610\n",
      "Getting page: 162\n",
      "1620\n",
      "Getting page: 163\n",
      "1630\n",
      "Getting page: 164\n",
      "1640\n",
      "Getting page: 165\n",
      "1650\n",
      "Getting page: 166\n",
      "1660\n",
      "Getting page: 167\n",
      "1670\n",
      "Getting page: 168\n",
      "1680\n",
      "Getting page: 169\n",
      "1690\n",
      "Getting page: 170\n",
      "1700\n",
      "Getting page: 171\n",
      "1710\n",
      "Getting page: 172\n",
      "1720\n",
      "Getting page: 173\n",
      "1730\n",
      "Getting page: 174\n",
      "1740\n",
      "Getting page: 175\n",
      "1750\n",
      "Getting page: 176\n",
      "1760\n",
      "Getting page: 177\n",
      "1770\n",
      "Getting page: 178\n",
      "1780\n",
      "Getting page: 179\n",
      "1790\n",
      "Getting page: 180\n",
      "1800\n",
      "Getting page: 181\n",
      "1810\n",
      "Getting page: 182\n",
      "1820\n",
      "Getting page: 183\n",
      "1830\n",
      "Getting page: 184\n",
      "1840\n",
      "Getting page: 185\n",
      "1850\n",
      "Getting page: 186\n",
      "1860\n",
      "Getting page: 187\n",
      "1870\n",
      "Getting page: 188\n",
      "1880\n",
      "Getting page: 189\n",
      "1890\n",
      "Getting page: 190\n",
      "1900\n",
      "Getting page: 191\n",
      "1910\n",
      "Getting page: 192\n",
      "1920\n",
      "Getting page: 193\n",
      "1930\n",
      "Getting page: 194\n",
      "1940\n",
      "Getting page: 195\n",
      "1950\n",
      "Getting page: 196\n",
      "1960\n",
      "Getting page: 197\n",
      "1970\n",
      "Getting page: 198\n",
      "1980\n",
      "Getting page: 199\n",
      "1990\n",
      "Getting page: 200\n",
      "2000\n",
      "Getting page: 201\n",
      "2010\n",
      "Getting page: 202\n",
      "2020\n",
      "Getting page: 203\n",
      "2030\n",
      "Getting page: 204\n",
      "2040\n",
      "Getting page: 205\n",
      "2050\n",
      "Getting page: 206\n",
      "2060\n",
      "Getting page: 207\n",
      "2070\n",
      "Getting page: 208\n",
      "2080\n",
      "Getting page: 209\n",
      "2090\n",
      "Getting page: 210\n",
      "2100\n",
      "Getting page: 211\n",
      "2110\n",
      "Getting page: 212\n",
      "2120\n",
      "Getting page: 213\n",
      "2130\n",
      "Getting page: 214\n",
      "2140\n",
      "Getting page: 215\n",
      "2150\n",
      "Getting page: 216\n",
      "2160\n",
      "Getting page: 217\n",
      "2170\n",
      "Getting page: 218\n",
      "2180\n",
      "Getting page: 219\n",
      "2190\n",
      "Getting page: 220\n",
      "2200\n",
      "Getting page: 221\n",
      "2210\n",
      "Getting page: 222\n",
      "2220\n",
      "Getting page: 223\n",
      "2230\n",
      "Getting page: 224\n",
      "2240\n",
      "Getting page: 225\n",
      "2250\n",
      "Getting page: 226\n",
      "2260\n",
      "Getting page: 227\n",
      "2270\n",
      "Getting page: 228\n",
      "2280\n",
      "Getting page: 229\n",
      "2290\n",
      "Getting page: 230\n",
      "2300\n",
      "Getting page: 231\n",
      "2310\n",
      "Getting page: 232\n",
      "2320\n",
      "Getting page: 233\n",
      "2330\n",
      "Getting page: 234\n",
      "2340\n",
      "Getting page: 235\n",
      "2350\n",
      "Getting page: 236\n",
      "2360\n",
      "Getting page: 237\n",
      "2370\n",
      "Getting page: 238\n",
      "2380\n",
      "Getting page: 239\n",
      "2390\n",
      "Getting page: 240\n",
      "2400\n",
      "Getting page: 241\n",
      "2410\n",
      "Getting page: 242\n",
      "2420\n",
      "Getting page: 243\n",
      "2430\n",
      "Getting page: 244\n",
      "2440\n",
      "Getting page: 245\n",
      "2450\n",
      "Getting page: 246\n",
      "2460\n",
      "Getting page: 247\n",
      "2470\n",
      "Getting page: 248\n",
      "2480\n",
      "Getting page: 249\n",
      "2490\n",
      "Getting page: 250\n",
      "2500\n",
      "Getting page: 251\n",
      "2510\n",
      "Getting page: 252\n",
      "2520\n",
      "Getting page: 253\n",
      "2530\n",
      "Getting page: 254\n",
      "2540\n",
      "Getting page: 255\n",
      "2550\n",
      "Getting page: 256\n",
      "2560\n",
      "Getting page: 257\n",
      "2570\n",
      "Getting page: 258\n",
      "2580\n",
      "Getting page: 259\n",
      "2590\n",
      "Getting page: 260\n",
      "2600\n",
      "Getting page: 261\n",
      "2610\n",
      "Getting page: 262\n",
      "2620\n",
      "Getting page: 263\n",
      "2630\n",
      "Getting page: 264\n",
      "2640\n",
      "Getting page: 265\n",
      "2650\n",
      "Getting page: 266\n",
      "2660\n",
      "Getting page: 267\n",
      "2670\n",
      "Getting page: 268\n",
      "2680\n",
      "Getting page: 269\n",
      "2690\n",
      "Getting page: 270\n",
      "2700\n",
      "Getting page: 271\n",
      "2710\n",
      "Getting page: 272\n",
      "2720\n",
      "Getting page: 273\n",
      "2730\n",
      "Getting page: 274\n",
      "2740\n",
      "Getting page: 275\n",
      "2750\n",
      "Getting page: 276\n",
      "2760\n",
      "Getting page: 277\n",
      "2770\n",
      "Getting page: 278\n",
      "2780\n",
      "Getting page: 279\n",
      "2790\n",
      "Getting page: 280\n",
      "2800\n",
      "Getting page: 281\n",
      "2810\n",
      "Getting page: 282\n",
      "2820\n",
      "Getting page: 283\n",
      "2830\n",
      "Getting page: 284\n",
      "2840\n",
      "Getting page: 285\n",
      "2850\n",
      "Getting page: 286\n",
      "2860\n",
      "Getting page: 287\n",
      "2870\n",
      "Getting page: 288\n",
      "2880\n",
      "Getting page: 289\n",
      "2890\n",
      "Getting page: 290\n",
      "2900\n",
      "Getting page: 291\n",
      "2910\n",
      "Getting page: 292\n",
      "2920\n",
      "Getting page: 293\n",
      "2930\n",
      "Getting page: 294\n",
      "2940\n",
      "Getting page: 295\n",
      "2950\n",
      "Getting page: 296\n",
      "2960\n",
      "Getting page: 297\n",
      "2970\n",
      "Getting page: 298\n",
      "2980\n",
      "Getting page: 299\n",
      "2990\n",
      "Getting page: 300\n",
      "3000\n",
      "Getting page: 301\n",
      "3010\n",
      "Getting page: 302\n",
      "3020\n",
      "Getting page: 303\n",
      "3030\n",
      "Getting page: 304\n",
      "3040\n",
      "Getting page: 305\n",
      "3050\n",
      "Getting page: 306\n",
      "3060\n",
      "Getting page: 307\n",
      "3070\n",
      "Getting page: 308\n",
      "3080\n",
      "Getting page: 309\n",
      "3090\n",
      "Getting page: 310\n",
      "3100\n",
      "Getting page: 311\n",
      "3110\n",
      "Getting page: 312\n",
      "3120\n",
      "Getting page: 313\n",
      "3130\n",
      "Getting page: 314\n",
      "3140\n",
      "Getting page: 315\n",
      "3150\n",
      "Getting page: 316\n",
      "3160\n",
      "Getting page: 317\n",
      "3170\n",
      "Getting page: 318\n",
      "3180\n",
      "Getting page: 319\n",
      "3190\n",
      "Getting page: 320\n",
      "3200\n",
      "Getting page: 321\n",
      "3210\n",
      "Getting page: 322\n",
      "3220\n",
      "Getting page: 323\n",
      "3230\n",
      "Getting page: 324\n",
      "3240\n",
      "Getting page: 325\n",
      "3250\n",
      "Getting page: 326\n",
      "3260\n",
      "Getting page: 327\n",
      "3270\n",
      "Getting page: 328\n",
      "3280\n",
      "Getting page: 329\n",
      "3290\n",
      "Getting page: 330\n",
      "3300\n",
      "Getting page: 331\n",
      "3310\n",
      "Getting page: 332\n",
      "3320\n",
      "Getting page: 333\n",
      "3330\n",
      "Getting page: 334\n",
      "3340\n",
      "Getting page: 335\n",
      "3350\n",
      "Getting page: 336\n",
      "3360\n",
      "Getting page: 337\n",
      "3370\n",
      "Getting page: 338\n",
      "3380\n",
      "Getting page: 339\n",
      "3390\n",
      "Getting page: 340\n",
      "3400\n",
      "Getting page: 341\n",
      "3410\n",
      "Getting page: 342\n",
      "3420\n",
      "Getting page: 343\n",
      "3430\n",
      "Getting page: 344\n",
      "3440\n"
     ]
    }
   ],
   "source": [
    "for x in range(1,345):\n",
    "    soup = get_soup(f'https://www.airlinequality.com/airline-reviews/british-airways/page/{x}/')\n",
    "    print(f'Getting page: {x}')\n",
    "    get_reviews(soup)\n",
    "    print(len(data))\n",
    "    if not soup.find('li', {'class': 'a-disabled a-last'}):\n",
    "        pass\n",
    "    else:\n",
    "        break"
   ]
  },
  {
   "cell_type": "code",
   "execution_count": 18,
   "id": "6ed8d822",
   "metadata": {},
   "outputs": [
    {
     "data": {
      "text/html": [
       "<div>\n",
       "<style scoped>\n",
       "    .dataframe tbody tr th:only-of-type {\n",
       "        vertical-align: middle;\n",
       "    }\n",
       "\n",
       "    .dataframe tbody tr th {\n",
       "        vertical-align: top;\n",
       "    }\n",
       "\n",
       "    .dataframe thead th {\n",
       "        text-align: right;\n",
       "    }\n",
       "</style>\n",
       "<table border=\"1\" class=\"dataframe\">\n",
       "  <thead>\n",
       "    <tr style=\"text-align: right;\">\n",
       "      <th></th>\n",
       "      <th>rating</th>\n",
       "      <th>title</th>\n",
       "      <th>text</th>\n",
       "    </tr>\n",
       "  </thead>\n",
       "  <tbody>\n",
       "    <tr>\n",
       "      <th>0</th>\n",
       "      <td>1</td>\n",
       "      <td>\"the worst airline in the UK\"</td>\n",
       "      <td>Not Verified |  British Airways has confirmed ...</td>\n",
       "    </tr>\n",
       "    <tr>\n",
       "      <th>1</th>\n",
       "      <td>2</td>\n",
       "      <td>\"Worst BA experience\"</td>\n",
       "      <td>✅ Trip Verified | Worst BA experience. I was s...</td>\n",
       "    </tr>\n",
       "    <tr>\n",
       "      <th>2</th>\n",
       "      <td>1</td>\n",
       "      <td>\"the worst airline service\"</td>\n",
       "      <td>✅ Trip Verified |  My daughter and I were deni...</td>\n",
       "    </tr>\n",
       "    <tr>\n",
       "      <th>3</th>\n",
       "      <td>8</td>\n",
       "      <td>\"service on board was impeccable\"</td>\n",
       "      <td>✅ Trip Verified | Despite boarding being the u...</td>\n",
       "    </tr>\n",
       "    <tr>\n",
       "      <th>4</th>\n",
       "      <td>1</td>\n",
       "      <td>\"a national disgrace\"</td>\n",
       "      <td>Not Verified |  Flight cancelled, no crew! 9th...</td>\n",
       "    </tr>\n",
       "    <tr>\n",
       "      <th>...</th>\n",
       "      <td>...</td>\n",
       "      <td>...</td>\n",
       "      <td>...</td>\n",
       "    </tr>\n",
       "    <tr>\n",
       "      <th>3435</th>\n",
       "      <td>10</td>\n",
       "      <td>British Airways customer review</td>\n",
       "      <td>We flew from LHR to Luxembourg on an afternoon...</td>\n",
       "    </tr>\n",
       "    <tr>\n",
       "      <th>3436</th>\n",
       "      <td>2</td>\n",
       "      <td>British Airways customer review</td>\n",
       "      <td>We flew the A380 from LAX-LHR-JNB-LHR-LAX in A...</td>\n",
       "    </tr>\n",
       "    <tr>\n",
       "      <th>3437</th>\n",
       "      <td>8</td>\n",
       "      <td>British Airways customer review</td>\n",
       "      <td>My journey was from BOM to LHR (I had a connec...</td>\n",
       "    </tr>\n",
       "    <tr>\n",
       "      <th>3438</th>\n",
       "      <td>3</td>\n",
       "      <td>British Airways customer review</td>\n",
       "      <td>Sad to say BA missed a big opportunity when th...</td>\n",
       "    </tr>\n",
       "    <tr>\n",
       "      <th>3439</th>\n",
       "      <td>8</td>\n",
       "      <td>British Airways customer review</td>\n",
       "      <td>Heathrow to Newark on 787. Flight was pleasant...</td>\n",
       "    </tr>\n",
       "  </tbody>\n",
       "</table>\n",
       "<p>3440 rows × 3 columns</p>\n",
       "</div>"
      ],
      "text/plain": [
       "     rating                              title  \\\n",
       "0         1      \"the worst airline in the UK\"   \n",
       "1         2              \"Worst BA experience\"   \n",
       "2         1        \"the worst airline service\"   \n",
       "3         8  \"service on board was impeccable\"   \n",
       "4         1              \"a national disgrace\"   \n",
       "...     ...                                ...   \n",
       "3435     10    British Airways customer review   \n",
       "3436      2    British Airways customer review   \n",
       "3437      8    British Airways customer review   \n",
       "3438      3    British Airways customer review   \n",
       "3439      8    British Airways customer review   \n",
       "\n",
       "                                                   text  \n",
       "0     Not Verified |  British Airways has confirmed ...  \n",
       "1     ✅ Trip Verified | Worst BA experience. I was s...  \n",
       "2     ✅ Trip Verified |  My daughter and I were deni...  \n",
       "3     ✅ Trip Verified | Despite boarding being the u...  \n",
       "4     Not Verified |  Flight cancelled, no crew! 9th...  \n",
       "...                                                 ...  \n",
       "3435  We flew from LHR to Luxembourg on an afternoon...  \n",
       "3436  We flew the A380 from LAX-LHR-JNB-LHR-LAX in A...  \n",
       "3437  My journey was from BOM to LHR (I had a connec...  \n",
       "3438  Sad to say BA missed a big opportunity when th...  \n",
       "3439  Heathrow to Newark on 787. Flight was pleasant...  \n",
       "\n",
       "[3440 rows x 3 columns]"
      ]
     },
     "execution_count": 18,
     "metadata": {},
     "output_type": "execute_result"
    }
   ],
   "source": [
    "df = pd.DataFrame(data, \n",
    "                 columns =['rating', 'title', 'text'])\n",
    "df "
   ]
  },
  {
   "cell_type": "code",
   "execution_count": 19,
   "id": "542a8d9d",
   "metadata": {},
   "outputs": [
    {
     "data": {
      "text/plain": [
       "(3440, 3)"
      ]
     },
     "execution_count": 19,
     "metadata": {},
     "output_type": "execute_result"
    }
   ],
   "source": [
    "df.shape"
   ]
  },
  {
   "cell_type": "code",
   "execution_count": 20,
   "id": "5703bb19",
   "metadata": {},
   "outputs": [],
   "source": [
    "df.to_csv('britishAir_reviews.csv')"
   ]
  },
  {
   "cell_type": "markdown",
   "id": "df492101",
   "metadata": {},
   "source": [
    "## check for null values"
   ]
  },
  {
   "cell_type": "code",
   "execution_count": 21,
   "id": "4987dd8b",
   "metadata": {},
   "outputs": [
    {
     "data": {
      "text/plain": [
       "rating    0\n",
       "title     0\n",
       "text      0\n",
       "dtype: int64"
      ]
     },
     "execution_count": 21,
     "metadata": {},
     "output_type": "execute_result"
    }
   ],
   "source": [
    "df.isnull().sum()"
   ]
  },
  {
   "cell_type": "markdown",
   "id": "cc80994b",
   "metadata": {},
   "source": [
    "## let's rescale the rating values from 0 to 5"
   ]
  },
  {
   "cell_type": "code",
   "execution_count": 22,
   "id": "7b5ea510",
   "metadata": {},
   "outputs": [
    {
     "data": {
      "text/plain": [
       "1                 821\n",
       "2                 397\n",
       "3                 381\n",
       "8                 344\n",
       "10                293\n",
       "7                 292\n",
       "9                 283\n",
       "4                 241\n",
       "5                 216\n",
       "6                 170\n",
       "Ray Desjardins      1\n",
       "Neil Balter         1\n",
       "Name: rating, dtype: int64"
      ]
     },
     "execution_count": 22,
     "metadata": {},
     "output_type": "execute_result"
    }
   ],
   "source": [
    "df['rating'].value_counts()"
   ]
  },
  {
   "cell_type": "markdown",
   "id": "6b3a1e31",
   "metadata": {},
   "source": [
    "## Converting Dask DataFrame object columns to numbers with to_numeric"
   ]
  },
  {
   "cell_type": "code",
   "execution_count": 23,
   "id": "58d43ed5",
   "metadata": {},
   "outputs": [],
   "source": [
    "df[\"rating\"] = pd.to_numeric(df[\"rating\"], errors=\"coerce\").astype('Int64')"
   ]
  },
  {
   "cell_type": "code",
   "execution_count": 24,
   "id": "9a841d31",
   "metadata": {},
   "outputs": [
    {
     "data": {
      "text/plain": [
       "rating     Int64\n",
       "title     object\n",
       "text      object\n",
       "dtype: object"
      ]
     },
     "execution_count": 24,
     "metadata": {},
     "output_type": "execute_result"
    }
   ],
   "source": [
    "df.dtypes"
   ]
  },
  {
   "cell_type": "code",
   "execution_count": 25,
   "id": "89c31d4f",
   "metadata": {},
   "outputs": [
    {
     "data": {
      "text/plain": [
       "1     821\n",
       "2     397\n",
       "3     381\n",
       "8     344\n",
       "10    293\n",
       "7     292\n",
       "9     283\n",
       "4     241\n",
       "5     216\n",
       "6     170\n",
       "Name: rating, dtype: Int64"
      ]
     },
     "execution_count": 25,
     "metadata": {},
     "output_type": "execute_result"
    }
   ],
   "source": [
    "df['rating'].value_counts()"
   ]
  },
  {
   "cell_type": "code",
   "execution_count": 26,
   "id": "ed9f6039",
   "metadata": {},
   "outputs": [
    {
     "data": {
      "text/html": [
       "<div>\n",
       "<style scoped>\n",
       "    .dataframe tbody tr th:only-of-type {\n",
       "        vertical-align: middle;\n",
       "    }\n",
       "\n",
       "    .dataframe tbody tr th {\n",
       "        vertical-align: top;\n",
       "    }\n",
       "\n",
       "    .dataframe thead th {\n",
       "        text-align: right;\n",
       "    }\n",
       "</style>\n",
       "<table border=\"1\" class=\"dataframe\">\n",
       "  <thead>\n",
       "    <tr style=\"text-align: right;\">\n",
       "      <th></th>\n",
       "      <th>rating</th>\n",
       "      <th>title</th>\n",
       "      <th>text</th>\n",
       "    </tr>\n",
       "  </thead>\n",
       "  <tbody>\n",
       "    <tr>\n",
       "      <th>0</th>\n",
       "      <td>1</td>\n",
       "      <td>\"the worst airline in the UK\"</td>\n",
       "      <td>Not Verified |  British Airways has confirmed ...</td>\n",
       "    </tr>\n",
       "    <tr>\n",
       "      <th>1</th>\n",
       "      <td>2</td>\n",
       "      <td>\"Worst BA experience\"</td>\n",
       "      <td>✅ Trip Verified | Worst BA experience. I was s...</td>\n",
       "    </tr>\n",
       "    <tr>\n",
       "      <th>2</th>\n",
       "      <td>1</td>\n",
       "      <td>\"the worst airline service\"</td>\n",
       "      <td>✅ Trip Verified |  My daughter and I were deni...</td>\n",
       "    </tr>\n",
       "    <tr>\n",
       "      <th>3</th>\n",
       "      <td>8</td>\n",
       "      <td>\"service on board was impeccable\"</td>\n",
       "      <td>✅ Trip Verified | Despite boarding being the u...</td>\n",
       "    </tr>\n",
       "    <tr>\n",
       "      <th>4</th>\n",
       "      <td>1</td>\n",
       "      <td>\"a national disgrace\"</td>\n",
       "      <td>Not Verified |  Flight cancelled, no crew! 9th...</td>\n",
       "    </tr>\n",
       "  </tbody>\n",
       "</table>\n",
       "</div>"
      ],
      "text/plain": [
       "   rating                              title  \\\n",
       "0       1      \"the worst airline in the UK\"   \n",
       "1       2              \"Worst BA experience\"   \n",
       "2       1        \"the worst airline service\"   \n",
       "3       8  \"service on board was impeccable\"   \n",
       "4       1              \"a national disgrace\"   \n",
       "\n",
       "                                                text  \n",
       "0  Not Verified |  British Airways has confirmed ...  \n",
       "1  ✅ Trip Verified | Worst BA experience. I was s...  \n",
       "2  ✅ Trip Verified |  My daughter and I were deni...  \n",
       "3  ✅ Trip Verified | Despite boarding being the u...  \n",
       "4  Not Verified |  Flight cancelled, no crew! 9th...  "
      ]
     },
     "execution_count": 26,
     "metadata": {},
     "output_type": "execute_result"
    }
   ],
   "source": [
    "df.head()"
   ]
  },
  {
   "cell_type": "code",
   "execution_count": 27,
   "id": "4ab0520f",
   "metadata": {},
   "outputs": [],
   "source": [
    "df.text = df.text.str.lower()"
   ]
  },
  {
   "cell_type": "code",
   "execution_count": 28,
   "id": "60977693",
   "metadata": {},
   "outputs": [
    {
     "data": {
      "text/plain": [
       "rating    2\n",
       "title     0\n",
       "text      0\n",
       "dtype: int64"
      ]
     },
     "execution_count": 28,
     "metadata": {},
     "output_type": "execute_result"
    }
   ],
   "source": [
    "df.isnull().sum()"
   ]
  },
  {
   "cell_type": "code",
   "execution_count": 29,
   "id": "8cf7dc8f",
   "metadata": {},
   "outputs": [],
   "source": [
    "df =df.dropna()"
   ]
  },
  {
   "cell_type": "code",
   "execution_count": 30,
   "id": "55339a8a",
   "metadata": {},
   "outputs": [
    {
     "data": {
      "text/plain": [
       "rating    0\n",
       "title     0\n",
       "text      0\n",
       "dtype: int64"
      ]
     },
     "execution_count": 30,
     "metadata": {},
     "output_type": "execute_result"
    }
   ],
   "source": [
    "df.isnull().sum()"
   ]
  },
  {
   "cell_type": "code",
   "execution_count": 31,
   "id": "f5beb6c9",
   "metadata": {},
   "outputs": [],
   "source": [
    "df['rating'] = df['rating']/2"
   ]
  },
  {
   "cell_type": "code",
   "execution_count": 32,
   "id": "8b2b6e56",
   "metadata": {},
   "outputs": [
    {
     "data": {
      "text/html": [
       "<div>\n",
       "<style scoped>\n",
       "    .dataframe tbody tr th:only-of-type {\n",
       "        vertical-align: middle;\n",
       "    }\n",
       "\n",
       "    .dataframe tbody tr th {\n",
       "        vertical-align: top;\n",
       "    }\n",
       "\n",
       "    .dataframe thead th {\n",
       "        text-align: right;\n",
       "    }\n",
       "</style>\n",
       "<table border=\"1\" class=\"dataframe\">\n",
       "  <thead>\n",
       "    <tr style=\"text-align: right;\">\n",
       "      <th></th>\n",
       "      <th>rating</th>\n",
       "      <th>title</th>\n",
       "      <th>text</th>\n",
       "    </tr>\n",
       "  </thead>\n",
       "  <tbody>\n",
       "    <tr>\n",
       "      <th>0</th>\n",
       "      <td>0.5</td>\n",
       "      <td>\"the worst airline in the UK\"</td>\n",
       "      <td>not verified |  british airways has confirmed ...</td>\n",
       "    </tr>\n",
       "    <tr>\n",
       "      <th>1</th>\n",
       "      <td>1.0</td>\n",
       "      <td>\"Worst BA experience\"</td>\n",
       "      <td>✅ trip verified | worst ba experience. i was s...</td>\n",
       "    </tr>\n",
       "    <tr>\n",
       "      <th>2</th>\n",
       "      <td>0.5</td>\n",
       "      <td>\"the worst airline service\"</td>\n",
       "      <td>✅ trip verified |  my daughter and i were deni...</td>\n",
       "    </tr>\n",
       "    <tr>\n",
       "      <th>3</th>\n",
       "      <td>4.0</td>\n",
       "      <td>\"service on board was impeccable\"</td>\n",
       "      <td>✅ trip verified | despite boarding being the u...</td>\n",
       "    </tr>\n",
       "    <tr>\n",
       "      <th>4</th>\n",
       "      <td>0.5</td>\n",
       "      <td>\"a national disgrace\"</td>\n",
       "      <td>not verified |  flight cancelled, no crew! 9th...</td>\n",
       "    </tr>\n",
       "  </tbody>\n",
       "</table>\n",
       "</div>"
      ],
      "text/plain": [
       "   rating                              title  \\\n",
       "0     0.5      \"the worst airline in the UK\"   \n",
       "1     1.0              \"Worst BA experience\"   \n",
       "2     0.5        \"the worst airline service\"   \n",
       "3     4.0  \"service on board was impeccable\"   \n",
       "4     0.5              \"a national disgrace\"   \n",
       "\n",
       "                                                text  \n",
       "0  not verified |  british airways has confirmed ...  \n",
       "1  ✅ trip verified | worst ba experience. i was s...  \n",
       "2  ✅ trip verified |  my daughter and i were deni...  \n",
       "3  ✅ trip verified | despite boarding being the u...  \n",
       "4  not verified |  flight cancelled, no crew! 9th...  "
      ]
     },
     "execution_count": 32,
     "metadata": {},
     "output_type": "execute_result"
    }
   ],
   "source": [
    "df.head()"
   ]
  },
  {
   "cell_type": "code",
   "execution_count": 33,
   "id": "0de2d48a",
   "metadata": {},
   "outputs": [
    {
     "data": {
      "text/plain": [
       "0.5    821\n",
       "1.0    397\n",
       "1.5    381\n",
       "4.0    344\n",
       "5.0    293\n",
       "3.5    292\n",
       "4.5    283\n",
       "2.0    241\n",
       "2.5    216\n",
       "3.0    170\n",
       "Name: rating, dtype: Int64"
      ]
     },
     "execution_count": 33,
     "metadata": {},
     "output_type": "execute_result"
    }
   ],
   "source": [
    "df['rating'].value_counts()"
   ]
  },
  {
   "cell_type": "code",
   "execution_count": 34,
   "id": "5987ccde",
   "metadata": {},
   "outputs": [],
   "source": [
    "def sentiments(rating):\n",
    "    if (rating ==5) or (rating == 4.5):\n",
    "        return 'positive'\n",
    "    elif (rating == 4) or (rating == 3.5):\n",
    "        return 'positive'\n",
    "    elif rating == 3:\n",
    "        return 'neutral'\n",
    "        \n",
    "    elif (rating == 2.5) or (rating == 2):\n",
    "        return 'negative'\n",
    "    elif (rating == 1.5) or (rating == 1):\n",
    "        return 'negative'\n",
    "    elif rating == 0.5:\n",
    "        return 'negative'"
   ]
  },
  {
   "cell_type": "code",
   "execution_count": 35,
   "id": "caa75a75",
   "metadata": {},
   "outputs": [],
   "source": [
    "data2 = df.copy()"
   ]
  },
  {
   "cell_type": "code",
   "execution_count": 36,
   "id": "8ad2960d",
   "metadata": {},
   "outputs": [],
   "source": [
    "data2[\"Sentiment\"] = data2[\"rating\"].apply(sentiments)"
   ]
  },
  {
   "cell_type": "code",
   "execution_count": 37,
   "id": "22741f95",
   "metadata": {},
   "outputs": [
    {
     "name": "stdout",
     "output_type": "stream",
     "text": [
      "0       negative\n",
      "1       negative\n",
      "2       negative\n",
      "3       positive\n",
      "4       negative\n",
      "          ...   \n",
      "3435    positive\n",
      "3436    negative\n",
      "3437    positive\n",
      "3438    negative\n",
      "3439    positive\n",
      "Name: Sentiment, Length: 3438, dtype: object\n"
     ]
    }
   ],
   "source": [
    "print(data2['Sentiment'])"
   ]
  },
  {
   "cell_type": "code",
   "execution_count": 38,
   "id": "f4304a9a",
   "metadata": {},
   "outputs": [
    {
     "data": {
      "text/html": [
       "<div>\n",
       "<style scoped>\n",
       "    .dataframe tbody tr th:only-of-type {\n",
       "        vertical-align: middle;\n",
       "    }\n",
       "\n",
       "    .dataframe tbody tr th {\n",
       "        vertical-align: top;\n",
       "    }\n",
       "\n",
       "    .dataframe thead th {\n",
       "        text-align: right;\n",
       "    }\n",
       "</style>\n",
       "<table border=\"1\" class=\"dataframe\">\n",
       "  <thead>\n",
       "    <tr style=\"text-align: right;\">\n",
       "      <th></th>\n",
       "      <th>rating</th>\n",
       "      <th>title</th>\n",
       "      <th>text</th>\n",
       "      <th>Sentiment</th>\n",
       "    </tr>\n",
       "  </thead>\n",
       "  <tbody>\n",
       "    <tr>\n",
       "      <th>0</th>\n",
       "      <td>0.5</td>\n",
       "      <td>\"the worst airline in the UK\"</td>\n",
       "      <td>not verified |  british airways has confirmed ...</td>\n",
       "      <td>negative</td>\n",
       "    </tr>\n",
       "    <tr>\n",
       "      <th>1</th>\n",
       "      <td>1.0</td>\n",
       "      <td>\"Worst BA experience\"</td>\n",
       "      <td>✅ trip verified | worst ba experience. i was s...</td>\n",
       "      <td>negative</td>\n",
       "    </tr>\n",
       "    <tr>\n",
       "      <th>2</th>\n",
       "      <td>0.5</td>\n",
       "      <td>\"the worst airline service\"</td>\n",
       "      <td>✅ trip verified |  my daughter and i were deni...</td>\n",
       "      <td>negative</td>\n",
       "    </tr>\n",
       "    <tr>\n",
       "      <th>3</th>\n",
       "      <td>4.0</td>\n",
       "      <td>\"service on board was impeccable\"</td>\n",
       "      <td>✅ trip verified | despite boarding being the u...</td>\n",
       "      <td>positive</td>\n",
       "    </tr>\n",
       "    <tr>\n",
       "      <th>4</th>\n",
       "      <td>0.5</td>\n",
       "      <td>\"a national disgrace\"</td>\n",
       "      <td>not verified |  flight cancelled, no crew! 9th...</td>\n",
       "      <td>negative</td>\n",
       "    </tr>\n",
       "    <tr>\n",
       "      <th>...</th>\n",
       "      <td>...</td>\n",
       "      <td>...</td>\n",
       "      <td>...</td>\n",
       "      <td>...</td>\n",
       "    </tr>\n",
       "    <tr>\n",
       "      <th>3435</th>\n",
       "      <td>5.0</td>\n",
       "      <td>British Airways customer review</td>\n",
       "      <td>we flew from lhr to luxembourg on an afternoon...</td>\n",
       "      <td>positive</td>\n",
       "    </tr>\n",
       "    <tr>\n",
       "      <th>3436</th>\n",
       "      <td>1.0</td>\n",
       "      <td>British Airways customer review</td>\n",
       "      <td>we flew the a380 from lax-lhr-jnb-lhr-lax in a...</td>\n",
       "      <td>negative</td>\n",
       "    </tr>\n",
       "    <tr>\n",
       "      <th>3437</th>\n",
       "      <td>4.0</td>\n",
       "      <td>British Airways customer review</td>\n",
       "      <td>my journey was from bom to lhr (i had a connec...</td>\n",
       "      <td>positive</td>\n",
       "    </tr>\n",
       "    <tr>\n",
       "      <th>3438</th>\n",
       "      <td>1.5</td>\n",
       "      <td>British Airways customer review</td>\n",
       "      <td>sad to say ba missed a big opportunity when th...</td>\n",
       "      <td>negative</td>\n",
       "    </tr>\n",
       "    <tr>\n",
       "      <th>3439</th>\n",
       "      <td>4.0</td>\n",
       "      <td>British Airways customer review</td>\n",
       "      <td>heathrow to newark on 787. flight was pleasant...</td>\n",
       "      <td>positive</td>\n",
       "    </tr>\n",
       "  </tbody>\n",
       "</table>\n",
       "<p>3438 rows × 4 columns</p>\n",
       "</div>"
      ],
      "text/plain": [
       "      rating                              title  \\\n",
       "0        0.5      \"the worst airline in the UK\"   \n",
       "1        1.0              \"Worst BA experience\"   \n",
       "2        0.5        \"the worst airline service\"   \n",
       "3        4.0  \"service on board was impeccable\"   \n",
       "4        0.5              \"a national disgrace\"   \n",
       "...      ...                                ...   \n",
       "3435     5.0    British Airways customer review   \n",
       "3436     1.0    British Airways customer review   \n",
       "3437     4.0    British Airways customer review   \n",
       "3438     1.5    British Airways customer review   \n",
       "3439     4.0    British Airways customer review   \n",
       "\n",
       "                                                   text Sentiment  \n",
       "0     not verified |  british airways has confirmed ...  negative  \n",
       "1     ✅ trip verified | worst ba experience. i was s...  negative  \n",
       "2     ✅ trip verified |  my daughter and i were deni...  negative  \n",
       "3     ✅ trip verified | despite boarding being the u...  positive  \n",
       "4     not verified |  flight cancelled, no crew! 9th...  negative  \n",
       "...                                                 ...       ...  \n",
       "3435  we flew from lhr to luxembourg on an afternoon...  positive  \n",
       "3436  we flew the a380 from lax-lhr-jnb-lhr-lax in a...  negative  \n",
       "3437  my journey was from bom to lhr (i had a connec...  positive  \n",
       "3438  sad to say ba missed a big opportunity when th...  negative  \n",
       "3439  heathrow to newark on 787. flight was pleasant...  positive  \n",
       "\n",
       "[3438 rows x 4 columns]"
      ]
     },
     "execution_count": 38,
     "metadata": {},
     "output_type": "execute_result"
    }
   ],
   "source": [
    "data2"
   ]
  },
  {
   "cell_type": "code",
   "execution_count": 39,
   "id": "4b7d3e73",
   "metadata": {},
   "outputs": [
    {
     "data": {
      "image/png": "[encoded data removed]",
      "text/plain": [
       "<Figure size 432x288 with 1 Axes>"
      ]
     },
     "metadata": {
      "needs_background": "light"
     },
     "output_type": "display_data"
    }
   ],
   "source": [
    "data2['Sentiment'].value_counts().plot(kind = 'bar', title = 'Sentiment plot')\n",
    "plt.ylabel('Counts')\n",
    "plt.show()"
   ]
  },
  {
   "cell_type": "code",
   "execution_count": 40,
   "id": "b7ab202c",
   "metadata": {},
   "outputs": [
    {
     "data": {
      "image/png": "[encoded data removed]",
      "text/plain": [
       "<Figure size 576x432 with 1 Axes>"
      ]
     },
     "metadata": {},
     "output_type": "display_data"
    }
   ],
   "source": [
    "plt.figure(figsize = (8,6))\n",
    "sentiment = ['Negative', 'Positive', 'Neutral']\n",
    "counts = [1983,1265,187]\n",
    "explode = (0.1, 0,0)\n",
    "\n",
    "plt.pie(counts, explode=explode, labels=sentiment,\n",
    "        autopct='%1.1f%%', shadow = True, startangle = 90)\n",
    "plt.axis('equal')\n",
    "plt.title('Sentiment of Customers', size = 18)\n",
    "plt.legend(sentiment, loc=\"best\")\n",
    "plt.show()"
   ]
  },
  {
   "cell_type": "code",
   "execution_count": 41,
   "id": "b20f93a5",
   "metadata": {},
   "outputs": [
    {
     "data": {
      "text/plain": [
       "negative    2056\n",
       "positive    1212\n",
       "neutral      170\n",
       "Name: Sentiment, dtype: int64"
      ]
     },
     "execution_count": 41,
     "metadata": {},
     "output_type": "execute_result"
    }
   ],
   "source": [
    "data2['Sentiment'].value_counts()"
   ]
  },
  {
   "cell_type": "markdown",
   "id": "153bc7ad",
   "metadata": {},
   "source": [
    "# Sentiment analysis"
   ]
  },
  {
   "cell_type": "code",
   "execution_count": 42,
   "id": "cdc8e748",
   "metadata": {},
   "outputs": [
    {
     "data": {
      "text/html": [
       "<div>\n",
       "<style scoped>\n",
       "    .dataframe tbody tr th:only-of-type {\n",
       "        vertical-align: middle;\n",
       "    }\n",
       "\n",
       "    .dataframe tbody tr th {\n",
       "        vertical-align: top;\n",
       "    }\n",
       "\n",
       "    .dataframe thead th {\n",
       "        text-align: right;\n",
       "    }\n",
       "</style>\n",
       "<table border=\"1\" class=\"dataframe\">\n",
       "  <thead>\n",
       "    <tr style=\"text-align: right;\">\n",
       "      <th></th>\n",
       "      <th>text</th>\n",
       "      <th>Sentiment</th>\n",
       "    </tr>\n",
       "  </thead>\n",
       "  <tbody>\n",
       "    <tr>\n",
       "      <th>0</th>\n",
       "      <td>not verified |  british airways has confirmed ...</td>\n",
       "      <td>negative</td>\n",
       "    </tr>\n",
       "    <tr>\n",
       "      <th>1</th>\n",
       "      <td>✅ trip verified | worst ba experience. i was s...</td>\n",
       "      <td>negative</td>\n",
       "    </tr>\n",
       "    <tr>\n",
       "      <th>2</th>\n",
       "      <td>✅ trip verified |  my daughter and i were deni...</td>\n",
       "      <td>negative</td>\n",
       "    </tr>\n",
       "    <tr>\n",
       "      <th>3</th>\n",
       "      <td>✅ trip verified | despite boarding being the u...</td>\n",
       "      <td>positive</td>\n",
       "    </tr>\n",
       "    <tr>\n",
       "      <th>4</th>\n",
       "      <td>not verified |  flight cancelled, no crew! 9th...</td>\n",
       "      <td>negative</td>\n",
       "    </tr>\n",
       "  </tbody>\n",
       "</table>\n",
       "</div>"
      ],
      "text/plain": [
       "                                                text Sentiment\n",
       "0  not verified |  british airways has confirmed ...  negative\n",
       "1  ✅ trip verified | worst ba experience. i was s...  negative\n",
       "2  ✅ trip verified |  my daughter and i were deni...  negative\n",
       "3  ✅ trip verified | despite boarding being the u...  positive\n",
       "4  not verified |  flight cancelled, no crew! 9th...  negative"
      ]
     },
     "execution_count": 42,
     "metadata": {},
     "output_type": "execute_result"
    }
   ],
   "source": [
    "review_df =data2[['text', 'Sentiment']]\n",
    "review_df.head()"
   ]
  },
  {
   "cell_type": "markdown",
   "id": "d3c4bf49",
   "metadata": {},
   "source": [
    "Let's remove neutral sentiment and focus on both positive and negative sentiments"
   ]
  },
  {
   "cell_type": "code",
   "execution_count": 43,
   "id": "f4efb0b7",
   "metadata": {},
   "outputs": [
    {
     "name": "stdout",
     "output_type": "stream",
     "text": [
      "(3268, 2)\n"
     ]
    },
    {
     "data": {
      "text/html": [
       "<div>\n",
       "<style scoped>\n",
       "    .dataframe tbody tr th:only-of-type {\n",
       "        vertical-align: middle;\n",
       "    }\n",
       "\n",
       "    .dataframe tbody tr th {\n",
       "        vertical-align: top;\n",
       "    }\n",
       "\n",
       "    .dataframe thead th {\n",
       "        text-align: right;\n",
       "    }\n",
       "</style>\n",
       "<table border=\"1\" class=\"dataframe\">\n",
       "  <thead>\n",
       "    <tr style=\"text-align: right;\">\n",
       "      <th></th>\n",
       "      <th>text</th>\n",
       "      <th>Sentiment</th>\n",
       "    </tr>\n",
       "  </thead>\n",
       "  <tbody>\n",
       "    <tr>\n",
       "      <th>0</th>\n",
       "      <td>not verified |  british airways has confirmed ...</td>\n",
       "      <td>negative</td>\n",
       "    </tr>\n",
       "    <tr>\n",
       "      <th>1</th>\n",
       "      <td>✅ trip verified | worst ba experience. i was s...</td>\n",
       "      <td>negative</td>\n",
       "    </tr>\n",
       "    <tr>\n",
       "      <th>2</th>\n",
       "      <td>✅ trip verified |  my daughter and i were deni...</td>\n",
       "      <td>negative</td>\n",
       "    </tr>\n",
       "    <tr>\n",
       "      <th>3</th>\n",
       "      <td>✅ trip verified | despite boarding being the u...</td>\n",
       "      <td>positive</td>\n",
       "    </tr>\n",
       "    <tr>\n",
       "      <th>4</th>\n",
       "      <td>not verified |  flight cancelled, no crew! 9th...</td>\n",
       "      <td>negative</td>\n",
       "    </tr>\n",
       "  </tbody>\n",
       "</table>\n",
       "</div>"
      ],
      "text/plain": [
       "                                                text Sentiment\n",
       "0  not verified |  british airways has confirmed ...  negative\n",
       "1  ✅ trip verified | worst ba experience. i was s...  negative\n",
       "2  ✅ trip verified |  my daughter and i were deni...  negative\n",
       "3  ✅ trip verified | despite boarding being the u...  positive\n",
       "4  not verified |  flight cancelled, no crew! 9th...  negative"
      ]
     },
     "execution_count": 43,
     "metadata": {},
     "output_type": "execute_result"
    }
   ],
   "source": [
    "review_df = review_df[review_df['Sentiment'] != 'neutral']\n",
    "print(review_df.shape)\n",
    "review_df.head()"
   ]
  },
  {
   "cell_type": "code",
   "execution_count": 44,
   "id": "44dcadde",
   "metadata": {},
   "outputs": [
    {
     "data": {
      "text/plain": [
       "negative    2056\n",
       "positive    1212\n",
       "Name: Sentiment, dtype: int64"
      ]
     },
     "execution_count": 44,
     "metadata": {},
     "output_type": "execute_result"
    }
   ],
   "source": [
    "review_df['Sentiment'].value_counts()"
   ]
  },
  {
   "cell_type": "markdown",
   "id": "66ccd0a7",
   "metadata": {},
   "source": [
    "let's retrieve all text data from the dataset"
   ]
  },
  {
   "cell_type": "code",
   "execution_count": 45,
   "id": "b1a66f0c",
   "metadata": {},
   "outputs": [],
   "source": [
    "import numpy as np # linear algebra\n",
    "import pandas as pd # data processing, CSV file I/O (e.g. pd.read_csv)\n",
    "import re # for regex\n",
    "from nltk.corpus import stopwords\n",
    "import textblob\n",
    "from textblob import Word\n",
    "from nltk.tokenize import word_tokenize\n",
    "from nltk.stem import SnowballStemmer\n",
    "from sklearn.feature_extraction.text import CountVectorizer\n",
    "from sklearn.model_selection import train_test_split\n",
    "from sklearn.naive_bayes import GaussianNB,MultinomialNB,BernoulliNB\n",
    "from sklearn.metrics import accuracy_score\n",
    "import pickle"
   ]
  },
  {
   "cell_type": "code",
   "execution_count": 46,
   "id": "94df9eb8",
   "metadata": {},
   "outputs": [
    {
     "name": "stderr",
     "output_type": "stream",
     "text": [
      "[nltk_data] Downloading package stopwords to\n",
      "[nltk_data]     C:\\Users\\philippe\\AppData\\Roaming\\nltk_data...\n",
      "[nltk_data]   Package stopwords is already up-to-date!\n"
     ]
    },
    {
     "data": {
      "text/plain": [
       "True"
      ]
     },
     "execution_count": 46,
     "metadata": {},
     "output_type": "execute_result"
    }
   ],
   "source": [
    "import nltk\n",
    "nltk.download('stopwords')"
   ]
  },
  {
   "cell_type": "code",
   "execution_count": 47,
   "id": "f7d80c9d",
   "metadata": {},
   "outputs": [
    {
     "name": "stderr",
     "output_type": "stream",
     "text": [
      "[nltk_data] Downloading package punkt to\n",
      "[nltk_data]     C:\\Users\\philippe\\AppData\\Roaming\\nltk_data...\n",
      "[nltk_data]   Package punkt is already up-to-date!\n"
     ]
    },
    {
     "data": {
      "text/plain": [
       "True"
      ]
     },
     "execution_count": 47,
     "metadata": {},
     "output_type": "execute_result"
    }
   ],
   "source": [
    " nltk.download('punkt')"
   ]
  },
  {
   "cell_type": "markdown",
   "id": "4be0e775",
   "metadata": {},
   "source": [
    "# STEPS TO CLEAN THE REVIEWS :"
   ]
  },
  {
   "cell_type": "markdown",
   "id": "578d7325",
   "metadata": {},
   "source": [
    "1. Remove HTML tags\n",
    "\n",
    "2. Remove special characters\n",
    "\n",
    "3. Convert everything to lowercase\n",
    "\n",
    "4. Remove stopwords\n",
    "    \n",
    "5. Stemming"
   ]
  },
  {
   "cell_type": "markdown",
   "id": "e38b31b0",
   "metadata": {},
   "source": [
    "## 1. Remove HTML tags"
   ]
  },
  {
   "cell_type": "code",
   "execution_count": 48,
   "id": "fa2d89f3",
   "metadata": {},
   "outputs": [],
   "source": [
    "def clean(text):\n",
    "    \n",
    "    cleaned = re.compile(r'<.*?>')\n",
    "    return re.sub(cleaned,'',text)"
   ]
  },
  {
   "cell_type": "code",
   "execution_count": 49,
   "id": "e04db003",
   "metadata": {},
   "outputs": [
    {
     "data": {
      "text/plain": [
       "'not verified |  british airways has confirmed itself as the worst airline in the uk. last minute cancellation, no explanation, refusal to book with another airline “because we don’t have an arrangement with them”. what’s happened to what used to be our national airline?'"
      ]
     },
     "execution_count": 49,
     "metadata": {},
     "output_type": "execute_result"
    }
   ],
   "source": [
    "review_df.text = review_df.text.apply(clean)\n",
    "review_df.text[0]"
   ]
  },
  {
   "cell_type": "markdown",
   "id": "38a4b4fd",
   "metadata": {},
   "source": [
    "## 2. Remove special characters"
   ]
  },
  {
   "cell_type": "code",
   "execution_count": 50,
   "id": "d1b589cc",
   "metadata": {},
   "outputs": [],
   "source": [
    "def is_special(text):\n",
    "    rem = ''\n",
    "    for i in text:\n",
    "        if i.isalnum():\n",
    "            rem = rem + i\n",
    "        else:\n",
    "            rem = rem + ' '\n",
    "    return rem"
   ]
  },
  {
   "cell_type": "code",
   "execution_count": 51,
   "id": "e246dde0",
   "metadata": {},
   "outputs": [
    {
     "data": {
      "text/plain": [
       "'not verified    british airways has confirmed itself as the worst airline in the uk  last minute cancellation  no explanation  refusal to book with another airline  because we don t have an arrangement with them   what s happened to what used to be our national airline '"
      ]
     },
     "execution_count": 51,
     "metadata": {},
     "output_type": "execute_result"
    }
   ],
   "source": [
    "review_df.text = review_df.text.apply(is_special)\n",
    "review_df.text[0]"
   ]
  },
  {
   "cell_type": "markdown",
   "id": "64f43695",
   "metadata": {},
   "source": [
    "## 3. Convert everything to lowercase"
   ]
  },
  {
   "cell_type": "code",
   "execution_count": 52,
   "id": "f87bb5f7",
   "metadata": {},
   "outputs": [],
   "source": [
    "def to_lower(text):\n",
    "    text = text.lower()\n",
    "    return text"
   ]
  },
  {
   "cell_type": "code",
   "execution_count": 53,
   "id": "5f5b92a1",
   "metadata": {},
   "outputs": [
    {
     "data": {
      "text/plain": [
       "'not verified    british airways has confirmed itself as the worst airline in the uk  last minute cancellation  no explanation  refusal to book with another airline  because we don t have an arrangement with them   what s happened to what used to be our national airline '"
      ]
     },
     "execution_count": 53,
     "metadata": {},
     "output_type": "execute_result"
    }
   ],
   "source": [
    "review_df.text = review_df.text.apply(to_lower)\n",
    "review_df.text[0]"
   ]
  },
  {
   "cell_type": "markdown",
   "id": "92cfedd0",
   "metadata": {},
   "source": [
    "## 4. Remove stopwords"
   ]
  },
  {
   "cell_type": "code",
   "execution_count": 54,
   "id": "077f9c21",
   "metadata": {},
   "outputs": [],
   "source": [
    "def rem_stopwords(text):\n",
    "    stop_words = set(stopwords.words('english'))\n",
    "    words = word_tokenize(text)\n",
    "    return [w for w in words if w not in stop_words]"
   ]
  },
  {
   "cell_type": "code",
   "execution_count": 55,
   "id": "d56ea5e1",
   "metadata": {},
   "outputs": [
    {
     "data": {
      "text/plain": [
       "['verified',\n",
       " 'british',\n",
       " 'airways',\n",
       " 'confirmed',\n",
       " 'worst',\n",
       " 'airline',\n",
       " 'uk',\n",
       " 'last',\n",
       " 'minute',\n",
       " 'cancellation',\n",
       " 'explanation',\n",
       " 'refusal',\n",
       " 'book',\n",
       " 'another',\n",
       " 'airline',\n",
       " 'arrangement',\n",
       " 'happened',\n",
       " 'used',\n",
       " 'national',\n",
       " 'airline']"
      ]
     },
     "execution_count": 55,
     "metadata": {},
     "output_type": "execute_result"
    }
   ],
   "source": [
    "review_df.text = review_df.text.apply(rem_stopwords)\n",
    "review_df.text[0]"
   ]
  },
  {
   "cell_type": "code",
   "execution_count": 56,
   "id": "e1acf8ad",
   "metadata": {},
   "outputs": [
    {
     "name": "stderr",
     "output_type": "stream",
     "text": [
      "[nltk_data] Downloading package wordnet to\n",
      "[nltk_data]     C:\\Users\\philippe\\AppData\\Roaming\\nltk_data...\n",
      "[nltk_data]   Package wordnet is already up-to-date!\n"
     ]
    },
    {
     "data": {
      "text/plain": [
       "True"
      ]
     },
     "execution_count": 56,
     "metadata": {},
     "output_type": "execute_result"
    }
   ],
   "source": [
    "from nltk.stem.wordnet import WordNetLemmatizer\n",
    "nltk.download('wordnet')"
   ]
  },
  {
   "cell_type": "code",
   "execution_count": 57,
   "id": "02bfc000",
   "metadata": {},
   "outputs": [],
   "source": [
    "review_df['sent_sum'] = review_df.Sentiment.replace({'negative' : '0', 'positive': 1})"
   ]
  },
  {
   "cell_type": "code",
   "execution_count": 58,
   "id": "3390ef54",
   "metadata": {},
   "outputs": [
    {
     "data": {
      "text/html": [
       "<div>\n",
       "<style scoped>\n",
       "    .dataframe tbody tr th:only-of-type {\n",
       "        vertical-align: middle;\n",
       "    }\n",
       "\n",
       "    .dataframe tbody tr th {\n",
       "        vertical-align: top;\n",
       "    }\n",
       "\n",
       "    .dataframe thead th {\n",
       "        text-align: right;\n",
       "    }\n",
       "</style>\n",
       "<table border=\"1\" class=\"dataframe\">\n",
       "  <thead>\n",
       "    <tr style=\"text-align: right;\">\n",
       "      <th></th>\n",
       "      <th>text</th>\n",
       "      <th>Sentiment</th>\n",
       "      <th>sent_sum</th>\n",
       "    </tr>\n",
       "  </thead>\n",
       "  <tbody>\n",
       "    <tr>\n",
       "      <th>0</th>\n",
       "      <td>[verified, british, airways, confirmed, worst,...</td>\n",
       "      <td>negative</td>\n",
       "      <td>0</td>\n",
       "    </tr>\n",
       "    <tr>\n",
       "      <th>1</th>\n",
       "      <td>[trip, verified, worst, ba, experience, suppos...</td>\n",
       "      <td>negative</td>\n",
       "      <td>0</td>\n",
       "    </tr>\n",
       "    <tr>\n",
       "      <th>2</th>\n",
       "      <td>[trip, verified, daughter, denied, boarding, b...</td>\n",
       "      <td>negative</td>\n",
       "      <td>0</td>\n",
       "    </tr>\n",
       "    <tr>\n",
       "      <th>3</th>\n",
       "      <td>[trip, verified, despite, boarding, usual, fre...</td>\n",
       "      <td>positive</td>\n",
       "      <td>1</td>\n",
       "    </tr>\n",
       "    <tr>\n",
       "      <th>4</th>\n",
       "      <td>[verified, flight, cancelled, crew, 9th, septe...</td>\n",
       "      <td>negative</td>\n",
       "      <td>0</td>\n",
       "    </tr>\n",
       "  </tbody>\n",
       "</table>\n",
       "</div>"
      ],
      "text/plain": [
       "                                                text Sentiment sent_sum\n",
       "0  [verified, british, airways, confirmed, worst,...  negative        0\n",
       "1  [trip, verified, worst, ba, experience, suppos...  negative        0\n",
       "2  [trip, verified, daughter, denied, boarding, b...  negative        0\n",
       "3  [trip, verified, despite, boarding, usual, fre...  positive        1\n",
       "4  [verified, flight, cancelled, crew, 9th, septe...  negative        0"
      ]
     },
     "execution_count": 58,
     "metadata": {},
     "output_type": "execute_result"
    }
   ],
   "source": [
    "review_df.head()"
   ]
  },
  {
   "cell_type": "code",
   "execution_count": 59,
   "id": "65d024af",
   "metadata": {},
   "outputs": [],
   "source": [
    "from wordcloud import WordCloud\n",
    "import matplotlib.pyplot as plt"
   ]
  },
  {
   "cell_type": "markdown",
   "id": "5f4c7644",
   "metadata": {},
   "source": [
    "## wordcloud Function"
   ]
  },
  {
   "cell_type": "code",
   "execution_count": 60,
   "id": "8364b0c4",
   "metadata": {},
   "outputs": [],
   "source": [
    "# wordcloud function\n",
    "\n",
    "\n",
    "\n",
    "def show_wordcloud(data, title = None):\n",
    "    wordcloud = WordCloud(\n",
    "        background_color = 'white',\n",
    "        max_words = 200,\n",
    "        max_font_size = 40, \n",
    "        scale = 3,\n",
    "        random_state = 42\n",
    "    ).generate(str(data))\n",
    "\n",
    "    fig = plt.figure(1, figsize = (20, 20))\n",
    "    plt.axis('off')\n",
    "    if title: \n",
    "        fig.suptitle(title, fontsize = 20)\n",
    "        fig.subplots_adjust(top = 2.3)\n",
    "\n",
    "    plt.imshow(wordcloud)\n",
    "    plt.show()\n",
    "    \n",
    "# print wordcloud"
   ]
  },
  {
   "cell_type": "code",
   "execution_count": 61,
   "id": "3cb08107",
   "metadata": {},
   "outputs": [
    {
     "data": {
      "image/png": "[encoded data removed]",
      "text/plain": [
       "<Figure size 1440x1440 with 1 Axes>"
      ]
     },
     "metadata": {
      "needs_background": "light"
     },
     "output_type": "display_data"
    }
   ],
   "source": [
    "show_wordcloud(review_df[\"text\"])"
   ]
  },
  {
   "cell_type": "markdown",
   "id": "21a9fa73",
   "metadata": {},
   "source": [
    "## 5. Stem the words"
   ]
  },
  {
   "cell_type": "code",
   "execution_count": 62,
   "id": "baa9e238",
   "metadata": {},
   "outputs": [],
   "source": [
    "def stem_txt(text):\n",
    "    ss = SnowballStemmer('english')\n",
    "    return \" \".join([ss.stem(w) for w in text])"
   ]
  },
  {
   "cell_type": "code",
   "execution_count": 63,
   "id": "5268f134",
   "metadata": {},
   "outputs": [
    {
     "data": {
      "text/plain": [
       "'verifi british airway confirm worst airlin uk last minut cancel explan refus book anoth airlin arrang happen use nation airlin'"
      ]
     },
     "execution_count": 63,
     "metadata": {},
     "output_type": "execute_result"
    }
   ],
   "source": [
    "review_df.text = review_df.text.apply(stem_txt)\n",
    "review_df.text[0]"
   ]
  },
  {
   "cell_type": "markdown",
   "id": "0080fe82",
   "metadata": {},
   "source": [
    "## let's create the model and import relevant libraries"
   ]
  },
  {
   "cell_type": "code",
   "execution_count": 64,
   "id": "24112b16",
   "metadata": {},
   "outputs": [
    {
     "data": {
      "text/html": [
       "<div>\n",
       "<style scoped>\n",
       "    .dataframe tbody tr th:only-of-type {\n",
       "        vertical-align: middle;\n",
       "    }\n",
       "\n",
       "    .dataframe tbody tr th {\n",
       "        vertical-align: top;\n",
       "    }\n",
       "\n",
       "    .dataframe thead th {\n",
       "        text-align: right;\n",
       "    }\n",
       "</style>\n",
       "<table border=\"1\" class=\"dataframe\">\n",
       "  <thead>\n",
       "    <tr style=\"text-align: right;\">\n",
       "      <th></th>\n",
       "      <th>text</th>\n",
       "      <th>Sentiment</th>\n",
       "      <th>sent_sum</th>\n",
       "    </tr>\n",
       "  </thead>\n",
       "  <tbody>\n",
       "    <tr>\n",
       "      <th>0</th>\n",
       "      <td>verifi british airway confirm worst airlin uk ...</td>\n",
       "      <td>negative</td>\n",
       "      <td>0</td>\n",
       "    </tr>\n",
       "    <tr>\n",
       "      <th>1</th>\n",
       "      <td>trip verifi worst ba experi suppos fli itali 7...</td>\n",
       "      <td>negative</td>\n",
       "      <td>0</td>\n",
       "    </tr>\n",
       "    <tr>\n",
       "      <th>2</th>\n",
       "      <td>trip verifi daughter deni board busi class fli...</td>\n",
       "      <td>negative</td>\n",
       "      <td>0</td>\n",
       "    </tr>\n",
       "    <tr>\n",
       "      <th>3</th>\n",
       "      <td>trip verifi despit board usual free lhr group ...</td>\n",
       "      <td>positive</td>\n",
       "      <td>1</td>\n",
       "    </tr>\n",
       "    <tr>\n",
       "      <th>4</th>\n",
       "      <td>verifi flight cancel crew 9th septemb 2023 pea...</td>\n",
       "      <td>negative</td>\n",
       "      <td>0</td>\n",
       "    </tr>\n",
       "  </tbody>\n",
       "</table>\n",
       "</div>"
      ],
      "text/plain": [
       "                                                text Sentiment sent_sum\n",
       "0  verifi british airway confirm worst airlin uk ...  negative        0\n",
       "1  trip verifi worst ba experi suppos fli itali 7...  negative        0\n",
       "2  trip verifi daughter deni board busi class fli...  negative        0\n",
       "3  trip verifi despit board usual free lhr group ...  positive        1\n",
       "4  verifi flight cancel crew 9th septemb 2023 pea...  negative        0"
      ]
     },
     "execution_count": 64,
     "metadata": {},
     "output_type": "execute_result"
    }
   ],
   "source": [
    "review_df.head()"
   ]
  },
  {
   "cell_type": "code",
   "execution_count": 65,
   "id": "db4989c1",
   "metadata": {},
   "outputs": [
    {
     "data": {
      "text/plain": [
       "(array([0, 0, 0, ..., 1, 0, 1], dtype=int64),\n",
       " Index(['negative', 'positive'], dtype='object'))"
      ]
     },
     "execution_count": 65,
     "metadata": {},
     "output_type": "execute_result"
    }
   ],
   "source": [
    "sentiment_label = review_df.Sentiment.factorize()\n",
    "sentiment_label"
   ]
  },
  {
   "cell_type": "code",
   "execution_count": 66,
   "id": "1a4879ac",
   "metadata": {},
   "outputs": [],
   "source": [
    "import pandas as pd\n",
    "import matplotlib.pyplot as plt\n",
    "\n",
    "from tensorflow.keras.preprocessing.text import Tokenizer\n",
    "from tensorflow.keras.preprocessing.sequence import pad_sequences\n",
    "from tensorflow.keras.models import Sequential\n",
    "from tensorflow.keras.layers import LSTM,Dense, Dropout, SpatialDropout1D\n",
    "from tensorflow.keras.layers import Embedding\n"
   ]
  },
  {
   "cell_type": "markdown",
   "id": "23fe91d9",
   "metadata": {},
   "source": [
    "First, retrieve all the text data from the dataset and  tokenize all the words in the text with the help of Tokenizer"
   ]
  },
  {
   "cell_type": "code",
   "execution_count": 67,
   "id": "112c372a",
   "metadata": {},
   "outputs": [],
   "source": [
    "tweet = review_df.text.values\n",
    "tokenizer = Tokenizer(num_words=3000)\n",
    "tokenizer.fit_on_texts(tweet)\n",
    "vocab_size = len(tokenizer.word_index) + 1\n",
    "encoded_docs = tokenizer.texts_to_sequences(tweet)\n",
    "padded_sequence = pad_sequences(encoded_docs, maxlen=200)\n"
   ]
  },
  {
   "cell_type": "code",
   "execution_count": 68,
   "id": "07cd15e2",
   "metadata": {},
   "outputs": [
    {
     "name": "stdout",
     "output_type": "stream",
     "text": [
      "{'flight': 1, 'seat': 2, 'ba': 3, 'servic': 4, 'time': 5, 'london': 6, 'food': 7, 'verifi': 8, 'british': 9, 'airway': 10, 'crew': 11, 'good': 12, 'cabin': 13, 'class': 14, 'hour': 15, 'airlin': 16, 'trip': 17, 'busi': 18, 'board': 19, 'check': 20, 'one': 21, 'get': 22, 'staff': 23, 'heathrow': 24, 'fli': 25, 'would': 26, 'economi': 27, 'first': 28, 'passeng': 29, 'offer': 30, 'return': 31, 'drink': 32, 'meal': 33, 'plane': 34, 'us': 35, 'arriv': 36, 'travel': 37, 'even': 38, 'book': 39, 'back': 40, 'use': 41, 'club': 42, 'custom': 43, 'loung': 44, 'review': 45, 'delay': 46, 'could': 47, 'experi': 48, 'serv': 49, 'lhr': 50, 'day': 51, 'bag': 52, 'new': 53, 'like': 54, 'aircraft': 55, 'ask': 56, 'comfort': 57, '2': 58, 'told': 59, 'call': 60, 'minut': 61, 'go': 62, 'airport': 63, 'long': 64, '3': 65, 'realli': 66, 'take': 67, 'well': 68, 'way': 69, 'year': 70, 'friend': 71, 'premium': 72, 'got': 73, 'pay': 74, 'choic': 75, 'leg': 76, 'better': 77, 'much': 78, 'world': 79, 'great': 80, 'poor': 81, 'wait': 82, 'make': 83, 'tri': 84, 'help': 85, 'two': 86, 'also': 87, 'work': 88, 'entertain': 89, 'flew': 90, 'seem': 91, 'nice': 92, 'look': 93, 'need': 94, 'last': 95, 'old': 96, 'full': 97, 'luggag': 98, '5': 99, 'made': 100, 'excel': 101, 'cancel': 102, 'due': 103, 'anoth': 104, 'still': 105, 'never': 106, 'next': 107, 'breakfast': 108, 'howev': 109, 'ticket': 110, 'given': 111, 'gatwick': 112, 'cost': 113, 'late': 114, 'chang': 115, 'peopl': 116, 'land': 117, 'screen': 118, 'small': 119, 'select': 120, 'via': 121, 'took': 122, 'say': 123, 'short': 124, 'said': 125, 'gate': 126, 'left': 127, 'haul': 128, 'want': 129, 'room': 130, 'extra': 131, 'avail': 132, 'although': 133, 'paid': 134, 'row': 135, 'quit': 136, 'provid': 137, 'differ': 138, 'termin': 139, 'rout': 140, 'price': 141, 'system': 142, 'noth': 143, 'expect': 144, 'qualiti': 145, 'connect': 146, '4': 147, 'ok': 148, 'littl': 149, 'option': 150, 'reason': 151, 'mani': 152, 'problem': 153, 'inform': 154, '1': 155, 'manag': 156, 'overal': 157, 'snack': 158, 'water': 159, 'departur': 160, 'disappoint': 161, 'find': 162, 'quick': 163, 'baggag': 164, 'though': 165, 'money': 166, 'attend': 167, 'best': 168, 'refund': 169, 'europ': 170, 'issu': 171, 'miss': 172, 'front': 173, 'bad': 174, 'space': 175, 'sleep': 176, 'clean': 177, 'person': 178, '10': 179, 'secur': 180, 'bit': 181, 'enough': 182, 'air': 183, 'put': 184, 'product': 185, 'charg': 186, 'toilet': 187, 'wine': 188, 'around': 189, 'found': 190, 'start': 191, 'thing': 192, 'fine': 193, 'standard': 194, '30': 195, 'come': 196, 'member': 197, 'pleasant': 198, 'carrier': 199, 'ife': 200, 'without': 201, 'effici': 202, 'point': 203, 'journey': 204, 'went': 205, 'see': 206, 'feel': 207, 'far': 208, 'receiv': 209, 'think': 210, 'later': 211, 'a380': 212, 'free': 213, 'onlin': 214, 'allow': 215, 'usual': 216, 'know': 217, 'queue': 218, 'end': 219, 'upgrad': 220, 'clear': 221, 'dinner': 222, 'ground': 223, 'number': 224, 'middl': 225, 'flown': 226, 'sit': 227, 'rather': 228, 'wife': 229, 'final': 230, 'phone': 231, 'despit': 232, 'worst': 233, 'pass': 234, 'attent': 235, 'home': 236, 'lot': 237, 'less': 238, 'main': 239, 'hard': 240, 'show': 241, 'sandwich': 242, 'profession': 243, 't5': 244, 'line': 245, 'aisl': 246, 'half': 247, 'give': 248, 'earli': 249, 'came': 250, '6': 251, 'almost': 252, 'hot': 253, 'uncomfort': 254, 'tea': 255, 'alway': 256, 'low': 257, 'outbound': 258, 'ever': 259, 'week': 260, 'inflight': 261, 'hand': 262, 'fast': 263, 'window': 264, 'second': 265, 'month': 266, 'care': 267, 'move': 268, 'sinc': 269, 'min': 270, '747': 271, 'everi': 272, 'leav': 273, 'order': 274, 'gave': 275, 'legroom': 276, 'abl': 277, 'onboard': 278, 'email': 279, '20': 280, 'pretti': 281, 'chicken': 282, 'anyth': 283, 'complet': 284, 'depart': 285, 'least': 286, 'total': 287, 'boe': 288, 'cut': 289, 'run': 290, 'recent': 291, '777': 292, 'complaint': 293, 'plus': 294, 'prioriti': 295, 'night': 296, 'surpris': 297, 'choos': 298, 'compar': 299, 'three': 300, 'desk': 301, 'lack': 302, 'decent': 303, '15': 304, 'singapor': 305, 'improv': 306, 'close': 307, 'actual': 308, 'includ': 309, 'enjoy': 310, 'everyth': 311, 'limit': 312, 'terribl': 313, 'pre': 314, 'possibl': 315, 'mean': 316, 'away': 317, 'voucher': 318, 'sure': 319, 'card': 320, 'sever': 321, 'request': 322, 'decid': 323, 'process': 324, 'high': 325, 'lost': 326, 'cours': 327, 'kept': 328, 'happen': 329, 'felt': 330, 'budget': 331, 'cramp': 332, 'coffe': 333, 'avoid': 334, 'aw': 335, 'champagn': 336, 'schedul': 337, 'agent': 338, 'let': 339, 'worth': 340, 'done': 341, 'follow': 342, 'turn': 343, 'rebook': 344, 'drop': 345, 'rest': 346, 'near': 347, 'reclin': 348, 'eat': 349, '8': 350, 'deck': 351, 'morn': 352, 'direct': 353, 'accept': 354, 'thought': 355, 'part': 356, 'respons': 357, 'announc': 358, 'rude': 359, 'light': 360, 'plenti': 361, 'smooth': 362, 'fact': 363, 'bar': 364, 'previous': 365, 'extrem': 366, 'date': 367, 'case': 368, 'etc': 369, 'fare': 370, 'hotel': 371, 'coupl': 372, 'except': 373, 'recommend': 374, 'contact': 375, 'someon': 376, 'area': 377, 'addit': 378, 'whole': 379, 'either': 380, 'may': 381, 'place': 382, 'open': 383, 'appear': 384, 'posit': 385, 'menu': 386, 'bed': 387, 'especi': 388, 'absolut': 389, 'slow': 390, 'chees': 391, 'valu': 392, 'face': 393, 'fair': 394, 'someth': 395, 'movi': 396, 'glass': 397, 'narrow': 398, 'understand': 399, 'togeth': 400, 'websit': 401, 'alreadi': 402, 'expens': 403, 'holiday': 404, 'happi': 405, 'tv': 406, 'special': 407, 'compani': 408, 'refus': 409, 'compens': 410, 'level': 411, 'behind': 412, 'particular': 413, 'regular': 414, 'tray': 415, 'past': 416, 'top': 417, 'welcom': 418, '7': 419, 'forward': 420, 'longer': 421, 'claim': 422, 'buy': 423, 'complain': 424, 'els': 425, 'fault': 426, 'keep': 427, 'wors': 428, 'polit': 429, 'averag': 430, 'impress': 431, 'avio': 432, 'notic': 433, 'thank': 434, 'right': 435, 'instead': 436, '12': 437, 'everyon': 438, 'meant': 439, 'side': 440, 'bottl': 441, 'age': 442, 'cold': 443, 'wrong': 444, 'walk': 445, 'big': 446, 'tell': 447, 'definit': 448, 'stand': 449, 'deliv': 450, 'famili': 451, 'slight': 452, 'tire': 453, 'oper': 454, 'general': 455, 'throughout': 456, 'bus': 457, 'uk': 458, 'altern': 459, 'basic': 460, 'track': 461, 'galley': 462, 'result': 463, 'okay': 464, 'reserv': 465, 'ago': 466, 'sat': 467, 'unfortun': 468, 'round': 469, 'ryanair': 470, 'appal': 471, 'within': 472, 'continu': 473, 'access': 474, 'sad': 475, 'easi': 476, 'easyjet': 477, 'emir': 478, 'assist': 479, 'must': 480, 'purchas': 481, 'futur': 482, 'onto': 483, 'control': 484, 'certain': 485, 'spent': 486, 'eventu': 487, 'upper': 488, 'transfer': 489, 'explain': 490, 'shame': 491, 'empti': 492, 'love': 493, 'gone': 494, 'yet': 495, '9': 496, 'taken': 497, 'husband': 498, 'treat': 499, 'jfk': 500, 'name': 501, 'roll': 502, '40': 503, 'lgw': 504, 'whilst': 505, 'salad': 506, 'captain': 507, 'experienc': 508, 'film': 509, 'wonder': 510, 'earlier': 511, '45': 512, 'anyon': 513, 'tabl': 514, 'stop': 515, 'non': 516, 'counter': 517, 'situat': 518, 'hope': 519, 'hold': 520, 'configur': 521, 'prior': 522, 'cheap': 523, 'apart': 524, 'tasti': 525, 'stay': 526, 'job': 527, 'partner': 528, 'frequent': 529, 'broken': 530, 'dri': 531, 'huge': 532, 'carri': 533, 'american': 534, 'lunch': 535, 'becom': 536, 'cater': 537, 'ladi': 538, 'consid': 539, 'dirti': 540, 'larg': 541, 'ahead': 542, 'simpli': 543, 'watch': 544, 'warm': 545, 'across': 546, 'normal': 547, 'bother': 548, 'speak': 549, 'prefer': 550, 'probabl': 551, 'advis': 552, 'quiet': 553, '24': 554, 'caus': 555, 'remain': 556, 'trolley': 557, 'section': 558, 'afternoon': 559, 'origin': 560, 'difficult': 561, 'four': 562, 'might': 563, 'interest': 564, 'read': 565, 'virgin': 566, 'sent': 567, '787': 568, 'storag': 569, 'answer': 570, 'wast': 571, 'apolog': 572, 'suppos': 573, 'reach': 574, 'san': 575, 'tini': 576, 'sort': 577, 'replac': 578, 'updat': 579, 'juic': 580, 'unless': 581, 'european': 582, 'advanc': 583, 'consist': 584, 'cup': 585, 'gold': 586, '11': 587, 'confirm': 588, 'load': 589, 'attitud': 590, 'seen': 591, 'relat': 592, 'pack': 593, 'fee': 594, 'centr': 595, 'pilot': 596, 'save': 597, 'real': 598, 'upon': 599, 'citi': 600, 'arrang': 601, 'appar': 602, 'amount': 603, 'rome': 604, 'state': 605, 'destin': 606, 'deal': 607, 'handl': 608, 'toronto': 609, 'separ': 610, 'present': 611, 'joke': 612, 'exit': 613, 'flat': 614, 'requir': 615, 'pleas': 616, 'a320': 617, 'beef': 618, 'plan': 619, '400': 620, '00': 621, 'smile': 622, 'bangkok': 623, 'repli': 624, 'group': 625, 'children': 626, 'talk': 627, 'overhead': 628, 'town': 629, 'kind': 630, 'other': 631, 'soon': 632, 'train': 633, 'ran': 634, 'amaz': 635, 'older': 636, 'sorri': 637, 'layout': 638, 'flyer': 639, 'york': 640, 'johannesburg': 641, 'spend': 642, 'pick': 643, 'horribl': 644, 'touch': 645, 'ined': 646, 'entir': 647, 'app': 648, 'size': 649, 'cape': 650, 'young': 651, 'outward': 652, '50': 653, 'manchest': 654, 'covid': 655, 'beverag': 656, 'adequ': 657, 'overnight': 658, 'proper': 659, 'obvious': 660, 'refresh': 661, 'complimentari': 662, 'execut': 663, 'head': 664, 'fail': 665, 'believ': 666, 'add': 667, 'negat': 668, 'amsterdam': 669, 'polici': 670, 'competit': 671, 'suit': 672, 'item': 673, 'suitcas': 674, 'often': 675, 'lax': 676, 'chose': 677, '14': 678, 'imposs': 679, 'condit': 680, 'declin': 681, 'yes': 682, 'shock': 683, 'step': 684, 'set': 685, 'today': 686, 'note': 687, 'miami': 688, 'silver': 689, 'perfect': 690, 'madrid': 691, 'fantast': 692, 'e': 693, 'worn': 694, 'amen': 695, 'fa': 696, 'form': 697, 'mix': 698, 'sector': 699, 'pari': 700, 'explan': 701, 'domest': 702, 'dish': 703, 'immigr': 704, 'south': 705, 'passport': 706, 'crisp': 707, 'bare': 708, 'crowd': 709, 'bread': 710, 'relax': 711, 'push': 712, 'matter': 713, 'annoy': 714, 'door': 715, 'major': 716, 'wifi': 717, 'credit': 718, 'inbound': 719, 'edinburgh': 720, 'fit': 721, 'fulli': 722, 'hong': 723, 'kong': 724, 'mile': 725, 'messag': 726, 'lie': 727, 'exact': 728, 'pasta': 729, 'dread': 730, 'box': 731, 'steward': 732, 'support': 733, 'attempt': 734, '200': 735, 'finish': 736, 'status': 737, 'spacious': 738, 'rate': 739, 'glasgow': 740, 'greet': 741, 'nation': 742, 'downgrad': 743, 'vancouv': 744, 'twice': 745, 'unabl': 746, 'disgrac': 747, 'technic': 748, 'reduc': 749, 'tast': 750, 'rear': 751, 'mistak': 752, 'per': 753, 'design': 754, 'stress': 755, 'term': 756, 'pitch': 757, 'intern': 758, 'type': 759, 'ignor': 760, 'promis': 761, 'chicago': 762, 'collect': 763, 'repres': 764, 'otherwis': 765, 'exist': 766, 'disgust': 767, 'pillow': 768, 'similar': 769, 'plastic': 770, 'guess': 771, 'forc': 772, 'galleri': 773, 'tight': 774, 'rush': 775, 'mediocr': 776, 'prompt': 777, '25': 778, 'b': 779, 'honest': 780, 'communic': 781, 'chat': 782, 'bring': 783, 'alloc': 784, 'ridicul': 785, 'qatar': 786, 'athen': 787, 'accommod': 788, 'along': 789, 'prepar': 790, 'base': 791, 'block': 792, 'beyond': 793, 'vegetarian': 794, 'weather': 795, 'refurbish': 796, 'fill': 797, 'disembark': 798, 'interior': 799, 'third': 800, 'singl': 801, 'dublin': 802, 'address': 803, 'sydney': 804, 'cathay': 805, 'sign': 806, 'dubai': 807, 'team': 808, 'style': 809, 'detail': 810, 'constant': 811, 'curri': 812, 'fruit': 813, 'piec': 814, 'aa': 815, 'english': 816, 'concord': 817, 'biscuit': 818, 'stewardess': 819, 'fleet': 820, 'march': 821, 'chaotic': 822, 'appreci': 823, 'approach': 824, 'man': 825, 'starter': 826, 'toward': 827, 'headphon': 828, 'babi': 829, 'begin': 830, 'taxi': 831, 'iberia': 832, 'child': 833, 'blanket': 834, 'daughter': 835, 'comment': 836, 'effort': 837, 'cheaper': 838, 'embarrass': 839, 'chocol': 840, 'miser': 841, 'initi': 842, '1st': 843, 'occas': 844, 'mind': 845, 'plate': 846, 'regard': 847, 'rang': 848, 'loyal': 849, 'question': 850, 'lower': 851, 'concern': 852, 'offic': 853, 'washington': 854, 'spoke': 855, 'cook': 856, 'floor': 857, 'croissant': 858, 'b777': 859, 'fall': 860, 'share': 861, 'stuck': 862, 'none': 863, '100': 864, 'hungri': 865, 'write': 866, 'wish': 867, 'locker': 868, '18': 869, 'superb': 870, 'locat': 871, 'hrs': 872, 'serious': 873, 'barcelona': 874, 'privaci': 875, 'ensur': 876, 'smaller': 877, 'dessert': 878, 'video': 879, 'saw': 880, 'anymor': 881, 'facil': 882, 'bought': 883, 'star': 884, 'fas': 885, 'word': 886, 'mention': 887, 'multipl': 888, 'kit': 889, 'hang': 890, 'catch': 891, 'view': 892, 'therefor': 893, 'superior': 894, 'white': 895, 'met': 896, 'sell': 897, 'outstand': 898, 'minim': 899, 'qanta': 900, 'boston': 901, 'brought': 902, 'idea': 903, 'towel': 904, 'remov': 905, 'organis': 906, 'januari': 907, 'kid': 908, 'vega': 909, 'struggl': 910, 'safeti': 911, 'send': 912, 'chao': 913, 'decemb': 914, 'suggest': 915, 'competitor': 916, 'portion': 917, 'truli': 918, 'las': 919, 'sometim': 920, 'mayb': 921, 'outdat': 922, 'music': 923, 'whether': 924, 'current': 925, 'list': 926, 'son': 927, 'august': 928, 'stretch': 929, '13': 930, 'mark': 931, 'los': 932, 'angel': 933, 'guy': 934, 'remot': 935, 'benefit': 936, 'paper': 937, 'belt': 938, 'moment': 939, 'incred': 940, 'employe': 941, 'fix': 942, 'discov': 943, 'nobodi': 944, 'enter': 945, 'opinion': 946, 'g': 947, 'pound': 948, 'minimum': 949, 'climb': 950, 'seattl': 951, 'game': 952, 'realis': 953, 'feet': 954, 'francisco': 955, 'duti': 956, 'a319': 957, '767': 958, 'readi': 959, 'agre': 960, 'nightmar': 961, 'tag': 962, 'cloth': 963, 'anyway': 964, 'unaccept': 965, 'comput': 966, 'inde': 967, 'lucki': 968, 'maintain': 969, 'bacon': 970, '90': 971, 'steak': 972, 'april': 973, 'filthi': 974, 'north': 975, 'cover': 976, 'frustrat': 977, 'nut': 978, 'oneworld': 979, 'rubbish': 980, 'geneva': 981, 'airbus': 982, 'reimburs': 983, 'insid': 984, 'straight': 985, 'repeat': 986, 't3': 987, 'unhelp': 988, 'import': 989, 'octob': 990, 'excus': 991, 'apologis': 992, 'divid': 993, 'post': 994, 'live': 995, 'holder': 996, 'mine': 997, 'shop': 998, 'atlant': 999, 'individu': 1000, 'button': 1001, 'c': 1002, 'safe': 1003, 'bin': 1004, 'respond': 1005, 'orang': 1006, 'foot': 1007, 'ad': 1008, 'arm': 1009, 'knew': 1010, 'indiffer': 1011, 'wear': 1012, 'lufthansa': 1013, 'correct': 1014, 'canada': 1015, 'heard': 1016, 'parti': 1017, 'airplan': 1018, 'immedi': 1019, 'life': 1020, 'hear': 1021, 'sale': 1022, 'egg': 1023, 'stranger': 1024, 'wide': 1025, 'berlin': 1026, 'text': 1027, 'inch': 1028, 'modern': 1029, 'bottom': 1030, 'troubl': 1031, 'compet': 1032, 'signific': 1033, 'lose': 1034, 'insist': 1035, 'chanc': 1036, 'eye': 1037, 'munich': 1038, 'mid': 1039, 'unlik': 1040, 'bathroom': 1041, 'report': 1042, 'meet': 1043, '2015': 1044, 'rais': 1045, 'error': 1046, 'knee': 1047, 'alon': 1048, 'perhap': 1049, 'tasteless': 1050, 'emerg': 1051, 'chosen': 1052, 'ten': 1053, 'belfast': 1054, 'insult': 1055, 'hit': 1056, 'edibl': 1057, 'slept': 1058, 'remind': 1059, 'soft': 1060, 'red': 1061, 'istanbul': 1062, 'nois': 1063, 'tampa': 1064, 'septemb': 1065, 'coach': 1066, 'a321': 1067, 'pm': 1068, 'tomato': 1069, 'distanc': 1070, 'euro': 1071, 'payment': 1072, 'break': 1073, 'consider': 1074, 'usa': 1075, 'tall': 1076, 'st': 1077, 'transit': 1078, '16': 1079, '17': 1080, 'machin': 1081, 'print': 1082, 'unit': 1083, 'b747': 1084, 'fortun': 1085, 'malaga': 1086, 'june': 1087, 'courteous': 1088, 'packet': 1089, 'rip': 1090, 'takeoff': 1091, 'overbook': 1092, 'delhi': 1093, 'unpleas': 1094, 'simpl': 1095, 'becam': 1096, 'resolv': 1097, 'alcohol': 1098, 'site': 1099, 'sens': 1100, 'lci': 1101, 'ceo': 1102, 'fresh': 1103, 'practic': 1104, 'switch': 1105, 'asian': 1106, 'assign': 1107, 'tarmac': 1108, 'specif': 1109, 'inconveni': 1110, 'park': 1111, 'companion': 1112, 'sound': 1113, 'numer': 1114, 'larger': 1115, 'disappear': 1116, 'stood': 1117, 'stuff': 1118, 'stock': 1119, 'equip': 1120, 'franc': 1121, 'five': 1122, 'colleagu': 1123, 'assum': 1124, 'manner': 1125, 'christma': 1126, 'true': 1127, 'lisbon': 1128, 'introduc': 1129, 'pisa': 1130, 'temperatur': 1131, 'respect': 1132, 'featur': 1133, 'effect': 1134, 'ruin': 1135, 'transport': 1136, 'delici': 1137, 'beer': 1138, 'loyalti': 1139, 'exampl': 1140, 'magazin': 1141, 'supervisor': 1142, 'pacif': 1143, 'slip': 1144, 'pathet': 1145, 'overcook': 1146, 'novemb': 1147, 'comparison': 1148, 'purser': 1149, 'refer': 1150, 'liter': 1151, 'zero': 1152, 'contain': 1153, 'reput': 1154, 'visit': 1155, 'demand': 1156, 'ice': 1157, 'virtual': 1158, 'confus': 1159, 'layov': 1160, 'advic': 1161, 'nowher': 1162, 'strike': 1163, 'aspect': 1164, 'backward': 1165, 'barbado': 1166, 'ancient': 1167, 'dine': 1168, 'procedur': 1169, '2017': 1170, 'cake': 1171, 'transatlant': 1172, 'cream': 1173, 'kuala': 1174, 'lumpur': 1175, 'philadelphia': 1176, 'jam': 1177, 'describ': 1178, 'useless': 1179, 'male': 1180, 'stori': 1181, '300': 1182, 'worri': 1183, 'port': 1184, 'admit': 1185, 'known': 1186, 'mess': 1187, 'sfo': 1188, '2nd': 1189, 'self': 1190, 'generous': 1191, 'match': 1192, 'salmon': 1193, 'east': 1194, 'mother': 1195, 'shabbi': 1196, 'zurich': 1197, 'awar': 1198, 'brand': 1199, 'juli': 1200, 'file': 1201, 'car': 1202, 'higher': 1203, 'press': 1204, 'loud': 1205, 'suppli': 1206, 'hr': 1207, 'februari': 1208, 'shower': 1209, '80': 1210, 'luckili': 1211, 'soup': 1212, 'potato': 1213, 'wt': 1214, 'unev': 1215, 'advertis': 1216, 'turbul': 1217, 'flag': 1218, 'bigger': 1219, 'bump': 1220, 'india': 1221, 'disast': 1222, 'convers': 1223, 'cram': 1224, 'hassl': 1225, 'wake': 1226, 'rice': 1227, 'newer': 1228, 'bridg': 1229, 'orlando': 1230, 'lead': 1231, 'strang': 1232, 'neither': 1233, 'par': 1234, 'opt': 1235, 'perform': 1236, 'jnb': 1237, 'forget': 1238, 'appli': 1239, 'senior': 1240, 'account': 1241, 'utter': 1242, 'suffici': 1243, 'biz': 1244, 'reschedul': 1245, 'woman': 1246, 'laptop': 1247, 'bland': 1248, 'learn': 1249, 'somewhat': 1250, 'newcastl': 1251, 'power': 1252, 'frankfurt': 1253, 'interact': 1254, 'extend': 1255, 'unprofession': 1256, '19': 1257, 'pictur': 1258, 'escort': 1259, 'irrit': 1260, '000': 1261, 'downhil': 1262, 'dealt': 1263, 'decis': 1264, 'f': 1265, 'suffer': 1266, 'warn': 1267, 'scone': 1268, 'countri': 1269, 'risk': 1270, 'width': 1271, '35': 1272, 'veget': 1273, 'odd': 1274, 'advantag': 1275, 'rememb': 1276, 'meat': 1277, 'reflect': 1278, 'wrap': 1279, 'six': 1280, 'tier': 1281, 'comfi': 1282, 'listen': 1283, 'test': 1284, 'loo': 1285, 'mauritius': 1286, 'cheer': 1287, 'lucia': 1288, 'milan': 1289, 'document': 1290, 'imagin': 1291, 'express': 1292, 'map': 1293, 'encount': 1294, 'solut': 1295, 'am': 1296, 'usb': 1297, 'jet': 1298, 'friday': 1299, 'acknowledg': 1300, 'leather': 1301, 'brussel': 1302, 'genuin': 1303, 'typic': 1304, 'arrog': 1305, 'deserv': 1306, '21': 1307, 'treatment': 1308, 'settl': 1309, 'join': 1310, 'restrict': 1311, 'upstair': 1312, 'resolut': 1313, 'basi': 1314, 'doubt': 1315, 'tokyo': 1316, 'eastern': 1317, '2014': 1318, 'assur': 1319, 'kitchen': 1320, 'pleasur': 1321, 'opportun': 1322, 'conveni': 1323, 'whatsoev': 1324, 'shown': 1325, 'bas': 1326, 'whatev': 1327, 'evid': 1328, '22': 1329, 'doubl': 1330, '60': 1331, 'market': 1332, 'sur': 1333, 'curtain': 1334, 'outsid': 1335, 'act': 1336, 'nicer': 1337, 'frill': 1338, 'hop': 1339, 'desir': 1340, 'increas': 1341, '55': 1342, 'various': 1343, '23': 1344, 'dull': 1345, 'indic': 1346, 'carpet': 1347, 'pragu': 1348, 'privat': 1349, 'mask': 1350, 'cutleri': 1351, 'moscow': 1352, 'gripe': 1353, 'engin': 1354, 'rule': 1355, 'pull': 1356, 'essenti': 1357, 'squeez': 1358, 'search': 1359, 'blame': 1360, 'equal': 1361, 'drive': 1362, 'involv': 1363, 'stick': 1364, 'abysm': 1365, 'sold': 1366, 'shuttl': 1367, 'bulkhead': 1368, 'damag': 1369, 'needless': 1370, 'overcrowd': 1371, 'spare': 1372, 'guarante': 1373, 'chair': 1374, 'traffic': 1375, 'doha': 1376, '3rd': 1377, 'punctual': 1378, 'smart': 1379, 'goe': 1380, 'phoenix': 1381, 'yang': 1382, 'brilliant': 1383, 'disinterest': 1384, 'profit': 1385, 'wash': 1386, 'mumbai': 1387, 'heat': 1388, '2022': 1389, 'rare': 1390, 'fellow': 1391, 'cash': 1392, 'thus': 1393, 'incorrect': 1394, 'border': 1395, 'super': 1396, 'held': 1397, 'queu': 1398, 'adjust': 1399, 'headrest': 1400, 'till': 1401, 'desert': 1402, 'vie': 1403, 'fish': 1404, 'deliveri': 1405, 'blind': 1406, 'sunday': 1407, 'montreal': 1408, 'thorough': 1409, 'store': 1410, 'favourit': 1411, 'opposit': 1412, 'cushion': 1413, 'femal': 1414, 'abu': 1415, 'dhabi': 1416, 'dreamlin': 1417, 'period': 1418, 'notifi': 1419, 'horrend': 1420, 'visibl': 1421, 'edg': 1422, 'minor': 1423, 'pocket': 1424, 'mail': 1425, 'pain': 1426, 'venic': 1427, 'pretzel': 1428, 'massiv': 1429, 'sweet': 1430, 'accord': 1431, 'durat': 1432, 'veg': 1433, 'armrest': 1434, 'forgot': 1435, 'display': 1436, 'africa': 1437, 'wed': 1438, 'easili': 1439, 'slice': 1440, 'noisi': 1441, 'engag': 1442, 'instruct': 1443, 'endur': 1444, 'cart': 1445, 'bore': 1446, 'function': 1447, 'vacat': 1448, 'midnight': 1449, 'onward': 1450, 'finger': 1451, 'rep': 1452, 'will': 1453, 'excit': 1454, 'luck': 1455, 'cpt': 1456, 'prawn': 1457, 'nairobi': 1458, 'cereal': 1459, 'neighbour': 1460, 'necessari': 1461, 'over': 1462, 'muffin': 1463, 'bkk': 1464, 'bucharest': 1465, 'gin': 1466, 'laugh': 1467, 'school': 1468, 'submit': 1469, 'redeem': 1470, 'incompet': 1471, 'toiletri': 1472, 'telephon': 1473, 'slot': 1474, 'local': 1475, 'emerald': 1476, 'prove': 1477, 'contrast': 1478, 'runway': 1479, 'most': 1480, 'reset': 1481, 'oh': 1482, 'audio': 1483, 'newspap': 1484, 'pe': 1485, 'strand': 1486, 'cracker': 1487, 'mexico': 1488, 'occupi': 1489, 'latest': 1490, 'thai': 1491, 'asid': 1492, 'inferior': 1493, '28': 1494, 'iad': 1495, 'menus': 1496, 'eaten': 1497, 'ride': 1498, 'fed': 1499, 'disturb': 1500, '2016': 1501, 'sofia': 1502, 'grace': 1503, '1hr': 1504, 'larnaca': 1505, '2023': 1506, 'proceed': 1507, 'began': 1508, 'automat': 1509, 'delta': 1510, 'bear': 1511, 'bright': 1512, 'success': 1513, 'weekend': 1514, 'seven': 1515, 'pandem': 1516, 'carousel': 1517, 'link': 1518, 'yesterday': 1519, 'wider': 1520, 'downsid': 1521, 'penni': 1522, 'lousi': 1523, 'wrote': 1524, 'equival': 1525, 'fog': 1526, 'budapest': 1527, 'stockholm': 1528, 'affect': 1529, 'calm': 1530, 'cattl': 1531, 'sky': 1532, '48': 1533, 'cdg': 1534, 'visa': 1535, 'ex': 1536, 'progress': 1537, 'desper': 1538, 'accompani': 1539, 'shanghai': 1540, 'washroom': 1541, 'fi': 1542, 'elder': 1543, 'incom': 1544, 'letter': 1545, 'checkin': 1546, 'luxuri': 1547, 'sum': 1548, '70': 1549, 'shoulder': 1550, 'activ': 1551, 'saturday': 1552, 'medic': 1553, 'henc': 1554, '500': 1555, 'aboard': 1556, 'atroci': 1557, 'thin': 1558, 'subsequ': 1559, 'glad': 1560, 'action': 1561, 'spain': 1562, 'copenhagen': 1563, 'code': 1564, 'cheapest': 1565, 'piti': 1566, 'heavi': 1567, 'adult': 1568, 'awkward': 1569, 'shambl': 1570, 'extens': 1571, 'dedic': 1572, 'warsaw': 1573, 'fun': 1574, 'socket': 1575, '2019': 1576, 'proud': 1577, 'plug': 1578, 'shut': 1579, 'bonus': 1580, 'crumb': 1581, 'restaur': 1582, 'claustrophob': 1583, 'presum': 1584, 'critic': 1585, 'diego': 1586, 'de': 1587, 'hostess': 1588, 'vuel': 1589, 'colour': 1590, 'monday': 1591, 'deni': 1592, 'decad': 1593, 'mere': 1594, 'abandon': 1595, 'biggest': 1596, 'trust': 1597, 'jump': 1598, 'sick': 1599, 'ipad': 1600, 'length': 1601, 'split': 1602, 'content': 1603, 'sauc': 1604, 'hkg': 1605, 'norwegian': 1606, 'creat': 1607, 'yoghurt': 1608, 'dark': 1609, 'mobil': 1610, 'tatti': 1611, 'industri': 1612, 'hundr': 1613, 'slide': 1614, 'infant': 1615, 'invest': 1616, 'smoke': 1617, 'program': 1618, 'season': 1619, 'la': 1620, 'challeng': 1621, 'somehow': 1622, 'refit': 1623, 'dim': 1624, 'freez': 1625, 'denver': 1626, 'lane': 1627, 'turkish': 1628, 'label': 1629, 'releas': 1630, '2020': 1631, 'cancun': 1632, 'suspect': 1633, 'anywher': 1634, 'drawer': 1635, 'breez': 1636, 'delight': 1637, 'excess': 1638, 'packag': 1639, 'unfriend': 1640, 'etihad': 1641, 'mad': 1642, 'exclus': 1643, 'unbeliev': 1644, 'wi': 1645, 'center': 1646, 'fan': 1647, 'cruis': 1648, 'earn': 1649, 'retriev': 1650, 'random': 1651, 'contempt': 1652, 'count': 1653, 'unhappi': 1654, 'tel': 1655, 'aviv': 1656, 'cross': 1657, 'pad': 1658, 'measur': 1659, 'outgo': 1660, 'circumst': 1661, 'upset': 1662, 'favour': 1663, 'forev': 1664, 'fight': 1665, 'sister': 1666, 'stain': 1667, 'stale': 1668, 'cockpit': 1669, 'approx': 1670, 'sub': 1671, 'airbridg': 1672, 'maximum': 1673, 'nervous': 1674, 'web': 1675, 'mushroom': 1676, 'ham': 1677, 'seek': 1678, 'enhanc': 1679, 'klm': 1680, 'cruz': 1681, 'milk': 1682, 'apologet': 1683, 'wise': 1684, 'newark': 1685, 'jose': 1686, 'birthday': 1687, 'vari': 1688, 'tonic': 1689, 'besid': 1690, 'upright': 1691, 'unverifi': 1692, 'satisfactori': 1693, 'itali': 1694, 'monitor': 1695, 'summari': 1696, 'human': 1697, 'failur': 1698, '27': 1699, 'hung': 1700, 'depend': 1701, 'led': 1702, 'frame': 1703, 'discuss': 1704, 'scrambl': 1705, 'buss': 1706, 'dalla': 1707, 'encourag': 1708, 'skip': 1709, 'play': 1710, 'unavail': 1711, 'realiti': 1712, 'metal': 1713, 'purpos': 1714, 'bueno': 1715, 'rock': 1716, 'chip': 1717, 'co': 1718, 'enthusiast': 1719, '4th': 1720, '150': 1721, 'napl': 1722, 'con': 1723, 'ying': 1724, 'event': 1725, 'guest': 1726, 'wall': 1727, 'tough': 1728, 'hesit': 1729, 'abrupt': 1730, 'justifi': 1731, 'exec': 1732, 'asleep': 1733, 'summer': 1734, 'pax': 1735, 'antigua': 1736, 'hall': 1737, 'version': 1738, 'footrest': 1739, 'avod': 1740, 'imag': 1741, 'patient': 1742, 'com': 1743, 'race': 1744, 'speed': 1745, 'bell': 1746, 'staf': 1747, 'cri': 1748, 'membership': 1749, 'dismiss': 1750, 'substanti': 1751, 'grubbi': 1752, '26': 1753, '32': 1754, 'omelett': 1755, 'bizarr': 1756, 'ident': 1757, 'abreast': 1758, 'stupid': 1759, 'focus': 1760, 'approxim': 1761, 'frank': 1762, 'jan': 1763, 'tap': 1764, 'regardless': 1765, 'nassau': 1766, 'calgari': 1767, 'autom': 1768, 'fallen': 1769, 'ring': 1770, 'stroller': 1771, 'dec': 1772, 'french': 1773, 'yvr': 1774, '1000': 1775, 'highlight': 1776, 'programm': 1777, 'spot': 1778, 'parent': 1779, 'record': 1780, 'flexibl': 1781, 'outlet': 1782, 'elsewher': 1783, 'ear': 1784, 'hurri': 1785, '2018': 1786, 'newish': 1787, 'invit': 1788, 'swap': 1789, 'mood': 1790, 'common': 1791, 'stare': 1792, 'beij': 1793, 'rio': 1794, '31': 1795, 'bru': 1796, 'satisfi': 1797, 'slim': 1798, 'faulti': 1799, '737': 1800, '747s': 1801, 'phl': 1802, 'lamb': 1803, 'public': 1804, 'enquir': 1805, 'belong': 1806, 'pastri': 1807, 'nowaday': 1808, 'entitl': 1809, 'injuri': 1810, 'empathi': 1811, 'ideal': 1812, 'pair': 1813, 'deterior': 1814, 'hospit': 1815, 'regul': 1816, 'figur': 1817, 'build': 1818, 'realiz': 1819, 'intent': 1820, 'formal': 1821, 'allianc': 1822, 'info': 1823, 'decor': 1824, 'england': 1825, 'reliabl': 1826, 'china': 1827, 'difficulti': 1828, 'scrum': 1829, 'toast': 1830, 'sparkl': 1831, 'bite': 1832, 'somewher': 1833, 'grab': 1834, 'jacket': 1835, 'privileg': 1836, 'underwhelm': 1837, 'sir': 1838, 'entranc': 1839, 'director': 1840, 'unexpect': 1841, 'tour': 1842, 'mia': 1843, 'cw': 1844, 'hamburg': 1845, 'edi': 1846, 'dire': 1847, 'chatti': 1848, 'lift': 1849, 'coat': 1850, 'lengthi': 1851, 'mini': 1852, 'tear': 1853, 'celebr': 1854, 'honeymoon': 1855, '6th': 1856, 'butter': 1857, 'motion': 1858, 'veggi': 1859, 'bun': 1860, 'yyz': 1861, 'cx': 1862, 'among': 1863, 'written': 1864, 'wheelchair': 1865, 'disabl': 1866, 'cutback': 1867, 'disorganis': 1868, 'albeit': 1869, 'zone': 1870, 'ampl': 1871, 'norm': 1872, 'chill': 1873, 'fell': 1874, '12th': 1875, 'nyc': 1876, 'unreli': 1877, 'bronz': 1878, 'k': 1879, 'strong': 1880, 'itinerari': 1881, 'bearabl': 1882, 'vast': 1883, 'aggress': 1884, 'lowest': 1885, 'perfunctori': 1886, 'smell': 1887, 'buse': 1888, 'broke': 1889, 'harder': 1890, 'page': 1891, 'attract': 1892, 'weird': 1893, 'eight': 1894, 'electron': 1895, 'sardin': 1896, 'airborn': 1897, 'loos': 1898, 'spirit': 1899, 'afterward': 1900, 'stow': 1901, 'charm': 1902, 'bunch': 1903, 'eu': 1904, 'isl': 1905, 'punta': 1906, 'cana': 1907, 'twenti': 1908, 'ate': 1909, 'prevent': 1910, 'client': 1911, 'natur': 1912, 'spotless': 1913, 'courtesi': 1914, '09': 1915, 'scratch': 1916, 'reclaim': 1917, 'sapphir': 1918, 'adjac': 1919, 'fuss': 1920, 'fold': 1921, 'varieti': 1922, 'fillet': 1923, 'grey': 1924, 'bmi': 1925, 'personnel': 1926, 'quieter': 1927, 'lukewarm': 1928, 'insuffici': 1929, 'overpr': 1930, 'sausag': 1931, 'compart': 1932, '600': 1933, 'obtain': 1934, 'flow': 1935, 'retir': 1936, 'kiosk': 1937, 'shoe': 1938, 'closer': 1939, 'feed': 1940, 'hous': 1941, 'pinch': 1942, 'wing': 1943, 'receipt': 1944, 'swift': 1945, 'shout': 1946, 'crazi': 1947, 'marrakech': 1948, 'tax': 1949, 'ist': 1950, 'regret': 1951, 'former': 1952, 'australia': 1953, 'happili': 1954, 'somebodi': 1955, 'feb': 1956, '29': 1957, 'seamless': 1958, 'brief': 1959, 'trade': 1960, 'silli': 1961, 'mash': 1962, 'news': 1963, 'commenc': 1964, 'entri': 1965, 'atlanta': 1966, 'straightforward': 1967, 'reluct': 1968, 'tend': 1969, 'stage': 1970, 'pa': 1971, 'deplan': 1972, 'descript': 1973, 'station': 1974, 'twitter': 1975, '23kg': 1976, 'appropri': 1977, 'awak': 1978, 'austin': 1979, 'gestur': 1980, 'quicker': 1981, 'duvet': 1982, 'keen': 1983, 'mum': 1984, 'notch': 1985, 'downstair': 1986, '75': 1987, 'cope': 1988, 'everybodi': 1989, 'shorthaul': 1990, 'accra': 1991, 'pressur': 1992, 'congest': 1993, '6ft': 1994, 'rerout': 1995, 'ncl': 1996, 'yellow': 1997, 'blue': 1998, 'tidi': 1999, 'lavatori': 2000, 'eva': 2001, 'reboot': 2002, 'appet': 2003, 'reward': 2004, 'rose': 2005, 'wtp': 2006, 'valid': 2007, 'thousand': 2008, 'solid': 2009, 'unusu': 2010, 'rival': 2011, 'loss': 2012, 'wipe': 2013, 'monopoli': 2014, 'escal': 2015, 'j': 2016, 'legal': 2017, 'ultim': 2018, 'spanish': 2019, 'slowli': 2020, 'generic': 2021, 'afford': 2022, 'cairo': 2023, 'lock': 2024, 'amman': 2025, 'bodi': 2026, 'user': 2027, 'caught': 2028, 'corpor': 2029, 'disrupt': 2030, 'notif': 2031, 'nasti': 2032, 'maximis': 2033, 'anniversari': 2034, 'gap': 2035, 'sock': 2036, 'attach': 2037, 'volum': 2038, 'fear': 2039, 'materi': 2040, '30pm': 2041, 'combin': 2042, 'girl': 2043, 'shorter': 2044, 'charter': 2045, '800': 2046, 'dubrovnik': 2047, 'ill': 2048, 'uniform': 2049, 'manual': 2050, 'salzburg': 2051, 'dump': 2052, 'easier': 2053, 'chase': 2054, 'mouss': 2055, 'gentleman': 2056, 'score': 2057, 'urgent': 2058, 'discount': 2059, 'understood': 2060, 'tuesday': 2061, 'outrag': 2062, 'tape': 2063, 'asham': 2064, 'gbp': 2065, 'reassur': 2066, 'salt': 2067, 'unnecessari': 2068, 'thru': 2069, 'enforc': 2070, 'grate': 2071, '0': 2072, 'dollar': 2073, '1k': 2074, 'flagship': 2075, 'latter': 2076, 'tradit': 2077, 'soggi': 2078, 'bologna': 2079, 'bangalor': 2080, 'shoddi': 2081, 'wit': 2082, 'aberdeen': 2083, 'friendli': 2084, '27th': 2085, 'vegan': 2086, 'flower': 2087, 'frozen': 2088, 'consum': 2089, 'commend': 2090, 'woke': 2091, 'muesli': 2092, 'oslo': 2093, 'miniatur': 2094, 'glitch': 2095, 'whose': 2096, 'vienna': 2097, 'anybodi': 2098, 'florenc': 2099, 'achiev': 2100, 'black': 2101, 'margin': 2102, 'dfw': 2103, 'shape': 2104, 'amus': 2105, 'coke': 2106, 'key': 2107, 'passabl': 2108, 'syd': 2109, '380': 2110, '9th': 2111, 'sudden': 2112, 'premier': 2113, 'alright': 2114, 'standbi': 2115, 'bud': 2116, 'conclus': 2117, 'gibraltar': 2118, 'offici': 2119, 'balanc': 2120, 'solv': 2121, 'ship': 2122, 'tomorrow': 2123, 'mechan': 2124, 'seri': 2125, 'lingus': 2126, 'statement': 2127, 'spread': 2128, 'rank': 2129, 'internet': 2130, 'appeal': 2131, '2a': 2132, 'inattent': 2133, 'log': 2134, 'buffet': 2135, 'endless': 2136, 'proof': 2137, 'behaviour': 2138, 'spa': 2139, 'horror': 2140, 'napkin': 2141, 'confid': 2142, 'instal': 2143, 'halfway': 2144, 'model': 2145, 'squash': 2146, 'gulf': 2147, 'amongst': 2148, 'hopeless': 2149, 'alicant': 2150, 'built': 2151, 'unfair': 2152, '1a': 2153, 'starv': 2154, 'smallest': 2155, 'uninterest': 2156, 'cooki': 2157, 'shall': 2158, 'bank': 2159, 'cant': 2160, 'overweight': 2161, 'comair': 2162, 'amex': 2163, 'spoil': 2164, 'madeira': 2165, 'brown': 2166, 'jack': 2167, 'furthermor': 2168, 'mar': 2169, 'factor': 2170, 'alex': 2171, 'beauti': 2172, 'ce': 2173, 'inconsist': 2174, '5th': 2175, 'unimpress': 2176, 'tail': 2177, 'wind': 2178, 'ordeal': 2179, 'health': 2180, 'fco': 2181, 'snow': 2182, 'await': 2183, 'tegel': 2184, 'elemi': 2185, 'malfunct': 2186, 'faro': 2187, 'discomfort': 2188, 'skill': 2189, 'win': 2190, 'headset': 2191, 'csd': 2192, 'inadequ': 2193, 'kick': 2194, 'lis': 2195, 'tvs': 2196, 'segment': 2197, 'cheek': 2198, 'degre': 2199, 'vacant': 2200, 'capac': 2201, 'bean': 2202, 'lodg': 2203, 'westjet': 2204, 'mr': 2205, 'lacklustr': 2206, 'recognis': 2207, 'proactiv': 2208, 'beg': 2209, 'wow': 2210, 'occur': 2211, 'altogeth': 2212, 'everywher': 2213, 'wherea': 2214, 'funni': 2215, 'nonsens': 2216, 'sight': 2217, '250': 2218, 'sole': 2219, 'circl': 2220, 'sas': 2221, 'kuwait': 2222, 'cool': 2223, 'joy': 2224, 'afraid': 2225, 'immacul': 2226, 'devic': 2227, 'flier': 2228, 'pen': 2229, '19th': 2230, 'quarter': 2231, 'jo': 2232, 'investig': 2233, 'author': 2234, 'overwhelm': 2235, '7am': 2236, 'boyfriend': 2237, 'terrif': 2238, 'nibbl': 2239, 'wherev': 2240, 'unus': 2241, 'pod': 2242, 'dramat': 2243, 'gain': 2244, 'boy': 2245, 'permit': 2246, 'unappetis': 2247, 'social': 2248, '30min': 2249, 'scream': 2250, 'grant': 2251, 'contrari': 2252, 'speedi': 2253, 'wet': 2254, 'behav': 2255, 'dxb': 2256, 'hello': 2257, 'fussi': 2258, 'pie': 2259, 'bahrain': 2260, 'grand': 2261, 'fob': 2262, 'inevit': 2263, 'kg': 2264, 'mysteri': 2265, 'nose': 2266, 'mouth': 2267, 'honour': 2268, 'whenev': 2269, 'retain': 2270, 'oppos': 2271, 'janeiro': 2272, 'hell': 2273, 'pyjama': 2274, 'atmospher': 2275, 'bassinet': 2276, '10pm': 2277, 'lazi': 2278, 'demonstr': 2279, 'wedg': 2280, 'mattress': 2281, 'stuffi': 2282, 'consequ': 2283, 'ram': 2284, 'abuja': 2285, 'dozen': 2286, 'rectifi': 2287, 'kul': 2288, 'seoul': 2289, 'bone': 2290, 'hate': 2291, 'occasion': 2292, 'wont': 2293, 'booz': 2294, 'seatback': 2295, 'roomi': 2296, 'revamp': 2297, 'haneda': 2298, 'thailand': 2299, 'terrac': 2300, 'beat': 2301, '300er': 2302, '10th': 2303, 'oil': 2304, 'bari': 2305, 'sleeper': 2306, 'keflavik': 2307, 'medium': 2308, 'tablet': 2309, 'shift': 2310, 'scan': 2311, 'perman': 2312, 'lay': 2313, 'partial': 2314, 'global': 2315, 'gradual': 2316, 'intend': 2317, 'thursday': 2318, 'spici': 2319, 'suitabl': 2320, 'slightest': 2321, 'rental': 2322, 'potenti': 2323, 'divert': 2324, 'offload': 2325, 'sea': 2326, 'fals': 2327, 'lag': 2328, 'earth': 2329, 'uniqu': 2330, 'impact': 2331, 'oblig': 2332, 'restroom': 2333, 'clueless': 2334, 'exhaust': 2335, 'scrap': 2336, 'asia': 2337, 'ord': 2338, 'extortion': 2339, 'rapid': 2340, 'den': 2341, 'breath': 2342, 'america': 2343, 'pop': 2344, 'enabl': 2345, 'that': 2346, 'minus': 2347, 'rotterdam': 2348, 'lap': 2349, 'rough': 2350, '8th': 2351, 'dog': 2352, '2000': 2353, 'sin': 2354, 'spoilt': 2355, 'interrupt': 2356, 'eas': 2357, 'up': 2358, 'award': 2359, 'stair': 2360, 'spite': 2361, '28th': 2362, 'voic': 2363, 'oman': 2364, 'certif': 2365, 'heart': 2366, 'baltimor': 2367, 'newli': 2368, 'queri': 2369, 'seatbelt': 2370, 'abil': 2371, 'farc': 2372, 'grill': 2373, 'driver': 2374, 'leisur': 2375, 'ban': 2376, '26th': 2377, 'storm': 2378, 'roast': 2379, 'weight': 2380, 'pud': 2381, 'tenerif': 2382, 'sharehold': 2383, 'w': 2384, 'ordinari': 2385, 'sun': 2386, 'moral': 2387, 'italian': 2388, 'cleanli': 2389, 'promot': 2390, 'rid': 2391, 'lunchtim': 2392, 'argu': 2393, 'lean': 2394, 'toothbrush': 2395, 'toothpast': 2396, 'repair': 2397, 'daytim': 2398, 'feedback': 2399, 'sevill': 2400, 'african': 2401, 'inver': 2402, 'pace': 2403, 'leed': 2404, 'spill': 2405, 'houston': 2406, 'angl': 2407, 'classic': 2408, 'didnt': 2409, 'gluten': 2410, 'fewer': 2411, 'underneath': 2412, 'lasagn': 2413, 'burg': 2414, 'remedi': 2415, 'buggi': 2416, 'consol': 2417, '30th': 2418, 'fanci': 2419, 'cardboard': 2420, 'expedia': 2421, 'angri': 2422, 'die': 2423, 'incur': 2424, 'hire': 2425, 'knock': 2426, 'en': 2427, 'argument': 2428, 'contract': 2429, 'pot': 2430, 'central': 2431, 'forth': 2432, 'insur': 2433, 'bewar': 2434, 'a350': 2435, 'clerk': 2436, 'concept': 2437, 'citizen': 2438, 'convinc': 2439, 'navig': 2440, 'band': 2441, '99': 2442, 'wheel': 2443, 'upload': 2444, 'scam': 2445, 'fabul': 2446, 'intercontinent': 2447, 'knowledg': 2448, 'shambol': 2449, 'boot': 2450, 'trap': 2451, 'behalf': 2452, 'weigh': 2453, '17th': 2454, 'dress': 2455, 'urg': 2456, 'antiqu': 2457, 'melbourn': 2458, '700': 2459, '21st': 2460, 'yin': 2461, 'wc': 2462, 'law': 2463, 'cheeri': 2464, 'cargo': 2465, '5pm': 2466, 'disrespect': 2467, 'gotten': 2468, 'persist': 2469, 'hotlin': 2470, 'pretend': 2471, '2k': 2472, 'aviat': 2473, 'remark': 2474, 'complic': 2475, 'patienc': 2476, 'entre': 2477, 'judg': 2478, 'zrh': 2479, 'greasi': 2480, 'plain': 2481, 'boac': 2482, 'media': 2483, 'laid': 2484, 'prais': 2485, 'aug': 2486, '30am': 2487, 'finess': 2488, 'forgotten': 2489, 'shortag': 2490, 'surround': 2491, 'laughabl': 2492, 'bubbl': 2493, 'horrid': 2494, 'passag': 2495, 'physic': 2496, 'tannoy': 2497, 'commit': 2498, 'employ': 2499, 'stream': 2500, 'convert': 2501, 'languag': 2502, 'distant': 2503, 'minuscul': 2504, 'oldest': 2505, 'usd': 2506, 'scheme': 2507, 'apprehens': 2508, 'quantiti': 2509, 'tin': 2510, 'host': 2511, 'oversold': 2512, '320': 2513, 'lager': 2514, 'b787': 2515, 'bang': 2516, 'tip': 2517, 'menzi': 2518, 'continent': 2519, 'appetis': 2520, 'malaysia': 2521, 'gravi': 2522, 'slower': 2523, 'ac': 2524, 'perk': 2525, 'eleg': 2526, 'coffin': 2527, 'grumpi': 2528, 'pearson': 2529, 'dusseldorf': 2530, 'greedi': 2531, 'muscat': 2532, 'uninspir': 2533, '7th': 2534, 'movement': 2535, 'passang': 2536, 'couscous': 2537, 'krakow': 2538, 'sticki': 2539, '120': 2540, 'granola': 2541, 'bargain': 2542, 'scruffi': 2543, 'thirsti': 2544, 'leagu': 2545, 'reliev': 2546, '06': 2547, 'perth': 2548, 'courier': 2549, 'mode': 2550, 'instanc': 2551, 'penalti': 2552, 'impecc': 2553, 'flimsi': 2554, 'amend': 2555, 'astonish': 2556, 'daili': 2557, '25th': 2558, 'cityfly': 2559, 'fulfil': 2560, 'incid': 2561, 'disconnect': 2562, 'paperwork': 2563, 'classifi': 2564, 'nov': 2565, '07': 2566, 'ie': 2567, 'malta': 2568, 'ibiza': 2569, 'niggl': 2570, 'sought': 2571, 'organ': 2572, 'dub': 2573, 'aer': 2574, 'u': 2575, 'golf': 2576, 'father': 2577, 'extent': 2578, 'finnair': 2579, 'compliment': 2580, 'fourth': 2581, 'fetch': 2582, 'capabl': 2583, 'cleaner': 2584, 'versus': 2585, 'furnitur': 2586, 'guid': 2587, 'island': 2588, 'reinstat': 2589, 'slimlin': 2590, 'outsourc': 2591, '5hrs': 2592, 'radio': 2593, 'accent': 2594, 'declar': 2595, 'elbow': 2596, 'fire': 2597, 'unlucki': 2598, 'green': 2599, 'stowag': 2600, 'satellit': 2601, 'lettuc': 2602, 'road': 2603, 'gift': 2604, 'thick': 2605, 'folk': 2606, 'nonetheless': 2607, 'distinct': 2608, 'clunki': 2609, 'gothenburg': 2610, 'supplier': 2611, 'changi': 2612, 'sugar': 2613, 'conveyor': 2614, 'provis': 2615, 'sunk': 2616, 'dime': 2617, 'sheet': 2618, 'exceed': 2619, 'swiss': 2620, 'principl': 2621, 'japan': 2622, 'bridgetown': 2623, 'gva': 2624, 'shade': 2625, 'allergi': 2626, 'funchal': 2627, 'vaccin': 2628, 'worthi': 2629, 'aus': 2630, 'airsid': 2631, 'divers': 2632, 'enthusiasm': 2633, 'nevertheless': 2634, 'alaska': 2635, '160': 2636, 'resort': 2637, 'identifi': 2638, 'resent': 2639, 'contradict': 2640, 'reminisc': 2641, 'anxious': 2642, 'spoon': 2643, 'produc': 2644, 'paulo': 2645, 'dairi': 2646, 'appoint': 2647, 'surcharg': 2648, 'santorini': 2649, 'coronavirus': 2650, 'resid': 2651, 'lyon': 2652, 'spencer': 2653, 'spoken': 2654, 'associ': 2655, 'brush': 2656, 'shrug': 2657, 'ft': 2658, '65': 2659, 'complementari': 2660, 'quot': 2661, 'grade': 2662, 'volunt': 2663, 'legaci': 2664, 'hyderabad': 2665, 'stew': 2666, 'sept': 2667, 'cod': 2668, 'goodi': 2669, 'overs': 2670, 'bug': 2671, 'chew': 2672, 'gum': 2673, 'chennai': 2674, 'reli': 2675, 'bound': 2676, 'kilo': 2677, 'elit': 2678, 'jal': 2679, 'narita': 2680, 'articl': 2681, '03': 2682, 'nuisanc': 2683, 'object': 2684, 'stool': 2685, 'gla': 2686, 'stuttgart': 2687, 'favorit': 2688, 'iphon': 2689, 'bouch': 2690, 'faster': 2691, 'subject': 2692, 'flush': 2693, 'ceil': 2694, 'corner': 2695, 'affair': 2696, 'dirt': 2697, 'crack': 2698, 'unsmil': 2699, 'flavour': 2700, 'channel': 2701, 'anticip': 2702, 'sore': 2703, 'willi': 2704, 'walsh': 2705, 'iron': 2706, 'renov': 2707, 'peanut': 2708, 'reduct': 2709, 'longhaul': 2710, 'refil': 2711, 'annual': 2712, 'popcorn': 2713, 'codeshar': 2714, 'resembl': 2715, 'bcn': 2716, 'mco': 2717, 'victoria': 2718, 'nine': 2719, 'forum': 2720, 'iceland': 2721, 'warmth': 2722, 'thirti': 2723, 'toulous': 2724, 'p': 2725, '38': 2726, 'develop': 2727, 'zealand': 2728, 'owe': 2729, 'compound': 2730, 'prepaid': 2731, 'million': 2732, 'valencia': 2733, 'zoo': 2734, 'occurr': 2735, 'fork': 2736, 'porridg': 2737, 'heavili': 2738, '22nd': 2739, 'vile': 2740, 'downright': 2741, 'younger': 2742, '05': 2743, 'absent': 2744, 'recov': 2745, 'familiar': 2746, 'wir': 2747, 'unclear': 2748, 'hide': 2749, 'ineffici': 2750, 'sympathi': 2751, 'germani': 2752, '14th': 2753, 'click': 2754, 'insan': 2755, 'rubber': 2756, 'spinach': 2757, 'onion': 2758, 'turkey': 2759, 'height': 2760, 'cafe': 2761, 'fiasco': 2762, 'street': 2763, 'wrapper': 2764, 'elev': 2765, 'jersey': 2766, 'sweat': 2767, 'magic': 2768, 'whoever': 2769, 'seal': 2770, '2021': 2771, 'wander': 2772, 'sourc': 2773, 'hk': 2774, 'taller': 2775, 'pea': 2776, 'brusqu': 2777, 'exchang': 2778, 'overdu': 2779, '3000': 2780, 'supper': 2781, 'flawless': 2782, 'firm': 2783, 'crash': 2784, 'akin': 2785, 'royal': 2786, 'bhd': 2787, 'earphon': 2788, 'bless': 2789, 'arab': 2790, 'solo': 2791, '5ft': 2792, 'redempt': 2793, 'task': 2794, 'exercis': 2795, 'moder': 2796, 'satisfact': 2797, 'lca': 2798, 'mass': 2799, 'intermitt': 2800, 'tirana': 2801, 'catania': 2802, 'pile': 2803, 'surgeri': 2804, 'polic': 2805, 'furious': 2806, 'preced': 2807, 'anytim': 2808, '23rd': 2809, 'conclud': 2810, 'af': 2811, 'qualifi': 2812, 'revenu': 2813, '180': 2814, 'lesson': 2815, 'diabol': 2816, 'format': 2817, 'woken': 2818, 'civilis': 2819, 'dislik': 2820, 'research': 2821, 'junk': 2822, 'bordeaux': 2823, 'exemplari': 2824, 'inflat': 2825, 'embraer': 2826, 'ghast': 2827, 'sour': 2828, 'cph': 2829, 'esta': 2830, 'bucket': 2831, 'curious': 2832, 'bermuda': 2833, 'crockeri': 2834, 'liquid': 2835, 'humour': 2836, 'fort': 2837, 'advert': 2838, 'drastic': 2839, 'cyprus': 2840, 'stylish': 2841, 'duli': 2842, 'thrown': 2843, 'japanes': 2844, 'vod': 2845, 'categori': 2846, '31st': 2847, 'prioritis': 2848, '900': 2849, 'decreas': 2850, 'stone': 2851, 'salti': 2852, 'blurri': 2853, 'faultless': 2854, 'lh': 2855, 'costa': 2856, 'diet': 2857, 'bowl': 2858, 'ff': 2859, 'helsinki': 2860, 'structur': 2861, 'indian': 2862, 'shot': 2863, 'grimi': 2864, 'chines': 2865, 'dingi': 2866, 'noodl': 2867, 'degrad': 2868, 'descent': 2869, 'pure': 2870, 'region': 2871, 'kat': 2872, 'bergen': 2873, 'kitkat': 2874, 'flaw': 2875, 'bye': 2876, 'seafood': 2877, 'matur': 2878, 'hub': 2879, 'marri': 2880, 'hideous': 2881, 'kiev': 2882, 'bom': 2883, 'beforehand': 2884, 'helplin': 2885, 'peak': 2886, 'callous': 2887, '95': 2888, 'meaning': 2889, 'intra': 2890, 'bombay': 2891, 'doctor': 2892, 'modest': 2893, 'disregard': 2894, 'decenc': 2895, 'smelt': 2896, 'plead': 2897, 'airfar': 2898, 'tow': 2899, 'glori': 2900, 'commerci': 2901, 'eurostar': 2902, 'focuss': 2903, 'compel': 2904, '29th': 2905, 'sympathet': 2906, 'clamber': 2907, '13th': 2908, 'absenc': 2909, 'copi': 2910, 'prebook': 2911, 'kalamata': 2912, 'wednesday': 2913, '8pm': 2914, '15min': 2915, 'girlfriend': 2916, 'unwel': 2917, 'toler': 2918, 'inconvenienc': 2919, 'goodby': 2920, 'buck': 2921, 'routin': 2922, 'fifth': 2923, 'sweden': 2924, '5000': 2925, 'cheat': 2926, 'weak': 2927, 'clue': 2928, 'pro': 2929, 'torn': 2930, 'damn': 2931, 'enorm': 2932, 'admir': 2933, 'humor': 2934, 'cucumb': 2935, '45min': 2936, 'recept': 2937, 'retract': 2938, 'miniscul': 2939, 'und': 2940, 'revolt': 2941, 'slid': 2942, 'vip': 2943, 'utilis': 2944, 'robot': 2945, 'tone': 2946, '01': 2947, '6pm': 2948, '9pm': 2949, '18th': 2950, 'atl': 2951, 'carrot': 2952, 'bagel': 2953, 'cupboard': 2954, 'hidden': 2955, 'rearrang': 2956, 'til': 2957, 'depth': 2958, 'misplac': 2959, 'oct': 2960, 'asap': 2961, 'sincer': 2962, 'snap': 2963, 'concours': 2964, 'recogn': 2965, 'german': 2966, 'ny': 2967, 'stopov': 2968, 'unansw': 2969, 'deep': 2970, 'ongo': 2971, 'leadership': 2972, 'mild': 2973, 'tran': 2974, 'aircon': 2975, 'basel': 2976, 'insincer': 2977, 'horrif': 2978, '24th': 2979, '16th': 2980, 'forthcom': 2981, 'distribut': 2982, 'cynic': 2983, 'econom': 2984, 'disengag': 2985, 'overlook': 2986, 'sheer': 2987, 'drawback': 2988, 'tuck': 2989, 'shine': 2990, 'airmil': 2991, 'protocol': 2992, 'inexperienc': 2993, 'inward': 2994, 'ludicr': 2995, 'regist': 2996, 'hair': 2997, 'dont': 2998, 'photo': 2999, 'smiley': 3000, 'slick': 3001, 'commut': 3002, 'raid': 3003, 'fuel': 3004, 'replenish': 3005, 'orient': 3006, '11am': 3007, 'data': 3008, 'poorer': 3009, 'tooth': 3010, 'grim': 3011, 'atc': 3012, 'semi': 3013, 'wooden': 3014, 'temporari': 3015, 'roundtrip': 3016, 'differenti': 3017, 'unlimit': 3018, 'tls': 3019, 'sq': 3020, 'fasten': 3021, 'descend': 3022, 'partit': 3023, 'unrespons': 3024, 'mainten': 3025, 'poorest': 3026, 'vent': 3027, 'tikka': 3028, 'awesom': 3029, 'stiff': 3030, 'disorgan': 3031, 'kos': 3032, 'learnt': 3033, '24hrs': 3034, 'herd': 3035, 'generat': 3036, 'loop': 3037, 'orlean': 3038, 'camp': 3039, 'palma': 3040, 'neck': 3041, 'airspac': 3042, 'collaps': 3043, 'casual': 3044, 'burnt': 3045, 'marseill': 3046, 'energi': 3047, 'headach': 3048, 'soak': 3049, 'pointless': 3050, 'lemon': 3051, 'congeal': 3052, 'strategi': 3053, 'iag': 3054, 'jumbo': 3055, 'eur': 3056, 'california': 3057, 'ish': 3058, 'bos': 3059, 'blank': 3060, 'oversea': 3061, 'deliber': 3062, 'tissu': 3063, 'swissport': 3064, 'flavor': 3065, 'pepper': 3066, 'slimmer': 3067, 'bumpi': 3068, 'shell': 3069, 'gourmet': 3070, 'technolog': 3071, 'painless': 3072, 'asset': 3073, 'prosecco': 3074, 'papho': 3075, 'bent': 3076, 'canteen': 3077, 'bark': 3078, 'fra': 3079, 'rica': 3080, 'pixel': 3081, 'breast': 3082, 'wherebi': 3083, 'b767': 3084, 'nigeria': 3085, 'unclean': 3086, 'cabana': 3087, 'winter': 3088, 'satay': 3089, 'slogan': 3090, '319': 3091, 'or': 3092, 'unobtrus': 3093, 'chore': 3094, 'motto': 3095, 'dear': 3096, 'ingredi': 3097, '744': 3098, 'distinguish': 3099, '400s': 3100, 'greater': 3101, '9am': 3102, 'electr': 3103, 'own': 3104, 'tube': 3105, 'confin': 3106, 'slop': 3107, 'pjs': 3108, 'independ': 3109, 'pour': 3110, 'ceas': 3111, 'patch': 3112, 'plot': 3113, '80s': 3114, 'ambienc': 3115, 'unheard': 3116, 'primarili': 3117, 'meanwhil': 3118, '35min': 3119, 'steep': 3120, 'ptv': 3121, 'woefulli': 3122, 'men': 3123, 'popular': 3124, 'sep': 3125, 'avianca': 3126, 'variabl': 3127, 'kwi': 3128, 'stanst': 3129, 'flatb': 3130, 'cubicl': 3131, 'plagu': 3132, 'valuabl': 3133, 'emot': 3134, 'inexcus': 3135, 'uncar': 3136, 'mate': 3137, 'inabl': 3138, 'civil': 3139, 'crisi': 3140, 'charger': 3141, 'lima': 3142, 'threw': 3143, 'mis': 3144, 'worker': 3145, 'suck': 3146, 'everyday': 3147, 'can': 3148, 'browni': 3149, 'brother': 3150, 'estim': 3151, 'financi': 3152, 'hey': 3153, 'screw': 3154, 'cab': 3155, '85': 3156, 'ball': 3157, '24h': 3158, 'destroy': 3159, 'unforeseen': 3160, '170': 3161, 'booth': 3162, 'slipper': 3163, 'risotto': 3164, 'peac': 3165, 'honor': 3166, 'obnoxi': 3167, 'impati': 3168, 'behavior': 3169, 'bulli': 3170, '3am': 3171, 'compromis': 3172, 'sink': 3173, 'panick': 3174, 'sip': 3175, 'sensibl': 3176, 'largest': 3177, 'auto': 3178, 'metr': 3179, 'authoris': 3180, 'pp': 3181, 'malpensa': 3182, 'audac': 3183, 'rag': 3184, 'instant': 3185, 'pamper': 3186, 'enquiri': 3187, 'creamer': 3188, 'vagu': 3189, 'urgenc': 3190, '20th': 3191, 'scare': 3192, 'substitut': 3193, 'rail': 3194, 'xmas': 3195, 'shortbread': 3196, '7000': 3197, 'unwil': 3198, 'elig': 3199, '11th': 3200, 'pier': 3201, 'bwi': 3202, 'faith': 3203, 'assort': 3204, 'britain': 3205, 'confer': 3206, 'bolt': 3207, 'unload': 3208, 'render': 3209, 'agenc': 3210, 'inconsider': 3211, 'token': 3212, 'corridor': 3213, 'alter': 3214, 'distress': 3215, '59': 3216, 'stingi': 3217, 'upsid': 3218, 'dead': 3219, 'pursu': 3220, 'coca': 3221, 'cola': 3222, 'turnaround': 3223, 'expand': 3224, 'speedili': 3225, 'transpir': 3226, 'bash': 3227, 'csm': 3228, 'letdown': 3229, '10am': 3230, 'passiv': 3231, 'shepherd': 3232, 'canapé': 3233, 'mle': 3234, '5hr': 3235, 'dispens': 3236, 'dust': 3237, 'unwatch': 3238, 'regain': 3239, 'meagr': 3240, 'handler': 3241, 'drag': 3242, 'permiss': 3243, 'egypt': 3244, 'environ': 3245, 'jetti': 3246, '1h': 3247, 'centuri': 3248, '1980': 3249, 'refuel': 3250, 'gru': 3251, 'mykono': 3252, 'wouldnt': 3253, 'invari': 3254, 'clap': 3255, 'pram': 3256, 'dare': 3257, 'dismay': 3258, 'mom': 3259, 'corona': 3260, '00am': 3261, 'blatant': 3262, 'cs': 3263, 'halv': 3264, 'foreign': 3265, 'deem': 3266, 'chap': 3267, 'chilli': 3268, 'ultra': 3269, 'cue': 3270, 'bill': 3271, 'florida': 3272, 'outer': 3273, 'inspect': 3274, 'drove': 3275, 'threaten': 3276, 'begrudg': 3277, 'stir': 3278, 'clutter': 3279, 'introduct': 3280, 'aeroplan': 3281, 'mighti': 3282, 'west': 3283, 'seychell': 3284, 'gather': 3285, 'tracker': 3286, 'ale': 3287, 'aegean': 3288, 'dismal': 3289, '34': 3290, 'sprint': 3291, 'revers': 3292, 'stagger': 3293, 'massag': 3294, 'lump': 3295, 'heel': 3296, 'abroad': 3297, 'yr': 3298, 'kl': 3299, 'strict': 3300, 'worthless': 3301, '33': 3302, 'memor': 3303, 'backpack': 3304, 'hydrat': 3305, 'thereaft': 3306, '15th': 3307, 'retro': 3308, 'linat': 3309, 'poach': 3310, 'unpalat': 3311, 'unawar': 3312, 'hing': 3313, '8am': 3314, 'bengaluru': 3315, 'ec': 3316, 'vote': 3317, '4000': 3318, 'reissu': 3319, 'offhand': 3320, 'tuscani': 3321, 'condescend': 3322, 'fashion': 3323, 'deplor': 3324, 'intim': 3325, '20min': 3326, 'patronis': 3327, 'criteria': 3328, 'transform': 3329, 'pizza': 3330, 'bbc': 3331, 'tedious': 3332, 'tortilla': 3333, 'upperdeck': 3334, 'phase': 3335, 'unsatisfactori': 3336, 'invis': 3337, 'plaza': 3338, 'imperson': 3339, 'inaud': 3340, 'moreov': 3341, 'notabl': 3342, 'unsur': 3343, 'friendlier': 3344, '90s': 3345, 'refurb': 3346, 'cheesecak': 3347, 'dock': 3348, 'frantic': 3349, 'ba16': 3350, 'vintag': 3351, 'polish': 3352, 'leak': 3353, '2hr': 3354, 'sao': 3355, 'teeth': 3356, 'brazil': 3357, 'favor': 3358, 'adopt': 3359, 'platter': 3360, 'planet': 3361, 'accomod': 3362, 'oven': 3363, 'innov': 3364, 'sofa': 3365, 'casserol': 3366, 'fat': 3367, 'optimist': 3368, 'manoeuvr': 3369, 'inept': 3370, 'max': 3371, 'bap': 3372, 'luke': 3373, 'airi': 3374, 'debri': 3375, 'agreement': 3376, '321': 3377, 'skytrax': 3378, 'swim': 3379, 'vodka': 3380, 'hint': 3381, 'fifteen': 3382, 'meze': 3383, 'accru': 3384, 'canadian': 3385, 'quietest': 3386, 'smelli': 3387, 'relief': 3388, 'tweet': 3389, 'bench': 3390, 'genoa': 3391, 'vs': 3392, 'reaction': 3393, 'women': 3394, 'plonk': 3395, 't2': 3396, 'twist': 3397, 'hat': 3398, 'spring': 3399, 'gear': 3400, 'foam': 3401, 'unreason': 3402, 'twin': 3403, 'debat': 3404, 'softer': 3405, 'dc': 3406, 'fc': 3407, 'marriag': 3408, 'squar': 3409, 'porto': 3410, 'tepid': 3411, 'minimis': 3412, 'txl': 3413, 'cello': 3414, 'fizzi': 3415, 'longest': 3416, 'rocket': 3417, 'fianc': 3418, 'mari': 3419, 'hel': 3420, 'greas': 3421, '10a': 3422, 'pek': 3423, 'ewr': 3424, 'del': 3425, 'mislead': 3426, 'appl': 3427, 'pink': 3428, 'fund': 3429, 'freshen': 3430, 'inquir': 3431, 'sms': 3432, 'unsympathet': 3433, 'glorifi': 3434, 'touchscreen': 3435, 'tech': 3436, '3hrs': 3437, 'phrase': 3438, 'raw': 3439, 'mistaken': 3440, 'pride': 3441, 'survey': 3442, 'unsuit': 3443, 'chunk': 3444, 'latam': 3445, 'aid': 3446, 'mrs': 3447, 'accid': 3448, 'cordial': 3449, 'nope': 3450, 'brutal': 3451, 'ineptitud': 3452, 'santiago': 3453, 'drama': 3454, 'memori': 3455, 'googl': 3456, 'clock': 3457, '2pm': 3458, 'crush': 3459, '2c': 3460, 'unbear': 3461, 'server': 3462, 'barrier': 3463, 'fiancé': 3464, 'tremend': 3465, 'hindu': 3466, 'toddler': 3467, 'relentless': 3468, 'denmark': 3469, 'abus': 3470, 'underlin': 3471, 'curt': 3472, '450': 3473, 'war': 3474, 'neighbor': 3475, 'intact': 3476, '2hrs': 3477, 'dbv': 3478, 'inspir': 3479, 'messi': 3480, 'art': 3481, 'context': 3482, 'script': 3483, 'visual': 3484, 'ploughman': 3485, 'ipa': 3486, '11f': 3487, 'outlin': 3488, 'begun': 3489, '64': 3490, 'tacki': 3491, 'leaf': 3492, 'sticker': 3493, 'tad': 3494, '72': 3495, 'extract': 3496, 'disastr': 3497, 'comedi': 3498, 'upcom': 3499, 'fridg': 3500, 'cocktail': 3501, 'bet': 3502, 'maldiv': 3503, 'idiot': 3504, 'overflow': 3505, 'ordin': 3506, 'reader': 3507, 'scotland': 3508, 'prolong': 3509, 'giant': 3510, 'rain': 3511, 'classi': 3512, 'tie': 3513, 'reject': 3514, 'softwar': 3515, 'compris': 3516, 'chief': 3517, 'protect': 3518, 'netherland': 3519, 'reykjavik': 3520, 'silenc': 3521, 'portray': 3522, 'snake': 3523, 'sterl': 3524, 'tortur': 3525, 'nickel': 3526, 'accur': 3527, 'greec': 3528, 'trace': 3529, 'nicest': 3530, 'consult': 3531, 'recheck': 3532, '2x2': 3533, 'battl': 3534, 'problemat': 3535, 'relationship': 3536, '1500': 3537, 'errat': 3538, 'leftov': 3539, 'discrep': 3540, 'brit': 3541, '10000': 3542, 'quibbl': 3543, 'emphasi': 3544, 'strap': 3545, 'driven': 3546, 'amiabl': 3547, '2d': 3548, 'bea': 3549, 'truth': 3550, 'likewis': 3551, 'consumpt': 3552, 'sack': 3553, 'slam': 3554, 'miracl': 3555, 'midday': 3556, 'merci': 3557, 'belief': 3558, 'smack': 3559, 'mandatori': 3560, 'underway': 3561, 'strength': 3562, 'smartphon': 3563, 'touchdown': 3564, 'roam': 3565, 'frittata': 3566, 'woeful': 3567, 'beetroot': 3568, 'tick': 3569, 'duck': 3570, 'smoothest': 3571, 'nashvill': 3572, 'ton': 3573, 'sushi': 3574, 'administr': 3575, 'wasnt': 3576, 'meter': 3577, 'gnocchi': 3578, 'a10': 3579, 'reckon': 3580, 'brunch': 3581, 'aeroflot': 3582, 'flash': 3583, 'path': 3584, 'univers': 3585, 'escap': 3586, 'seper': 3587, 'backsid': 3588, 'extort': 3589, 'thoma': 3590, 'comprehens': 3591, 'se': 3592, 'trash': 3593, 'quarantin': 3594, 'cosi': 3595, 'connexion': 3596, 'renew': 3597, 'trick': 3598, 'verg': 3599, 'postpon': 3600, 'accus': 3601, 'goa': 3602, 'hd': 3603, 'debacl': 3604, 'court': 3605, 'restor': 3606, 'complement': 3607, 'on': 3608, 'cm': 3609, 'phx': 3610, 'cap': 3611, 'queen': 3612, 'shortcom': 3613, 'bitter': 3614, '3a': 3615, 'shelf': 3616, 'overheard': 3617, 'tank': 3618, 'intrus': 3619, 'fri': 3620, 'shadow': 3621, 'transat': 3622, 'scanner': 3623, 'halt': 3624, 'hole': 3625, 'jeddah': 3626, 'multi': 3627, '3pm': 3628, 'motiv': 3629, 'tourist': 3630, 'eurotravel': 3631, 'x': 3632, 'mxp': 3633, 'noon': 3634, 'zip': 3635, 'pantri': 3636, 'thunderstorm': 3637, 'lago': 3638, 'sideway': 3639, 'illumin': 3640, 'garlic': 3641, 'petersburgh': 3642, 'indistinguish': 3643, 'adventur': 3644, 'pregnant': 3645, 'marstal': 3646, 'belgium': 3647, 'mozzarella': 3648, 'sophist': 3649, 'defect': 3650, 'grenada': 3651, 'cherri': 3652, 'tsa': 3653, 'particip': 3654, 'unoccupi': 3655, 'altitud': 3656, 'anxieti': 3657, 'makeup': 3658, 'snail': 3659, 'dream': 3660, 'stomach': 3661, 'proport': 3662, 'derisori': 3663, 'wallet': 3664, 'upmarket': 3665, 'qf': 3666, '73': 3667, 'wardrob': 3668, '39': 3669, 'mixtur': 3670, '60th': 3671, 'lifetim': 3672, 'spong': 3673, 'involuntarili': 3674, '261': 3675, '2004': 3676, 'redirect': 3677, 'leader': 3678, 'fume': 3679, 'career': 3680, 'lumbar': 3681, '56': 3682, 'uneaten': 3683, 'neglig': 3684, 'observ': 3685, 'gentlemen': 3686, 'strip': 3687, 'nap': 3688, '350': 3689, '777s': 3690, 'r': 3691, 'baffl': 3692, 'twelv': 3693, 'footstool': 3694, 'angst': 3695, 'sodium': 3696, 'broccoli': 3697, 'broad': 3698, 'bradford': 3699, 'hannov': 3700, 'stodgi': 3701, 'riyadh': 3702, 'russian': 3703, 'stellar': 3704, 'conspicu': 3705, 'percept': 3706, 'whiskey': 3707, '767s': 3708, 'struck': 3709, 'düsseldorf': 3710, 'foil': 3711, 'limp': 3712, 'expos': 3713, 'zagreb': 3714, 'foul': 3715, 'froze': 3716, 'alongsid': 3717, 'clot': 3718, 'conduct': 3719, 'newest': 3720, '7pm': 3721, 'advers': 3722, 'bounc': 3723, 'herringbon': 3724, 'econ': 3725, 'tender': 3726, 'moodi': 3727, 'oat': 3728, 'realist': 3729, 'realloc': 3730, 'substandard': 3731, 'hnd': 3732, 'eve': 3733, 'alleg': 3734, 'eurow': 3735, 'panini': 3736, 'flood': 3737, 'educ': 3738, 'scale': 3739, 'background': 3740, 'commonplac': 3741, 'portabl': 3742, '1990': 3743, 'logic': 3744, 'profil': 3745, 'rise': 3746, 'h': 3747, 'tobago': 3748, 'stuf': 3749, 'correspond': 3750, 'choc': 3751, 'ca': 3752, 'whiski': 3753, 'charlott': 3754, 'coast': 3755, '130': 3756, 'predict': 3757, 'spiral': 3758, 'bob': 3759, 'prg': 3760, 'revert': 3761, 'rubi': 3762, 'thale': 3763, 'comp': 3764, 'basin': 3765, 'counterpart': 3766, 'pale': 3767, 'drab': 3768, 'titl': 3769, 'lon': 3770, 'oasi': 3771, 'fuzzi': 3772, 'transact': 3773, 'forti': 3774, 'carpaccio': 3775, 'color': 3776, 'filet': 3777, 'interv': 3778, 'remaind': 3779, 'forgiven': 3780, 'easter': 3781, 'rancid': 3782, 'golden': 3783, 'grip': 3784, 'ireland': 3785, 'flybe': 3786, 'outright': 3787, 'supplement': 3788, 'field': 3789, 'jordanian': 3790, 'luxembourg': 3791, 'aloof': 3792, 'bailey': 3793, 'prem': 3794, 'lament': 3795, 'gossip': 3796, 'litter': 3797, '1700': 3798, 'bilbao': 3799, '62k': 3800, '3x4x3': 3801, 'distort': 3802, 'withdrawn': 3803, 'devalu': 3804, 'shortfal': 3805, 'marvel': 3806, 'tighter': 3807, 'accident': 3808, 'lumpi': 3809, 'approv': 3810, 'coleslaw': 3811, 'malt': 3812, 'silent': 3813, '6am': 3814, 'malaysian': 3815, 'wage': 3816, 'stoop': 3817, 'beneath': 3818, 'ventur': 3819, 'diabet': 3820, 'grudg': 3821, 'hardwork': 3822, 'unimagin': 3823, '08': 3824, 'worsen': 3825, 'absurd': 3826, 'unremark': 3827, 'alarm': 3828, 'ambianc': 3829, 'nod': 3830, 'stack': 3831, 'vanish': 3832, 'affabl': 3833, 'landsid': 3834, '82a': 3835, 'lan': 3836, 'bah': 3837, '13b': 3838, 'stark': 3839, 'in': 3840, 'hardwar': 3841, 'bloodi': 3842, 'thomson': 3843, 'rubberi': 3844, 'gymnast': 3845, 't4': 3846, 'jade': 3847, 'cranberri': 3848, 'sharm': 3849, 'el': 3850, 'sheikh': 3851, '2f': 3852, 'tune': 3853, 'anim': 3854, '11b': 3855, 'granada': 3856, 'martini': 3857, 'throw': 3858, '10b': 3859, '20pm': 3860, 'genius': 3861, 'eze': 3862, 'ba1326': 3863, 'jer': 3864, 'tfs': 3865, 'mct': 3866, 'mex': 3867, 'sooth': 3868, 'thinner': 3869, 'slum': 3870, 'draw': 3871, 'drain': 3872, 'gut': 3873, 'mishandl': 3874, '5k': 3875, 'oliv': 3876, 'turin': 3877, 'subsidiari': 3878, 'mainlin': 3879, 'oversel': 3880, 'cousin': 3881, 'imper': 3882, 'budg': 3883, 'cell': 3884, '54': 3885, 'ms': 3886, 'pretenc': 3887, 'waiv': 3888, 'dehydr': 3889, 'gall': 3890, 'contradictori': 3891, 'closur': 3892, 'underwear': 3893, 'garbag': 3894, 'jame': 3895, 'ugli': 3896, 'tee': 3897, 'ghost': 3898, 'minimalist': 3899, 'primari': 3900, 'trim': 3901, 'nonstop': 3902, 'swear': 3903, 'reneg': 3904, 'jaw': 3905, 'funer': 3906, 'turmoil': 3907, 'flavourless': 3908, 'histori': 3909, 'unorgan': 3910, 'compil': 3911, 'netflix': 3912, 'unsurpris': 3913, 'earbud': 3914, 'highlif': 3915, 'screenshot': 3916, 'disdain': 3917, 'yell': 3918, 'irish': 3919, 'clumsi': 3920, 'wieder': 3921, 'haben': 3922, 'es': 3923, 'im': 3924, 'horrifi': 3925, '250ml': 3926, 'catalogu': 3927, 'anti': 3928, 'unfold': 3929, 'newborn': 3930, 'anger': 3931, 'ounc': 3932, '43': 3933, 'guidanc': 3934, 'fizz': 3935, 'unavoid': 3936, 'caesar': 3937, 'wizz': 3938, 'determin': 3939, 'role': 3940, 'persuad': 3941, 'snug': 3942, 'meantim': 3943, 'submiss': 3944, 'browser': 3945, 'donat': 3946, 'overh': 3947, 'egyptair': 3948, 'cube': 3949, 'react': 3950, 'wafer': 3951, 'rope': 3952, 'haphazard': 3953, 'pan': 3954, 'fidd': 3955, 'delet': 3956, 'misguid': 3957, 'rib': 3958, 'whereupon': 3959, 'uncook': 3960, '3x3': 3961, 'obstruct': 3962, 'coron': 3963, '12h': 3964, 'magnific': 3965, 'harass': 3966, 'congratul': 3967, 'bookabl': 3968, 'ditch': 3969, 'collin': 3970, 'grandson': 3971, 'cough': 3972, 'death': 3973, 'convey': 3974, 'cad': 3975, '4h': 3976, 'lone': 3977, 'immens': 3978, 'fool': 3979, 'adam': 3980, 'boycott': 3981, 'glamour': 3982, '1900': 3983, 'warp': 3984, '2h': 3985, 'embark': 3986, 'pushback': 3987, 'drank': 3988, 'forgett': 3989, 'sear': 3990, 'default': 3991, 'densiti': 3992, 'bgi': 3993, 'unsold': 3994, 'dm': 3995, 'inappropri': 3996, 'handicap': 3997, 'ingrain': 3998, 'basket': 3999, 'scenario': 4000, '5hour': 4001, 'durban': 4002, 'avia': 4003, '1930': 4004, 'despair': 4005, 'misfortun': 4006, 'trend': 4007, 'nook': 4008, 'tumbler': 4009, 'pool': 4010, 'chutney': 4011, 'mug': 4012, 'burst': 4013, 'seam': 4014, 'rotten': 4015, 'verifli': 4016, 'hash': 4017, 'incap': 4018, 'conform': 4019, 'compliant': 4020, 'episod': 4021, 'grow': 4022, 'inclus': 4023, 'amid': 4024, 'era': 4025, 'infrequ': 4026, 'ciara': 4027, 'plummet': 4028, 'temp': 4029, 'wound': 4030, 'truck': 4031, '58': 4032, 'banana': 4033, 'pcr': 4034, 'gracious': 4035, 'handset': 4036, 'flt': 4037, 'disciplin': 4038, '05pm': 4039, 'neo': 4040, 'tui': 4041, 'hectic': 4042, 'precaut': 4043, 'disintegr': 4044, 'accumul': 4045, '2500': 4046, 'expir': 4047, 'cayman': 4048, 'aspir': 4049, 'inaccur': 4050, 'backlog': 4051, 'sachet': 4052, 'superfici': 4053, 'são': 4054, 'couldnt': 4055, 'theori': 4056, 'domodedovo': 4057, 'roof': 4058, 'hungarian': 4059, 'ankl': 4060, 'surreal': 4061, 'bliss': 4062, 'russia': 4063, 'mental': 4064, 'rant': 4065, 'construct': 4066, 'personalis': 4067, 'careless': 4068, 'disput': 4069, 'defenc': 4070, 'deepli': 4071, 'wave': 4072, 'govern': 4073, 'greed': 4074, 'icon': 4075, 'virus': 4076, 'arlanda': 4077, 'facebook': 4078, 'illeg': 4079, 'maker': 4080, 'compli': 4081, 'palpabl': 4082, 'conting': 4083, 'platitud': 4084, 'astound': 4085, 'exclud': 4086, 'quilt': 4087, '77': 4088, 'audibl': 4089, 'lectur': 4090, 'fever': 4091, 'spectacl': 4092, '1970': 4093, 'panel': 4094, '4pm': 4095, '36': 4096, 'sooner': 4097, 'roller': 4098, 'array': 4099, 'purs': 4100, 'danish': 4101, 'surpass': 4102, 'disgruntl': 4103, '42': 4104, 'beam': 4105, 'pattern': 4106, 'steam': 4107, 'brandi': 4108, 'taiwan': 4109, 'translat': 4110, 'sloppi': 4111, 'earplug': 4112, 'unnecessarili': 4113, 'restless': 4114, 'rattl': 4115, 'peckish': 4116, 'walkway': 4117, 'briefcas': 4118, 'bust': 4119, 'unknown': 4120, 'sensit': 4121, 'maneuv': 4122, 'panason': 4123, 'rockwel': 4124, 'masala': 4125, 'necess': 4126, 'heineken': 4127, 'decaf': 4128, 'shatter': 4129, 'eco': 4130, 'dig': 4131, '00pm': 4132, 'tool': 4133, 'ala': 4134, 'discret': 4135, 'unhealthi': 4136, 'exorbit': 4137, 'spous': 4138, '220': 4139, 'lanyard': 4140, 'caa': 4141, 'vce': 4142, 'suprem': 4143, 'festiv': 4144, 'boost': 4145, '20m': 4146, 'rugbi': 4147, 'homeward': 4148, 'sardinia': 4149, 'reappear': 4150, 'gorgeous': 4151, 'apron': 4152, 'understat': 4153, 'mill': 4154, 'lame': 4155, 'fluster': 4156, 'stank': 4157, 'medicin': 4158, 'ach': 4159, 'deign': 4160, 'overbear': 4161, 'brisban': 4162, 'vacuum': 4163, 'irrelev': 4164, 'launch': 4165, 'aim': 4166, 'reunit': 4167, '1pm': 4168, 'extraordinari': 4169, 'curios': 4170, 'congreg': 4171, 'drunk': 4172, 'sport': 4173, 'cafeteria': 4174, 'kgs': 4175, 'receptionist': 4176, 'masquerad': 4177, '2x3x2': 4178, 'exacerb': 4179, 'quirki': 4180, 'dumb': 4181, '1200': 4182, 'feat': 4183, 'hare': 4184, 'chain': 4185, 'splendid': 4186, 'toffe': 4187, 'grid': 4188, 'nail': 4189, 'cellophan': 4190, 'rack': 4191, 'shelv': 4192, 'resist': 4193, 'lauderdal': 4194, 'muslim': 4195, 'herb': 4196, 'blueberri': 4197, 'mindset': 4198, 'happier': 4199, 'yield': 4200, 'sneak': 4201, '30b': 4202, 'inner': 4203, 'depriv': 4204, 'athlet': 4205, 'surfac': 4206, 'yogurt': 4207, 'grandpar': 4208, 'grandfath': 4209, 'reheat': 4210, 'cot': 4211, 'hill': 4212, 'cotton': 4213, 'silverwar': 4214, 'muc': 4215, 'download': 4216, 'uncommon': 4217, 'lbs': 4218, 'consolid': 4219, 'ba11': 4220, 'mh': 4221, 'brindisi': 4222, 'pend': 4223, 'vaunt': 4224, 'grime': 4225, 'drinker': 4226, 'heraklion': 4227, 'conduc': 4228, '27a': 4229, 'unapp': 4230, 'quid': 4231, 'assess': 4232, 'aft': 4233, 'crawl': 4234, 'ataturk': 4235, 'chile': 4236, 'tonight': 4237, 'upbeat': 4238, 'rariti': 4239, 'outweigh': 4240, 'tehran': 4241, 'bulk': 4242, 'sweati': 4243, '190': 4244, 'cornish': 4245, 'soap': 4246, 'excruci': 4247, 'brais': 4248, 'humid': 4249, 'famous': 4250, 'televis': 4251, 'distract': 4252, 'corfu': 4253, 'trek': 4254, 'brave': 4255, 'edgi': 4256, 'nosier': 4257, 'penn': 4258, '53': 4259, 'paus': 4260, 'dubious': 4261, 'ath': 4262, 'envelop': 4263, 'ketchup': 4264, '37': 4265, 'heavier': 4266, 'cooler': 4267, 'k2': 4268, 'checkout': 4269, 'vice': 4270, 'versa': 4271, 'passion': 4272, 'dinosaur': 4273, 'reconsid': 4274, 'mush': 4275, 'demoralis': 4276, 'publish': 4277, 'hyd': 4278, 'hike': 4279, 'postag': 4280, 'stamp': 4281, 'neglect': 4282, 'horizont': 4283, '940': 4284, 'dus': 4285, 'rtn': 4286, 'fragment': 4287, 'infinit': 4288, 'threadbar': 4289, 'waffl': 4290, '801': 4291, 'owner': 4292, 'allerg': 4293, 'goat': 4294, 'upward': 4295, 'ow': 4296, 'gas': 4297, 'variat': 4298, 'ts': 4299, 'contribut': 4300, '4e': 4301, 'savori': 4302, 'lover': 4303, 'passseng': 4304, 'modernis': 4305, 'vhs': 4306, 'expiri': 4307, 'oakland': 4308, 'unlock': 4309, 'ocean': 4310, 'wire': 4311, 'flick': 4312, 'kingston': 4313, 'alien': 4314, 'frighten': 4315, 'pros': 4316, 'usabl': 4317, 'tricki': 4318, 'danger': 4319, 'archaic': 4320, 'temper': 4321, 'migrat': 4322, 'posh': 4323, 'carb': 4324, 'intermin': 4325, 'sampl': 4326, 'lacto': 4327, 'spec': 4328, 'dimens': 4329, 'drunken': 4330, 'plough': 4331, 'theoret': 4332, 'melon': 4333, 'fab': 4334, 'spilt': 4335, 'prize': 4336, 'scribbl': 4337, 'burn': 4338, 'trepid': 4339, 'tent': 4340, 'rhode': 4341, '3d': 4342, 'defin': 4343, 'pinot': 4344, '140': 4345, 'tlc': 4346, 'moan': 4347, 'madam': 4348, '1am': 4349, 'photograph': 4350, 'nz': 4351, 'examin': 4352, 'dietari': 4353, '1e': 4354, '1f': 4355, 'sullen': 4356, 'breakdown': 4357, 'cultur': 4358, '11a': 4359, 'ploy': 4360, 'brainer': 4361, 'boss': 4362, 'cheapen': 4363, 'fortnight': 4364, 'ratio': 4365, 'southern': 4366, 'theme': 4367, 'winner': 4368, 'offend': 4369, 'cheapskat': 4370, 'korea': 4371, '1730': 4372, 'surviv': 4373, 'aggrav': 4374, 'debit': 4375, 'kosher': 4376, 'skimpi': 4377, 'indirect': 4378, 'ba0009': 4379, 'ba0010': 4380, 'dissatisfact': 4381, 'coin': 4382, 'wore': 4383, 'elimin': 4384, 'tactic': 4385, 'scowl': 4386, 'dissapoint': 4387, 'restock': 4388, 'wee': 4389, 'element': 4390, 'sharp': 4391, 'revis': 4392, '1830': 4393, 'monarch': 4394, 'rich': 4395, 'energet': 4396, 'constrain': 4397, 'giggl': 4398, 'chargeabl': 4399, 'frugal': 4400, 'pnr': 4401, 'presenc': 4402, 'detriment': 4403, '330': 4404, 'relev': 4405, '16k': 4406, 'allot': 4407, 'establish': 4408, 'clubroom': 4409, 'audienc': 4410, 'fray': 4411, 'terror': 4412, 'startl': 4413, 'honey': 4414, 'mayonnais': 4415, 'cuisin': 4416, 'boil': 4417, 'crab': 4418, 'kill': 4419, 'greatest': 4420, 'robberi': 4421, 'bistro': 4422, 'untidi': 4423, 'undrink': 4424, 'incheon': 4425, 'effortless': 4426, '2013': 4427, 'scotch': 4428, 'preselect': 4429, '1970s': 4430, 'scatter': 4431, 'shake': 4432, 'medoc': 4433, '2x4x2': 4434, 'auh': 4435, 'uni': 4436, 'fluid': 4437, 'economist': 4438, 'baguett': 4439, 'rethink': 4440, 'smoother': 4441, 'cite': 4442, 'straw': 4443, 'ba15': 4444, 'profus': 4445, 'nappi': 4446, 'costco': 4447, 'botch': 4448, '118': 4449, 'shove': 4450, 'gem': 4451, '50a': 4452, '52a': 4453, 'accrual': 4454, 'intox': 4455, 'brake': 4456, 'inclin': 4457, 'krug': 4458, 'unwelcom': 4459, 'mileag': 4460, '2100': 4461, '737s': 4462, 'raisin': 4463, 'gig': 4464, 'freebi': 4465, 'sauvignon': 4466, 'blanc': 4467, '30kg': 4468, 'baraja': 4469, 'picki': 4470, 'baa': 4471, 'chabli': 4472, 'va': 4473, 'impos': 4474, 'blah': 4475, 'fastest': 4476, 'handbag': 4477, 'arn': 4478, 'suspend': 4479, 'ruh': 4480, 'neat': 4481, 'documentari': 4482, 'commentari': 4483, '4a': 4484, 'cun': 4485, 'agp': 4486, '45pm': 4487, 'apr': 4488, 'bacardi': 4489, 'b744': 4490, 'disconcert': 4491, '13a': 4492, 'jordan': 4493, 'colombo': 4494, 'tambo': 4495, 'signal': 4496, 'spectacular': 4497, 'suspicion': 4498, 'sane': 4499, 'nephew': 4500, 'displeasur': 4501, 'ownership': 4502, 'fifti': 4503, 'deposit': 4504, 'zimbabw': 4505, 'snooti': 4506, '773': 4507, 'ravioli': 4508, 'hefti': 4509, 'fundament': 4510, 'checkpoint': 4511, 'yo': 4512, 'b36': 4513, 'niec': 4514, 'outcom': 4515, 'studi': 4516, 'john': 4517, 'smith': 4518, 'typo': 4519, 'explicit': 4520, 'voluntarili': 4521, 'deceiv': 4522, 'tempt': 4523, 'heaven': 4524, 'ooz': 4525, 'carryon': 4526, '265': 4527, 'billion': 4528, 'ps': 4529, '41': 4530, 'utmost': 4531, '0600': 4532, 'carolina': 4533, 'kef': 4534, 'appeas': 4535, 'enrout': 4536, 'squish': 4537, 'tweak': 4538, 'tom': 4539, 'motorway': 4540, 'earliest': 4541, 'duplic': 4542, '5am': 4543, 'dockland': 4544, 'funki': 4545, 'monaco': 4546, 'disagre': 4547, 'undu': 4548, 'andrew': 4549, 'sleek': 4550, 'predica': 4551, 'secret': 4552, '2b': 4553, 'yakk': 4554, 'perpetu': 4555, 'snatch': 4556, 'defeat': 4557, 'sixth': 4558, 'portug': 4559, 'switzerland': 4560, 'logist': 4561, 'rent': 4562, 'uncertainti': 4563, 'slap': 4564, 'characterist': 4565, 'muddl': 4566, 'recognit': 4567, 'pdf': 4568, 'changeov': 4569, 'iberian': 4570, 'rub': 4571, 'flippant': 4572, 'swore': 4573, 'recruit': 4574, '10hr': 4575, 'jetbridg': 4576, '15pm': 4577, 'motel': 4578, 'fraction': 4579, '360': 4580, 'puerto': 4581, 'rico': 4582, 'letzten': 4583, 'mit': 4584, 'flug': 4585, 'sitzen': 4586, 'flughafen': 4587, 'verspätung': 4588, 'unseren': 4589, 'verpassen': 4590, 'auch': 4591, 'unser': 4592, 'gepäck': 4593, 'sie': 4594, 'exud': 4595, 'secondari': 4596, 'ml': 4597, 'unapologet': 4598, 'pinnacl': 4599, 'harrog': 4600, 'miner': 4601, 'unpolish': 4602, 'dash': 4603, 'smarter': 4604, 'tiniest': 4605, 'ai': 4606, 'punter': 4607, 'sanitis': 4608, 'skybridg': 4609, 'devoid': 4610, 'impair': 4611, 'islamabad': 4612, 'pmi': 4613, 'nostalgia': 4614, 'althea': 4615, 'modifi': 4616, 'flannel': 4617, 'born': 4618, 'speech': 4619, '197': 4620, 'curtesi': 4621, 'enclos': 4622, 'misinform': 4623, 'lotteri': 4624, 'laurel': 4625, 'regrett': 4626, 'carnag': 4627, '100s': 4628, 'surg': 4629, 'crispi': 4630, 'expedit': 4631, 'tilt': 4632, 'renown': 4633, 'dispatch': 4634, 'ombudsman': 4635, 'closest': 4636, 'thumb': 4637, 'southwest': 4638, 'ambassador': 4639, 'banter': 4640, 'bath': 4641, 'propos': 4642, 'fabric': 4643, 'philippin': 4644, 'manila': 4645, 'arbitr': 4646, 'barbara': 4647, 'properti': 4648, 'accomplish': 4649, 'candi': 4650, 'korma': 4651, 'widow': 4652, 'priorit': 4653, 'bloom': 4654, '205': 4655, 'lockdown': 4656, 'fathom': 4657, 'payabl': 4658, 'dial': 4659, '1835': 4660, 'timelin': 4661, 'dishearten': 4662, 'untru': 4663, 'glasswar': 4664, 'eager': 4665, 'kerbsid': 4666, 'cc': 4667, 'sequenc': 4668, 'asthma': 4669, '3500': 4670, '1100': 4671, '116': 4672, 'indefinit': 4673, 'deaf': 4674, 'bc': 4675, 'hygien': 4676, 'vital': 4677, 'applic': 4678, '13e': 4679, 'infrastructur': 4680, '50min': 4681, 'cranni': 4682, 'caveat': 4683, 'uncertain': 4684, 'circa': 4685, 'vinegari': 4686, 'intoler': 4687, 'explor': 4688, 'ba59': 4689, 'antalya': 4690, 'suffic': 4691, 'student': 4692, 'whichev': 4693, 'ha': 4694, 'sprung': 4695, 'reconcil': 4696, 'purport': 4697, 'span': 4698, 'cautious': 4699, 'illus': 4700, 'fr': 4701, 'raft': 4702, 'a17': 4703, '96': 4704, 'hertfordshir': 4705, 'pork': 4706, 'mojo': 4707, 'occup': 4708, 'spine': 4709, 'unspecifi': 4710, 'trump': 4711, 'freed': 4712, 'hover': 4713, 'artisan': 4714, 'crumbl': 4715, 'dens': 4716, 'method': 4717, '115': 4718, 'quinoa': 4719, '23c': 4720, 'incl': 4721, 'input': 4722, 'salvat': 4723, 'reloc': 4724, 'supervis': 4725, 'mvp': 4726, 'facial': 4727, 'prevail': 4728, 'steel': 4729, 'qr': 4730, 'skimp': 4731, 'temer': 4732, 'airfield': 4733, 'beach': 4734, 'drug': 4735, 'jetway': 4736, 'snobbi': 4737, 'unorganis': 4738, 'gov': 4739, 'ash': 4740, 'stirrer': 4741, 'bustl': 4742, 'edream': 4743, 'greek': 4744, 'basement': 4745, 'stun': 4746, 'hungari': 4747, 'hollow': 4748, 'cavali': 4749, 'sneaki': 4750, 'preflight': 4751, 'inaccess': 4752, 'narrowest': 4753, 'palm': 4754, 'whack': 4755, 'johnson': 4756, 'sanit': 4757, 'blemish': 4758, 'robust': 4759, 'nurs': 4760, 'be': 4761, 'gross': 4762, 'superbl': 4763, 'cane': 4764, 'formula': 4765, 'adject': 4766, '25am': 4767, 'misconnect': 4768, 'indefens': 4769, '89': 4770, 'partnership': 4771, 'reunion': 4772, '282': 4773, '173': 4774, 'involuntari': 4775, 'filter': 4776, 'swedish': 4777, 'dishonest': 4778, 'ref': 4779, 'erron': 4780, 'categor': 4781, 'commonwealth': 4782, 'advisori': 4783, 'dispos': 4784, 'overhaul': 4785, 'webjet': 4786, 'compass': 4787, 'steal': 4788, 'remors': 4789, 'acoust': 4790, 'facetim': 4791, 'recip': 4792, 'gimmick': 4793, 'drench': 4794, 'forgiv': 4795, 'inn': 4796, 'pc': 4797, '4am': 4798, 'coaster': 4799, 'stolen': 4800, 'embassi': 4801, 'nickl': 4802, 'infuri': 4803, 'rearmost': 4804, 'clockwork': 4805, 'a321neo': 4806, 'dent': 4807, 'liberti': 4808, 'terrifi': 4809, 'cloud': 4810, '7f': 4811, '7a': 4812, 'taxiway': 4813, 'childish': 4814, 'valiant': 4815, 'vocal': 4816, 'predomin': 4817, 'unidentifi': 4818, '1hour': 4819, 'coop': 4820, 'fiddl': 4821, 'hatch': 4822, 'arent': 4823, 'halal': 4824, 'fist': 4825, 'tandoori': 4826, 'sync': 4827, 'accustom': 4828, 'purpl': 4829, 'carbohydr': 4830, 'attack': 4831, '24d': 4832, 'convent': 4833, 'welfar': 4834, 'voluntari': 4835, '12f': 4836, '12d': 4837, 'understaf': 4838, 'icelandair': 4839, '47': 4840, 'amstel': 4841, 'sand': 4842, 'mismatch': 4843, 'modicum': 4844, 'barrel': 4845, 'bedlam': 4846, 'ba2591': 4847, 'pristin': 4848, 'afterthought': 4849, 'testifi': 4850, '110': 4851, '1m': 4852, 'e190': 4853, 'kefalonia': 4854, 'possess': 4855, 'thrill': 4856, 'salon': 4857, '232': 4858, 'deli': 4859, 'brexit': 4860, 'buyer': 4861, 'trait': 4862, 'inquiri': 4863, 'willing': 4864, 'leas': 4865, '62': 4866, 'hitch': 4867, 'flatbread': 4868, 'weari': 4869, 'breach': 4870, 'despic': 4871, 'recur': 4872, 'interview': 4873, 'beaten': 4874, 'beep': 4875, 'swissair': 4876, 'savouri': 4877, 'israel': 4878, 'x2': 4879, '50pm': 4880, 'perplex': 4881, 'tangibl': 4882, 'coldest': 4883, 'speedbird': 4884, 'jet2': 4885, '328': 4886, 'pushi': 4887, 'lav': 4888, 'caress': 4889, 'haggl': 4890, 'etern': 4891, '275': 4892, '550': 4893, 'slimi': 4894, 'smear': 4895, 'oxygen': 4896, 'paramed': 4897, 'dialogu': 4898, 'absorb': 4899, 'kindl': 4900, 'muster': 4901, '174': 4902, 'airin': 4903, 'destruct': 4904, '04': 4905, 'fiumicino': 4906, 'lighter': 4907, 'stairway': 4908, 'forese': 4909, 'tree': 4910, 'hazard': 4911, 'unforgett': 4912, 'goodwil': 4913, 'urin': 4914, '5h': 4915, '788': 4916, '2002': 4917, 'unintent': 4918, 'gentl': 4919, '1940': 4920, '2030': 4921, 'caribbean': 4922, 'preserv': 4923, 'fame': 4924, 'chest': 4925, 'extraordinarili': 4926, 'skyscann': 4927, 'lit': 4928, 'western': 4929, 'billund': 4930, 'weekday': 4931, 'additon': 4932, '40min': 4933, 'stifl': 4934, 'rage': 4935, 'oppress': 4936, 'blr': 4937, 'latch': 4938, 'agoni': 4939, 'petit': 4940, 'hindsight': 4941, 'relent': 4942, 'illustr': 4943, 'detract': 4944, '12a': 4945, 'chin': 4946, 'concret': 4947, 'thirteen': 4948, 'lanzarot': 4949, 'diminish': 4950, 'elus': 4951, 'cement': 4952, 'convivi': 4953, '23kgs': 4954, '2j': 4955, 'culinari': 4956, 'tower': 4957, 'aircrew': 4958, 'gordon': 4959, 'minibar': 4960, 'eleven': 4961, 'chatter': 4962, 'knacker': 4963, 'brick': 4964, 'specialist': 4965, 't5a': 4966, '83a': 4967, 'countless': 4968, 'taper': 4969, 'entail': 4970, 'microscop': 4971, 'un': 4972, 'layer': 4973, 'shone': 4974, 'johnni': 4975, 'walker': 4976, 'walnut': 4977, 'pillar': 4978, 'agreeabl': 4979, 'unsaf': 4980, 'criticis': 4981, 'hostil': 4982, 'batteri': 4983, 'autism': 4984, 'awok': 4985, 'lsml': 4986, 'inoper': 4987, 'sunken': 4988, 'mushi': 4989, 'blockbust': 4990, 'authent': 4991, 'nbo': 4992, '105': 4993, 'clubworld': 4994, 'pricey': 4995, 'murcia': 4996, 'reopen': 4997, 'hid': 4998, '3hr': 4999, 'downtown': 5000, 'clever': 5001, 'titan': 5002, 'pole': 5003, 'vault': 5004, 'prematur': 5005, 'franchis': 5006, 'ba169': 5007, 'hail': 5008, 'bike': 5009, 'unsecur': 5010, 'panic': 5011, 'snob': 5012, 'pli': 5013, 'specifi': 5014, 'protector': 5015, 'duo': 5016, 'graini': 5017, 'a340': 5018, 'finest': 5019, 'knive': 5020, 'museum': 5021, 'cure': 5022, 'hurt': 5023, 'dot': 5024, 'mutter': 5025, 'worldwid': 5026, '32kg': 5027, '757': 5028, '1998': 5029, 'sharpen': 5030, 'nrt': 5031, 'loganair': 5032, 'pray': 5033, 'lentil': 5034, '300s': 5035, 'zealous': 5036, 'wobbl': 5037, 'sleepless': 5038, 'decorum': 5039, 'viabl': 5040, 'taught': 5041, 'patchi': 5042, 'toss': 5043, 'bog': 5044, 'poison': 5045, 'burden': 5046, 'adher': 5047, 'discharg': 5048, 'empir': 5049, 'waw': 5050, 'waitress': 5051, 'mayhem': 5052, '66': 5053, 'bend': 5054, 'arbitrari': 5055, 'n': 5056, 'topic': 5057, 'peel': 5058, 'tireless': 5059, 'hilton': 5060, 'schlep': 5061, 'strain': 5062, 'cranki': 5063, 'peril': 5064, 'chop': 5065, 'confisc': 5066, 'tranfer': 5067, 'ryan': 5068, 'network': 5069, 'worthwhil': 5070, 'summar': 5071, 'recal': 5072, 'guzzler': 5073, 'wcs': 5074, 'airbourn': 5075, 'saint': 5076, 'georg': 5077, '46': 5078, 'c1': 5079, 'grasp': 5080, 'shameless': 5081, 'cave': 5082, 'daylight': 5083, '12hr': 5084, 'verona': 5085, 'borrow': 5086, 'hiccup': 5087, 'factori': 5088, 'zombi': 5089, 'lake': 5090, 'ping': 5091, 'proxim': 5092, 'palat': 5093, 'retail': 5094, 'timekeep': 5095, 'foolish': 5096, 'drip': 5097, 't7': 5098, '2167': 5099, '776': 5100, '45m': 5101, 'midland': 5102, 'punch': 5103, 'tho': 5104, 'bloke': 5105, 'cursori': 5106, '122': 5107, 'precari': 5108, '149': 5109, 'brochur': 5110, '83': 5111, 'gcm': 5112, 'lcc': 5113, 'spark': 5114, 'selfish': 5115, '11pm': 5116, 'jolli': 5117, 'demean': 5118, 'harri': 5119, 'tantalis': 5120, 'unserv': 5121, 'hen': 5122, 'lesser': 5123, 'snooz': 5124, 'flavorless': 5125, 'zakintho': 5126, 'deploy': 5127, 'wasabi': 5128, 'midflight': 5129, 'pleasent': 5130, 'chardonnay': 5131, '1840': 5132, 'glossi': 5133, 'jiggl': 5134, 'fax': 5135, 'fatti': 5136, 'bristol': 5137, 'lowli': 5138, 'demis': 5139, 'youngest': 5140, 'downward': 5141, 'meltdown': 5142, 'incident': 5143, 'amateur': 5144, 'id': 5145, 'arrest': 5146, 'fawlti': 5147, 'refriger': 5148, 'nce': 5149, 'stink': 5150, 'gris': 5151, 'marco': 5152, 'polo': 5153, 'hydraul': 5154, 'slope': 5155, 'column': 5156, 'streak': 5157, 'impract': 5158, 'tuna': 5159, 'abba': 5160, 'summon': 5161, 'outag': 5162, 'irregular': 5163, 'unkept': 5164, 'fragil': 5165, 'slack': 5166, 'flatten': 5167, 'grew': 5168, 'cub': 5169, 'vend': 5170, 'joe': 5171, 'tenth': 5172, 'retrofit': 5173, 'aesthet': 5174, 'unforgiv': 5175, 'smallish': 5176, 'dissatisfi': 5177, 'charcuteri': 5178, 'sauna': 5179, '199': 5180, 'makeov': 5181, 'intuit': 5182, '1720': 5183, 'acc': 5184, 'disillus': 5185, 'drawn': 5186, 'interven': 5187, 'conced': 5188, 'honesti': 5189, 'transpar': 5190, 'doze': 5191, 'creativ': 5192, 'charact': 5193, 'ventil': 5194, 'infus': 5195, 'steadili': 5196, 'talli': 5197, 'overwork': 5198, 'concoct': 5199, 'thrust': 5200, 'unfound': 5201, '38in': 5202, 'congeni': 5203, 'tribut': 5204, 'cvv': 5205, 'irrespons': 5206, 'epitomis': 5207, 'coordin': 5208, 'schipol': 5209, 'relic': 5210, 'punish': 5211, 'pun': 5212, 'northern': 5213, 'ba12': 5214, 'hellish': 5215, 'garuda': 5216, 'bundl': 5217, 'acronym': 5218, 'sucker': 5219, 'unexcit': 5220, 'boarder': 5221, 'zürich': 5222, 'emphas': 5223, 'unexcept': 5224, 'confort': 5225, 'balloon': 5226, 'ba10': 5227, 'sinus': 5228, 'outfit': 5229, 'entré': 5230, 'swallow': 5231, 'aforement': 5232, 'victim': 5233, 'pill': 5234, 'nespresso': 5235, 'austrian': 5236, 'omit': 5237, 'os': 5238, 'ua': 5239, 'philli': 5240, 'crown': 5241, 'gung': 5242, 'contempl': 5243, 'hors': 5244, 'scene': 5245, 'woud': 5246, 'a8': 5247, '25a': 5248, 'infam': 5249, 'complac': 5250, 'mous': 5251, '772': 5252, 'cock': 5253, 'dug': 5254, 'luanda': 5255, 'overcom': 5256, 'limbo': 5257, 'saa': 5258, 'avious': 5259, 'vain': 5260, '63j': 5261, '2hour': 5262, 'monetari': 5263, 'nad': 5264, '38d': 5265, 'digit': 5266, 'pas': 5267, 'inexplic': 5268, 'bur': 5269, 'decept': 5270, 'tale': 5271, 'overt': 5272, 'twix': 5273, '200k': 5274, 'lba': 5275, 'exagger': 5276, 'copious': 5277, 'eg': 5278, '5gbp': 5279, 'tut': 5280, 'cabinet': 5281, 'lemonad': 5282, 'vow': 5283, '29a': 5284, 'cappuccino': 5285, 'concentr': 5286, 'god': 5287, 'usher': 5288, 'cent': 5289, 'clariti': 5290, 'grit': 5291, 'soul': 5292, 'abolish': 5293, 'slant': 5294, '1950': 5295, 'caramel': 5296, 'lasagna': 5297, 'avali': 5298, '869': 5299, 'smug': 5300, 'dual': 5301, 'extric': 5302, 'ukrain': 5303, 'ferri': 5304, 'sneakili': 5305, 'trout': 5306, 'uned': 5307, 'whip': 5308, 'kudo': 5309, 'thanksgiv': 5310, 'puzzl': 5311, 'butternut': 5312, 'clam': 5313, 'lobster': 5314, '4500': 5315, 'ergonom': 5316, 'detect': 5317, 'unapproach': 5318, 'cardhold': 5319, 'tablecloth': 5320, 'marrakesh': 5321, 'flightdeck': 5322, 'hijack': 5323, '240': 5324, 'gaffa': 5325, 'imped': 5326, 'inconvi': 5327, 'handi': 5328, 'hustl': 5329, 'outboard': 5330, 'outset': 5331, 'tart': 5332, 'chef': 5333, 'carton': 5334, 'bandar': 5335, 'brunei': 5336, 'rbi': 5337, 'jhb': 5338, 'clarifi': 5339, 'healthi': 5340, 'portela': 5341, 'coincid': 5342, 'apricot': 5343, 'vision': 5344, 'underst': 5345, 'cognac': 5346, 'intimid': 5347, 'shini': 5348, 'scallop': 5349, 'perfum': 5350, 'esteem': 5351, 'reg': 5352, 'naughti': 5353, 'craft': 5354, 'cork': 5355, 'bracket': 5356, '385': 5357, 'king': 5358, 'pump': 5359, 'hastili': 5360, 'session': 5361, '2in': 5362, 'shriek': 5363, 'splurg': 5364, 'kenya': 5365, 'lighten': 5366, 'underground': 5367, 'lustr': 5368, 'if': 5369, 'servant': 5370, 'demo': 5371, 'unfamiliar': 5372, 'glacial': 5373, 'config': 5374, 'spade': 5375, 'wateri': 5376, 'idl': 5377, '1c': 5378, 'bogota': 5379, 'knoxvill': 5380, 'odor': 5381, 'upfront': 5382, 'lava': 5383, 'dpd': 5384, 'steerag': 5385, 'advisor': 5386, 'reciev': 5387, 'concierg': 5388, 'reveal': 5389, 'colorado': 5390, 'strawberri': 5391, 'que': 5392, 'circul': 5393, 'larder': 5394, 'librari': 5395, 'rum': 5396, 'unappet': 5397, 'dominican': 5398, 'republ': 5399, '68': 5400, 'squint': 5401, 'cinema': 5402, 'grain': 5403, 'freeli': 5404, 'ba2678': 5405, 'eros': 5406, 'sicili': 5407, 'android': 5408, '51': 5409, 'comic': 5410, 'bnb': 5411, '3f': 5412, 'supermarket': 5413, 'topper': 5414, 'guarulho': 5415, 'connector': 5416, 'tropic': 5417, 'fro': 5418, '353': 5419, 'handluggag': 5420, 'decant': 5421, 'ski': 5422, 'discreet': 5423, 'flap': 5424, 'spice': 5425, 'fuselag': 5426, 'generos': 5427, 'album': 5428, 'rearward': 5429, 'brace': 5430, 'trumpet': 5431, 'din': 5432, 'av': 5433, 'gage': 5434, 'resili': 5435, 'siecl': 5436, 'bass': 5437, 'reseat': 5438, 'dar': 5439, 'salaam': 5440, '5b': 5441, 'ba056': 5442, 'huddl': 5443, 'instrument': 5444, 'unclip': 5445, 'disapoint': 5446, 'dodgi': 5447, 'blur': 5448, 'groom': 5449, 'preoccupi': 5450, 'meaningless': 5451, 'signpost': 5452, 'faux': 5453, 'consent': 5454, 'tpa': 5455, 'dip': 5456, 'liquor': 5457, 'cru': 5458, '24hour': 5459, 'peri': 5460, 'bird': 5461, 'pajama': 5462, 'cityjet': 5463, 'subtitl': 5464, 'yuk': 5465, 'represent': 5466, 'slab': 5467, 'kitt': 5468, 'alik': 5469, '1980s': 5470, 'sprite': 5471, 'curv': 5472, 'beaker': 5473, 'friendliest': 5474, 't4s': 5475, '113': 5476, 'ffs': 5477, 'fuerteventura': 5478, 'roster': 5479, 'nauseat': 5480, '49': 5481, 'moon': 5482, 'shannon': 5483, 'pioneer': 5484, 'perceiv': 5485, 'batter': 5486, 'clip': 5487, 'caviar': 5488, 'disguis': 5489, 'restart': 5490, 'penalis': 5491, '20hrs': 5492, 'busin': 5493, 'outclass': 5494, 'impli': 5495, 'berth': 5496, 'sailboat': 5497, '64a': 5498, 'cai': 5499, '677': 5500, 'condiment': 5501, 'sia': 5502, 'cardiff': 5503, 'apu': 5504, 'yul': 5505, 'lux': 5506, '2e': 5507, 'pushchair': 5508, 'ba38': 5509, '200er': 5510, 'rigat': 5511, 'ba662': 5512, 'ba0676': 5513, 'untyp': 5514, 'unchil': 5515, 'ace': 5516, 'prime': 5517, 'sof': 5518, 'ba0042': 5519, 'disadvantag': 5520, 'irat': 5521, 'rtw': 5522, 'numb': 5523, 'rabbit': 5524, 'warren': 5525, 'evod': 5526, 'buddi': 5527, 'yummi': 5528, 'mist': 5529, 'slippag': 5530, 'retic': 5531, 'ba284': 5532, 'mla': 5533, 'banner': 5534, 'proffer': 5535, 'indulg': 5536, 'cauliflow': 5537, '6k': 5538, 'trio': 5539, 'calori': 5540, 'eclect': 5541, 'tickl': 5542, 'unluckili': 5543, 'out': 5544, 'selfi': 5545, 'vex': 5546, 'upshot': 5547, 'anz': 5548, '50b': 5549, 'longish': 5550, 'gloomi': 5551, '2010': 5552, 'drift': 5553, 'pond': 5554, '13h': 5555, 'pvod': 5556, 'weakest': 5557, 'seatac': 5558, 'limo': 5559, '83m': 5560, 'ba216': 5561, 'jnbjnb': 5562, 'withstood': 5563, 'washbag': 5564, 'ba2167': 5565, '2166': 5566, 'necessit': 5567, 'lenient': 5568, 'ba268': 5569, 'tbi': 5570, 'ba2706': 5571, 'ba2707': 5572, 'dsm': 5573, 'cointreau': 5574, 'tanqueray': 5575, 'miseri': 5576, 'havinh': 5577, 'chapati': 5578, 'dimmabl': 5579, '2hr45m': 5580, 'hogwash': 5581, 'leant': 5582, 'cmb': 5583, 'whet': 5584, 'appetit': 5585, 'gb75': 5586, 'shortest': 5587, 'ba038': 5588, '17g': 5589, 'encroach': 5590, 'indisput': 5591, 'paneer': 5592, 'hasten': 5593, 'thunderbird': 5594, 'sympath': 5595, 'ba26': 5596, '1250': 5597, 'abomin': 5598, 'godzilla': 5599, 'doubtless': 5600, 'v': 5601, '084': 5602, 'jkf': 5603, 't1': 5604, 'offish': 5605, 'shod': 5606, 'injur': 5607, 'trinidad': 5608, 'euphem': 5609, 'analogu': 5610, '625': 5611, 'dreari': 5612, 'crummi': 5613, 'peretola': 5614, 'stern': 5615, 'kip': 5616, 'oz': 5617, 'upperclass': 5618, 'b763': 5619, 'hanh': 5620, '112km': 5621, 'ungod': 5622, 'lowcost': 5623, 'abdic': 5624, 'alterc': 5625, 'agon': 5626, 'wrench': 5627, 'ineffect': 5628, 'essenc': 5629, 'err': 5630, 'brunt': 5631, '294': 5632, '546': 5633, 'bow': 5634, '553': 5635, '297': 5636, 'michigan': 5637, 'retire': 5638, 'b45': 5639, 'zilch': 5640, 'personel': 5641, 'safari': 5642, 'expans': 5643, 'ba621': 5644, 'camembert': 5645, 'soulless': 5646, '2245': 5647, '0120': 5648, 'glitchi': 5649, 'biggi': 5650, 'reassign': 5651, 'incapac': 5652, '6d': 5653, '1730pm': 5654, '2200': 5655, 'gib': 5656, '660': 5657, '125': 5658, 'pittanc': 5659, 'arctic': 5660, 'uncommun': 5661, 'accusatori': 5662, 'inv': 5663, 'misl': 5664, 'lowbal': 5665, 'sceen': 5666, 'tractor': 5667, 'untasti': 5668, 'eurofly': 5669, 'fingernail': 5670, 'highway': 5671, '520': 5672, 'audiovisu': 5673, 'ba059': 5674, '450gbp': 5675, 'mission': 5676, 'backrest': 5677, 'functionari': 5678, 'calla': 5679, 'cuzco': 5680, 'violat': 5681, '3x': 5682, 'ambul': 5683, 'faa': 5684, 'bodrum': 5685, 'pastrami': 5686, 'aka': 5687, 'antithesi': 5688, 'lieu': 5689, 'histor': 5690, 'ta': 5691, '40am': 5692, '1155pm': 5693, '20am': 5694, 'moron': 5695, 'supercomput': 5696, 'algorithm': 5697, 'cruelti': 5698, 'uncomfi': 5699, 'ba015': 5700, 'dropdown': 5701, 'pamphlet': 5702, 'vicin': 5703, 'kiss': 5704, 'welp': 5705, 'hometown': 5706, 'buri': 5707, '365': 5708, 'heed': 5709, 'tablewar': 5710, 'outdo': 5711, 'flaki': 5712, 'westbound': 5713, 'skid': 5714, 'champion': 5715, 'itsu': 5716, 'thoroughfar': 5717, 'renaiss': 5718, 'devot': 5719, 'downer': 5720, 'knack': 5721, 'victori': 5722, 'seventh': 5723, 'mantra': 5724, 'discolour': 5725, 'whereabout': 5726, 'halifax': 5727, 'untrustworthi': 5728, 'runaround': 5729, 'attribut': 5730, 'proportion': 5731, 'invoic': 5732, 'reprint': 5733, 'inexist': 5734, 'swamp': 5735, '1000each': 5736, 'whoop': 5737, 'commensur': 5738, 'ba297': 5739, 'adjec': 5740, 'unobstruct': 5741, 'obvioulsi': 5742, 'impec': 5743, 'secundari': 5744, 'mar23': 5745, 'weed': 5746, 'smoker': 5747, 'clown': 5748, 'trial': 5749, 'algeria': 5750, '316': 5751, 'sind': 5752, 'wochen': 5753, 'immer': 5754, 'britisch': 5755, 'dem': 5756, 'zusammenschluss': 5757, 'geflogen': 5758, 'jeder': 5759, 'verspätet': 5760, 'nun': 5761, 'schon': 5762, 'ein': 5763, 'sodass': 5764, 'anschlussflug': 5765, 'werden': 5766, 'zuletzt': 5767, 'tagen': 5768, 'angekommen': 5769, 'mussten': 5770, 'rundreis': 5771, 'umplanen': 5772, 'bis': 5773, 'heut': 5774, 'noch': 5775, 'kein': 5776, 'über': 5777, 'erhalten': 5778, 'zum': 5779, 'glück': 5780, 'selbst': 5781, 'nachgesehen': 5782, 'da': 5783, 'beim': 5784, 'verpspäteten': 5785, 'meint': 5786, 'kabinen': 5787, 'dass': 5788, 'ihr': 5789, 'anschlussflüg': 5790, 'selben': 5791, 'flugzeug': 5792, 'können': 5793, 'nicht': 5794, 'machen': 5795, 'scalp': 5796, 'affront': 5797, 'wizzair': 5798, 'nutrigain': 5799, 'unclassi': 5800, 'bacteri': 5801, 'uncancel': 5802, 'paddington': 5803, '135km': 5804, 'incomprehens': 5805, 'explod': 5806, 'ba0958': 5807, 'grotti': 5808, 'hostel': 5809, '1279': 5810, 'kuwaiti': 5811, 'detest': 5812, '225': 5813, 'arbitrarili': 5814, 'cds': 5815, 'dentist': 5816, 'spasm': 5817, 'nutrigrain': 5818, 'predepatur': 5819, 'skyshop': 5820, '46kg': 5821, '57': 5822, '242': 5823, '126': 5824, 'propel': 5825, 'helicopt': 5826, 'ba245': 5827, '12j': 5828, '11d': 5829, 'musti': 5830, 'aloud': 5831, 'flask': 5832, 'granul': 5833, 'ba244': 5834, 'kinder': 5835, 'blend': 5836, 'bot': 5837, '394': 5838, 'spacer': 5839, 'silicon': 5840, 'sealer': 5841, 'purifi': 5842, 'refloat': 5843, 'shipwreck': 5844, 'grunt': 5845, 'uncontrol': 5846, 'sprout': 5847, 'shiver': 5848, 'disfunct': 5849, 'simultan': 5850, 'van': 5851, 'jostl': 5852, 'bankrol': 5853, 'detain': 5854, 'interrog': 5855, 'wellington': 5856, 'keflavík': 5857, 'cannelloni': 5858, 'bel': 5859, 'reorganis': 5860, 'froth': 5861, 'riski': 5862, 'canap': 5863, 'catastroph': 5864, 'circus': 5865, '2way': 5866, 'unfinish': 5867, 'scroung': 5868, 'straighten': 5869, 'steadi': 5870, 'andthey': 5871, '5h35m': 5872, 'retag': 5873, 'fortalaza': 5874, 'lade': 5875, 'tout': 5876, '8hr': 5877, 'hodg': 5878, 'pudg': 5879, 'nastier': 5880, 'suffoc': 5881, 'faint': 5882, 'anna': 5883, '17inch': 5884, 'mon': 5885, 'gruffli': 5886, 'maddi': 5887, 'iga': 5888, '15am': 5889, '710': 5890, 'madman': 5891, 'on39j': 5892, 'recompens': 5893, 'a4': 5894, '25c': 5895, 'gina': 5896, 'bulgarian': 5897, 'avml': 5898, '0038': 5899, 'withdraw': 5900, 'kashmir': 5901, 'dhami': 5902, 'rsa': 5903, 'permeat': 5904, '4029': 5905, '1400': 5906, 'nosed': 5907, 'uncheck': 5908, 'mns': 5909, 'uninform': 5910, 'hapless': 5911, 'grief': 5912, 'uncl': 5913, 'aunt': 5914, 'carriag': 5915, 'fiction': 5916, 'fastidi': 5917, '127': 5918, '5800': 5919, 'increment': 5920, 'ba0032': 5921, 'jun': 5922, '0650': 5923, '0200': 5924, 'ba1427': 5925, '0915': 5926, '1025': 5927, '0445': 5928, '0510': 5929, '1125': 5930, '0800': 5931, '0757': 5932, 'ldn': 5933, '60m': 5934, 'australasia': 5935, 'latecom': 5936, '40m': 5937, 'verbatim': 5938, 'edmonton': 5939, 'a80': 5940, 'tug': 5941, '3k': 5942, 'marshal': 5943, '40pm': 5944, 'leap': 5945, 'retina': 5946, 'pandemonium': 5947, 'ba656': 5948, '2260': 5949, '2508': 5950, 'sarah': 5951, 'arham': 5952, 'strateg': 5953, 'skew': 5954, 'zhr': 5955, 'solicitor': 5956, 'ort': 5957, 'flightradar24': 5958, 'tofu': 5959, 'jog': 5960, 'trustworthi': 5961, 'unbalanc': 5962, 'ui': 5963, 'unread': 5964, 'replet': 5965, 'plight': 5966, 'swindl': 5967, '26kg': 5968, '24kg': 5969, 'scath': 5970, 'sift': 5971, 'ethic': 5972, 'tme': 5973, 'replay': 5974, 'std': 5975, 'atd': 5976, 'hanger': 5977, 'kulula': 5978, '2h15min': 5979, 'ba0262': 5980, '14pm': 5981, 'wholesom': 5982, 'reintroduc': 5983, 'exp': 5984, 'gobsmack': 5985, 'pension': 5986, 'reconnect': 5987, 'ba8703': 5988, 'ba0254': 5989, 'tailwind': 5990, '10x': 5991, 'mislabel': 5992, '13hr': 5993, 'antibacteri': 5994, 'jetstar': 5995, '255': 5996, 'bond': 5997, 'frazzl': 5998, 'individualis': 5999, 'oreo': 6000, 'sean': 6001, 'doyl': 6002, 'excurs': 6003, 'yrs': 6004, 'spurious': 6005, 'nhs': 6006, 'blond': 6007, 'sketch': 6008, 'brim': 6009, 'manger': 6010, 'polenta': 6011, 'savvi': 6012, 'crise': 6013, 'oxymoron': 6014, 'ruinat': 6015, '7hrs': 6016, 'underpopul': 6017, 'ba42': 6018, 'unsophist': 6019, 'manki': 6020, 'ba454': 6021, 'bid': 6022, 'farewel': 6023, 'commod': 6024, 'unmitig': 6025, 'eunic': 6026, 'quo': 6027, 'ant': 6028, 'maroc': 6029, 'ridg': 6030, 'fierc': 6031, 'unmark': 6032, 'flysafair': 6033, 'detroit': 6034, 'arduous': 6035, 'dissuad': 6036, 'misconcept': 6037, 'insol': 6038, 'insecur': 6039, 'gigant': 6040, 'frenzi': 6041, 'standstil': 6042, 'cling': 6043, '5m': 6044, 'lug': 6045, 'lindor': 6046, 'naiv': 6047, 'bagdrop': 6048, 'hogmanay': 6049, 'antipasto': 6050, '1189': 6051, '229': 6052, '589': 6053, 'humus': 6054, 'phenomen': 6055, 'adapt': 6056, 'aftertast': 6057, 'simpler': 6058, 'tastier': 6059, 'chic': 6060, 'terrin': 6061, 'kirkwal': 6062, 'bluetooth': 6063, 'unstress': 6064, 'stewart': 6065, 'tim': 6066, 'mull': 6067, '1215': 6068, 'cvc': 6069, 'cycl': 6070, 'miler': 6071, '2449': 6072, '15cms': 6073, 'laissez': 6074, 'ba777': 6075, 'rigatoni': 6076, 'cottag': 6077, 'tack': 6078, 'latin': 6079, 'sicken': 6080, 'pauper': 6081, 'riu': 6082, 'paradis': 6083, 'riddl': 6084, 'tunnel': 6085, 'mismanag': 6086, 'dad': 6087, 'goncalo': 6088, 'ribeiro': 6089, 'rescu': 6090, 'plf': 6091, '168': 6092, 'gatl': 6093, '9f': 6094, 'prehistor': 6095, 'premis': 6096, '40k': 6097, 'rebuild': 6098, 'torment': 6099, 'amir': 6100, 'splodg': 6101, 'yore': 6102, 'prosecut': 6103, 'rebuk': 6104, 'ulster': 6105, 'shred': 6106, 'volcano': 6107, 'gran': 6108, 'canaria': 6109, 'lackadais': 6110, 'whaa': 6111, 'chock': 6112, 'sequ': 6113, '10min': 6114, 'stroll': 6115, '461': 6116, 'shun': 6117, 'clearer': 6118, 'usless': 6119, 'drone': 6120, 'voicemail': 6121, 'becuas': 6122, 'speechless': 6123, 'samsonit': 6124, 's7': 6125, 'confront': 6126, 'interlud': 6127, 'pidgin': 6128, 'exempt': 6129, 'unsport': 6130, 'epilogu': 6131, '11h': 6132, '5d': 6133, 'derid': 6134, '727': 6135, 'notori': 6136, '636': 6137, 'aktion': 6138, 'scrutinis': 6139, 'kahina': 6140, 'ladjouz': 6141, 'm25': 6142, 'sixteen': 6143, 'frenet': 6144, 'bori': 6145, 'wastag': 6146, 'tariff': 6147, 'onetravel': 6148, 'stammer': 6149, 'madelin': 6150, 'aeromexico': 6151, 'scuff': 6152, 'chirstma': 6153, 'shanel': 6154, 'collis': 6155, 'savior': 6156, 'egyptian': 6157, 'uphold': 6158, 'maskless': 6159, 'uniti': 6160, 'dissimilar': 6161, 'lahor': 6162, 'swab': 6163, '100th': 6164, 'preludium': 6165, 'nicola': 6166, 'feuillatt': 6167, 'irrespecut': 6168, 'ec261': 6169, 'cr': 6170, 'af65': 6171, 'reticket': 6172, 'chinstrap': 6173, '3000us': 6174, 'frlight': 6175, 'simplic': 6176, '951': 6177, 'airb': 6178, 'bs': 6179, 'mammoth': 6180, 'deduct': 6181, 'withhold': 6182, 'bane': 6183, 'covid19': 6184, 'sette': 6185, 'horizon': 6186, 'adjud': 6187, 'reorgan': 6188, 'sequenti': 6189, 'efta': 6190, 'eea': 6191, 'bureaucraci': 6192, 'organisatiion': 6193, 'tochang': 6194, 'blurt': 6195, 'briefli': 6196, 'vehicl': 6197, 'reevalu': 6198, 'agit': 6199, 'tact': 6200, 'deceit': 6201, 'fo': 6202, '10hrs': 6203, 'conceit': 6204, 'temperament': 6205, 'airfranc': 6206, 'thr': 6207, 'explanatori': 6208, 'subsid': 6209, 'iffi': 6210, 'unfit': 6211, 'magnum': 6212, 'plentli': 6213, 'dilemma': 6214, 'syllabl': 6215, 'inebri': 6216, 'unrelax': 6217, 'solitari': 6218, 'curbsid': 6219, 'strongest': 6220, 'immeasur': 6221, 'core': 6222, 'hord': 6223, 'roundabout': 6224, 'heroic': 6225, 'ingeni': 6226, 'ghana': 6227, '234': 6228, 'fightcontinu': 6229, 'droopi': 6230, 'peski': 6231, '44': 6232, 'shakey': 6233, 'et': 6234, 'subscrib': 6235, 'idiosyncrat': 6236, 'scorch': 6237, 'mph': 6238, 'gust': 6239, '53j': 6240, 'insinu': 6241, 'youtub': 6242, 'blizzard': 6243, 'di': 6244, 'sigh': 6245, 'refrain': 6246, 'seldom': 6247, 'celebratori': 6248, 'minc': 6249, 'josey': 6250, 'ba956': 6251, 'igot': 6252, '258': 6253, 'rollout': 6254, 'monik': 6255, 'complianc': 6256, 'regult': 6257, 'maelstrom': 6258, 'clamp': 6259, 'undertrain': 6260, 'eater': 6261, 'tabard': 6262, '15c': 6263, '15d': 6264, 'mybeef': 6265, 'adress': 6266, 'malign': 6267, 'unwis': 6268, '4hrs': 6269, '27min': 6270, 'ba0015': 6271, 'flung': 6272, 'exot': 6273, 'ontim': 6274, 'gaze': 6275, 'palett': 6276, '9hr': 6277, 'blown': 6278, 'shunt': 6279, 'filigre': 6280, 'nudg': 6281, 'outdid': 6282, '88': 6283, 'tired': 6284, 'easiest': 6285, 'investitur': 6286, 'palac': 6287, 'recoveri': 6288, 'claustrophobia': 6289, '24c': 6290, 'perspect': 6291, '12e': 6292, 'cloak': 6293, 'legitimaci': 6294, '760': 6295, 'florencia': 6296, 'sociopath': 6297, 'drinkabl': 6298, 'tiger': 6299, 'abreakfast': 6300, 'rwturn': 6301, 'ipod': 6302, 'windi': 6303, 'warrant': 6304, 'nowt': 6305, 'ek': 6306, '1hr5min': 6307, 'threshold': 6308, 'aris': 6309, 'ramp': 6310, 'plump': 6311, 'torrid': 6312, 'shi': 6313, 'truman': 6314, 'ole': 6315, '159': 6316, '187': 6317, 'efl': 6318, 'inauspici': 6319, 'unfunct': 6320, 'bourgogn': 6321, 'clearanc': 6322, '79cm': 6323, 'med': 6324, 'ob': 6325, 'fruitless': 6326, 'tatter': 6327, 'pavement': 6328, '59a': 6329, '50gbp': 6330, '4cm': 6331, 'dodg': 6332, 'foodless': 6333, 'boat': 6334, '25m': 6335, '15m': 6336, 'hoot': 6337, 'mahe': 6338, 'dud': 6339, 'missiv': 6340, 'autist': 6341, 'recogonis': 6342, 'sunflow': 6343, 'happyaut': 6344, 'ba033': 6345, 'abnorm': 6346, 'proposit': 6347, 'robo': 6348, 'sob': 6349, 'compassion': 6350, 'repor': 6351, 'preset': 6352, '3th': 6353, 'spnet': 6354, 'inspector': 6355, 'interpret': 6356, 'bleed': 6357, 'unquestion': 6358, 'multitud': 6359, 'setup': 6360, 'salari': 6361, '55pm': 6362, 'michael': 6363, 'croft': 6364, 'fatuous': 6365, '30m': 6366, 'def': 6367, 'bulgaria': 6368, 'verdict': 6369, 'argentina': 6370, 'amelia': 6371, 'toba': 6372, 'offens': 6373, 'shocker': 6374, 'pakistani': 6375, 'plush': 6376, '2x3': 6377, 'homolog': 6378, 'busiest': 6379, 'intrigu': 6380, 'sacrif': 6381, 'unparallel': 6382, 'icecream': 6383, 'furthest': 6384, 'saunter': 6385, 'olbia': 6386, 'vessel': 6387, 'ba0011': 6388, 'ba762': 6389, 'dirham': 6390, 'centenari': 6391, 'brew': 6392, 'brewdog': 6393, 'alight': 6394, 'hawk': 6395, 'elixir': 6396, 'actor': 6397, 'induc': 6398, 'turtl': 6399, 'achiv': 6400, 'kuch': 6401, 'airflow': 6402, 'simi': 6403, 'crowe': 6404, 'ith': 6405, '4kg': 6406, 'repackag': 6407, 'exemplifi': 6408, 'stitch': 6409, 'dank': 6410, 'pit': 6411, 'ostens': 6412, 'disclos': 6413, 'cheeseboard': 6414, 'tripl': 6415, 'streamlin': 6416, 'auckland': 6417, 'puffer': 6418, 'patti': 6419, 'reinforc': 6420, 'helpdesk': 6421, 'ba035': 6422, 'upkeep': 6423, 'res': 6424, 'tue': 6425, 'embodi': 6426, 'surgic': 6427, 'clinic': 6428, 'hi': 6429, 'demeanour': 6430, 'heartbreak': 6431, '0103': 6432, 'buzz': 6433, 'scrabbl': 6434, 'surnam': 6435, 'airhostess': 6436, 'muffl': 6437, 'integr': 6438, 'auster': 6439, 'tardi': 6440, 'cider': 6441, 'vieux': 6442, 'prepay': 6443, 'statutori': 6444, 'and': 6445, 'experieinc': 6446, 'ba0457': 6447, 'stephen': 6448, 'barebon': 6449, 'rigid': 6450, 'echelon': 6451, 'nearer': 6452, 'travll': 6453, 'gangway': 6454, 'ba289': 6455, 'ontario': 6456, '2037': 6457, 'cologn': 6458, 'defend': 6459, 'webist': 6460, 'bidder': 6461, 'gloss': 6462, 'inhospit': 6463, 'worcest': 6464, '3in': 6465, 'businessman': 6466, 'plcs': 6467, 'ware': 6468, 'dictum': 6469, 'starboard': 6470, 'aileron': 6471, 'buff': 6472, 'loseley': 6473, 'duff': 6474, 'precautionari': 6475, 'snippi': 6476, 'airworthi': 6477, 'licens': 6478, '8st': 6479, 'wilt': 6480, 'prohibit': 6481, 'barrag': 6482, 'shovel': 6483, '228': 6484, 'schiphol': 6485, 'unboard': 6486, 'bento': 6487, 'piladelphia': 6488, 'ecenomi': 6489, 'ba836': 6490, 'ratatouill': 6491, 'incomplet': 6492, 'arc': 6493, 'polderban': 6494, 'unbook': 6495, '813': 6496, 'buh': 6497, 'inop': 6498, 'plumpest': 6499, 'agonis': 6500, 'hunt': 6501, 'jug': 6502, 'gridlin': 6503, 'depreci': 6504, 'naan': 6505, 'gulab': 6506, 'jamun': 6507, 'dice': 6508, 'blackberri': 6509, 'dib': 6510, 'calf': 6511, 'eyeshad': 6512, 'ba199': 6513, '723': 6514, 'monitori': 6515, 'evouch': 6516, '176m': 6517, 'medk': 6518, '2005': 6519, 'compress': 6520, '21019': 6521, '3380': 6522, 'fluse': 6523, 'dose': 6524, 'flatscreen': 6525, 'milki': 6526, 'guru': 6527, 'unattend': 6528, 'teflon': 6529, 'pedestrian': 6530, 'facilit': 6531, 'throwback': 6532, '225lb': 6533, 'obes': 6534, 'merest': 6535, 'saidthey': 6536, 'proven': 6537, 'decker': 6538, 'lpgs': 6539, 'belgian': 6540, 'britax': 6541, 'overr': 6542, 'fransisco': 6543, 'appr': 6544, 'bulkier': 6545, 'argentinian': 6546, '170aud': 6547, 'strictest': 6548, '5kgs': 6549, 'caption': 6550, 'showcas': 6551, '20yr': 6552, 'unfunni': 6553, 'petersburg': 6554, 'precis': 6555, 'demeanor': 6556, 'linen': 6557, 'droor': 6558, 'poster': 6559, 'shank': 6560, 'gruel': 6561, 'arisen': 6562, '91000': 6563, '8500': 6564, 'trenitalia': 6565, '8800': 6566, '83k': 6567, 'rob': 6568, 'relay': 6569, 'remuner': 6570, '356usd': 6571, 'ba34': 6572, 'py': 6573, 'waist': 6574, 'concess': 6575, 'breezi': 6576, 'standout': 6577, 'readili': 6578, 'pear': 6579, 'brittl': 6580, 'machboo': 6581, 'feuill': 6582, 'witti': 6583, 'dint': 6584, 'wholli': 6585, 'prejudic': 6586, 'teem': 6587, '22c': 6588, 'motorhom': 6589, '603': 6590, 'gbp65': 6591, '27c': 6592, 'vegatarian': 6593, 'forest': 6594, 'soda': 6595, 'unsatisfi': 6596, '2011': 6597, 'closet': 6598, 'latt': 6599, 'uncov': 6600, 'hummus': 6601, 'unpad': 6602, 'mislaid': 6603, '63usd': 6604, 'rendit': 6605, 'delib': 6606, 'duet': 6607, 'jerk': 6608, 'hybrid': 6609, 'cleanest': 6610, 'cocoon': 6611, 'galeri': 6612, 'boredom': 6613, 'seve': 6614, 'oversight': 6615, 'insert': 6616, 'lens': 6617, 'soya': 6618, 'skim': 6619, 'carn': 6620, 'pong': 6621, 'concert': 6622, '0053': 6623, 'handsom': 6624, 'rina': 6625, 'aswel': 6626, 'wad': 6627, 'attroci': 6628, 'ballroom': 6629, 'preferenti': 6630, 'replan': 6631, 'glow': 6632, 'contend': 6633, 'goswami': 6634, 'temporarili': 6635, 'landslid': 6636, 'fastrack': 6637, 'sugari': 6638, 'keeper': 6639, 'dilig': 6640, 'breaker': 6641, 'unaccompani': 6642, 'betray': 6643, 'lauren': 6644, 'perrier': 6645, '6h': 6646, 'glamouris': 6647, 'dutch': 6648, 'offshoot': 6649, 'rural': 6650, 'quaf': 6651, 'birmingham': 6652, 'disservic': 6653, 'jk': 6654, 'galwick': 6655, 'static': 6656, '1945': 6657, 'pecan': 6658, 'tobleron': 6659, '210': 6660, 'aback': 6661, '476': 6662, 'retent': 6663, 'unattract': 6664, '276': 6665, 'creek': 6666, 'paddl': 6667, 'aircaft': 6668, '62j': 6669, 'chive': 6670, 'debut': 6671, 'sociabl': 6672, 'progamm': 6673, '240lbs': 6674, 'ginger': 6675, '6500': 6676, 'supersed': 6677, '499': 6678, 'prelud': 6679, 'sustain': 6680, 'whisk': 6681, 'ovat': 6682, 'gibberish': 6683, 'moldi': 6684, 'prestig': 6685, 'mahon': 6686, 'menorca': 6687, 'sheepish': 6688, 'livid': 6689, 'breastf': 6690, 'furor': 6691, 'jumpseat': 6692, 'boom': 6693, 'succul': 6694, '292': 6695, 'godfath': 6696, 'gladiat': 6697, 'roman': 6698, 'soho': 6699, 'qf1': 6700, 'weiss': 6701, 'lindt': 6702, 'fanboy': 6703, 'smartest': 6704, 'lawn': 6705, 'stepto': 6706, 'statur': 6707, 'ba31': 6708, 'kfc': 6709, 'daniel': 6710, 'chirpi': 6711, 'pearl': 6712, 'pizzazz': 6713, 'eatabl': 6714, 'janci': 6715, 'robinson': 6716, 'hugh': 6717, 'rosé': 6718, '1350': 6719, 'chois': 6720, 'hardest': 6721, '0720': 6722, 'antic': 6723, 'islay': 6724, 'mecca': 6725, 'motoris': 6726, 'overus': 6727, '53k': 6728, 'enrol': 6729, 'yank': 6730, 'accessori': 6731, 'snokart': 6732, 'skier': 6733, 'ckeck': 6734, 'ba2058': 6735, 'dangl': 6736, 'unbrand': 6737, 'discourt': 6738, 'legend': 6739, '29e': 6740, 'gateway': 6741, 'yesterda': 6742, 'byword': 6743, 'pegasus': 6744, 'atlasglob': 6745, 'blow': 6746, 'countabl': 6747, 'ought': 6748, 'parsimoni': 6749, '27kg': 6750, '10kg': 6751, 'reshuffl': 6752, '47kg': 6753, 'starbuck': 6754, 'neutral': 6755, 'deodor': 6756, 'cabl': 6757, 'promo': 6758, 'casablanca': 6759, 'liais': 6760, 'ba985': 6761, 'snowi': 6762, 'arilin': 6763, 'seeker': 6764, 'densifi': 6765, 'testament': 6766, 'gratitud': 6767, 'nausea': 6768, 'extinct': 6769, 'bnlp': 6770, 'basourc': 6771, 'teenag': 6772, 'contractor': 6773, 'bolero': 6774, 'upsel': 6775, 'granari': 6776, 'floral': 6777, 'council': 6778, 'expediti': 6779, 'midsiz': 6780, 'uneduc': 6781, 'waiter': 6782, 'requisit': 6783, 'legitim': 6784, 'teach': 6785, 'authorit': 6786, 'collector': 6787, 'diffcult': 6788, '70kgs': 6789, 'frist': 6790, 'defini': 6791, 'ah': 6792, 'moth': 6793, 'msi': 6794, 'tens': 6795, '1311': 6796, 'sawdust': 6797, 'grown': 6798, 'agil': 6799, 'bose': 6800, 'duesseldorf': 6801, 'mileston': 6802, '50th': 6803, 'pin': 6804, 'chick': 6805, 'ici': 6806, 'marbl': 6807, 'reformat': 6808, '194': 6809, '27f': 6810, '30f': 6811, 'petti': 6812, '1414': 6813, 'widthwis': 6814, 'dictat': 6815, 'panama': 6816, 'osnabrück': 6817, 'reïmburs': 6818, 'nonchal': 6819, 'cashew': 6820, 'ageism': 6821, 'lli': 6822, 'warranti': 6823, 'londiin': 6824, 'incosist': 6825, 'inbox': 6826, 'overgener': 6827, 'addict': 6828, 'unrip': 6829, 'vinegar': 6830, 'raven': 6831, 'prospect': 6832, 'ergo': 6833, 'gaudier': 6834, 'admin': 6835, 'qas': 6836, 'petrol': 6837, 'feign': 6838, 'heck': 6839, '48h': 6840, 'steadfast': 6841, 'attir': 6842, '6hrs': 6843, 'thousend': 6844, 'stall': 6845, 'glum': 6846, 'materialis': 6847, 'carbon': 6848, 'rfor': 6849, 'pret': 6850, 'comer': 6851, 'morph': 6852, 'trough': 6853, 'extern': 6854, '18d': 6855, 'carrusel': 6856, 'fligh': 6857, 'westhet': 6858, 'weav': 6859, 'mezz': 6860, 'thingi': 6861, 'bankrupt': 6862, 'pr': 6863, 'ba1414': 6864, '112': 6865, 'shrink': 6866, 'violet': 6867, '2000s': 6868, 'replic': 6869, 'quip': 6870, 'plat': 6871, 'squat': 6872, 'unsoci': 6873, 'hebrew': 6874, 'veal': 6875, 'eerili': 6876, 'seruptiti': 6877, 'gym': 6878, 'trendi': 6879, 'chuck': 6880, 'district': 6881, 'unknow': 6882, '12pm': 6883, 'paypal': 6884, '50j': 6885, 'unkempt': 6886, 'stopper': 6887, '15k': 6888, 'cast': 6889, '2x2x2': 6890, 'cholesterol': 6891, '18a': 6892, '18k': 6893, 'interlin': 6894, '15p': 6895, '372': 6896, '703': 6897, 'rewind': 6898, 'ba55': 6899, 'ascertain': 6900, 'justif': 6901, 'contractu': 6902, 'mirror': 6903, 'centimetr': 6904, '23d': 6905, '24e': 6906, 'anyhow': 6907, 'emit': 6908, '40th': 6909, 'flashi': 6910, 'downmarket': 6911, '0515': 6912, 'grossli': 6913, 'forg': 6914, 'jaffa': 6915, 'cagliari': 6916, '676': 6917, '652': 6918, 'ba168': 6919, '884': 6920, '388': 6921, 'pvg': 6922, 'ba160': 6923, '3h': 6924, 'coho': 6925, 'middlesbrough': 6926, 'rhyme': 6927, 'staircas': 6928, '0710': 6929, 'seller': 6930, 'eggi': 6931, 'erod': 6932, 'recogniz': 6933, 'ba319': 6934, 'suppress': 6935, 'depress': 6936, 'resurrect': 6937, 'builder': 6938, 'scuffl': 6939, 'undermin': 6940, 'reguar': 6941, 'powerpoint': 6942, 'hurrican': 6943, 'ophelia': 6944, 'fring': 6945, 'medsag': 6946, 'viewpoint': 6947, 'imprison': 6948, '1999': 6949, 'fixtur': 6950, 'comprehend': 6951, '290': 6952, 'callri': 6953, 'chariti': 6954, 'absym': 6955, 'scrape': 6956, 'curtail': 6957, 'deject': 6958, 'subpar': 6959, 'handheld': 6960, 'slowest': 6961, 'abput': 6962, 'louder': 6963, 'wireless': 6964, 'assumpt': 6965, 'pesto': 6966, 'conge': 6967, 'engliah': 6968, '82m': 6969, 'ponder': 6970, 'scuttl': 6971, 'synchronis': 6972, 'ovo': 6973, 'obsess': 6974, 'evian': 6975, '0t': 6976, 'fritter': 6977, 'germ': 6978, 'ana': 6979, 'stag': 6980, 'aurlin': 6981, 'stumbl': 6982, 'flavorwis': 6983, 'umami': 6984, 'msgs': 6985, 'undercook': 6986, 'biarritz': 6987, '375': 6988, 'master': 6989, 'bugl': 6990, 'imit': 6991, 'zant': 6992, 'laser': 6993, 'busier': 6994, 'melt': 6995, 'ox': 6996, 'goos': 6997, '343': 6998, 'sharpish': 6999, 'miso': 7000, 'unbeat': 7001, 'mac': 7002, 'fanta': 7003, 'crust': 7004, 'meh': 7005, 'disarray': 7006, 'labori': 7007, 'inventori': 7008, 'greenish': 7009, 'moot': 7010, 'definet': 7011, 'claustroph': 7012, 'axe': 7013, 'panson': 7014, 'passibl': 7015, 'mispelt': 7016, 'mint': 7017, 'falafel': 7018, 'cheapli': 7019, 'math': 7020, 'overhear': 7021, 'stronger': 7022, 'aftershav': 7023, 'snide': 7024, 'stationari': 7025, 'gmt': 7026, 'trivial': 7027, 'comeupp': 7028, 'pose': 7029, 'sleazi': 7030, 'rational': 7031, 'chequ': 7032, 'oath': 7033, 'lest': 7034, 'liabil': 7035, 'bdx': 7036, 'encrust': 7037, 'confetti': 7038, 'scold': 7039, 'luckier': 7040, 'basil': 7041, 'wiz': 7042, 'tattoo': 7043, 'outlandish': 7044, 'hairstyl': 7045, 'chass': 7046, 'dussledorf': 7047, 'pancak': 7048, 'asparagus': 7049, 'partak': 7050, 'mozzerella': 7051, 'shrimp': 7052, 'poland': 7053, '260': 7054, 'skyway': 7055, 'contigu': 7056, '371': 7057, 'duress': 7058, 'loath': 7059, 'standoff': 7060, 'aurway': 7061, 'unequal': 7062, 'quest': 7063, 'ba2581': 7064, 'defi': 7065, '14a': 7066, 'lime': 7067, 'championship': 7068, 'moni': 7069, 'rave': 7070, 'mainstream': 7071, 'cheapi': 7072, 'burger': 7073, 'aranchini': 7074, 'henriot': 7075, 'castlenau': 7076, 'taitting': 7077, 'kiwi': 7078, 'gent': 7079, '3l': 7080, '18g': 7081, 'elitist': 7082, 'handbagg': 7083, 'inconsit': 7084, 'uncoop': 7085, '71': 7086, 'jokey': 7087, 'strenuous': 7088, '200was': 7089, 'viiw': 7090, 'shoehorn': 7091, 'conceiv': 7092, 'poki': 7093, 'guard': 7094, 'pic': 7095, 'twelfth': 7096, 'parallel': 7097, 'liverpool': 7098, 'abandondon': 7099, 'aftercar': 7100, 'overfloweth': 7101, 'almighti': 7102, 'merri': 7103, 'wink': 7104, 'thriller': 7105, '121': 7106, 'infotain': 7107, 'bristish': 7108, '156': 7109, '218': 7110, 'tallinn': 7111, 'nondescript': 7112, 'eyebrow': 7113, 'rung': 7114, 'inordin': 7115, 'manifest': 7116, 'grouter': 7117, 'memento': 7118, 'unauthoris': 7119, '72hrs': 7120, '800aus': 7121, '1510': 7122, 'afflict': 7123, 'outshin': 7124, 'ethiopian': 7125, 'liveri': 7126, '651': 7127, 'trauma': 7128, 'decommiss': 7129, 'laps': 7130, 'seric': 7131, 'pawn': 7132, 'frost': 7133, 'unfrozen': 7134, 'barcod': 7135, 'quango': 7136, 'royalti': 7137, 'unimport': 7138, 'despt': 7139, 'charl': 7140, 'gaull': 7141, 'sidestep': 7142, 'percentag': 7143, 'disbelief': 7144, 'echo': 7145, 'millimet': 7146, 'cofus': 7147, 'reknown': 7148, 'makeshift': 7149, 'tatst': 7150, 'junior': 7151, 'juri': 7152, 'cowork': 7153, 'srilankan': 7154, 'thyme': 7155, 'chronic': 7156, 'economis': 7157, 'skin': 7158, 'nylon': 7159, 'polyest': 7160, 'benn': 7161, 'welll': 7162, 'inturpt': 7163, 'unaccount': 7164, 'upholst': 7165, 'bowel': 7166, 'wane': 7167, 'legrest': 7168, 'nugget': 7169, 'triangl': 7170, 'scrimp': 7171, 'texa': 7172, 'jul': 7173, 'acclaim': 7174, 'nc': 7175, 'proclaim': 7176, 'unconcern': 7177, 'soo': 7178, 'mandat': 7179, 'monument': 7180, 'behest': 7181, 'string': 7182, 'gregg': 7183, 'grandmoth': 7184, '1973': 7185, 'takeof': 7186, 'usp': 7187, 'hotter': 7188, 'iom': 7189, 'unman': 7190, 'outing': 7191, 'imbecil': 7192, 'focaccia': 7193, 'disapear': 7194, '51c': 7195, 'statisfi': 7196, 'lounger': 7197, 'mount': 7198, 'hast': 7199, 'nanni': 7200, 'ba434': 7201, 'cleanser': 7202, 'moisturis': 7203, 'viiu': 7204, 'allig': 7205, 'kneed': 7206, 'nationalis': 7207, 'radar': 7208, '7x': 7209, 'elizabeth': 7210, 'cunard': 7211, 'wile': 7212, '6ft8': 7213, 'nosi': 7214, 'predecessor': 7215, '340': 7216, 'pardon': 7217, 'disapprov': 7218, 'gruell': 7219, 'bias': 7220, 'galleyway': 7221, 'peasant': 7222, 'snd': 7223, '296': 7224, 'croak': 7225, 'hilari': 7226, '35j': 7227, '35k': 7228, 'wheeli': 7229, 'reinstal': 7230, '421': 7231, 'viio': 7232, 'watchabl': 7233, '420': 7234, 'fanfar': 7235, 'discont': 7236, 'breed': 7237, 'crate': 7238, 'meander': 7239, 'reced': 7240, 'puré': 7241, 'obligatori': 7242, 'artist': 7243, 'takeaway': 7244, 'unintellig': 7245, 'cruze': 7246, 'constraint': 7247, 'paltri': 7248, 'radic': 7249, 'shortcut': 7250, 'reptut': 7251, 'processor': 7252, 'thimbl': 7253, 'fag': 7254, 'unoffici': 7255, 'rolex': 7256, 'gucci': 7257, 'embarras': 7258, 'whing': 7259, 'fedex': 7260, 'oceania': 7261, '180cm': 7262, 'croqu': 7263, 'monsieur': 7264, 'munch': 7265, 'surreptiti': 7266, 'nosediv': 7267, 'stewardship': 7268, 'señor': 7269, 'yum': 7270, 'yuck': 7271, 'potassium': 7272, 'peru': 7273, 'ymms': 7274, '1600': 7275, 'pullov': 7276, 'bemoan': 7277, 'abound': 7278, 'opaqu': 7279, 'indecipher': 7280, 'vegat': 7281, 'granach': 7282, 'slideabl': 7283, 'stavang': 7284, 'salut': 7285, 'illustri': 7286, 'dispirit': 7287, 'acquir': 7288, 'counti': 7289, 'tarmack': 7290, 'foudd': 7291, 'beliger': 7292, '94': 7293, 'amazon': 7294, 'calib': 7295, 'interfac': 7296, 'bomb': 7297, 'hurdl': 7298, 'plastici': 7299, 'traumatis': 7300, 'changeabl': 7301, 'trolli': 7302, 'densif': 7303, 'vaniti': 7304, 'smudg': 7305, 'selv': 7306, 'waitros': 7307, 'fade': 7308, 'jewel': 7309, 'ladder': 7310, 'energis': 7311, 'olymp': 7312, 'vaulter': 7313, 'ba559': 7314, 'nobel': 7315, 'oratori': 7316, 'chunki': 7317, 'barg': 7318, 'undervalu': 7319, 'been': 7320, 'álex': 7321, 'grimm': 7322, 'outlook': 7323, 'unterstand': 7324, 'classier': 7325, 'dinnertim': 7326, 'tongu': 7327, 'soldier': 7328, 'umpteenth': 7329, 'phalanx': 7330, 'exhort': 7331, 'ryanis': 7332, 'exert': 7333, 'devis': 7334, 'graze': 7335, 'brag': 7336, 'chlorin': 7337, 'hige': 7338, 'impess': 7339, 'mayo': 7340, '1645': 7341, '1650': 7342, 'kennel': 7343, 'squander': 7344, 'ecperi': 7345, 'gbp25': 7346, 'communicati': 7347, 'gbp25voucher': 7348, 'ba208': 7349, 'freezer': 7350, 'consequenti': 7351, 'oblivi': 7352, 'measli': 7353, 'café': 7354, 'unstock': 7355, 'expat': 7356, 'undecid': 7357, 'hunk': 7358, 'footnot': 7359, 'subdu': 7360, 'expereinc': 7361, 'obey': 7362, 'tiie': 7363, 'helper': 7364, 'flickeer': 7365, 'bgs': 7366, 'misnom': 7367, 'goug': 7368, 'b772': 7369, 'abject': 7370, 'statesid': 7371, 'mega': 7372, 'suet': 7373, 'stodg': 7374, 'runni': 7375, 'possibilti': 7376, 'abd': 7377, 'aeroport': 7378, 'lagguag': 7379, 'goldcard': 7380, 'linoleum': 7381, 'slash': 7382, 'bugbear': 7383, '70a': 7384, 'danc': 7385, '53kg': 7386, 'babyfood': 7387, 'epitaph': 7388, 'valet': 7389, 'castig': 7390, 'endors': 7391, 'ethihad': 7392, 'birth': 7393, 'insubstanti': 7394, 'faceless': 7395, '5092': 7396, '4243': 7397, 'scarciti': 7398, 'dumbstruck': 7399, 'ba0199': 7400, 'rebrand': 7401, '40d': 7402, 'outstat': 7403, 'judgement': 7404, 'loaf': 7405, 'liber': 7406, 'irk': 7407, 'conscious': 7408, 'hardiest': 7409, 'fate': 7410, 'facad': 7411, '1535': 7412, '1655': 7413, 'untrain': 7414, 'shabbili': 7415, '430': 7416, 'undesir': 7417, 'vocabulari': 7418, 'decay': 7419, 'skymap': 7420, 'décide': 7421, 'timezon': 7422, 'incredul': 7423, 'seriosuli': 7424, 'fought': 7425, 'screeenshot': 7426, 'airberlin': 7427, 'deficit': 7428, 'overse': 7429, 'innsbruck': 7430, 'vomit': 7431, 'stench': 7432, 'puke': 7433, 'pervad': 7434, 'brow': 7435, 'restrain': 7436, 'blip': 7437, 'fruitcak': 7438, 'intens': 7439, 'portal': 7440, '50am': 7441, '79': 7442, 'ba676': 7443, 'penuri': 7444, 'evalu': 7445, 'suicid': 7446, 'electronix': 7447, 'concur': 7448, 'revolut': 7449, 'hem': 7450, 'union': 7451, 'tailfin': 7452, 'guilti': 7453, 'speckl': 7454, '1gbp': 7455, 'pope': 7456, 'franci': 7457, 'redress': 7458, 'hypothet': 7459, '20kg': 7460, 'devast': 7461, 'pub': 7462, 'grub': 7463, 'booklet': 7464, 'endeavour': 7465, 'discontinu': 7466, '7e': 7467, 'unmotiv': 7468, 'guidelin': 7469, 'ba0033': 7470, 'tesco': 7471, '63p': 7472, 'intellig': 7473, 'exploit': 7474, 'captiv': 7475, 'heatwav': 7476, 'threat': 7477, 'fluctuat': 7478, 'eastbound': 7479, '1030': 7480, '1130ish': 7481, '9year': 7482, '1230': 7483, 'cobbl': 7484, 'ungraci': 7485, 'misnam': 7486, '1478': 7487, 'saddest': 7488, 'gon': 7489, 'na': 7490, 'sucess': 7491, 'preztal': 7492, 'unduli': 7493, 'hunger': 7494, 'pringl': 7495, 'hoop': 7496, 'micro': 7497, '588': 7498, 'avoi': 7499, 'irregardless': 7500, 'stomp': 7501, 'nostalg': 7502, 'eyeglass': 7503, 'disjoint': 7504, 'ba633': 7505, 'salvag': 7506, 'logo': 7507, 'ba273': 7508, 'excellentprompt': 7509, 'ba747': 7510, 'aperitif': 7511, '4ef': 7512, '5ef': 7513, 'broadcast': 7514, 'succinct': 7515, 'shield': 7516, '187cm': 7517, 'flightit': 7518, 'therebi': 7519, 'aton': 7520, 'assuag': 7521, 'gee': 7522, 'dispassion': 7523, 'mortifi': 7524, 'picnic': 7525, 'kebab': 7526, 'eta': 7527, 'ascrib': 7528, 'elect': 7529, 'platinum': 7530, 'expenditur': 7531, 'habit': 7532, '45am': 7533, 'insipid': 7534, 'nil': 7535, 'recours': 7536, 'dive': 7537, 'sharpli': 7538, 'balsam': 7539, 'glaze': 7540, 'surmis': 7541, 'softest': 7542, 'airwav': 7543, 'revel': 7544, 'heartili': 7545, '6in': 7546, 'jazz': 7547, 'csl': 7548, 'cabbag': 7549, 'besieg': 7550, 'falsifi': 7551, 'flair': 7552, 'curvatur': 7553, 'profound': 7554, 'bulg': 7555, 'unrestrict': 7556, 'unhook': 7557, 'ba1389': 7558, '1814': 7559, '31in': 7560, 'flyspeck': 7561, 'chengdu': 7562, 'chemic': 7563, 'molecul': 7564, 'hypocrit': 7565, 'bat': 7566, '6hr': 7567, 'regim': 7568, 'avaric': 7569, 'decamp': 7570, 'hoover': 7571, 'motley': 7572, 'chowder': 7573, 'bisqu': 7574, 'hq': 7575, 'cubic': 7576, 'whisper': 7577, 'theirn': 7578, 'seatspac': 7579, 'havent': 7580, 'chappi': 7581, 'lccs': 7582, 'lowish': 7583, 'cosmet': 7584, '22k': 7585, '22j': 7586, 'paralys': 7587, 'limb': 7588, 'crackl': 7589, 'cleopatra': 7590, 'moveabl': 7591, 'diagon': 7592, 'bypass': 7593, 'ancillari': 7594, 'lifejacket': 7595, 'patrol': 7596, 'faff': 7597, 'vegeterian': 7598, 'pledg': 7599, 'relianc': 7600, 'strife': 7601, 'enterpris': 7602, 'shudder': 7603, 'succumb': 7604, 'inexperi': 7605, 'denomin': 7606, 'sf': 7607, 'batch': 7608, 'rove': 7609, 'uncoordin': 7610, 'fibrous': 7611, 'exquisit': 7612, 'mirth': 7613, 'frenchman': 7614, 'mm': 7615, 'camera': 7616, 'pouch': 7617, 'thigh': 7618, 'smash': 7619, 'a7': 7620, '16b': 7621, 'angola': 7622, 'branch': 7623, '300km': 7624, 'readjust': 7625, 'elicit': 7626, 'nigerian': 7627, 'rotund': 7628, 'bemus': 7629, 'polaris': 7630, 'vigor': 7631, 'uht': 7632, 'ct': 7633, 'waver': 7634, 'funnier': 7635, 'militari': 7636, 'aerodrom': 7637, 'figo': 7638, 'maduro': 7639, 'whine': 7640, 'blob': 7641, 'tortellini': 7642, 'cartoon': 7643, '00o': 7644, 'fennel': 7645, 'dynam': 7646, 'lollipop': 7647, 'hanki': 7648, 'strewn': 7649, 'clatter': 7650, '192': 7651, 'irrespect': 7652, 'geordi': 7653, 'facet': 7654, 'unpopular': 7655, 'bikki': 7656, 'resourc': 7657, 'wtplus': 7658, 'chrome': 7659, 'revalu': 7660, 'offshor': 7661, 'incoher': 7662, 'dustbin': 7663, 'daddi': 7664, 'dollop': 7665, 'buffalo': 7666, 'gbp1': 7667, 'haut': 7668, 'effic': 7669, 'consecut': 7670, 'nilli': 7671, 'civv': 7672, 'irresist': 7673, 'tarom': 7674, 'overlap': 7675, 'merengu': 7676, 'blandest': 7677, 'circuit': 7678, 'c65': 7679, 'flintston': 7680, '64k': 7681, 'yyj': 7682, 'pps': 7683, '2190': 7684, 'lst': 7685, '196cm': 7686, 'wild': 7687, 'crow': 7688, '10c': 7689, 'judgment': 7690, '14k': 7691, 'ba009': 7692, 'chiangmai': 7693, 'ensu': 7694, 'homebound': 7695, 'skinnier': 7696, 'gosh': 7697, 'travesti': 7698, 'spars': 7699, 'voyag': 7700, 'suction': 7701, 'reson': 7702, 'culmin': 7703, '0750': 7704, '0620': 7705, 'luqa': 7706, 'solitair': 7707, 'drew': 7708, 'premièr': 7709, 'majorca': 7710, 'euyi': 7711, 'euxf': 7712, 'tortuous': 7713, 'blurb': 7714, 'macaroni': 7715, 'gelatin': 7716, 'blush': 7717, 'kiddi': 7718, 'rucksack': 7719, '12s': 7720, 'semblanc': 7721, 'despar': 7722, 'nonexist': 7723, 'squirrelli': 7724, '850': 7725, 'unmatch': 7726, 'hull': 7727, 'kenyan': 7728, 'grati': 7729, 'contin': 7730, 'megr': 7731, 'mockeri': 7732, 'acclimatis': 7733, 'miscalcul': 7734, 'lim': 7735, 'humourless': 7736, 'subsidis': 7737, 'smarten': 7738, 'shave': 7739, 'stubbl': 7740, 'rerun': 7741, 'sitcom': 7742, 'tian': 7743, 'celoptap': 7744, 'apathet': 7745, 'atitud': 7746, 'nearest': 7747, 'rust': 7748, '10p': 7749, 'disingenu': 7750, 'retrain': 7751, 'handout': 7752, 'accabt': 7753, 'whillst': 7754, 'equat': 7755, 'merdock': 7756, 'verbal': 7757, 'inequ': 7758, 'hoard': 7759, '2320': 7760, 'benchmark': 7761, 'l2': 7762, 'akward': 7763, 'bagag': 7764, 'flys': 7765, 'woder': 7766, '101': 7767, 'sjc': 7768, 'dilmun': 7769, 'pumpkin': 7770, 'ambigu': 7771, 'ramsey': 7772, '3800': 7773, 'hartsfield': 7774, 'jackson': 7775, 'chauffeur': 7776, 'botswana': 7777, 'joyous': 7778, 'redicul': 7779, 'sentiment': 7780, 'wisest': 7781, 'overcast': 7782, 'desist': 7783, 'hasti': 7784, 'ffp': 7785, 'ba632': 7786, 'sanction': 7787, 'ba872': 7788, 'nn': 7789, 'overcrow': 7790, 'banger': 7791, 'gill': 7792, 'armpit': 7793, 'shrivel': 7794, 'skewer': 7795, 'ocass': 7796, '300k': 7797, 'claret': 7798, 'ark': 7799, 'outdon': 7800, 'colombian': 7801, 'preffer': 7802, '0055': 7803, '19h30': 7804, '21h30': 7805, '22h30': 7806, 'diagram': 7807, '04h30': 7808, 'consensus': 7809, 'rigmarol': 7810, 'crosiss': 7811, 'shrunk': 7812, '51d': 7813, '14g': 7814, 'noisier': 7815, '2620': 7816, 'ungrac': 7817, 'unwarr': 7818, 'asterisk': 7819, 'attain': 7820, '233': 7821, '235': 7822, 'hardi': 7823, 'lavish': 7824, 'barclay': 7825, 'pescetarian': 7826, 'a19': 7827, 'timer': 7828, 'crip': 7829, 'cupcak': 7830, 'convertor': 7831, 'tension': 7832, 'uc': 7833, 'mustard': 7834, 'undo': 7835, 'farthest': 7836, 'everon': 7837, 'evil': 7838, 'feebl': 7839, 'takeout': 7840, 'wate': 7841, 'occass': 7842, '24a': 7843, 'bruschetta': 7844, 'breadstick': 7845, 'salsa': 7846, 'tit': 7847, 'frosti': 7848, 'unconscion': 7849, 'seatmat': 7850, 'reconfigur': 7851, 'funsiz': 7852, 'confim': 7853, 'shortsight': 7854, 'resum': 7855, 'wreck': 7856, 'conflict': 7857, 'irrat': 7858, 'lugagg': 7859, 'upgrat': 7860, 'freedom': 7861, 'aerobridg': 7862, 'deliev': 7863, 'passneg': 7864, 'choatic': 7865, '3x3x3': 7866, '8hrs': 7867, 'overtaken': 7868, 'boozi': 7869, 'citzien': 7870, 'scari': 7871, 'ba115': 7872, 'ba174': 7873, 'ba755': 7874, 'ba749a': 7875, '3c': 7876, 'ba749': 7877, '25pm': 7878, 'turnround': 7879, 'pane': 7880, 'panoram': 7881, 'solicit': 7882, '185cm': 7883, 'chamonix': 7884, 'tellurid': 7885, 'upholsteri': 7886, 'fligth': 7887, 'workshi': 7888, 'flicker': 7889, 'exterior': 7890, 'stunt': 7891, 'ampang': 7892, 'nurseri': 7893, 'entebb': 7894, 'fluke': 7895, 'recepitionist': 7896, 'jamaica': 7897, 'satelit': 7898, '382': 7899, '35am': 7900, 'comforat': 7901, 'opo': 7902, 'unruli': 7903, '633': 7904, 'atttend': 7905, 'nightmarish': 7906, 'unsystemat': 7907, 'hyster': 7908, 'accolad': 7909, 'terriif': 7910, 'pefect': 7911, 'kansa': 7912, '84': 7913, 'allud': 7914, 'have': 7915, 'not': 7916, 'gleeful': 7917, 'greeter': 7918, 'boister': 7919, 'clutch': 7920, 'jumbl': 7921, 'repay': 7922, 'sweater': 7923, 'blood': 7924, 'speaker': 7925, 'concis': 7926, 'comm': 7927, 'handwrit': 7928, 'merg': 7929, 'stricter': 7930, 'cathi': 7931, 'mock': 7932, 'hiatus': 7933, 'pleaser': 7934, 'preload': 7935, 'gogo': 7936, '2ku': 7937, 'murdoch': 7938, 'epic': 7939, 'blingi': 7940, 'signag': 7941, 'surps': 7942, '484': 7943, 'maxim': 7944, 'rebel': 7945, 'saab': 7946, 'tinker': 7947, 'claustophob': 7948, 'improp': 7949, 'ba2154': 7950, 'bridgeston': 7951, '11k': 7952, '11j': 7953, 'moist': 7954, 'jasmin': 7955, 'teabag': 7956, 'ae': 7957, 'overw': 7958, 'mocca': 7959, 'alchol': 7960, 'accentu': 7961, 'frumpi': 7962, 'basmati': 7963, 'dumpl': 7964, 'homework': 7965, 'cloudi': 7966, '12hrs': 7967, '549': 7968, 'lo': 7969, 'behold': 7970, 'misrepres': 7971, 'bilk': 7972, 'amic': 7973, 'sundri': 7974, 'flock': 7975, '1h10m': 7976, 'trail': 7977, 'blazer': 7978, 'upend': 7979, 'misprint': 7980, 'recycl': 7981, 'hamper': 7982, 'swollen': 7983, 'followup': 7984, 'kent': 7985, 'subzero': 7986, 'intak': 7987, 'eread': 7988, 'reeboot': 7989, 'no1': 7990, 'logbook': 7991, 'tateless': 7992, 'thoughout': 7993, 'sing': 7994, 'frriend': 7995, '7hr': 7996, 'straplin': 7997, 'particularili': 7998, 'woe': 7999, 'betid': 8000, 'lovabl': 8001, 'dowload': 8002, 'sadder': 8003, 'cuba': 8004, 'jacksonvill': 8005, 'recoup': 8006, 'slome': 8007, 'reciproc': 8008, 'marmalad': 8009, 'windowless': 8010, 'dorset': 8011, 'vis': 8012, 'supris': 8013, 'withonc': 8014, 'deskthey': 8015, 'bewild': 8016, 'maraud': 8017, 'iah': 8018, 'ba642': 8019, 'ba643': 8020, 'wherein': 8021, 'cumul': 8022, 'gambl': 8023, 'kati': 8024, 'undergo': 8025, 'warehous': 8026, 'portakabin': 8027, 'ascent': 8028, 'rtm': 8029, 'aircondit': 8030, 'advang': 8031, 'tragedi': 8032, 'vietnam': 8033, 'twosom': 8034, '82b': 8035, 'convect': 8036, 'stab': 8037, 'inbetween': 8038, 'hubbi': 8039, 'werent': 8040, 'turf': 8041, 'b777w': 8042, '777w': 8043, 'cooper': 8044, 'calibr': 8045, 'foray': 8046, 'compos': 8047, 'doorstep': 8048, 'mop': 8049, 'obtrus': 8050, 'sleepi': 8051, 'ineffectu': 8052, 'sultri': 8053, 'litani': 8054, 'ineleg': 8055, 'quasi': 8056, 'merit': 8057, 'rhytmic': 8058, 'sleet': 8059, '1g': 8060, 'cheekili': 8061, 'wisecrack': 8062, 'nantucket': 8063, 'newfoundland': 8064, '3250': 8065, 'measili': 8066, '815': 8067, 'widebodi': 8068, '757s': 8069, 'wriggl': 8070, 'goer': 8071, 'bullet': 8072, 'disappointmwnt': 8073, 'clasd': 8074, 'b773er': 8075, 'hollywood': 8076, 'a5': 8077, 'infront': 8078, 'kotoka': 8079, 'lugagag': 8080, 'sprain': 8081, 'uninvit': 8082, 'boardng': 8083, 'remnant': 8084, 'scrappi': 8085, 'calcul': 8086, 'glare': 8087, 'setter': 8088, 'mango': 8089, 'stainless': 8090, 'chinawar': 8091, 'lend': 8092, 'viewer': 8093, 'orb': 8094, 'bo': 8095, 'linear': 8096, 'deriv': 8097, 'prong': 8098, 'huff': 8099, '1705': 8100, '1955': 8101, '0900': 8102, 'stereotyp': 8103, 'timescal': 8104, '4f': 8105, 'contemporari': 8106, 'unenjoy': 8107, 'cosset': 8108, 'eateri': 8109, 'doesnt': 8110, 'reproduc': 8111, 'parquet': 8112, '28f': 8113, 'chocker': 8114, 'luminesc': 8115, '5yr': 8116, 'radisson': 8117, 'heve': 8118, 'kbp': 8119, 'ib7519': 8120, 'gb': 8121, 'schmooz': 8122, 'feebli': 8123, 'scupper': 8124, 'taster': 8125, 'canva': 8126, 'admiss': 8127, 'disney': 8128, 'amd': 8129, 'leeway': 8130, 'frontlin': 8131, 'incens': 8132, 'petul': 8133, 'blog': 8134, 'ba28': 8135, 'christian': 8136, 'sensat': 8137, 'harsh': 8138, 'csepar': 8139, 'accross': 8140, 'marin': 8141, 'oyster': 8142, 'ballotin': 8143, 'drakensberg': 8144, 'za': 8145, 'atar': 8146, 'medallion': 8147, 'santa': 8148, 'claus': 8149, 'overcoat': 8150, 'overload': 8151, '34c': 8152, 'detritus': 8153, 'e105': 8154, 'abyss': 8155, 'cliquish': 8156, 'unwrap': 8157, 'rapport': 8158, 'othersid': 8159, 'lamp': 8160, 'overrid': 8161, 'il': 8162, 'lunchbox': 8163, '3kg': 8164, 'pice': 8165, 'bulawayo': 8166, 'airlink': 8167, 'cosmopolitan': 8168, 'whop': 8169, 'identikit': 8170, 'monsoon': 8171, '1300': 8172, 'unwilling': 8173, 'insensit': 8174, 'nerv': 8175, 'agro': 8176, 'rogu': 8177, 'thrice': 8178, 'aimless': 8179, 'vanilla': 8180, '63ab': 8181, 'tam': 8182, '1in': 8183, '2for1': 8184, 'entourag': 8185, 'redesign': 8186, 'incent': 8187, 'awash': 8188, 'duller': 8189, 'prone': 8190, 'simplest': 8191, 'impenetr': 8192, 'didact': 8193, 'jobless': 8194, 'admonish': 8195, 'huf': 8196, 'unbutt': 8197, 'lcd': 8198, 'dispers': 8199, 'sex': 8200, 'prefac': 8201, 'toaster': 8202, 'sworn': 8203, 'septacular': 8204, 'ess': 8205, 'epitom': 8206, 'simplist': 8207, 'amentiy': 8208, 'castelnau': 8209, 'brut': 8210, 'wilhelmina': 8211, 'aplomb': 8212, '28b': 8213, '28j': 8214, '7in': 8215, 'splash': 8216, '23hrs': 8217, 'disown': 8218, 'corrupt': 8219, '30hrs': 8220, 'fiftieth': 8221, 'grantley': 8222, 'fractious': 8223, 'overpow': 8224, 'seed': 8225, 'wari': 8226, 'uptight': 8227, 'murki': 8228, 'starchi': 8229, 'unilater': 8230, 'steamer': 8231, 'lab': 8232, 'movenpick': 8233, 'forse': 8234, '136': 8235, 'scuf': 8236, 'fake': 8237, 'biweek': 8238, 'e170': 8239, 'a330': 8240, 'uninterrupt': 8241, 'kettl': 8242, 'arrangend': 8243, 'earner': 8244, 'farcic': 8245, 'usuali': 8246, 'teryaki': 8247, '4x': 8248, 'washbasin': 8249, 'fibr': 8250, 'showpiec': 8251, 'worcestershir': 8252, 'tabasco': 8253, 'plea': 8254, 'entertai': 8255, '1003': 8256, 'snappi': 8257, 'glimmer': 8258, 'arguabl': 8259, 'luster': 8260, 'shaken': 8261, 'tauper': 8262, '37a': 8263, 'familar': 8264, 'shutter': 8265, 'snottiest': 8266, 'cardigan': 8267, 'wholem': 8268, 'tanoy': 8269, 'annouc': 8270, 'halloumi': 8271, 'portobello': 8272, 'coeliac': 8273, 'wheat': 8274, '12b': 8275, '12g': 8276, 'gimmicki': 8277, '010': 8278, 'undertaken': 8279, 'cava': 8280, 'awhil': 8281, 'tamil': 8282, 'tarbert': 8283, 'oj': 8284, 'ba2157': 8285, 'multimedia': 8286, '76': 8287, 'eventuali': 8288, 'resposibilti': 8289, 'shelter': 8290, 'togther': 8291, 'mould': 8292, 'refuge': 8293, 'perch': 8294, 'bleach': 8295, '15e': 8296, '15f': 8297, 'whch': 8298, 'wail': 8299, 'antipasti': 8300, 'trudg': 8301, 'meati': 8302, 'optim': 8303, 'gloom': 8304, 'affin': 8305, 'unengag': 8306, 'command': 8307, '0730': 8308, '89aus': 8309, '157': 8310, 'windshield': 8311, 'wiper': 8312, 'ammen': 8313, 'd28': 8314, 'amorph': 8315, 'disc': 8316, 'delaytd': 8317, 'grond': 8318, 'cheke': 8319, '22hrs': 8320, 'futher': 8321, 'mimim': 8322, '46hrs': 8323, '26d': 8324, 'staunch': 8325, 'lineup': 8326, 'outto': 8327, 'werd': 8328, 'fod': 8329, 'greatth': 8330, 'sanitari': 8331, 'outw': 8332, 'forwarn': 8333, 'investiag': 8334, 'blacken': 8335, 'crusti': 8336, 'swop': 8337, 'mummi': 8338, 'fluff': 8339, 'mouldi': 8340, 'ine': 8341, 'attentiveand': 8342, 'crippl': 8343, 'gatwic': 8344, '02': 8345, 'undoubt': 8346, 'saffron': 8347, 'popul': 8348, 'creep': 8349, 'dizzi': 8350, 'flexi': 8351, 'ssh': 8352, '8d': 8353, 'experinc': 8354, 'morsel': 8355, 'isol': 8356, 'sword': 8357, 'currant': 8358, 'bride': 8359, '1000us': 8360, 'ordinarili': 8361, 'tagliatell': 8362, 'chart': 8363, 'talkat': 8364, 'traytabl': 8365, 'demograph': 8366, 'heap': 8367, '87m': 8368, 'hawaii': 8369, 'hnl': 8370, '230': 8371, 'kiost': 8372, 'tham': 8373, 'prey': 8374, 'ba0059': 8375, 'vike': 8376, '525': 8377, 'cubbi': 8378, 'bouncer': 8379, 'fenc': 8380, 'flutter': 8381, 'widest': 8382, 'unobtain': 8383, 'enemi': 8384, 'conect': 8385, 'knob': 8386, 'vodla': 8387, 'unconfort': 8388, 'timefram': 8389, 'doorway': 8390, 'lite': 8391, 'lactos': 8392, '2012': 8393, 'uplift': 8394, 'mislay': 8395, 'eastw': 8396, 'envious': 8397, 'charli': 8398, 'cocker': 8399, 'spaniel': 8400, 'fuell': 8401, 'unexplain': 8402, 'ba117': 8403, '120k': 8404, 'keith': 8405, 'william': 8406, 'intercept': 8407, 'pipe': 8408, 'insul': 8409, 'condens': 8410, 'sth': 8411, 'comfier': 8412, 'entic': 8413, 'mezza': 8414, 'constitut': 8415, 'mot': 8416, 'mare': 8417, 'negoti': 8418, 'outstretch': 8419, 'unlabel': 8420, 'ikea': 8421, 'couch': 8422, 'decrepit': 8423, 'hockey': 8424, '70kg': 8425, 'tropicana': 8426, 'project': 8427, 'forbid': 8428, 'nearbi': 8429, 'australian': 8430, 'citifly': 8431, 'assault': 8432, 'fractur': 8433, 'seater': 8434, 'unab': 8435, 'yard': 8436, 'variant': 8437, 'caution': 8438, 'adieu': 8439, 'invent': 8440, 'sarcast': 8441, '816': 8442, 'gbp500': 8443, '14c': 8444, '1996': 8445, '236': 8446, 'mf': 8447, 'ba2159': 8448, 'ba2158': 8449, 'scrunch': 8450, 'overview': 8451, '00hrs': 8452, 'slink': 8453, 'undertak': 8454, 'rumour': 8455, 'saudi': 8456, 'arabia': 8457, 'bst': 8458, 'cheddar': 8459, 'glib': 8460, 'unpolit': 8461, 'collegu': 8462, 'lotion': 8463, 'quickest': 8464, 'fond': 8465, 'deeper': 8466, 'fraught': 8467, 'badg': 8468, 'dofficult': 8469, 'patriot': 8470, 'misrepresent': 8471, '1960': 8472, 'mainscreen': 8473, 'brirish': 8474, 'ar': 8475, 'le': 8476, 'graveyard': 8477, 'mun': 8478, 'lightweight': 8479, 'bullish': 8480, 'discoverd': 8481, 'apear': 8482, 'interupt': 8483, 'evacu': 8484, 'alomst': 8485, 'steer': 8486, 'stipul': 8487, 'guangzhou': 8488, 'contort': 8489, 'sixti': 8490, 'shirt': 8491, 'smirk': 8492, 'ws': 8493, '1cm': 8494, 'sham': 8495, 'arthriti': 8496, 'flog': 8497, '200gbp': 8498, 'toy': 8499, 'gastronom': 8500, 'dole': 8501, 'protest': 8502, 'deligh': 8503, 'monoton': 8504, 'demolit': 8505, 'beard': 8506, 'rudest': 8507, 'reclear': 8508, 'pacfic': 8509, 'toothpick': 8510, 'dustpan': 8511, 'highest': 8512, 'uganda': 8513, '1450': 8514, '0844': 8515, 'nutshel': 8516, 'istanul': 8517, 'cancll': 8518, 'appallimg': 8519, 'deini': 8520, 'ripoff': 8521, 'tightest': 8522, 'campest': 8523, 'teacher': 8524, 'condition': 8525, '150ml': 8526, 'abreat': 8527, '80kg': 8528, 'alfoil': 8529, 'sceptic': 8530, '13hour': 8531, '10ab': 8532, '10jk': 8533, 'ryanairesqu': 8534, 'nervi': 8535, 'sodden': 8536, 'narrowbodi': 8537, 'ration': 8538, 'organg': 8539, 'eagl': 8540, '147': 8541, 'microwav': 8542, 'meager': 8543, 'ecconomi': 8544, 'barest': 8545, 'ba2679': 8546, 'sercur': 8547, 'freind': 8548, 'thees': 8549, 'buis': 8550, 'cow': 8551, 'serviceless': 8552, 'tahiti': 8553, 'nui': 8554, 'turboprop': 8555, 'uncal': 8556, '0441hrs': 8557, 'ba1511': 8558, 'unceremoni': 8559, 'hottest': 8560, 'contributori': 8561, 'breakag': 8562, 'crime': 8563, 'immobil': 8564, 'tawdri': 8565, 'filth': 8566, 'splatter': 8567, 'tragic': 8568, 'ashen': 8569, 'dept': 8570, 'getaway': 8571, 'sank': 8572, 'bassinett': 8573, 'threadbear': 8574, 'soil': 8575, 'camel': 8576, 'ba0567': 8577, 'localis': 8578, 'fidget': 8579, 'twitch': 8580, '9a': 8581, 'grr': 8582, 'mackerel': 8583, 'pate': 8584, 'heyday': 8585, 'eldest': 8586, 'bling': 8587, 'mediterranean': 8588, 'rocki': 8589, 'bight': 8590, 'gag': 8591, 'retreat': 8592, 'sue': 8593, 'embitt': 8594, 'ba362': 8595, '70s': 8596, 'ba006': 8597, 'indetermin': 8598, 'unservic': 8599, 'twos': 8600, 'ba873': 8601, 'krk': 8602, 'curfew': 8603, 'necessarili': 8604, 'excret': 8605, 'ba2204': 8606, 'puj': 8607, 'exposur': 8608, 'defiant': 8609, '1920': 8610, '2008': 8611, '2110': 8612, '2221': 8613, 'andw': 8614, 'pus': 8615, 'cradl': 8616, 'innoc': 8617, 'berat': 8618, 'liar': 8619, 'bunni': 8620, 'unpack': 8621, 'ba055': 8622, 'vouch': 8623, 'indel': 8624, '22b': 8625, 'inboard': 8626, '3400': 8627, 'ba132': 8628, 'rak': 8629, 'blq': 8630, 'ba72': 8631, 'ba73': 8632, 'pineappl': 8633, 'knife': 8634, 'ba2543': 8635, 'ba555': 8636, '152': 8637, 'rockmelon': 8638, 'truffl': 8639, 'bbq': 8640, 'rhubarb': 8641, 'custard': 8642, 'achill': 8643, 'velazquez': 8644, 'crumpl': 8645, 'myanmar': 8646, '138': 8647, '273': 8648, 'acrobat': 8649, 'straddl': 8650, 'ba157': 8651, 'ba1454': 8652, 'ba1459': 8653, 'ba156': 8654, 'ba108': 8655, '10g': 8656, 'dampen': 8657, 'brogu': 8658, 'eir': 8659, 'creatur': 8660, 'ba543': 8661, 'ba545': 8662, 'bol': 8663, 'ottoman': 8664, '777er': 8665, '11e': 8666, 'upmost': 8667, 'preclud': 8668, 'reviv': 8669, 'antonio': 8670, 'herring': 8671, 'parodi': 8672, 'twinkl': 8673, 'ba462': 8674, 'dep': 8675, 'allevi': 8676, 'b757': 8677, 'â': 8678, '74': 8679, 'doorstop': 8680, 'stem': 8681, '1321': 8682, 'compact': 8683, 'ho': 8684, 'ba0272': 8685, 'cl': 8686, 'erk': 8687, '730': 8688, 'drape': 8689, 'ba067': 8690, 'breadth': 8691, 'fisherman': 8692, 'boast': 8693, 'ba1385': 8694, '175': 8695, 'abort': 8696, 'ack': 8697, 'oscar': 8698, 'nomin': 8699, 'photogen': 8700, 'wetherspoon': 8701, 'thessaloniki': 8702, 'stapl': 8703, 'ba256': 8704, 'oili': 8705, 'leek': 8706, 'overdon': 8707, 'deflat': 8708, 'pierc': 8709, 'patisseri': 8710, 'kuoni': 8711, '90m': 8712, 'jd': 8713, '208': 8714, 'releg': 8715, 'pointth': 8716, 'szg': 8717, 'creaki': 8718, 'ba84': 8719, '20minut': 8720, 'ba011': 8721, '744s': 8722, 'ari': 8723, 'contest': 8724, '1990s': 8725, 'fatten': 8726, 'longstand': 8727, 'coupon': 8728, 'tkt': 8729, 'bossi': 8730, 'courag': 8731, 'printout': 8732, 'saucer': 8733, '4in': 8734, '2am': 8735, 'toe': 8736, 'bt': 8737, 'webview': 8738, 'funnili': 8739, 'splay': 8740, 'abv': 8741, 'sped': 8742, 'usian': 8743, 'swing': 8744, 'hussar': 8745, 'chickpea': 8746, 'tagin': 8747, 'pertain': 8748, 'lord': 8749, 'ba085': 8750, 'a1': 8751, 'vigil': 8752, '433': 8753, '533': 8754, '1822': 8755, 'ba2043': 8756, 'vincent': 8757, 'liat': 8758, '1750': 8759, '1755': 8760, 'fend': 8761, 'infinitum': 8762, '35pm': 8763, 'scientist': 8764, 'defrost': 8765, 'residu': 8766, '50k': 8767, 'b737': 8768, '436': 8769, 'docw': 8770, 'docx': 8771, 'ba2736': 8772, 'ba2737': 8773, '0058': 8774, '03a': 8775, '04a': 8776, 'mersault': 8777, 'bartend': 8778, 'downfal': 8779, 'rabid': 8780, 'bovin': 8781, 'tumbl': 8782, 'joyus': 8783, 'whim': 8784, 'whizz': 8785, 'bicycl': 8786, 'fluf': 8787, 'hound': 8788, 'clientel': 8789, 'skil': 8790, 'af380': 8791, 'lin': 8792, 'character': 8793, '13f': 8794, '10in': 8795, 'nifti': 8796, 'jed': 8797, 'dese': 8798, 'adjoin': 8799, '5a': 8800, 'gooseberri': 8801, 'acf': 8802, 'infact': 8803, 'colder': 8804, 'persever': 8805, 'bradley': 8806, 'princip': 8807, 'braker': 8808, 'sieg': 8809, 'outshon': 8810, 'stint': 8811, 'hasa': 8812, 'ba191': 8813, '4467': 8814, 'dlr': 8815, 'burgundi': 8816, 'miro': 8817, 'honker': 8818, 'tartar': 8819, 'noir': 8820, 'c64': 8821, 'pj': 8822, 'profiterol': 8823, 'kim': 8824, 'predic': 8825, 'balik': 8826, 'pat': 8827, 'amidst': 8828, 'scl': 8829, '3b': 8830, 'fran': 8831, '750': 8832, 'ycc': 8833, 'boutiqu': 8834, 'lada': 8835, 'prop': 8836, 'southeast': 8837, 'varianc': 8838, 'sag': 8839, 'langoustin': 8840, 'textur': 8841, '5543': 8842, '77w': 8843, 'sadden': 8844, 'cutlet': 8845, 'snore': 8846, 'mall': 8847, 'remodel': 8848, 'naff': 8849, '0900hrs': 8850, '1340': 8851, '1000hrs': 8852, '1415hrs': 8853, 'scanti': 8854, 'dividend': 8855, 'alert': 8856, 'bgo': 8857, 'flashback': 8858, 'intimaci': 8859, 'hinder': 8860, 'liqueur': 8861, 'stringi': 8862, 'norway': 8863, 'boon': 8864, 'printer': 8865, 'benedict': 8866, '52b': 8867, '51b': 8868, 'ba5': 8869, 'ba6': 8870, 'workplac': 8871, 'publicis': 8872, '11hr': 8873, 'communal': 8874, 'silliest': 8875, 'foldabl': 8876, 'indi': 8877, 'humili': 8878, 'unionis': 8879, 'discript': 8880, '1625hrs': 8881, 't5b': 8882, '0027': 8883, 'wicket': 8884, 'steril': 8885, 'bothersom': 8886, 'tenderloin': 8887, 'c66': 8888, 'ba285': 8889, 'ba1445': 8890, '103': 8891, 'alberta': 8892, 'row35': 8893, 'b773': 8894, 'osl': 8895, 'ba213': 8896, '0830': 8897, 'pos': 8898, 'borderlin': 8899, 'schengen': 8900, 'carniv': 8901, 'precious': 8902, 'ecomomi': 8903, 'protrud': 8904, 'goal': 8905, 'unjustifi': 8906, '787s': 8907, 'todi': 8908, '26a': 8909, 'malpenza': 8910, 'b35': 8911, '19a': 8912, 'chronicl': 8913, 'rigor': 8914, 'ba85': 8915, 'categoris': 8916, 'uncut': 8917, 'www': 8918, 'britishairway': 8919, 'underseat': 8920, 'tp': 8921, 'recaro': 8922, 'groundforc': 8923, 'skylink': 8924, 'macdonald': 8925, 'tranquil': 8926, 'cul': 8927, 'sac': 8928, 'an': 8929, 'grovel': 8930, 'pinotag': 8931, 'customari': 8932, 'jolt': 8933, '3e': 8934, 'roomier': 8935, 'shoddili': 8936, 'ba866': 8937, 'notwithstand': 8938, 'candl': 8939, 'setback': 8940, 'alern': 8941, '14month': 8942, '15kg': 8943, 'sunnier': 8944, 'clime': 8945, 'teacak': 8946, '01d': 8947, '01f': 8948, 'thame': 8949, 'sunni': 8950, 'ters': 8951, 'pixi': 8952, 'dysfunct': 8953, 'blockag': 8954, 'lengthier': 8955, '215': 8956, 'ba106': 8957, 'eremit': 8958, 'btw': 8959, 'zzza': 8960, 'viewabl': 8961, 'coffer': 8962, 'pivot': 8963, 'clud': 8964, 'autumn': 8965, 'tft': 8966, 'transluc': 8967, 'slider': 8968, 'divis': 8969, 'footbal': 8970, 'ba458': 8971, '463': 8972, 'euoe': 8973, 'bzhb': 8974, 'down': 8975, 'bedraggl': 8976, 'artifici': 8977, 'ba039': 8978, '62a': 8979, 'jus': 8980, 'hollandais': 8981}\n"
     ]
    }
   ],
   "source": [
    "print(tokenizer.word_index)"
   ]
  },
  {
   "cell_type": "code",
   "execution_count": 69,
   "id": "b8c7f6fb",
   "metadata": {},
   "outputs": [
    {
     "name": "stdout",
     "output_type": "stream",
     "text": [
      "verifi british airway confirm worst airlin uk last minut cancel explan refus book anoth airlin arrang happen use nation airlin\n",
      "[8, 9, 10, 588, 233, 16, 458, 95, 61, 102, 701, 409, 39, 104, 16, 601, 329, 41, 742, 16]\n"
     ]
    }
   ],
   "source": [
    "print(tweet[0])\n",
    "print(encoded_docs[0])"
   ]
  },
  {
   "cell_type": "code",
   "execution_count": 70,
   "id": "6ae7520a",
   "metadata": {},
   "outputs": [
    {
     "name": "stdout",
     "output_type": "stream",
     "text": [
      "[  0   0   0   0   0   0   0   0   0   0   0   0   0   0   0   0   0   0\n",
      "   0   0   0   0   0   0   0   0   0   0   0   0   0   0   0   0   0   0\n",
      "   0   0   0   0   0   0   0   0   0   0   0   0   0   0   0   0   0   0\n",
      "   0   0   0   0   0   0   0   0   0   0   0   0   0   0   0   0   0   0\n",
      "   0   0   0   0   0   0   0   0   0   0   0   0   0   0   0   0   0   0\n",
      "   0   0   0   0   0   0   0   0   0   0   0   0   0   0   0   0   0   0\n",
      "   0   0   0   0   0   0   0   0   0   0   0   0   0   0   0   0   0   0\n",
      "   0   0   0   0   0   0   0   0   0   0   0   0   0   0   0   0   0   0\n",
      "   0   0   0   0   0   0   0   0   0   0   0   0   0   0   0   0   0   0\n",
      "   0   0   0   0   0   0   0   0   0   0   0   0   0   0   0   0   0   0\n",
      "   8   9  10 588 233  16 458  95  61 102 701 409  39 104  16 601 329  41\n",
      " 742  16]\n"
     ]
    }
   ],
   "source": [
    "print(padded_sequence[0])"
   ]
  },
  {
   "cell_type": "markdown",
   "id": "1078b341",
   "metadata": {},
   "source": [
    "## Build the Text Classifier"
   ]
  },
  {
   "cell_type": "markdown",
   "id": "fdb6330b",
   "metadata": {},
   "source": [
    "For sentiment analysis project, we use LSTM layers in the machine learning model. The architecture of our model consists of an embedding layer, an LSTM layer, and a Dense layer at the end. To avoid overfitting, we introduced the Dropout mechanism in-between the LSTM layers."
   ]
  },
  {
   "cell_type": "code",
   "execution_count": 71,
   "id": "799bb456",
   "metadata": {},
   "outputs": [
    {
     "name": "stdout",
     "output_type": "stream",
     "text": [
      "Model: \"sequential\"\n",
      "_________________________________________________________________\n",
      " Layer (type)                Output Shape              Param #   \n",
      "=================================================================\n",
      " embedding (Embedding)       (None, 200, 32)           287424    \n",
      "                                                                 \n",
      " spatial_dropout1d (SpatialD  (None, 200, 32)          0         \n",
      " ropout1D)                                                       \n",
      "                                                                 \n",
      " lstm (LSTM)                 (None, 50)                16600     \n",
      "                                                                 \n",
      " dropout (Dropout)           (None, 50)                0         \n",
      "                                                                 \n",
      " dense (Dense)               (None, 1)                 51        \n",
      "                                                                 \n",
      "=================================================================\n",
      "Total params: 304,075\n",
      "Trainable params: 304,075\n",
      "Non-trainable params: 0\n",
      "_________________________________________________________________\n",
      "None\n"
     ]
    }
   ],
   "source": [
    "embedding_vector_length = 32\n",
    "model = Sequential() \n",
    "model.add(Embedding(vocab_size, embedding_vector_length, input_length=200) )\n",
    "model.add(SpatialDropout1D(0.25))\n",
    "model.add(LSTM(50, dropout=0.5, recurrent_dropout=0.5))\n",
    "model.add(Dropout(0.2))\n",
    "model.add(Dense(1, activation='sigmoid')) \n",
    "model.compile(loss='binary_crossentropy',optimizer='adam', metrics=['accuracy'])  \n",
    "print(model.summary()) "
   ]
  },
  {
   "cell_type": "markdown",
   "id": "e76dee1e",
   "metadata": {},
   "source": [
    "## Train the sentiment analysis model"
   ]
  },
  {
   "cell_type": "markdown",
   "id": "7bf68954",
   "metadata": {},
   "source": [
    "Train the sentiment analysis model for 5 epochs on the whole dataset with a batch size of 32 and a validation split of 20%."
   ]
  },
  {
   "cell_type": "code",
   "execution_count": 72,
   "id": "18fa4a0c",
   "metadata": {},
   "outputs": [
    {
     "name": "stdout",
     "output_type": "stream",
     "text": [
      "Epoch 1/5\n",
      "82/82 [==============================] - 20s 190ms/step - loss: 0.5945 - accuracy: 0.6894 - val_loss: 0.6393 - val_accuracy: 0.7844\n",
      "Epoch 2/5\n",
      "82/82 [==============================] - 15s 188ms/step - loss: 0.3460 - accuracy: 0.8749 - val_loss: 0.4012 - val_accuracy: 0.8257\n",
      "Epoch 3/5\n",
      "82/82 [==============================] - 17s 203ms/step - loss: 0.2278 - accuracy: 0.9158 - val_loss: 0.3508 - val_accuracy: 0.8425\n",
      "Epoch 4/5\n",
      "82/82 [==============================] - 16s 199ms/step - loss: 0.1782 - accuracy: 0.9392 - val_loss: 0.3774 - val_accuracy: 0.8425\n",
      "Epoch 5/5\n",
      "82/82 [==============================] - 16s 198ms/step - loss: 0.1546 - accuracy: 0.9495 - val_loss: 0.3596 - val_accuracy: 0.8563\n"
     ]
    }
   ],
   "source": [
    "history = model.fit(padded_sequence,sentiment_label[0],validation_split=0.2, epochs=5, batch_size=32)\n"
   ]
  },
  {
   "cell_type": "markdown",
   "id": "94b19adb",
   "metadata": {},
   "source": [
    "The python sentiment analysis model obtained 95.05% accuracy on the training set and 86.64% accuracy on the test set."
   ]
  },
  {
   "cell_type": "code",
   "execution_count": 73,
   "id": "b1757b44",
   "metadata": {},
   "outputs": [
    {
     "data": {
      "image/png": "[encoded data removed]",
      "text/plain": [
       "<Figure size 432x288 with 1 Axes>"
      ]
     },
     "metadata": {
      "needs_background": "light"
     },
     "output_type": "display_data"
    },
    {
     "data": {
      "text/plain": [
       "<Figure size 432x288 with 0 Axes>"
      ]
     },
     "metadata": {},
     "output_type": "display_data"
    }
   ],
   "source": [
    "plt.plot(history.history['accuracy'], label='acc')\n",
    "plt.plot(history.history['val_accuracy'], label='val_acc')\n",
    "plt.legend()\n",
    "plt.ylabel('accuracy rate')\n",
    "plt.xlabel('treshold')\n",
    "plt.title('Acc vs Val_acc', size = 20)\n",
    "plt.show()\n",
    "plt.savefig(\"Accuracy plot.jpg\")"
   ]
  },
  {
   "cell_type": "code",
   "execution_count": 74,
   "id": "13dcd90b",
   "metadata": {},
   "outputs": [
    {
     "data": {
      "image/png": "[encoded data removed]",
      "text/plain": [
       "<Figure size 432x288 with 1 Axes>"
      ]
     },
     "metadata": {
      "needs_background": "light"
     },
     "output_type": "display_data"
    },
    {
     "data": {
      "text/plain": [
       "<Figure size 432x288 with 0 Axes>"
      ]
     },
     "metadata": {},
     "output_type": "display_data"
    }
   ],
   "source": [
    "plt.plot(history.history['loss'], label='loss')\n",
    "plt.plot(history.history['val_loss'], label='val_loss')\n",
    "plt.legend()\n",
    "plt.ylabel('accuracy rate')\n",
    "plt.xlabel('treshold')\n",
    "plt.title('Loss vs Validation_loss', size = 20)\n",
    "plt.show()\n",
    "plt.savefig(\"Loss plot.jpg\")"
   ]
  },
  {
   "cell_type": "markdown",
   "id": "df3e97ee",
   "metadata": {},
   "source": [
    "## Let’s execute sentiment analysis model"
   ]
  },
  {
   "cell_type": "markdown",
   "id": "1c7afad5",
   "metadata": {},
   "source": [
    "Define a function that takes a text as input and outputs its prediction label"
   ]
  },
  {
   "cell_type": "code",
   "execution_count": 75,
   "id": "dbafc57d",
   "metadata": {},
   "outputs": [],
   "source": [
    "def predict_sentiment(text):\n",
    "    tw = tokenizer.texts_to_sequences([text])\n",
    "    tw = pad_sequences(tw,maxlen=200)\n",
    "    prediction = int(model.predict(tw).round().item())\n",
    "    print(\"Predicted label: \", sentiment_label[1][prediction])"
   ]
  },
  {
   "cell_type": "code",
   "execution_count": 76,
   "id": "46a84fa2",
   "metadata": {},
   "outputs": [],
   "source": [
    "test_sentence2 = \"I enjoyed my journey on this flight.\"\n",
    "\n",
    "test_sentence1 = \"This is the worst flight experience of my life!, I would never recommend it to anyone\"\n"
   ]
  },
  {
   "cell_type": "code",
   "execution_count": 77,
   "id": "e8160c1f",
   "metadata": {},
   "outputs": [
    {
     "name": "stdout",
     "output_type": "stream",
     "text": [
      "1/1 [==============================] - 1s 657ms/step\n",
      "Predicted label:  negative\n"
     ]
    }
   ],
   "source": [
    "predict_sentiment(test_sentence1)"
   ]
  },
  {
   "cell_type": "code",
   "execution_count": 78,
   "id": "159f9045",
   "metadata": {},
   "outputs": [
    {
     "name": "stdout",
     "output_type": "stream",
     "text": [
      "1/1 [==============================] - 0s 44ms/step\n",
      "Predicted label:  positive\n"
     ]
    }
   ],
   "source": [
    "predict_sentiment(test_sentence2)"
   ]
  },
  {
   "cell_type": "markdown",
   "id": "8d513780",
   "metadata": {},
   "source": [
    "# Conclusion"
   ]
  },
  {
   "cell_type": "markdown",
   "id": "27a71f2c",
   "metadata": {},
   "source": [
    "We have successfully developed python sentiment analysis model. In this machine learning project, we built a binary text classifier that classifies the sentiment of the tweets into positive and negative. We obtained more than 87% accuracy on validation."
   ]
  },
  {
   "cell_type": "code",
   "execution_count": null,
   "id": "c6bfb07b",
   "metadata": {},
   "outputs": [],
   "source": []
  }
 ],
 "metadata": {
  "kernelspec": {
   "display_name": "Python 3 (ipykernel)",
   "language": "python",
   "name": "python3"
  },
  "language_info": {
   "codemirror_mode": {
    "name": "ipython",
    "version": 3
   },
   "file_extension": ".py",
   "mimetype": "text/x-python",
   "name": "python",
   "nbconvert_exporter": "python",
   "pygments_lexer": "ipython3",
   "version": "3.9.12"
  }
 },
 "nbformat": 4,
 "nbformat_minor": 5
}
