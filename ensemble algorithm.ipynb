{
 "cells": [
  {
   "cell_type": "markdown",
   "id": "5b5c01cd",
   "metadata": {},
   "source": [
    "# Ensemble Algorithm"
   ]
  },
  {
   "cell_type": "markdown",
   "id": "d5be0b15",
   "metadata": {},
   "source": [
    "### Data descriptioon"
   ]
  },
  {
   "cell_type": "markdown",
   "id": "d1018102",
   "metadata": {},
   "source": [
    "XYZ Bank is a large and profitable bank in Saint Louis, Missouri. Like any large corporation, XYZ Bank has a very large\n",
    "\n",
    "and intricate infrastructure that supports its networking system. A Network Analyst recently discovered unusual network\n",
    "\n",
    "activity. Then, pouring over year’s worth of logs, their team of analysts discovered many instances of anomalous\n",
    "\n",
    "network activity that resulted in significant sums of money being siphoned from bank accounts. The Chief Networking\n",
    "\n",
    "Officer has come to your group for help in developing a system that can automatically detect and warn of such known, as\n",
    "\n",
    "well as other unknown, anomalous network activities.\n",
    "\n",
    "The network_traffic.csv file is a synopsis of logged network activity. It contains labeled examples of benign network\n",
    "\n",
    "sessions as well as examples of sessions involving intrusions. It is important to note that it is likely that there\n",
    "\n",
    "exist many different intrusion types in the data, but we will treat all intrusions as the same. The\n",
    "\n",
    "data_description.txt file provides explanations of each of the attributes found in the network_traffic dataset.\n"
   ]
  },
  {
   "cell_type": "markdown",
   "id": "56dfecc4",
   "metadata": {},
   "source": [
    "### Objective"
   ]
  },
  {
   "cell_type": "markdown",
   "id": "efaf5d2d",
   "metadata": {},
   "source": [
    "The objective of this study is to use various ensemble algorithms to analyse the data."
   ]
  },
  {
   "cell_type": "markdown",
   "id": "d3f50722",
   "metadata": {},
   "source": [
    "### Load data"
   ]
  },
  {
   "cell_type": "code",
   "execution_count": 6,
   "id": "d686f7e0",
   "metadata": {},
   "outputs": [],
   "source": [
    "import pandas as pd\n",
    "import numpy as np"
   ]
  },
  {
   "cell_type": "code",
   "execution_count": 8,
   "id": "12302d4e",
   "metadata": {},
   "outputs": [
    {
     "data": {
      "text/html": [
       "<div>\n",
       "<style scoped>\n",
       "    .dataframe tbody tr th:only-of-type {\n",
       "        vertical-align: middle;\n",
       "    }\n",
       "\n",
       "    .dataframe tbody tr th {\n",
       "        vertical-align: top;\n",
       "    }\n",
       "\n",
       "    .dataframe thead th {\n",
       "        text-align: right;\n",
       "    }\n",
       "</style>\n",
       "<table border=\"1\" class=\"dataframe\">\n",
       "  <thead>\n",
       "    <tr style=\"text-align: right;\">\n",
       "      <th></th>\n",
       "      <th>duration</th>\n",
       "      <th>protocol_type</th>\n",
       "      <th>service</th>\n",
       "      <th>flag</th>\n",
       "      <th>src_bytes</th>\n",
       "      <th>dst_bytes</th>\n",
       "      <th>land</th>\n",
       "      <th>wrong_fragment</th>\n",
       "      <th>urgent</th>\n",
       "      <th>hot</th>\n",
       "      <th>...</th>\n",
       "      <th>root_shell</th>\n",
       "      <th>su_attempted</th>\n",
       "      <th>num_root</th>\n",
       "      <th>num_file_creations</th>\n",
       "      <th>num_shells</th>\n",
       "      <th>num_access_files</th>\n",
       "      <th>num_outbound_cmds</th>\n",
       "      <th>is_host_login</th>\n",
       "      <th>is_guest_login</th>\n",
       "      <th>is_intrusion</th>\n",
       "    </tr>\n",
       "  </thead>\n",
       "  <tbody>\n",
       "    <tr>\n",
       "      <th>0</th>\n",
       "      <td>190.048316</td>\n",
       "      <td>udp</td>\n",
       "      <td>private</td>\n",
       "      <td>SF</td>\n",
       "      <td>105</td>\n",
       "      <td>146</td>\n",
       "      <td>0</td>\n",
       "      <td>0</td>\n",
       "      <td>0</td>\n",
       "      <td>0</td>\n",
       "      <td>...</td>\n",
       "      <td>0</td>\n",
       "      <td>0</td>\n",
       "      <td>0</td>\n",
       "      <td>0</td>\n",
       "      <td>0</td>\n",
       "      <td>0</td>\n",
       "      <td>0</td>\n",
       "      <td>0</td>\n",
       "      <td>0</td>\n",
       "      <td>1</td>\n",
       "    </tr>\n",
       "    <tr>\n",
       "      <th>1</th>\n",
       "      <td>0.000000</td>\n",
       "      <td>udp</td>\n",
       "      <td>private</td>\n",
       "      <td>SF</td>\n",
       "      <td>105</td>\n",
       "      <td>105</td>\n",
       "      <td>0</td>\n",
       "      <td>0</td>\n",
       "      <td>0</td>\n",
       "      <td>0</td>\n",
       "      <td>...</td>\n",
       "      <td>0</td>\n",
       "      <td>0</td>\n",
       "      <td>0</td>\n",
       "      <td>0</td>\n",
       "      <td>0</td>\n",
       "      <td>0</td>\n",
       "      <td>0</td>\n",
       "      <td>0</td>\n",
       "      <td>0</td>\n",
       "      <td>1</td>\n",
       "    </tr>\n",
       "    <tr>\n",
       "      <th>2</th>\n",
       "      <td>0.000000</td>\n",
       "      <td>udp</td>\n",
       "      <td>private</td>\n",
       "      <td>unknown</td>\n",
       "      <td>105</td>\n",
       "      <td>146</td>\n",
       "      <td>0</td>\n",
       "      <td>0</td>\n",
       "      <td>0</td>\n",
       "      <td>0</td>\n",
       "      <td>...</td>\n",
       "      <td>0</td>\n",
       "      <td>0</td>\n",
       "      <td>0</td>\n",
       "      <td>0</td>\n",
       "      <td>0</td>\n",
       "      <td>0</td>\n",
       "      <td>0</td>\n",
       "      <td>0</td>\n",
       "      <td>0</td>\n",
       "      <td>1</td>\n",
       "    </tr>\n",
       "    <tr>\n",
       "      <th>3</th>\n",
       "      <td>0.000000</td>\n",
       "      <td>udp</td>\n",
       "      <td>private</td>\n",
       "      <td>SF</td>\n",
       "      <td>105</td>\n",
       "      <td>146</td>\n",
       "      <td>0</td>\n",
       "      <td>0</td>\n",
       "      <td>0</td>\n",
       "      <td>0</td>\n",
       "      <td>...</td>\n",
       "      <td>0</td>\n",
       "      <td>0</td>\n",
       "      <td>0</td>\n",
       "      <td>0</td>\n",
       "      <td>0</td>\n",
       "      <td>0</td>\n",
       "      <td>0</td>\n",
       "      <td>0</td>\n",
       "      <td>0</td>\n",
       "      <td>1</td>\n",
       "    </tr>\n",
       "    <tr>\n",
       "      <th>4</th>\n",
       "      <td>0.000000</td>\n",
       "      <td>udp</td>\n",
       "      <td>private</td>\n",
       "      <td>SF</td>\n",
       "      <td>105</td>\n",
       "      <td>147</td>\n",
       "      <td>0</td>\n",
       "      <td>0</td>\n",
       "      <td>0</td>\n",
       "      <td>0</td>\n",
       "      <td>...</td>\n",
       "      <td>0</td>\n",
       "      <td>0</td>\n",
       "      <td>0</td>\n",
       "      <td>0</td>\n",
       "      <td>0</td>\n",
       "      <td>0</td>\n",
       "      <td>0</td>\n",
       "      <td>0</td>\n",
       "      <td>0</td>\n",
       "      <td>1</td>\n",
       "    </tr>\n",
       "  </tbody>\n",
       "</table>\n",
       "<p>5 rows × 23 columns</p>\n",
       "</div>"
      ],
      "text/plain": [
       "     duration protocol_type  service     flag  src_bytes  dst_bytes  land  \\\n",
       "0  190.048316           udp  private       SF        105        146     0   \n",
       "1    0.000000           udp  private       SF        105        105     0   \n",
       "2    0.000000           udp  private  unknown        105        146     0   \n",
       "3    0.000000           udp  private       SF        105        146     0   \n",
       "4    0.000000           udp  private       SF        105        147     0   \n",
       "\n",
       "   wrong_fragment  urgent  hot  ...  root_shell  su_attempted  num_root  \\\n",
       "0               0       0    0  ...           0             0         0   \n",
       "1               0       0    0  ...           0             0         0   \n",
       "2               0       0    0  ...           0             0         0   \n",
       "3               0       0    0  ...           0             0         0   \n",
       "4               0       0    0  ...           0             0         0   \n",
       "\n",
       "   num_file_creations  num_shells  num_access_files  num_outbound_cmds  \\\n",
       "0                   0           0                 0                  0   \n",
       "1                   0           0                 0                  0   \n",
       "2                   0           0                 0                  0   \n",
       "3                   0           0                 0                  0   \n",
       "4                   0           0                 0                  0   \n",
       "\n",
       "   is_host_login  is_guest_login  is_intrusion  \n",
       "0              0               0             1  \n",
       "1              0               0             1  \n",
       "2              0               0             1  \n",
       "3              0               0             1  \n",
       "4              0               0             1  \n",
       "\n",
       "[5 rows x 23 columns]"
      ]
     },
     "execution_count": 8,
     "metadata": {},
     "output_type": "execute_result"
    }
   ],
   "source": [
    "data = pd.read_csv(\"intrusion.csv\")\n",
    "data.head()"
   ]
  },
  {
   "cell_type": "code",
   "execution_count": 39,
   "id": "901be7a8",
   "metadata": {},
   "outputs": [
    {
     "data": {
      "text/html": [
       "<div>\n",
       "<style scoped>\n",
       "    .dataframe tbody tr th:only-of-type {\n",
       "        vertical-align: middle;\n",
       "    }\n",
       "\n",
       "    .dataframe tbody tr th {\n",
       "        vertical-align: top;\n",
       "    }\n",
       "\n",
       "    .dataframe thead th {\n",
       "        text-align: right;\n",
       "    }\n",
       "</style>\n",
       "<table border=\"1\" class=\"dataframe\">\n",
       "  <thead>\n",
       "    <tr style=\"text-align: right;\">\n",
       "      <th></th>\n",
       "      <th>duration</th>\n",
       "      <th>src_bytes</th>\n",
       "      <th>dst_bytes</th>\n",
       "      <th>land</th>\n",
       "      <th>wrong_fragment</th>\n",
       "      <th>urgent</th>\n",
       "      <th>hot</th>\n",
       "      <th>num_failed_logins</th>\n",
       "      <th>logged_in</th>\n",
       "      <th>num_compromised</th>\n",
       "      <th>root_shell</th>\n",
       "      <th>su_attempted</th>\n",
       "      <th>num_root</th>\n",
       "      <th>num_file_creations</th>\n",
       "      <th>num_shells</th>\n",
       "      <th>num_access_files</th>\n",
       "      <th>num_outbound_cmds</th>\n",
       "      <th>is_host_login</th>\n",
       "      <th>is_guest_login</th>\n",
       "      <th>is_intrusion</th>\n",
       "    </tr>\n",
       "  </thead>\n",
       "  <tbody>\n",
       "    <tr>\n",
       "      <th>count</th>\n",
       "      <td>699.000000</td>\n",
       "      <td>699.000000</td>\n",
       "      <td>699.000000</td>\n",
       "      <td>699.0</td>\n",
       "      <td>699.0</td>\n",
       "      <td>699.0</td>\n",
       "      <td>699.000000</td>\n",
       "      <td>699.0</td>\n",
       "      <td>699.000000</td>\n",
       "      <td>699.000000</td>\n",
       "      <td>699.000000</td>\n",
       "      <td>699.000000</td>\n",
       "      <td>699.000000</td>\n",
       "      <td>699.0</td>\n",
       "      <td>699.0</td>\n",
       "      <td>699.000000</td>\n",
       "      <td>699.0</td>\n",
       "      <td>699.0</td>\n",
       "      <td>699.000000</td>\n",
       "      <td>699.000000</td>\n",
       "    </tr>\n",
       "    <tr>\n",
       "      <th>mean</th>\n",
       "      <td>190.048316</td>\n",
       "      <td>18032.052933</td>\n",
       "      <td>1806.351931</td>\n",
       "      <td>0.0</td>\n",
       "      <td>0.0</td>\n",
       "      <td>0.0</td>\n",
       "      <td>0.151645</td>\n",
       "      <td>0.0</td>\n",
       "      <td>0.590844</td>\n",
       "      <td>1.264664</td>\n",
       "      <td>0.001431</td>\n",
       "      <td>0.002861</td>\n",
       "      <td>1.429185</td>\n",
       "      <td>0.0</td>\n",
       "      <td>0.0</td>\n",
       "      <td>0.007153</td>\n",
       "      <td>0.0</td>\n",
       "      <td>0.0</td>\n",
       "      <td>0.051502</td>\n",
       "      <td>0.429185</td>\n",
       "    </tr>\n",
       "    <tr>\n",
       "      <th>std</th>\n",
       "      <td>814.873870</td>\n",
       "      <td>59040.018323</td>\n",
       "      <td>8271.114218</td>\n",
       "      <td>0.0</td>\n",
       "      <td>0.0</td>\n",
       "      <td>0.0</td>\n",
       "      <td>1.071863</td>\n",
       "      <td>0.0</td>\n",
       "      <td>0.492030</td>\n",
       "      <td>33.435951</td>\n",
       "      <td>0.037823</td>\n",
       "      <td>0.075647</td>\n",
       "      <td>36.879601</td>\n",
       "      <td>0.0</td>\n",
       "      <td>0.0</td>\n",
       "      <td>0.189117</td>\n",
       "      <td>0.0</td>\n",
       "      <td>0.0</td>\n",
       "      <td>0.221178</td>\n",
       "      <td>0.495314</td>\n",
       "    </tr>\n",
       "    <tr>\n",
       "      <th>min</th>\n",
       "      <td>0.000000</td>\n",
       "      <td>0.000000</td>\n",
       "      <td>0.000000</td>\n",
       "      <td>0.0</td>\n",
       "      <td>0.0</td>\n",
       "      <td>0.0</td>\n",
       "      <td>0.000000</td>\n",
       "      <td>0.0</td>\n",
       "      <td>0.000000</td>\n",
       "      <td>0.000000</td>\n",
       "      <td>0.000000</td>\n",
       "      <td>0.000000</td>\n",
       "      <td>0.000000</td>\n",
       "      <td>0.0</td>\n",
       "      <td>0.0</td>\n",
       "      <td>0.000000</td>\n",
       "      <td>0.0</td>\n",
       "      <td>0.0</td>\n",
       "      <td>0.000000</td>\n",
       "      <td>0.000000</td>\n",
       "    </tr>\n",
       "    <tr>\n",
       "      <th>25%</th>\n",
       "      <td>0.000000</td>\n",
       "      <td>105.000000</td>\n",
       "      <td>0.000000</td>\n",
       "      <td>0.0</td>\n",
       "      <td>0.0</td>\n",
       "      <td>0.0</td>\n",
       "      <td>0.000000</td>\n",
       "      <td>0.0</td>\n",
       "      <td>0.000000</td>\n",
       "      <td>0.000000</td>\n",
       "      <td>0.000000</td>\n",
       "      <td>0.000000</td>\n",
       "      <td>0.000000</td>\n",
       "      <td>0.0</td>\n",
       "      <td>0.0</td>\n",
       "      <td>0.000000</td>\n",
       "      <td>0.0</td>\n",
       "      <td>0.0</td>\n",
       "      <td>0.000000</td>\n",
       "      <td>0.000000</td>\n",
       "    </tr>\n",
       "    <tr>\n",
       "      <th>50%</th>\n",
       "      <td>0.000000</td>\n",
       "      <td>217.000000</td>\n",
       "      <td>147.000000</td>\n",
       "      <td>0.0</td>\n",
       "      <td>0.0</td>\n",
       "      <td>0.0</td>\n",
       "      <td>0.000000</td>\n",
       "      <td>0.0</td>\n",
       "      <td>1.000000</td>\n",
       "      <td>0.000000</td>\n",
       "      <td>0.000000</td>\n",
       "      <td>0.000000</td>\n",
       "      <td>0.000000</td>\n",
       "      <td>0.0</td>\n",
       "      <td>0.0</td>\n",
       "      <td>0.000000</td>\n",
       "      <td>0.0</td>\n",
       "      <td>0.0</td>\n",
       "      <td>0.000000</td>\n",
       "      <td>0.000000</td>\n",
       "    </tr>\n",
       "    <tr>\n",
       "      <th>75%</th>\n",
       "      <td>1.000000</td>\n",
       "      <td>330.500000</td>\n",
       "      <td>760.500000</td>\n",
       "      <td>0.0</td>\n",
       "      <td>0.0</td>\n",
       "      <td>0.0</td>\n",
       "      <td>0.000000</td>\n",
       "      <td>0.0</td>\n",
       "      <td>1.000000</td>\n",
       "      <td>0.000000</td>\n",
       "      <td>0.000000</td>\n",
       "      <td>0.000000</td>\n",
       "      <td>0.000000</td>\n",
       "      <td>0.0</td>\n",
       "      <td>0.0</td>\n",
       "      <td>0.000000</td>\n",
       "      <td>0.0</td>\n",
       "      <td>0.0</td>\n",
       "      <td>0.000000</td>\n",
       "      <td>1.000000</td>\n",
       "    </tr>\n",
       "    <tr>\n",
       "      <th>max</th>\n",
       "      <td>15122.000000</td>\n",
       "      <td>283618.000000</td>\n",
       "      <td>176690.000000</td>\n",
       "      <td>0.0</td>\n",
       "      <td>0.0</td>\n",
       "      <td>0.0</td>\n",
       "      <td>25.000000</td>\n",
       "      <td>0.0</td>\n",
       "      <td>1.000000</td>\n",
       "      <td>884.000000</td>\n",
       "      <td>1.000000</td>\n",
       "      <td>2.000000</td>\n",
       "      <td>975.000000</td>\n",
       "      <td>0.0</td>\n",
       "      <td>0.0</td>\n",
       "      <td>5.000000</td>\n",
       "      <td>0.0</td>\n",
       "      <td>0.0</td>\n",
       "      <td>1.000000</td>\n",
       "      <td>1.000000</td>\n",
       "    </tr>\n",
       "  </tbody>\n",
       "</table>\n",
       "</div>"
      ],
      "text/plain": [
       "           duration      src_bytes      dst_bytes   land  wrong_fragment  \\\n",
       "count    699.000000     699.000000     699.000000  699.0           699.0   \n",
       "mean     190.048316   18032.052933    1806.351931    0.0             0.0   \n",
       "std      814.873870   59040.018323    8271.114218    0.0             0.0   \n",
       "min        0.000000       0.000000       0.000000    0.0             0.0   \n",
       "25%        0.000000     105.000000       0.000000    0.0             0.0   \n",
       "50%        0.000000     217.000000     147.000000    0.0             0.0   \n",
       "75%        1.000000     330.500000     760.500000    0.0             0.0   \n",
       "max    15122.000000  283618.000000  176690.000000    0.0             0.0   \n",
       "\n",
       "       urgent         hot  num_failed_logins   logged_in  num_compromised  \\\n",
       "count   699.0  699.000000              699.0  699.000000       699.000000   \n",
       "mean      0.0    0.151645                0.0    0.590844         1.264664   \n",
       "std       0.0    1.071863                0.0    0.492030        33.435951   \n",
       "min       0.0    0.000000                0.0    0.000000         0.000000   \n",
       "25%       0.0    0.000000                0.0    0.000000         0.000000   \n",
       "50%       0.0    0.000000                0.0    1.000000         0.000000   \n",
       "75%       0.0    0.000000                0.0    1.000000         0.000000   \n",
       "max       0.0   25.000000                0.0    1.000000       884.000000   \n",
       "\n",
       "       root_shell  su_attempted    num_root  num_file_creations  num_shells  \\\n",
       "count  699.000000    699.000000  699.000000               699.0       699.0   \n",
       "mean     0.001431      0.002861    1.429185                 0.0         0.0   \n",
       "std      0.037823      0.075647   36.879601                 0.0         0.0   \n",
       "min      0.000000      0.000000    0.000000                 0.0         0.0   \n",
       "25%      0.000000      0.000000    0.000000                 0.0         0.0   \n",
       "50%      0.000000      0.000000    0.000000                 0.0         0.0   \n",
       "75%      0.000000      0.000000    0.000000                 0.0         0.0   \n",
       "max      1.000000      2.000000  975.000000                 0.0         0.0   \n",
       "\n",
       "       num_access_files  num_outbound_cmds  is_host_login  is_guest_login  \\\n",
       "count        699.000000              699.0          699.0      699.000000   \n",
       "mean           0.007153                0.0            0.0        0.051502   \n",
       "std            0.189117                0.0            0.0        0.221178   \n",
       "min            0.000000                0.0            0.0        0.000000   \n",
       "25%            0.000000                0.0            0.0        0.000000   \n",
       "50%            0.000000                0.0            0.0        0.000000   \n",
       "75%            0.000000                0.0            0.0        0.000000   \n",
       "max            5.000000                0.0            0.0        1.000000   \n",
       "\n",
       "       is_intrusion  \n",
       "count    699.000000  \n",
       "mean       0.429185  \n",
       "std        0.495314  \n",
       "min        0.000000  \n",
       "25%        0.000000  \n",
       "50%        0.000000  \n",
       "75%        1.000000  \n",
       "max        1.000000  "
      ]
     },
     "execution_count": 39,
     "metadata": {},
     "output_type": "execute_result"
    }
   ],
   "source": [
    "data.describe()"
   ]
  },
  {
   "cell_type": "code",
   "execution_count": 40,
   "id": "d7c797aa",
   "metadata": {},
   "outputs": [
    {
     "data": {
      "text/plain": [
       "(699, 23)"
      ]
     },
     "execution_count": 40,
     "metadata": {},
     "output_type": "execute_result"
    }
   ],
   "source": [
    "data.shape"
   ]
  },
  {
   "cell_type": "markdown",
   "id": "a10afb56",
   "metadata": {},
   "source": [
    "### preprocessing data"
   ]
  },
  {
   "cell_type": "code",
   "execution_count": 10,
   "id": "fd262aae",
   "metadata": {},
   "outputs": [],
   "source": [
    "X = data[['duration', 'src_bytes', 'dst_bytes']].values\n",
    "y = data[['is_intrusion']].values.ravel()"
   ]
  },
  {
   "cell_type": "code",
   "execution_count": 11,
   "id": "f7c7f235",
   "metadata": {},
   "outputs": [],
   "source": [
    "y = np.array(y).astype(int)"
   ]
  },
  {
   "cell_type": "code",
   "execution_count": 12,
   "id": "9acf50b5",
   "metadata": {},
   "outputs": [],
   "source": [
    "from sklearn import preprocessing"
   ]
  },
  {
   "cell_type": "code",
   "execution_count": 13,
   "id": "6e20178b",
   "metadata": {},
   "outputs": [],
   "source": [
    "X = preprocessing.scale(X)"
   ]
  },
  {
   "cell_type": "markdown",
   "id": "3c2c72ff",
   "metadata": {},
   "source": [
    "### Implementing DT"
   ]
  },
  {
   "cell_type": "code",
   "execution_count": 18,
   "id": "3bf48657",
   "metadata": {},
   "outputs": [],
   "source": [
    "from sklearn.tree import DecisionTreeClassifier\n",
    "from sklearn import tree\n",
    "from sklearn.model_selection import GridSearchCV\n",
    "from sklearn.model_selection import cross_val_score\n",
    "from sklearn import model_selection"
   ]
  },
  {
   "cell_type": "code",
   "execution_count": 20,
   "id": "853eca28",
   "metadata": {},
   "outputs": [],
   "source": [
    "param_grid = {'max_depth': range(3,10)}\n",
    "fold = model_selection.KFold(n_splits = 10)"
   ]
  },
  {
   "cell_type": "code",
   "execution_count": 21,
   "id": "96378a6f",
   "metadata": {},
   "outputs": [],
   "source": [
    "DT = GridSearchCV(tree.DecisionTreeClassifier(), param_grid, verbose = 1)"
   ]
  },
  {
   "cell_type": "code",
   "execution_count": 22,
   "id": "e794f54d",
   "metadata": {},
   "outputs": [
    {
     "name": "stdout",
     "output_type": "stream",
     "text": [
      "Fitting 5 folds for each of 7 candidates, totalling 35 fits\n"
     ]
    },
    {
     "data": {
      "text/plain": [
       "GridSearchCV(estimator=DecisionTreeClassifier(),\n",
       "             param_grid={'max_depth': range(3, 10)}, verbose=1)"
      ]
     },
     "execution_count": 22,
     "metadata": {},
     "output_type": "execute_result"
    }
   ],
   "source": [
    "DT.fit(X,y)"
   ]
  },
  {
   "cell_type": "markdown",
   "id": "8718286a",
   "metadata": {},
   "source": [
    "### Cross validation"
   ]
  },
  {
   "cell_type": "code",
   "execution_count": 23,
   "id": "905ecced",
   "metadata": {},
   "outputs": [
    {
     "name": "stdout",
     "output_type": "stream",
     "text": [
      "Fitting 5 folds for each of 7 candidates, totalling 35 fits\n",
      "Fitting 5 folds for each of 7 candidates, totalling 35 fits\n",
      "Fitting 5 folds for each of 7 candidates, totalling 35 fits\n",
      "Fitting 5 folds for each of 7 candidates, totalling 35 fits\n",
      "Fitting 5 folds for each of 7 candidates, totalling 35 fits\n",
      "Fitting 5 folds for each of 7 candidates, totalling 35 fits\n",
      "Fitting 5 folds for each of 7 candidates, totalling 35 fits\n",
      "Fitting 5 folds for each of 7 candidates, totalling 35 fits\n",
      "Fitting 5 folds for each of 7 candidates, totalling 35 fits\n",
      "Fitting 5 folds for each of 7 candidates, totalling 35 fits\n"
     ]
    },
    {
     "data": {
      "text/plain": [
       "0.9226708074534162"
      ]
     },
     "execution_count": 23,
     "metadata": {},
     "output_type": "execute_result"
    }
   ],
   "source": [
    "DT_accuracy = cross_val_score(DT, X, y, scoring ='accuracy', cv = fold).mean()\n",
    "DT_accuracy"
   ]
  },
  {
   "cell_type": "markdown",
   "id": "09bafd31",
   "metadata": {},
   "source": [
    "### Implimenting Bagging"
   ]
  },
  {
   "cell_type": "code",
   "execution_count": 27,
   "id": "03131366",
   "metadata": {},
   "outputs": [],
   "source": [
    "from sklearn.ensemble import BaggingClassifier\n",
    "num_trees = 500\n",
    "DT2 = DecisionTreeClassifier(random_state = 0)\n",
    "bag = BaggingClassifier(base_estimator =DT2, n_estimators = num_trees, random_state = 0)\n",
    "bag_accuracy = cross_val_score(bag, X, y, scoring ='accuracy', cv =fold).mean()"
   ]
  },
  {
   "cell_type": "code",
   "execution_count": 28,
   "id": "a674d7d8",
   "metadata": {},
   "outputs": [
    {
     "data": {
      "text/plain": [
       "0.935527950310559"
      ]
     },
     "execution_count": 28,
     "metadata": {},
     "output_type": "execute_result"
    }
   ],
   "source": [
    "#accuracy statistics\n",
    "bag_accuracy"
   ]
  },
  {
   "cell_type": "markdown",
   "id": "5ed12d6b",
   "metadata": {},
   "source": [
    "### Implimenting Ada Boosting"
   ]
  },
  {
   "cell_type": "code",
   "execution_count": 29,
   "id": "cc39800c",
   "metadata": {},
   "outputs": [],
   "source": [
    "from sklearn.ensemble import AdaBoostClassifier\n",
    "adaboost = AdaBoostClassifier(n_estimators = num_trees, learning_rate=0.1, random_state =0)\n",
    "adaboost_accuracy = cross_val_score(adaboost, X, y, scoring ='accuracy', cv =fold).mean()"
   ]
  },
  {
   "cell_type": "code",
   "execution_count": 30,
   "id": "f8f10031",
   "metadata": {},
   "outputs": [
    {
     "data": {
      "text/plain": [
       "0.9040993788819875"
      ]
     },
     "execution_count": 30,
     "metadata": {},
     "output_type": "execute_result"
    }
   ],
   "source": [
    "adaboost_accuracy"
   ]
  },
  {
   "cell_type": "markdown",
   "id": "e9fb5985",
   "metadata": {},
   "source": [
    "### Implimenting Gradient boosting"
   ]
  },
  {
   "cell_type": "code",
   "execution_count": 31,
   "id": "a616b1ef",
   "metadata": {},
   "outputs": [],
   "source": [
    "from sklearn.ensemble import GradientBoostingClassifier\n",
    "gboost = GradientBoostingClassifier(n_estimators = num_trees, learning_rate=0.1, random_state =0)\n",
    "gboost_accuracy = cross_val_score(gboost, X, y, scoring ='accuracy', cv =fold).mean()"
   ]
  },
  {
   "cell_type": "code",
   "execution_count": 32,
   "id": "0761db1d",
   "metadata": {},
   "outputs": [
    {
     "data": {
      "text/plain": [
       "0.9169565217391306"
      ]
     },
     "execution_count": 32,
     "metadata": {},
     "output_type": "execute_result"
    }
   ],
   "source": [
    "gboost_accuracy"
   ]
  },
  {
   "cell_type": "markdown",
   "id": "c8227e53",
   "metadata": {},
   "source": [
    "### Implementing random forrest"
   ]
  },
  {
   "cell_type": "code",
   "execution_count": 33,
   "id": "86b71315",
   "metadata": {},
   "outputs": [],
   "source": [
    "from sklearn.ensemble import RandomForestClassifier"
   ]
  },
  {
   "cell_type": "code",
   "execution_count": 34,
   "id": "d4002975",
   "metadata": {},
   "outputs": [],
   "source": [
    "rf = RandomForestClassifier(n_estimators = num_trees, random_state = 0)\n",
    "rf_accuracy = cross_val_score(rf, X, y, scoring ='accuracy', cv = fold).mean()"
   ]
  },
  {
   "cell_type": "code",
   "execution_count": 35,
   "id": "6a7efdfd",
   "metadata": {},
   "outputs": [
    {
     "data": {
      "text/plain": [
       "0.9412422360248447"
      ]
     },
     "execution_count": 35,
     "metadata": {},
     "output_type": "execute_result"
    }
   ],
   "source": [
    "rf_accuracy"
   ]
  },
  {
   "cell_type": "markdown",
   "id": "1fbdbf72",
   "metadata": {},
   "source": [
    "### Classifiers comparison"
   ]
  },
  {
   "cell_type": "code",
   "execution_count": 37,
   "id": "be72c18d",
   "metadata": {},
   "outputs": [],
   "source": [
    "comparison = pd.DataFrame({'Decision Tree':DT_accuracy,\n",
    "                          'Random Forest': rf_accuracy,\n",
    "                          'Gradient Boosting': gboost_accuracy,\n",
    "                          'ada boosting':adaboost_accuracy },\n",
    "                         index =[\"Accuracy\"])"
   ]
  },
  {
   "cell_type": "code",
   "execution_count": 38,
   "id": "d3b5872d",
   "metadata": {},
   "outputs": [
    {
     "data": {
      "text/html": [
       "<div>\n",
       "<style scoped>\n",
       "    .dataframe tbody tr th:only-of-type {\n",
       "        vertical-align: middle;\n",
       "    }\n",
       "\n",
       "    .dataframe tbody tr th {\n",
       "        vertical-align: top;\n",
       "    }\n",
       "\n",
       "    .dataframe thead th {\n",
       "        text-align: right;\n",
       "    }\n",
       "</style>\n",
       "<table border=\"1\" class=\"dataframe\">\n",
       "  <thead>\n",
       "    <tr style=\"text-align: right;\">\n",
       "      <th></th>\n",
       "      <th>Decision Tree</th>\n",
       "      <th>Random Forest</th>\n",
       "      <th>Gradient Boosting</th>\n",
       "      <th>ada boosting</th>\n",
       "    </tr>\n",
       "  </thead>\n",
       "  <tbody>\n",
       "    <tr>\n",
       "      <th>Accuracy</th>\n",
       "      <td>0.922671</td>\n",
       "      <td>0.941242</td>\n",
       "      <td>0.916957</td>\n",
       "      <td>0.904099</td>\n",
       "    </tr>\n",
       "  </tbody>\n",
       "</table>\n",
       "</div>"
      ],
      "text/plain": [
       "          Decision Tree  Random Forest  Gradient Boosting  ada boosting\n",
       "Accuracy       0.922671       0.941242           0.916957      0.904099"
      ]
     },
     "execution_count": 38,
     "metadata": {},
     "output_type": "execute_result"
    }
   ],
   "source": [
    "comparison"
   ]
  },
  {
   "cell_type": "markdown",
   "id": "191c8e96",
   "metadata": {},
   "source": [
    "# Discussion"
   ]
  },
  {
   "cell_type": "markdown",
   "id": "83f114c7",
   "metadata": {},
   "source": [
    "based on the results, we can tell that the random forest computed the best accuracy estimated at 94.12%. the Decisition tree's accuracy is at 92.27%. the ensemble method helps encover more technique when it comes to finding the best method similar to the decision tree. The ensemble learning helped discover a better way to predictive performance by combining the predictions from various models such as: ada boosting, bagging,gradient boosting, and random forrest. these methods allows us to reduce bias and variance to boost the accuracy of each model."
   ]
  }
 ],
 "metadata": {
  "kernelspec": {
   "display_name": "Python 3 (ipykernel)",
   "language": "python",
   "name": "python3"
  },
  "language_info": {
   "codemirror_mode": {
    "name": "ipython",
    "version": 3
   },
   "file_extension": ".py",
   "mimetype": "text/x-python",
   "name": "python",
   "nbconvert_exporter": "python",
   "pygments_lexer": "ipython3",
   "version": "3.9.12"
  }
 },
 "nbformat": 4,
 "nbformat_minor": 5
}
