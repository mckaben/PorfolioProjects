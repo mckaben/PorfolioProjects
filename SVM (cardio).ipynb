{
 "cells": [
  {
   "cell_type": "markdown",
   "id": "3efea358",
   "metadata": {},
   "source": [
    "# kernelized SVMs"
   ]
  },
  {
   "cell_type": "markdown",
   "id": "5751688e",
   "metadata": {},
   "source": [
    "### Metadata/Sources"
   ]
  },
  {
   "cell_type": "markdown",
   "id": "ebd10ef6",
   "metadata": {},
   "source": [
    "The data was also collected in 2019 and retrieved from Kaggle\n",
    "\n",
    "DV: Cardio = having or not having cardiovascular disease (CVD)\n",
    "\n",
    "IV: Age, Height, Weight, Gender, SBP, DBP, Cholesterol, Glucose, Alcohol, Active, and Smoke\n",
    "\n",
    "SBP = systolic blood pressure\n",
    "\n",
    "DBP = diastolic blood pressure\n",
    "\n",
    "Observation of 4221 individuals and 12 variables"
   ]
  },
  {
   "cell_type": "markdown",
   "id": "38d04e0e",
   "metadata": {},
   "source": [
    "### Summary of the data"
   ]
  },
  {
   "cell_type": "markdown",
   "id": "2f6653e2",
   "metadata": {},
   "source": [
    "Age | Objective Feature | age | int (days)\n",
    "\n",
    "Height | Objective Feature | height | int (cm) |\n",
    "\n",
    "Weight | Objective Feature | weight | float (kg) |\n",
    "\n",
    "Gender | Objective Feature | gender | categorical code |\n",
    "\n",
    "Systolic blood pressure | Examination Feature | ap_hi | int |\n",
    "\n",
    "Diastolic blood pressure | Examination Feature | ap_lo | int |\n",
    "\n",
    "Cholesterol | Examination Feature | cholesterol | 1: normal,2: above normal, 3: well above normal |\n",
    "\n",
    "Glucose | Examination Feature | gluc | 1: normal, 2: above normal, 3: well above normal |\n",
    "\n",
    "Smoking | Subjective Feature | smoke | binary |\n",
    "\n",
    "Alcohol intake | Subjective Feature | alco | binary |\n",
    "\n",
    "Physical activity | Subjective Feature | active | binary |\n",
    "\n",
    "Presence or absence of cardiovascular disease | Target Variable | cardio | binary |\n"
   ]
  },
  {
   "cell_type": "markdown",
   "id": "cafcb808",
   "metadata": {},
   "source": [
    "### Introduction"
   ]
  },
  {
   "cell_type": "markdown",
   "id": "82c012ba",
   "metadata": {},
   "source": [
    "They collected data from some patients during a medical examination alongside the survey they took.\n",
    "\n",
    "This study investigates cardiovascular risk factors in adults in the United States. The data used to \n",
    "\n",
    "conduct this study is collected from Kaggle and entitled \"Cardiovascular.\" The data initially has \n",
    "\n",
    "70,000 observations and 12 variables. The data is preprocessed and reduced to 4221 observations and 12\n",
    "\n",
    "variables for this assignment. "
   ]
  },
  {
   "cell_type": "markdown",
   "id": "f8f256dd",
   "metadata": {},
   "source": [
    "### Objective"
   ]
  },
  {
   "cell_type": "markdown",
   "id": "93bda82c",
   "metadata": {},
   "source": [
    "The purpose of this study is to predict the status of cardiovascular disease in people."
   ]
  },
  {
   "cell_type": "markdown",
   "id": "70923df2",
   "metadata": {},
   "source": [
    "### Load and preprocess data"
   ]
  },
  {
   "cell_type": "code",
   "execution_count": 1,
   "id": "71a32c34",
   "metadata": {},
   "outputs": [],
   "source": [
    "import pandas as pd\n",
    "import numpy as np"
   ]
  },
  {
   "cell_type": "code",
   "execution_count": 2,
   "id": "a50c6f5e",
   "metadata": {},
   "outputs": [],
   "source": [
    "data = pd.read_csv('cardio.csv')"
   ]
  },
  {
   "cell_type": "code",
   "execution_count": 3,
   "id": "ef255403",
   "metadata": {},
   "outputs": [],
   "source": [
    "pd.set_option('display.float_format', lambda x: '%.1f' % x)"
   ]
  },
  {
   "cell_type": "code",
   "execution_count": 4,
   "id": "9848afb9",
   "metadata": {},
   "outputs": [
    {
     "data": {
      "text/html": [
       "<div>\n",
       "<style scoped>\n",
       "    .dataframe tbody tr th:only-of-type {\n",
       "        vertical-align: middle;\n",
       "    }\n",
       "\n",
       "    .dataframe tbody tr th {\n",
       "        vertical-align: top;\n",
       "    }\n",
       "\n",
       "    .dataframe thead th {\n",
       "        text-align: right;\n",
       "    }\n",
       "</style>\n",
       "<table border=\"1\" class=\"dataframe\">\n",
       "  <thead>\n",
       "    <tr style=\"text-align: right;\">\n",
       "      <th></th>\n",
       "      <th>age</th>\n",
       "      <th>gender</th>\n",
       "      <th>height</th>\n",
       "      <th>weight</th>\n",
       "      <th>ap_hi</th>\n",
       "      <th>ap_lo</th>\n",
       "      <th>cholesterol</th>\n",
       "      <th>gluc</th>\n",
       "      <th>smoke</th>\n",
       "      <th>alco</th>\n",
       "      <th>active</th>\n",
       "      <th>cardio</th>\n",
       "      <th>age.1</th>\n",
       "    </tr>\n",
       "  </thead>\n",
       "  <tbody>\n",
       "    <tr>\n",
       "      <th>0</th>\n",
       "      <td>18393</td>\n",
       "      <td>2</td>\n",
       "      <td>168</td>\n",
       "      <td>62.0</td>\n",
       "      <td>110</td>\n",
       "      <td>80</td>\n",
       "      <td>1</td>\n",
       "      <td>1</td>\n",
       "      <td>0</td>\n",
       "      <td>0</td>\n",
       "      <td>1</td>\n",
       "      <td>0</td>\n",
       "      <td>50.4</td>\n",
       "    </tr>\n",
       "    <tr>\n",
       "      <th>1</th>\n",
       "      <td>20228</td>\n",
       "      <td>1</td>\n",
       "      <td>156</td>\n",
       "      <td>85.0</td>\n",
       "      <td>140</td>\n",
       "      <td>90</td>\n",
       "      <td>3</td>\n",
       "      <td>1</td>\n",
       "      <td>0</td>\n",
       "      <td>0</td>\n",
       "      <td>1</td>\n",
       "      <td>1</td>\n",
       "      <td>55.4</td>\n",
       "    </tr>\n",
       "    <tr>\n",
       "      <th>2</th>\n",
       "      <td>18857</td>\n",
       "      <td>1</td>\n",
       "      <td>165</td>\n",
       "      <td>64.0</td>\n",
       "      <td>130</td>\n",
       "      <td>70</td>\n",
       "      <td>3</td>\n",
       "      <td>1</td>\n",
       "      <td>0</td>\n",
       "      <td>0</td>\n",
       "      <td>0</td>\n",
       "      <td>1</td>\n",
       "      <td>51.7</td>\n",
       "    </tr>\n",
       "    <tr>\n",
       "      <th>3</th>\n",
       "      <td>17623</td>\n",
       "      <td>2</td>\n",
       "      <td>169</td>\n",
       "      <td>82.0</td>\n",
       "      <td>150</td>\n",
       "      <td>100</td>\n",
       "      <td>1</td>\n",
       "      <td>1</td>\n",
       "      <td>0</td>\n",
       "      <td>0</td>\n",
       "      <td>1</td>\n",
       "      <td>1</td>\n",
       "      <td>48.3</td>\n",
       "    </tr>\n",
       "    <tr>\n",
       "      <th>4</th>\n",
       "      <td>17474</td>\n",
       "      <td>1</td>\n",
       "      <td>156</td>\n",
       "      <td>56.0</td>\n",
       "      <td>100</td>\n",
       "      <td>60</td>\n",
       "      <td>1</td>\n",
       "      <td>1</td>\n",
       "      <td>0</td>\n",
       "      <td>0</td>\n",
       "      <td>0</td>\n",
       "      <td>0</td>\n",
       "      <td>47.9</td>\n",
       "    </tr>\n",
       "  </tbody>\n",
       "</table>\n",
       "</div>"
      ],
      "text/plain": [
       "     age  gender  height  weight  ap_hi  ap_lo  cholesterol  gluc  smoke  \\\n",
       "0  18393       2     168    62.0    110     80            1     1      0   \n",
       "1  20228       1     156    85.0    140     90            3     1      0   \n",
       "2  18857       1     165    64.0    130     70            3     1      0   \n",
       "3  17623       2     169    82.0    150    100            1     1      0   \n",
       "4  17474       1     156    56.0    100     60            1     1      0   \n",
       "\n",
       "   alco  active  cardio  age.1  \n",
       "0     0       1       0   50.4  \n",
       "1     0       1       1   55.4  \n",
       "2     0       0       1   51.7  \n",
       "3     0       1       1   48.3  \n",
       "4     0       0       0   47.9  "
      ]
     },
     "execution_count": 4,
     "metadata": {},
     "output_type": "execute_result"
    }
   ],
   "source": [
    "data.head()"
   ]
  },
  {
   "cell_type": "code",
   "execution_count": 5,
   "id": "a1c21653",
   "metadata": {},
   "outputs": [],
   "source": [
    "#let's drop the column age from the data\n",
    "data = data.drop('age', axis =1)"
   ]
  },
  {
   "cell_type": "markdown",
   "id": "f8b342ef",
   "metadata": {},
   "source": [
    "### set the variables"
   ]
  },
  {
   "cell_type": "code",
   "execution_count": 6,
   "id": "63ed29ac",
   "metadata": {},
   "outputs": [],
   "source": [
    "X = data[['age.1', 'gender', 'ap_hi', 'ap_lo', 'cholesterol']].values\n",
    "y = data[['cardio']].values.ravel()"
   ]
  },
  {
   "cell_type": "code",
   "execution_count": 7,
   "id": "e67f9055",
   "metadata": {},
   "outputs": [],
   "source": [
    "from sklearn import preprocessing"
   ]
  },
  {
   "cell_type": "code",
   "execution_count": 8,
   "id": "876cc836",
   "metadata": {},
   "outputs": [],
   "source": [
    "X = preprocessing.scale(X)"
   ]
  },
  {
   "cell_type": "markdown",
   "id": "83cecfdf",
   "metadata": {},
   "source": [
    "# SVM"
   ]
  },
  {
   "cell_type": "code",
   "execution_count": 9,
   "id": "c6a3e5f6",
   "metadata": {},
   "outputs": [],
   "source": [
    "from sklearn import svm\n",
    "from sklearn.model_selection import GridSearchCV\n",
    "from sklearn.model_selection import cross_val_score\n",
    "from sklearn.svm import SVC"
   ]
  },
  {
   "cell_type": "code",
   "execution_count": 10,
   "id": "233591b5",
   "metadata": {},
   "outputs": [],
   "source": [
    "param_grid ={'C': [0.1, 1, 10, 100], 'gamma': [1, 0.1, 0.01, 0.001, 0.0001, 10]}"
   ]
  },
  {
   "cell_type": "markdown",
   "id": "f6ef976a",
   "metadata": {},
   "source": [
    "### Linear SVM: Specifying and fitting model"
   ]
  },
  {
   "cell_type": "code",
   "execution_count": 11,
   "id": "b3eff23b",
   "metadata": {},
   "outputs": [
    {
     "name": "stdout",
     "output_type": "stream",
     "text": [
      "Fitting 5 folds for each of 24 candidates, totalling 120 fits\n"
     ]
    },
    {
     "data": {
      "text/plain": [
       "GridSearchCV(estimator=SVC(kernel='linear'),\n",
       "             param_grid={'C': [0.1, 1, 10, 100],\n",
       "                         'gamma': [1, 0.1, 0.01, 0.001, 0.0001, 10]},\n",
       "             verbose=1)"
      ]
     },
     "execution_count": 11,
     "metadata": {},
     "output_type": "execute_result"
    }
   ],
   "source": [
    "svm_linear = GridSearchCV(svm.SVC(kernel = 'linear'),param_grid, verbose =1)\n",
    "svm_linear.fit(X,y)"
   ]
  },
  {
   "cell_type": "markdown",
   "id": "a95ce4bf",
   "metadata": {},
   "source": [
    "### Best parameters"
   ]
  },
  {
   "cell_type": "code",
   "execution_count": 12,
   "id": "ad8153cc",
   "metadata": {},
   "outputs": [
    {
     "data": {
      "text/plain": [
       "{'C': 1, 'gamma': 1}"
      ]
     },
     "execution_count": 12,
     "metadata": {},
     "output_type": "execute_result"
    }
   ],
   "source": [
    "svm_linear.best_params_"
   ]
  },
  {
   "cell_type": "markdown",
   "id": "cf73c446",
   "metadata": {},
   "source": [
    "### Linear SVM: Cross validation"
   ]
  },
  {
   "cell_type": "code",
   "execution_count": 13,
   "id": "8669e1f7",
   "metadata": {},
   "outputs": [
    {
     "name": "stdout",
     "output_type": "stream",
     "text": [
      "Fitting 5 folds for each of 24 candidates, totalling 120 fits\n",
      "Fitting 5 folds for each of 24 candidates, totalling 120 fits\n",
      "Fitting 5 folds for each of 24 candidates, totalling 120 fits\n",
      "Fitting 5 folds for each of 24 candidates, totalling 120 fits\n",
      "Fitting 5 folds for each of 24 candidates, totalling 120 fits\n"
     ]
    }
   ],
   "source": [
    "svm_linear_accuracy = cross_val_score(svm_linear, X, y, scoring = 'accuracy', cv = 5).mean()"
   ]
  },
  {
   "cell_type": "code",
   "execution_count": 14,
   "id": "fc7e5978",
   "metadata": {},
   "outputs": [
    {
     "data": {
      "text/plain": [
       "0.7223346139824448"
      ]
     },
     "execution_count": 14,
     "metadata": {},
     "output_type": "execute_result"
    }
   ],
   "source": [
    "svm_linear_accuracy"
   ]
  },
  {
   "cell_type": "markdown",
   "id": "f3e5478f",
   "metadata": {},
   "source": [
    "### Linear SVM with C=1 and gamma = 1"
   ]
  },
  {
   "cell_type": "code",
   "execution_count": 15,
   "id": "c63d849f",
   "metadata": {},
   "outputs": [
    {
     "data": {
      "text/plain": [
       "0.7225715808070893"
      ]
     },
     "execution_count": 15,
     "metadata": {},
     "output_type": "execute_result"
    }
   ],
   "source": [
    "svm_linear2 = SVC(kernel ='linear', C=1, gamma =1).fit(X,y)\n",
    "svm_linear2_ac = cross_val_score(svm_linear2, X, y, scoring ='accuracy', cv = 5).mean()\n",
    "svm_linear2_ac"
   ]
  },
  {
   "cell_type": "markdown",
   "id": "63192010",
   "metadata": {},
   "source": [
    "### Accuracy statistics"
   ]
  },
  {
   "cell_type": "code",
   "execution_count": 16,
   "id": "f92fe2b6",
   "metadata": {},
   "outputs": [
    {
     "data": {
      "text/plain": [
       "array([0.72233461, 0.72233461, 0.72233461, 0.72233461, 0.72233461,\n",
       "       0.72233461, 0.72257158, 0.72257158, 0.72257158, 0.72257158,\n",
       "       0.72257158, 0.72257158, 0.72257158, 0.72257158, 0.72257158,\n",
       "       0.72257158, 0.72257158, 0.72257158, 0.72233461, 0.72233461,\n",
       "       0.72233461, 0.72233461, 0.72233461, 0.72233461])"
      ]
     },
     "execution_count": 16,
     "metadata": {},
     "output_type": "execute_result"
    }
   ],
   "source": [
    "svm_linear.cv_results_['mean_test_score']"
   ]
  },
  {
   "cell_type": "markdown",
   "id": "3babb6d8",
   "metadata": {},
   "source": [
    "### SD of accuracy statistics"
   ]
  },
  {
   "cell_type": "code",
   "execution_count": 17,
   "id": "d9211007",
   "metadata": {},
   "outputs": [
    {
     "data": {
      "text/plain": [
       "array([0.01782803, 0.01782803, 0.01782803, 0.01782803, 0.01782803,\n",
       "       0.01782803, 0.01774515, 0.01774515, 0.01774515, 0.01774515,\n",
       "       0.01774515, 0.01774515, 0.01774515, 0.01774515, 0.01774515,\n",
       "       0.01774515, 0.01774515, 0.01774515, 0.01781227, 0.01781227,\n",
       "       0.01781227, 0.01781227, 0.01781227, 0.01781227])"
      ]
     },
     "execution_count": 17,
     "metadata": {},
     "output_type": "execute_result"
    }
   ],
   "source": [
    "svm_linear.cv_results_['std_test_score']"
   ]
  },
  {
   "cell_type": "markdown",
   "id": "a638e7f7",
   "metadata": {},
   "source": [
    "### Sigmoid SVM"
   ]
  },
  {
   "cell_type": "code",
   "execution_count": 18,
   "id": "8a8b54d7",
   "metadata": {},
   "outputs": [
    {
     "name": "stdout",
     "output_type": "stream",
     "text": [
      "Fitting 5 folds for each of 24 candidates, totalling 120 fits\n"
     ]
    },
    {
     "data": {
      "text/plain": [
       "GridSearchCV(estimator=SVC(kernel='sigmoid'),\n",
       "             param_grid={'C': [0.1, 1, 10, 100],\n",
       "                         'gamma': [1, 0.1, 0.01, 0.001, 0.0001, 10]},\n",
       "             verbose=1)"
      ]
     },
     "execution_count": 18,
     "metadata": {},
     "output_type": "execute_result"
    }
   ],
   "source": [
    "svm_sigmoid = GridSearchCV(svm.SVC(kernel='sigmoid'), param_grid, verbose =1)\n",
    "svm_sigmoid.fit(X,y)"
   ]
  },
  {
   "cell_type": "markdown",
   "id": "0e490a59",
   "metadata": {},
   "source": [
    "### Best parameters"
   ]
  },
  {
   "cell_type": "code",
   "execution_count": 19,
   "id": "06539784",
   "metadata": {},
   "outputs": [
    {
     "data": {
      "text/plain": [
       "{'C': 100, 'gamma': 0.001}"
      ]
     },
     "execution_count": 19,
     "metadata": {},
     "output_type": "execute_result"
    }
   ],
   "source": [
    "svm_sigmoid.best_params_"
   ]
  },
  {
   "cell_type": "code",
   "execution_count": 20,
   "id": "18f0229d",
   "metadata": {},
   "outputs": [
    {
     "data": {
      "text/plain": [
       "SVC(C=100, gamma=0.001, kernel='sigmoid')"
      ]
     },
     "execution_count": 20,
     "metadata": {},
     "output_type": "execute_result"
    }
   ],
   "source": [
    "svm_sigmoid.best_estimator_"
   ]
  },
  {
   "cell_type": "code",
   "execution_count": 21,
   "id": "3e4da552",
   "metadata": {},
   "outputs": [
    {
     "name": "stdout",
     "output_type": "stream",
     "text": [
      "Fitting 5 folds for each of 24 candidates, totalling 120 fits\n",
      "Fitting 5 folds for each of 24 candidates, totalling 120 fits\n",
      "Fitting 5 folds for each of 24 candidates, totalling 120 fits\n",
      "Fitting 5 folds for each of 24 candidates, totalling 120 fits\n",
      "Fitting 5 folds for each of 24 candidates, totalling 120 fits\n"
     ]
    }
   ],
   "source": [
    "svm_sigmoid_accuracy = cross_val_score(svm_sigmoid, X,y, scoring ='accuracy', cv =5).mean()"
   ]
  },
  {
   "cell_type": "code",
   "execution_count": 22,
   "id": "8549a5ec",
   "metadata": {},
   "outputs": [
    {
     "data": {
      "text/plain": [
       "0.7223346139824448"
      ]
     },
     "execution_count": 22,
     "metadata": {},
     "output_type": "execute_result"
    }
   ],
   "source": [
    "svm_sigmoid_accuracy"
   ]
  },
  {
   "cell_type": "markdown",
   "id": "f1ca6fd2",
   "metadata": {},
   "source": [
    "### svm_sigmoid with SVC(C=100, gamma =0.001)"
   ]
  },
  {
   "cell_type": "code",
   "execution_count": 23,
   "id": "964bf31a",
   "metadata": {},
   "outputs": [
    {
     "data": {
      "text/plain": [
       "0.7223346139824448"
      ]
     },
     "execution_count": 23,
     "metadata": {},
     "output_type": "execute_result"
    }
   ],
   "source": [
    "svm_sigmoid2 = SVC(kernel ='sigmoid', C=100, gamma =0.001).fit(X,y)\n",
    "svm_sigmoid2_ac = cross_val_score(svm_sigmoid2, X, y, scoring ='accuracy', cv = 5).mean()\n",
    "svm_sigmoid2_ac"
   ]
  },
  {
   "cell_type": "markdown",
   "id": "9e44317c",
   "metadata": {},
   "source": [
    "### Accuracy statistics"
   ]
  },
  {
   "cell_type": "code",
   "execution_count": 24,
   "id": "bc3909dd",
   "metadata": {},
   "outputs": [
    {
     "data": {
      "text/plain": [
       "array([0.56929331, 0.71096049, 0.68987717, 0.50225076, 0.50153986,\n",
       "       0.56550072, 0.56858128, 0.65600409, 0.716411  , 0.69011414,\n",
       "       0.50225076, 0.56692196, 0.57047758, 0.61359488, 0.71925405,\n",
       "       0.71617404, 0.68987717, 0.56739561, 0.57047758, 0.60743347,\n",
       "       0.68087636, 0.72233461, 0.71617404, 0.56763229])"
      ]
     },
     "execution_count": 24,
     "metadata": {},
     "output_type": "execute_result"
    }
   ],
   "source": [
    "svm_sigmoid.cv_results_['mean_test_score']"
   ]
  },
  {
   "cell_type": "markdown",
   "id": "f60452bc",
   "metadata": {},
   "source": [
    "### SD of accuracy statistics"
   ]
  },
  {
   "cell_type": "code",
   "execution_count": 25,
   "id": "928c4685",
   "metadata": {},
   "outputs": [
    {
     "data": {
      "text/plain": [
       "array([0.00991581, 0.02136152, 0.01614395, 0.00078618, 0.00047372,\n",
       "       0.01601622, 0.01090424, 0.00972623, 0.01894007, 0.01647352,\n",
       "       0.00078618, 0.01672767, 0.00906959, 0.01547276, 0.0188247 ,\n",
       "       0.01895564, 0.01647107, 0.01679506, 0.00906959, 0.01723219,\n",
       "       0.01253518, 0.01782803, 0.01895564, 0.01712456])"
      ]
     },
     "execution_count": 25,
     "metadata": {},
     "output_type": "execute_result"
    }
   ],
   "source": [
    "svm_sigmoid.cv_results_['std_test_score']"
   ]
  },
  {
   "cell_type": "markdown",
   "id": "66750acd",
   "metadata": {},
   "source": [
    "### rbf SVM"
   ]
  },
  {
   "cell_type": "code",
   "execution_count": 26,
   "id": "cf8f6485",
   "metadata": {},
   "outputs": [
    {
     "name": "stdout",
     "output_type": "stream",
     "text": [
      "Fitting 5 folds for each of 24 candidates, totalling 120 fits\n"
     ]
    },
    {
     "data": {
      "text/plain": [
       "GridSearchCV(estimator=SVC(),\n",
       "             param_grid={'C': [0.1, 1, 10, 100],\n",
       "                         'gamma': [1, 0.1, 0.01, 0.001, 0.0001, 10]},\n",
       "             verbose=1)"
      ]
     },
     "execution_count": 26,
     "metadata": {},
     "output_type": "execute_result"
    }
   ],
   "source": [
    "svm_rbf = GridSearchCV(svm.SVC(kernel='rbf'), param_grid, verbose = 1)\n",
    "svm_rbf.fit(X,y)"
   ]
  },
  {
   "cell_type": "markdown",
   "id": "613de47c",
   "metadata": {},
   "source": [
    "### svm_rbf: Cross validation"
   ]
  },
  {
   "cell_type": "code",
   "execution_count": 27,
   "id": "8926ff7e",
   "metadata": {},
   "outputs": [
    {
     "name": "stdout",
     "output_type": "stream",
     "text": [
      "Fitting 5 folds for each of 24 candidates, totalling 120 fits\n",
      "Fitting 5 folds for each of 24 candidates, totalling 120 fits\n",
      "Fitting 5 folds for each of 24 candidates, totalling 120 fits\n",
      "Fitting 5 folds for each of 24 candidates, totalling 120 fits\n",
      "Fitting 5 folds for each of 24 candidates, totalling 120 fits\n"
     ]
    },
    {
     "data": {
      "text/plain": [
       "0.7263605260943942"
      ]
     },
     "execution_count": 27,
     "metadata": {},
     "output_type": "execute_result"
    }
   ],
   "source": [
    "svm_rbf_accuracy = cross_val_score(svm_rbf, X, y, scoring ='accuracy', cv = 5).mean()\n",
    "svm_rbf_accuracy"
   ]
  },
  {
   "cell_type": "markdown",
   "id": "30870445",
   "metadata": {},
   "source": [
    "### Best parameters "
   ]
  },
  {
   "cell_type": "code",
   "execution_count": 28,
   "id": "85fef3a3",
   "metadata": {},
   "outputs": [
    {
     "data": {
      "text/plain": [
       "{'C': 1, 'gamma': 0.1}"
      ]
     },
     "execution_count": 28,
     "metadata": {},
     "output_type": "execute_result"
    }
   ],
   "source": [
    "svm_rbf.best_params_"
   ]
  },
  {
   "cell_type": "code",
   "execution_count": 29,
   "id": "420e24b6",
   "metadata": {},
   "outputs": [
    {
     "data": {
      "text/plain": [
       "SVC(C=1, gamma=0.1)"
      ]
     },
     "execution_count": 29,
     "metadata": {},
     "output_type": "execute_result"
    }
   ],
   "source": [
    "svm_rbf.best_estimator_"
   ]
  },
  {
   "cell_type": "markdown",
   "id": "32c99adf",
   "metadata": {},
   "source": [
    "### rbf SVM with SVC(C=1, gamma=0.1)"
   ]
  },
  {
   "cell_type": "code",
   "execution_count": 30,
   "id": "4544c5c5",
   "metadata": {},
   "outputs": [
    {
     "data": {
      "text/plain": [
       "0.7296772203370818"
      ]
     },
     "execution_count": 30,
     "metadata": {},
     "output_type": "execute_result"
    }
   ],
   "source": [
    "svm = SVC(kernel ='rbf', C=1, gamma =0.1).fit(X,y)\n",
    "svm_rbf_ac = cross_val_score(svm, X, y, scoring ='accuracy', cv = 5).mean()\n",
    "svm_rbf_ac"
   ]
  },
  {
   "cell_type": "markdown",
   "id": "6a6e513d",
   "metadata": {},
   "source": [
    "### Accuracy statistics"
   ]
  },
  {
   "cell_type": "code",
   "execution_count": 31,
   "id": "a8b40928",
   "metadata": {},
   "outputs": [
    {
     "data": {
      "text/plain": [
       "array([0.71949045, 0.72351805, 0.70101125, 0.66808211, 0.50153986,\n",
       "       0.69627668, 0.7247026 , 0.72967722, 0.72351945, 0.70290726,\n",
       "       0.66926666, 0.71143722, 0.71877927, 0.72730643, 0.72801929,\n",
       "       0.72162399, 0.70124877, 0.70006674, 0.71451583, 0.72470092,\n",
       "       0.72470372, 0.72446647, 0.71806921, 0.68395945])"
      ]
     },
     "execution_count": 31,
     "metadata": {},
     "output_type": "execute_result"
    }
   ],
   "source": [
    "svm_rbf.cv_results_['mean_test_score']"
   ]
  },
  {
   "cell_type": "markdown",
   "id": "5f4351fc",
   "metadata": {},
   "source": [
    "### SD of accuracy statistics"
   ]
  },
  {
   "cell_type": "code",
   "execution_count": 32,
   "id": "830e8700",
   "metadata": {},
   "outputs": [
    {
     "data": {
      "text/plain": [
       "array([0.01716771, 0.018747  , 0.02024215, 0.01589508, 0.00047372,\n",
       "       0.0170136 , 0.01634635, 0.01956796, 0.01750618, 0.0189991 ,\n",
       "       0.0181695 , 0.01511439, 0.0183314 , 0.02211755, 0.01858043,\n",
       "       0.01932906, 0.01908957, 0.01385218, 0.01740036, 0.02103662,\n",
       "       0.01729969, 0.01809721, 0.02018155, 0.01190106])"
      ]
     },
     "execution_count": 32,
     "metadata": {},
     "output_type": "execute_result"
    }
   ],
   "source": [
    "svm_rbf.cv_results_['std_test_score']"
   ]
  },
  {
   "cell_type": "code",
   "execution_count": 33,
   "id": "4d2b43ea",
   "metadata": {},
   "outputs": [],
   "source": [
    "pd.set_option('display.float_format', lambda x: '%.6f' % x)"
   ]
  },
  {
   "cell_type": "code",
   "execution_count": 34,
   "id": "9631d4e9",
   "metadata": {},
   "outputs": [],
   "source": [
    "accuracy_table = pd.DataFrame({'SVM_linear':svm_linear2_ac,\n",
    "                    'SVM_sigmoid':svm_sigmoid2_ac,\n",
    "                    'SVM_rbf': svm_rbf_ac},\n",
    "                   index= ['accuracy'])"
   ]
  },
  {
   "cell_type": "code",
   "execution_count": 35,
   "id": "bddc003e",
   "metadata": {},
   "outputs": [
    {
     "data": {
      "text/html": [
       "<div>\n",
       "<style scoped>\n",
       "    .dataframe tbody tr th:only-of-type {\n",
       "        vertical-align: middle;\n",
       "    }\n",
       "\n",
       "    .dataframe tbody tr th {\n",
       "        vertical-align: top;\n",
       "    }\n",
       "\n",
       "    .dataframe thead th {\n",
       "        text-align: right;\n",
       "    }\n",
       "</style>\n",
       "<table border=\"1\" class=\"dataframe\">\n",
       "  <thead>\n",
       "    <tr style=\"text-align: right;\">\n",
       "      <th></th>\n",
       "      <th>SVM_linear</th>\n",
       "      <th>SVM_sigmoid</th>\n",
       "      <th>SVM_rbf</th>\n",
       "    </tr>\n",
       "  </thead>\n",
       "  <tbody>\n",
       "    <tr>\n",
       "      <th>accuracy</th>\n",
       "      <td>0.722572</td>\n",
       "      <td>0.722335</td>\n",
       "      <td>0.729677</td>\n",
       "    </tr>\n",
       "  </tbody>\n",
       "</table>\n",
       "</div>"
      ],
      "text/plain": [
       "          SVM_linear  SVM_sigmoid  SVM_rbf\n",
       "accuracy    0.722572     0.722335 0.729677"
      ]
     },
     "execution_count": 35,
     "metadata": {},
     "output_type": "execute_result"
    }
   ],
   "source": [
    "accuracy_table"
   ]
  },
  {
   "cell_type": "markdown",
   "id": "4bce9051",
   "metadata": {},
   "source": [
    "# Classification Models"
   ]
  },
  {
   "cell_type": "markdown",
   "id": "e1cb4ff8",
   "metadata": {},
   "source": [
    "# KNN"
   ]
  },
  {
   "cell_type": "code",
   "execution_count": 36,
   "id": "2ba840bb",
   "metadata": {},
   "outputs": [],
   "source": [
    "from sklearn.model_selection import cross_val_score\n",
    "from sklearn.neighbors import KNeighborsClassifier"
   ]
  },
  {
   "cell_type": "code",
   "execution_count": 37,
   "id": "e22177cb",
   "metadata": {},
   "outputs": [],
   "source": [
    "knn = KNeighborsClassifier(n_neighbors = 3)"
   ]
  },
  {
   "cell_type": "code",
   "execution_count": 38,
   "id": "a0c3a95e",
   "metadata": {},
   "outputs": [
    {
     "data": {
      "text/plain": [
       "0.6704557054320088"
      ]
     },
     "execution_count": 38,
     "metadata": {},
     "output_type": "execute_result"
    }
   ],
   "source": [
    "knn_accuracy = cross_val_score(knn, X,y, scoring='accuracy', cv = 5).mean()\n",
    "knn_accuracy"
   ]
  },
  {
   "cell_type": "markdown",
   "id": "83d6f367",
   "metadata": {},
   "source": [
    "# Decision tree"
   ]
  },
  {
   "cell_type": "code",
   "execution_count": 39,
   "id": "6fe24706",
   "metadata": {},
   "outputs": [],
   "source": [
    "from sklearn.tree import DecisionTreeClassifier"
   ]
  },
  {
   "cell_type": "code",
   "execution_count": 40,
   "id": "fa92ef03",
   "metadata": {},
   "outputs": [],
   "source": [
    "dtree = DecisionTreeClassifier(criterion='entropy')"
   ]
  },
  {
   "cell_type": "code",
   "execution_count": 41,
   "id": "4524db79",
   "metadata": {},
   "outputs": [
    {
     "data": {
      "text/plain": [
       "0.6169160660702768"
      ]
     },
     "execution_count": 41,
     "metadata": {},
     "output_type": "execute_result"
    }
   ],
   "source": [
    "dtree_accuracy = cross_val_score(dtree, X,y, scoring='accuracy', cv = 5).mean()\n",
    "dtree_accuracy"
   ]
  },
  {
   "cell_type": "markdown",
   "id": "015fe818",
   "metadata": {},
   "source": [
    "# Naive bayes"
   ]
  },
  {
   "cell_type": "markdown",
   "id": "e60cc11e",
   "metadata": {},
   "source": [
    "### Gaussian Naive Bayes"
   ]
  },
  {
   "cell_type": "code",
   "execution_count": 42,
   "id": "4d1c6c9d",
   "metadata": {},
   "outputs": [],
   "source": [
    "from sklearn.naive_bayes import GaussianNB, MultinomialNB, ComplementNB, BernoulliNB "
   ]
  },
  {
   "cell_type": "code",
   "execution_count": 43,
   "id": "3f3496aa",
   "metadata": {},
   "outputs": [],
   "source": [
    "nbayes = GaussianNB() "
   ]
  },
  {
   "cell_type": "code",
   "execution_count": 44,
   "id": "80c61d9d",
   "metadata": {},
   "outputs": [
    {
     "data": {
      "text/plain": [
       "0.5823228357497406"
      ]
     },
     "execution_count": 44,
     "metadata": {},
     "output_type": "execute_result"
    }
   ],
   "source": [
    "nbayes_accuracy = cross_val_score(nbayes, X,y, scoring='accuracy', cv = 5).mean()\n",
    "nbayes_accuracy"
   ]
  },
  {
   "cell_type": "markdown",
   "id": "8e44bbfa",
   "metadata": {},
   "source": [
    "### Bernouilli Naive Bayes"
   ]
  },
  {
   "cell_type": "code",
   "execution_count": 45,
   "id": "885c9673",
   "metadata": {},
   "outputs": [],
   "source": [
    "nbern = BernoulliNB()"
   ]
  },
  {
   "cell_type": "code",
   "execution_count": 46,
   "id": "f052f143",
   "metadata": {},
   "outputs": [
    {
     "data": {
      "text/plain": [
       "0.7180728567822989"
      ]
     },
     "execution_count": 46,
     "metadata": {},
     "output_type": "execute_result"
    }
   ],
   "source": [
    "nbern_accuracy = cross_val_score(nbern, X,y, scoring='accuracy', cv = 5).mean()\n",
    "nbern_accuracy"
   ]
  },
  {
   "cell_type": "markdown",
   "id": "4339eda9",
   "metadata": {},
   "source": [
    "# comparison of classifications by their accuracy"
   ]
  },
  {
   "cell_type": "code",
   "execution_count": 47,
   "id": "2c1073ea",
   "metadata": {},
   "outputs": [],
   "source": [
    "comparison_table = pd.DataFrame({'SVM_fbf':svm_rbf_ac,\n",
    "                                 'KNN':knn_accuracy,\n",
    "                                 'Decision Tree': dtree_accuracy,\n",
    "                                'Gaussian NB':nbayes_accuracy,\n",
    "                                'Bernoulli NB':nbern_accuracy},\n",
    "                                index= ['accuracy'])"
   ]
  },
  {
   "cell_type": "code",
   "execution_count": 48,
   "id": "94af03e3",
   "metadata": {},
   "outputs": [
    {
     "data": {
      "text/html": [
       "<div>\n",
       "<style scoped>\n",
       "    .dataframe tbody tr th:only-of-type {\n",
       "        vertical-align: middle;\n",
       "    }\n",
       "\n",
       "    .dataframe tbody tr th {\n",
       "        vertical-align: top;\n",
       "    }\n",
       "\n",
       "    .dataframe thead th {\n",
       "        text-align: right;\n",
       "    }\n",
       "</style>\n",
       "<table border=\"1\" class=\"dataframe\">\n",
       "  <thead>\n",
       "    <tr style=\"text-align: right;\">\n",
       "      <th></th>\n",
       "      <th>SVM_fbf</th>\n",
       "      <th>KNN</th>\n",
       "      <th>Decision Tree</th>\n",
       "      <th>Gaussian NB</th>\n",
       "      <th>Bernoulli NB</th>\n",
       "    </tr>\n",
       "  </thead>\n",
       "  <tbody>\n",
       "    <tr>\n",
       "      <th>accuracy</th>\n",
       "      <td>0.729677</td>\n",
       "      <td>0.670456</td>\n",
       "      <td>0.616916</td>\n",
       "      <td>0.582323</td>\n",
       "      <td>0.718073</td>\n",
       "    </tr>\n",
       "  </tbody>\n",
       "</table>\n",
       "</div>"
      ],
      "text/plain": [
       "          SVM_fbf      KNN  Decision Tree  Gaussian NB  Bernoulli NB\n",
       "accuracy 0.729677 0.670456       0.616916     0.582323      0.718073"
      ]
     },
     "execution_count": 48,
     "metadata": {},
     "output_type": "execute_result"
    }
   ],
   "source": [
    "comparison_table"
   ]
  },
  {
   "cell_type": "markdown",
   "id": "5b9246d4",
   "metadata": {},
   "source": [
    "# Discussion and conclusion"
   ]
  },
  {
   "cell_type": "markdown",
   "id": "9832df46",
   "metadata": {},
   "source": [
    "As you can see,the support vector machine deals with both classification and regression problems. As compared to other classification, its approach seems to be a bit different.The problem in question is a non linear problem. However, using a kernel method allows us to solve a no-linear problem by using a linear classifier.\n",
    "During the first analysis, 3 different models are created. they are, linear radial basis function (RBF), and the sigmoid kernel.\n",
    "Each kernel is computed by using its best parameters C, gamma that suit the model.\n",
    "\n",
    "During the comparison of all different Kernels, it came to the realization that the linear radial basis function (RBF) perfromed well with a cross validation of 0.729677. it appears to be the most accurate model among all the kernel models used in this study.\n",
    "\n",
    "Few classification methods are used to determine and compare the results to the ones of kernel models. As you can see from the above result, KNN diplays a cross validation of 0.670456, Decison Tree classification 0.612413, Gaussian NB 0.582323, and Bernoulli NB 0.718073. \n",
    "\n",
    "The Bernouilli NB method came close to the RBF medoth as both display some cross validations of 0.718073, and 0.729677."
   ]
  }
 ],
 "metadata": {
  "kernelspec": {
   "display_name": "Python 3 (ipykernel)",
   "language": "python",
   "name": "python3"
  },
  "language_info": {
   "codemirror_mode": {
    "name": "ipython",
    "version": 3
   },
   "file_extension": ".py",
   "mimetype": "text/x-python",
   "name": "python",
   "nbconvert_exporter": "python",
   "pygments_lexer": "ipython3",
   "version": "3.9.12"
  }
 },
 "nbformat": 4,
 "nbformat_minor": 5
}
